{
  "nbformat": 4,
  "nbformat_minor": 0,
  "metadata": {
    "colab": {
      "name": "In_class_exercise_02.ipynb",
      "provenance": [],
      "collapsed_sections": [],
      "include_colab_link": true
    },
    "kernelspec": {
      "display_name": "Python 3",
      "language": "python",
      "name": "python3"
    },
    "language_info": {
      "codemirror_mode": {
        "name": "ipython",
        "version": 3
      },
      "file_extension": ".py",
      "mimetype": "text/x-python",
      "name": "python",
      "nbconvert_exporter": "python",
      "pygments_lexer": "ipython3",
      "version": "3.7.4"
    }
  },
  "cells": [
    {
      "cell_type": "markdown",
      "metadata": {
        "id": "view-in-github",
        "colab_type": "text"
      },
      "source": [
        "<a href=\"https://colab.research.google.com/github/srikanthmandava9/Srikant_INFO5731_Spring2021/blob/master/In_class_exercise_02.ipynb\" target=\"_parent\"><img src=\"https://colab.research.google.com/assets/colab-badge.svg\" alt=\"Open In Colab\"/></a>"
      ]
    },
    {
      "cell_type": "markdown",
      "metadata": {
        "id": "oo5bsEh2eeWi"
      },
      "source": [
        "# **The second In-class-exercise (1/27/2021, 20 points in total)**\n"
      ]
    },
    {
      "cell_type": "markdown",
      "metadata": {
        "id": "2sPQ58dIeqgp"
      },
      "source": [
        "(1) Write a Python program to find the duplicate elements in a given array of integers. Return -1 If there are no such elements. (4 points)"
      ]
    },
    {
      "cell_type": "code",
      "metadata": {
        "colab": {
          "base_uri": "https://localhost:8080/"
        },
        "id": "mnrvKMFTeoJR",
        "outputId": "5e7bacc1-43e7-4ddf-e3e2-fd34dacea8ed"
      },
      "source": [
        "# write your answer here\n",
        "def find_duplicate(numbers):\n",
        "    duplicate = set()\n",
        "    no_duplicate = -1\n",
        "\n",
        "    for i in range(len(numbers)):\n",
        "\n",
        "        if numbers[i] in duplicate:\n",
        "            return numbers[i]\n",
        "        else:\n",
        "            duplicate.add(numbers[i])\n",
        "\n",
        "    return no_duplicate\n",
        "\n",
        "print(find_duplicate([1, 2, 3, 4, 4, 5]))\n",
        "print(find_duplicate([1, 4, 5, 6]))"
      ],
      "execution_count": 18,
      "outputs": [
        {
          "output_type": "stream",
          "text": [
            "4\n",
            "-1\n"
          ],
          "name": "stdout"
        }
      ]
    },
    {
      "cell_type": "markdown",
      "metadata": {
        "id": "YYrH6n6IhZoQ"
      },
      "source": [
        "(2) Write a Python program to select all the Sundays of a specified year. (4 points)\n",
        "\n"
      ]
    },
    {
      "cell_type": "code",
      "metadata": {
        "colab": {
          "base_uri": "https://localhost:8080/"
        },
        "id": "OSfPLd23eLpX",
        "outputId": "f744bb00-6daa-4a73-928d-4ed7f9d0b8a8"
      },
      "source": [
        "# write your answer here\n",
        "from datetime import date, timedelta\n",
        "\n",
        "def all_sundays(year):\n",
        "# January 1st of the given year\n",
        "       date1 = date(year, 1, 1)       \n",
        "       date1 += timedelta(days = 6 - date1.weekday())  \n",
        "       while date1.year == year:\n",
        "          yield date1\n",
        "          date1 += timedelta(days = 7)\n",
        "#Lets consider year as 2021         \n",
        "for sunday in all_sundays(2021):\n",
        "   print(sunday)\n",
        "\n",
        "\n"
      ],
      "execution_count": 29,
      "outputs": [
        {
          "output_type": "stream",
          "text": [
            "2021-01-03\n",
            "2021-01-10\n",
            "2021-01-17\n",
            "2021-01-24\n",
            "2021-01-31\n",
            "2021-02-07\n",
            "2021-02-14\n",
            "2021-02-21\n",
            "2021-02-28\n",
            "2021-03-07\n",
            "2021-03-14\n",
            "2021-03-21\n",
            "2021-03-28\n",
            "2021-04-04\n",
            "2021-04-11\n",
            "2021-04-18\n",
            "2021-04-25\n",
            "2021-05-02\n",
            "2021-05-09\n",
            "2021-05-16\n",
            "2021-05-23\n",
            "2021-05-30\n",
            "2021-06-06\n",
            "2021-06-13\n",
            "2021-06-20\n",
            "2021-06-27\n",
            "2021-07-04\n",
            "2021-07-11\n",
            "2021-07-18\n",
            "2021-07-25\n",
            "2021-08-01\n",
            "2021-08-08\n",
            "2021-08-15\n",
            "2021-08-22\n",
            "2021-08-29\n",
            "2021-09-05\n",
            "2021-09-12\n",
            "2021-09-19\n",
            "2021-09-26\n",
            "2021-10-03\n",
            "2021-10-10\n",
            "2021-10-17\n",
            "2021-10-24\n",
            "2021-10-31\n",
            "2021-11-07\n",
            "2021-11-14\n",
            "2021-11-21\n",
            "2021-11-28\n",
            "2021-12-05\n",
            "2021-12-12\n",
            "2021-12-19\n",
            "2021-12-26\n"
          ],
          "name": "stdout"
        }
      ]
    },
    {
      "cell_type": "markdown",
      "metadata": {
        "id": "UIpziZ6Sjie-"
      },
      "source": [
        "(3) Python files reading and writing. Download the “[exercise_02_data _collection.zip](https://github.com/unt-iialab/info5731_spring2021/blob/main/class_exercises/exercise_02_data_collection.zip)” to your local and un-zip it.\n",
        "\n",
        "*   Write a program to read all the txt files and save the sentences in all the files into one csv file with two columns, the first column is sentence id (txt file name+sentence line number), the second column is the sentence text content. (4 points)\n",
        "*   Remove all the punctuations from the sentences, save the processed sentences into a new column in the same csv file. (4 points)\n",
        "*   Ask the user to enter a word, return all the sentences that include this word, three kinds of information should be returned: sentence id, sentence text content, the count that user input word appear in the sentence. (4 points)\n",
        "\n"
      ]
    },
    {
      "cell_type": "code",
      "metadata": {
        "id": "f3CUsrWOj1Xy"
      },
      "source": [
        "# write your answer here\n",
        "# Question 3(a): Write a program to read all the txt files and save the sentences in all the files into one csv file with two columns, the first column is sentence id (txt file name+sentence line number), the second column is the sentence text content. (4 points)\n",
        "\n",
        "import csv\n",
        "# Create and open the CSV file for output\n",
        "with open(\"output.csv\",\"w\") as output_file:\n",
        "    line_output = csv.writer(output_file,delimiter=',')\n",
        "    i = 1\n",
        "    while i <= 100: # Loop to open and read all 100 files\n",
        "        # Replace with path of your file location\n",
        "        input_file_name = \"C:/Users/manda/Downloads/exercise_02_data_collection/exercise_02_data_collection\"+\"ARTHROTEC.\"+str(i)+\".txt\" \n",
        "        output_line_name = \"ARTHROTEC.\"+str(i)\n",
        "        input_file = open(input_file_name).read() \n",
        "        sentences = input_file.split('\\n') \n",
        "        for x in sentences: \n",
        "            if x == '':\n",
        "                sentences.remove(x) \n",
        "        for x in sentences: \n",
        "            sentence_id = output_line_name+\" - line \"+str(sentences.index(x)+1) \n",
        "             print(sentence_id)\n",
        "            line_output.writerow([sentence_id,x]) \n",
        "        i += 1 \n",
        "\n",
        "# Question 3(b): Remove all the punctuations from the sentences, save the processed sentences into a new column in the same csv file. (4 points)\n",
        "\n",
        "import csv\n",
        "import re\n",
        "temp_data = [] \n",
        "# Open output file for reading\n",
        "with open(\"output.csv\",'r') as input_file:\n",
        "    file_reader = csv.reader(input_file) \n",
        "    for row in file_reader: \n",
        "        clean_line = re.sub(r\"[^a-zA-Z\\s\\']\",\"\",row[1]) \n",
        "        clean_line = re.sub(\"\\s\\s\",\" \",clean_line) \n",
        "        row.append(clean_line) \n",
        "        temp_data.append(row) \n",
        "# Open output file for writing\n",
        "with open(\"output.csv\",\"w\") as output_file:\n",
        "    file_writer = csv.writer(output_file,delimiter=',') \n",
        "    file_writer.writerows(temp_data) \n",
        "\n",
        "# Question 3(c): Ask the user to enter a word, return all the sentences that include this word, three kinds of information should be returned: sentence id, sentence text content, the count that user input word appear in the sentence. (4 points)\n",
        "import csv\n",
        "import re\n",
        "user_input = input(\"Enter a word: \") \n",
        "with open(\"output.csv\",'r') as input_file:\n",
        "    file_reader = csv.reader(input_file) \n",
        "    for row in file_reader:\n",
        "        search_term = \" \"+user_input+\" \"\n",
        "        if search_term in row[2]:\n",
        "            found_words = re.findall(search_term,row[2])\n",
        "            print(row[0],row[1],len(found_words))\n",
        "\n"
      ],
      "execution_count": 26,
      "outputs": []
    },
    {
      "cell_type": "markdown",
      "metadata": {
        "id": "-12cqmJEpZOh"
      },
      "source": [
        "(4) Install packages nltk, numpy, scipy, pandas, and sklearn on Google Colab. Write a program to test whether they are installed successfully. (3 points for extra)"
      ]
    },
    {
      "cell_type": "code",
      "metadata": {
        "colab": {
          "base_uri": "https://localhost:8080/"
        },
        "id": "f1pn1Zl2qK77",
        "outputId": "c686ca3a-ad38-42b6-ba61-33cd987ebf2f"
      },
      "source": [
        "# write your answer here\n",
        "!pip install nltk\n",
        "!pip install numpy\n",
        "!pip install scipy\n",
        "!pip install pandas\n",
        "!pip install sklearn\n",
        "print(\"----------------- nlk,numpy,scipy,pandas,sklearn installation completed ----------------\")\n",
        "\n",
        "# testing nltk\n",
        "from nltk.tokenize import TweetTokenizer\n",
        "token = TweetTokenizer()\n",
        "M0 = \"This is for testing installation  :-) :-P <3 and some arrows < > \"\n",
        "print(token.tokenize(M0))\n",
        "print(\"-----------------tested nlk installation ----------------\")\n",
        "\n",
        "#testing numpy\n",
        "import numpy as np\n",
        "random_sample = np.random.random_sample()\n",
        "print(random_sample)\n",
        "print(\"-----------------tested numpy installation ----------------\")\n",
        "\n",
        "# testing scipy\n",
        "import numpy as np\n",
        "from scipy.optimize import minimize\n",
        "def rosen(x):\n",
        "  \"\"\"The Rosenbrock function\"\"\"\n",
        "  return sum(100.0*(x[1:]-x[:-1]**2.0)**2.0 + (1-x[:-1])**2.0)\n",
        "x0 = np.array([1.3, 0.7, 0.8, 1.9, 1.2])\n",
        "res = minimize(rosen, x0, method='nelder-mead', options={'xatol': 1e-8, 'disp': True})\n",
        "print(res)\n",
        "print(\"-----------------tested scipy installation ----------------\")\n",
        "\n",
        "# testing pandas\n",
        "import pandas as pd\n",
        "d1 = {'col1': [1, 2], 'col2': [3, 4]}\n",
        "d2 = pd.DataFrame(data=d1)\n",
        "print(d2)\n",
        "print(\"-----------------tested pandas installation ----------------\")\n",
        "\n",
        "# testing scikit-learn\n",
        "from sklearn import datasets\n",
        "iris = datasets.load_iris()\n",
        "digits = datasets.load_digits()\n",
        "print(digits.data)\n",
        "print(\"-----------------tested scikit installation ----------------\")\n",
        "\n"
      ],
      "execution_count": 25,
      "outputs": [
        {
          "output_type": "stream",
          "text": [
            "Requirement already satisfied: nltk in /usr/local/lib/python3.6/dist-packages (3.2.5)\n",
            "Requirement already satisfied: six in /usr/local/lib/python3.6/dist-packages (from nltk) (1.15.0)\n",
            "Requirement already satisfied: numpy in /usr/local/lib/python3.6/dist-packages (1.19.5)\n",
            "Requirement already satisfied: scipy in /usr/local/lib/python3.6/dist-packages (1.4.1)\n",
            "Requirement already satisfied: numpy>=1.13.3 in /usr/local/lib/python3.6/dist-packages (from scipy) (1.19.5)\n",
            "Requirement already satisfied: pandas in /usr/local/lib/python3.6/dist-packages (1.1.5)\n",
            "Requirement already satisfied: python-dateutil>=2.7.3 in /usr/local/lib/python3.6/dist-packages (from pandas) (2.8.1)\n",
            "Requirement already satisfied: pytz>=2017.2 in /usr/local/lib/python3.6/dist-packages (from pandas) (2018.9)\n",
            "Requirement already satisfied: numpy>=1.15.4 in /usr/local/lib/python3.6/dist-packages (from pandas) (1.19.5)\n",
            "Requirement already satisfied: six>=1.5 in /usr/local/lib/python3.6/dist-packages (from python-dateutil>=2.7.3->pandas) (1.15.0)\n",
            "Requirement already satisfied: sklearn in /usr/local/lib/python3.6/dist-packages (0.0)\n",
            "Requirement already satisfied: scikit-learn in /usr/local/lib/python3.6/dist-packages (from sklearn) (0.22.2.post1)\n",
            "Requirement already satisfied: joblib>=0.11 in /usr/local/lib/python3.6/dist-packages (from scikit-learn->sklearn) (1.0.0)\n",
            "Requirement already satisfied: numpy>=1.11.0 in /usr/local/lib/python3.6/dist-packages (from scikit-learn->sklearn) (1.19.5)\n",
            "Requirement already satisfied: scipy>=0.17.0 in /usr/local/lib/python3.6/dist-packages (from scikit-learn->sklearn) (1.4.1)\n",
            "----------------- nlk,numpy,scipy,pandas,sklearn installation completed ----------------\n",
            "['This', 'is', 'for', 'testing', 'installation', ':-)', ':-P', '<3', 'and', 'some', 'arrows', '<', '>']\n",
            "-----------------tested nlk installation ----------------\n",
            "0.2379768254771345\n",
            "-----------------tested numpy installation ----------------\n",
            "Optimization terminated successfully.\n",
            "         Current function value: 0.000000\n",
            "         Iterations: 339\n",
            "         Function evaluations: 571\n",
            " final_simplex: (array([[1.        , 1.        , 1.        , 1.        , 1.        ],\n",
            "       [1.        , 1.        , 1.        , 1.        , 1.        ],\n",
            "       [1.        , 1.        , 1.        , 1.00000001, 1.00000001],\n",
            "       [1.        , 1.        , 1.        , 1.        , 1.        ],\n",
            "       [1.        , 1.        , 1.        , 1.        , 1.        ],\n",
            "       [1.        , 1.        , 1.        , 1.        , 0.99999999]]), array([4.86115343e-17, 7.65182843e-17, 8.11395684e-17, 8.63263255e-17,\n",
            "       8.64080682e-17, 2.17927418e-16]))\n",
            "           fun: 4.861153433422115e-17\n",
            "       message: 'Optimization terminated successfully.'\n",
            "          nfev: 571\n",
            "           nit: 339\n",
            "        status: 0\n",
            "       success: True\n",
            "             x: array([1., 1., 1., 1., 1.])\n",
            "-----------------tested scipy installation ----------------\n",
            "   col1  col2\n",
            "0     1     3\n",
            "1     2     4\n",
            "-----------------tested pandas installation ----------------\n",
            "[[ 0.  0.  5. ...  0.  0.  0.]\n",
            " [ 0.  0.  0. ... 10.  0.  0.]\n",
            " [ 0.  0.  0. ... 16.  9.  0.]\n",
            " ...\n",
            " [ 0.  0.  1. ...  6.  0.  0.]\n",
            " [ 0.  0.  2. ... 12.  0.  0.]\n",
            " [ 0.  0. 10. ... 12.  1.  0.]]\n",
            "-----------------tested scikit installation ----------------\n"
          ],
          "name": "stdout"
        }
      ]
    }
  ]
}