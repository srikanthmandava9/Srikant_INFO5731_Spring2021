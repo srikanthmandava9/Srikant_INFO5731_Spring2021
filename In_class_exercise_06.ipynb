{
  "nbformat": 4,
  "nbformat_minor": 0,
  "metadata": {
    "colab": {
      "name": "In_class_exercise_06.ipynb",
      "provenance": [],
      "collapsed_sections": [],
      "include_colab_link": true
    },
    "kernelspec": {
      "display_name": "Python 3",
      "language": "python",
      "name": "python3"
    },
    "language_info": {
      "codemirror_mode": {
        "name": "ipython",
        "version": 3
      },
      "file_extension": ".py",
      "mimetype": "text/x-python",
      "name": "python",
      "nbconvert_exporter": "python",
      "pygments_lexer": "ipython3",
      "version": "3.8.5"
    }
  },
  "cells": [
    {
      "cell_type": "markdown",
      "metadata": {
        "id": "view-in-github",
        "colab_type": "text"
      },
      "source": [
        "<a href=\"https://colab.research.google.com/github/srikanthmandava9/Srikant_INFO5731_Spring2021/blob/master/In_class_exercise_06.ipynb\" target=\"_parent\"><img src=\"https://colab.research.google.com/assets/colab-badge.svg\" alt=\"Open In Colab\"/></a>"
      ]
    },
    {
      "cell_type": "markdown",
      "metadata": {
        "id": "z7TahL04sVvR"
      },
      "source": [
        "# **The sixth in-class-exercise (20 points in total, 3/2/2021)**"
      ]
    },
    {
      "cell_type": "markdown",
      "metadata": {
        "id": "ejyZITr8sjnh"
      },
      "source": [
        "## **1. Rule-based information extraction (10 points)**\n",
        "\n",
        "Use any keywords related to data science, natural language processing, machine learning to search from google scholar, get the **titles** of 100 articles (either by web scraping or manually) about this topic, define a set of patterns to extract the research questions/problems, methods/algorithms/models, datasets, applications, or any other important information about this topic. "
      ]
    },
    {
      "cell_type": "code",
      "metadata": {
        "colab": {
          "base_uri": "https://localhost:8080/",
          "height": 1000
        },
        "id": "OOSdckMg39Ja",
        "outputId": "f02662cf-587e-4f49-9a67-0c5da5334963"
      },
      "source": [
        "\r\n",
        "# Write your code here\r\n",
        "import re, numpy as nump, pandas as panda\r\n",
        "import urllib.request\r\n",
        "from bs4 import BeautifulSoup\r\n",
        "import pandas as panda\r\n",
        "import requests\r\n",
        "from itertools import cycle\r\n",
        "import traceback\r\n",
        "from lxml.html import fromstring\r\n",
        "import string \r\n",
        "import nltk \r\n",
        "import spacy \r\n",
        "import numpy as nump \r\n",
        "import math \r\n",
        "from tqdm import tqdm \r\n",
        "from spacy.matcher import Matcher \r\n",
        "from spacy.tokens import Span \r\n",
        "from spacy import displacy \r\n",
        "\r\n",
        "panda.set_option('display.max_colwidth', 200)\r\n",
        "nlp = spacy.load(\"en_core_web_sm\")  \r\n",
        "\r\n",
        "#Retrieving proxies from URL to handle error 429-'Too many requests from the user' to google scholar url\r\n",
        "def get_proxies():\r\n",
        "    url = 'https://free-proxy-list.net/'\r\n",
        "    response = requests.get(url)\r\n",
        "    parser = fromstring(response.text)\r\n",
        "    proxies = set()\r\n",
        "    for i in parser.xpath('//tbody/tr')[:10]:\r\n",
        "      if i.xpath('.//td[7][contains(text(),\"yes\")]'):\r\n",
        "        #Grabbing IP and corresponding PORT\r\n",
        "        proxy = \":\".join([i.xpath('.//td[1]/text()')[0], i.xpath('.//td[2]/text()')[0]])\r\n",
        "        proxies.add(proxy)\r\n",
        "    return proxies\r\n",
        "\r\n",
        "#Retrieving article_items\r\n",
        "def getTitles(soup):\r\n",
        "  articles = soup.find(\"div\", {\"id\": \"gs_res_ccl_mid\"})\r\n",
        "  article_items = articles.find_all(class_ = \"gs_r gs_or gs_scl\")\r\n",
        "  list_articles = []\r\n",
        "  for each in article_items:\r\n",
        "    list_articles.append(each.find(class_ = \"gs_ri\"))\r\n",
        "  return list_articles\r\n",
        "\r\n",
        "#Retrieving artictle titles and storing into a list of dicts\r\n",
        "def getArticle_dict(articles):\r\n",
        "  art_list = []\r\n",
        "  for each in articles:\r\n",
        "    art_list.append({'title':each.find('h3').get_text(),'full_title': each.find(class_ = \"gs_rs\").get_text()})\r\n",
        "  return art_list\r\n",
        "  \r\n",
        "#Retrieving URLs for all keys\r\n",
        "def retrieveURLs(soup):\r\n",
        "  base_url = \"https://scholar.google.com/\"\r\n",
        "  keys = soup.find(\"div\", {\"id\": \"gs_nml\"})\r\n",
        "  key_urls = []\r\n",
        "  for each in keys.find_all('a'):\r\n",
        "    if int(each.get_text())<11:\r\n",
        "      key_urls.append(str(base_url+each.get('href')))\r\n",
        "  return key_urls\r\n",
        "\r\n",
        "#Retrieving URL data using beautifulsoup\r\n",
        "def getDataFromUrl(url):\r\n",
        "  proxies = get_proxies()\r\n",
        "  proxy_pool = cycle(proxies)\r\n",
        "  proxy = next(proxy_pool)\r\n",
        "  try:\r\n",
        "    response = requests.get(url,proxies={\"http\": proxy, \"https\": proxy}).text\r\n",
        "    b_soup = BeautifulSoup(response,'html.parser')\r\n",
        "    return b_soup   \r\n",
        "  except:\r\n",
        "    #Skipping connection errors as all above created proxies won't connect to the url and gives connection issues,\r\n",
        "    print(\"Skipping. Connnection error\")\r\n",
        "\r\n",
        "#Taking POS Tags\r\n",
        "def getPOSforText(text):\r\n",
        "  doc = nlp(text)\r\n",
        "  for token in doc: \r\n",
        "    print(token.text, \"-->\",token.dep_,\"-->\", token.pos_)\r\n",
        "  return doc\r\n",
        "\r\n",
        "#describing question Pattern\r\n",
        "def questPattern(token_doc):\r\n",
        "  pattern = [{'POS':'PRON','OP':'?'},\r\n",
        "             {'POS':'advmod'},\r\n",
        "             {'LOWER': 'is','OP':'?'},\r\n",
        "             {'LOWER':'are','OP':'?'},\r\n",
        "             {'LOWER': 'was'},\r\n",
        "             {'POS': 'NOUN','OP':'?'},\r\n",
        "             {'POS':'PRON'}]\r\n",
        "  matcher = Matcher(nlp.vocab).add(\"matching_1\", None, pattern)\r\n",
        "  matches = matcher(token_doc)\r\n",
        "  print(len(matches)) \r\n",
        "  span = token_doc[matches[0][1]] \r\n",
        "  return span.text\r\n",
        "\r\n",
        "#describing Problem Pattern\r\n",
        "def probPattern(token_doc):\r\n",
        "  pattern = [{'POS':'PRON','OP':'?'},\r\n",
        "             {'POS':'NOUN'},\r\n",
        "             {'LOWER': 'in','OP':'?'},\r\n",
        "             {'LOWER':'of','OP':'?'},\r\n",
        "             {'LOWER': 'are','OP':'?'},\r\n",
        "             {'LOWER':'were'},\r\n",
        "             {'POS': 'NOUN','OP':'?'},\r\n",
        "             {'POS':'amod'}]\r\n",
        "  matcher = Matcher(nlp.vocab).add(\"matching_1\", None, pattern)\r\n",
        "  matches = matcher(token_doc) \r\n",
        "  span = token_doc[matches] \r\n",
        "  return span.text\r\n",
        "\r\n",
        "#describing fact Pattern\r\n",
        "def factPattern(token_doc):\r\n",
        "  pattern = [{'POS':'PRON','OP':'?'},\r\n",
        "             {'POS':'NOUN'},\r\n",
        "             {'LOWER': 'as','OP':'?'},\r\n",
        "             {'LOWER':'a','OP':'?'},\r\n",
        "             {'LOWER': 'is','OP':'?'},\r\n",
        "             {'LOWER':'in','OP':'?'},\r\n",
        "             {'LOWER':'the','OP':'?'},\r\n",
        "             {'LOWER':'of'},\r\n",
        "             {'POS': 'NOUN','OP':'?'},\r\n",
        "             {'POS':'advmod','OP':'?'},\r\n",
        "             {'POS':'VERB'}]\r\n",
        "\r\n",
        "  matcher = Matcher(nlp.vocab).add(\"matching_1\", None, pattern)\r\n",
        "  matcher.add(\"matching_1\", None, pattern) \r\n",
        "  matches = matcher(token_doc) \r\n",
        "  span = token_doc[matches[0][1]] \r\n",
        "  return span.text\r\n",
        "\r\n",
        "#Constructing url to search article in google Scholr with keywords-Pattern Recognition Machine Learning \r\n",
        "query = \"pattern+recognition+machine+learning\"\r\n",
        "url = 'https://scholar.google.com/scholar?q=' + query + '&ie=UTF-8&oe=UTF-8&hl=en&btnG=Search'\r\n",
        "\r\n",
        "#Retrieving all the article titles from above functions\r\n",
        "content = getDataFromUrl(url)\r\n",
        "print(content)\r\n",
        "if content:\r\n",
        "  allTitles = getTitles(content)\r\n",
        "  print(len(allTitles))\r\n",
        "  '''if content:\r\n",
        "    for each in retrieveURLs(content):\r\n",
        "      allTitles.append(getTitles(getDataFromUrl(each)))\r\n",
        "      print(len(allTitles))'''\r\n",
        "\r\n",
        "#Calling above function to print the patterned texts from all the articles\r\n",
        "for each in getArticle_dict(allTitles)[0:10]:\r\n",
        "  print(questPattern(getPOSforText(each['full_title'])))\r\n",
        "  print(probPattern(getPOSforText(each['full_title'])))\r\n",
        "  print(factPattern(getPOSforText(each['full_title'])))"
      ],
      "execution_count": 6,
      "outputs": [
        {
          "output_type": "stream",
          "text": [
            "<!DOCTYPE doctype html>\n",
            "<html><head><title>Google Scholar</title><meta content=\"text/html;charset=utf-8\" http-equiv=\"Content-Type\"/><meta content=\"IE=Edge\" http-equiv=\"X-UA-Compatible\"/><meta content=\"always\" name=\"referrer\"/><meta content=\"width=device-width,initial-scale=1,minimum-scale=1,maximum-scale=2\" name=\"viewport\"/><meta content=\"telephone=no\" name=\"format-detection\"/><link href=\"/favicon.ico\" rel=\"shortcut icon\"/><style>html,body,form,table,div,h1,h2,h3,h4,h5,h6,img,ol,ul,li,button{margin:0;padding:0;border:0;}table{border-collapse:collapse;border-width:0;empty-cells:show;}html,body{height:100%}#gs_top{position:relative;box-sizing:border-box;min-height:100%;min-width:964px;-webkit-tap-highlight-color:rgba(0,0,0,0);}#gs_top>*:not(#x){-webkit-tap-highlight-color:rgba(204,204,204,.5);}.gs_el_ph #gs_top,.gs_el_ta #gs_top{min-width:320px;}#gs_top.gs_nscl{position:fixed;width:100%;}body,td,input,button{font-size:13px;font-family:Arial,sans-serif;line-height:1.24;}body{background:#fff;color:#222;-webkit-text-size-adjust:100%;-moz-text-size-adjust:none;}.gs_gray{color:#777777}.gs_red{color:#dd4b39}.gs_grn{color:#006621}.gs_lil{font-size:11px}.gs_med{font-size:16px}.gs_hlt{font-weight:bold;}a:link{color:#1a0dab;text-decoration:none}a:visited{color:#660099;text-decoration:none}a:hover,a:hover .gs_lbl{text-decoration:underline}a:active,a:active .gs_lbl,a .gs_lbl:active{color:#d14836}.gs_el_tc a:hover,.gs_el_tc a:hover .gs_lbl{text-decoration:none}.gs_pfcs a:focus,.gs_pfcs button:focus,.gs_pfcs input:focus,.gs_pfcs label:focus{outline:none}.gs_a,.gs_a a:link,.gs_a a:visited{color:#006621}.gs_a a:active{color:#d14836}a.gs_fl:link,.gs_fl a:link{color:#1a0dab}a.gs_fl:visited,.gs_fl a:visited{color:#660099}a.gs_fl:active,.gs_fl a:active{color:#d14836}.gs_fl{color:#777777}.gs_ctc,.gs_ctu{vertical-align:middle;font-size:11px;font-weight:bold}.gs_ctc{color:#1a0dab}.gs_ctg,.gs_ctg2{font-size:13px;font-weight:bold}.gs_ctg{color:#1a0dab}a.gs_pda,.gs_pda a{padding:7px 0 5px 0}.gs_alrt{background:#f9edbe;border:1px solid #f0c36d;padding:0 16px;text-align:center;box-shadow:0 2px 4px rgba(0,0,0,.2);border-radius:2px;}.gs_spc{display:inline-block;width:12px}.gs_br{width:0;font-size:0}.gs_ibl{display:inline-block;}.gs_scl:after{content:\"\";display:table;clear:both;}.gs_ind{padding-left:8px;text-indent:-8px}.gs_ico,.gs_icm{display:inline-block;background:no-repeat url(/intl/en/scholar/images/1x/sprite_20161020.png);background-position:-23px -161px;background-size:169px;width:21px;height:21px;}@media(-webkit-min-device-pixel-ratio:1.5),(min-resolution:144dpi){.gs_ico,.gs_icm{background-image:url(/intl/en/scholar/images/2x/sprite_20161020.png);}}.gs_el_ta .gs_nta,.gs_ota,.gs_el_ph .gs_nph,.gs_oph{display:none}.gs_el_ta .gs_ota,.gs_el_ph .gs_oph{display:inline}.gs_el_ta div.gs_ota,.gs_el_ph div.gs_oph{display:block}.gs_sth_g{visibility:hidden;max-height:0;}.gs_sth_vis .gs_sth_g{max-height:1000px;}.gs_sth_vis .gs_sth_b{position:fixed;top:0;}@keyframes gs_anm_spin{0%{transform:rotate(0deg);}100%{transform:rotate(360deg);}}.gs_rimg{display:block;background-color:#e5e5e5;border-radius:50%;overflow:hidden;position:relative;z-index:1;}.gs_rimg>img{position:absolute;margin:auto;left:0;top:0;bottom:0;right:0;}.gs_in_txtw{display:inline-block;vertical-align:middle;}.gs_in_txtb{display:block;}.gs_in_txt{color:#000;background-color:#fff;font-size:16px;box-sizing:border-box;height:29px;line-height:23px;border:1px solid #d9d9d9;border-top-color:#c0c0c0;padding:3px 6px 1px 8px;border-radius:1px;outline:none;-webkit-appearance:none;-moz-appearance:none;}.gs_el_tc .gs_in_txt{font-size:18px;}.gs_in_txtb .gs_in_txt{width:100%;}.gs_in_txt:hover{border-color:#b9b9b9;border-top-color:#a0a0a0;box-shadow:inset 0 1px 2px rgba(0,0,0,.1);}.gs_in_txte .gs_in_txt{border-color:#dd4b39;}.gs_in_txt:focus{border-color:#4d90fe;box-shadow:inset 0 1px 2px rgba(0,0,0,.3);}.gs_in_txt:disabled{color:#b8b8b8;border-color:#f1f1f1;box-shadow:none;}.gs_in_txtm .gs_in_txt{font-size:13px;height:24px;line-height:16px;padding:3px 6px;}.gs_el_tc .gs_in_txtm .gs_in_txt{height:29px;line-height:21px;}.gs_in_txts{font-size:13px;line-height:18px;color:#666;}.gs_in_txte .gs_in_txts{color:#dd4b39;}button{position:relative;z-index:1;box-sizing:border-box;font-size:13px;cursor:pointer;height:29px;line-height:normal;min-width:72px;padding:0 8px;color:#444;border:1px solid rgba(0,0,0,.1);border-radius:3px;text-align:center;background-color:#f5f5f5;user-select:none;}button.gs_btn_rnd{border-radius:14px;padding:0 12px;}button.gs_btn_rnd.gs_btn_rndci{padding-left:4px;}button.gs_btn_lrge{height:41px;min-width:82px;padding:0 9px;}button.gs_btn_lrge.gs_btn_rnd{border-radius:20px;padding:0 16px;}button.gs_btn_lrge.gs_btn_rnd.gs_btn_rndci{padding-left:10px;}button.gs_btn_mini{padding:0;border:0;}.gs_el_ph button.gs_btn_mph,.gs_el_ta button.gs_btn_mta{height:41px;}button .gs_wr{position:relative;display:inline-block;width:100%;height:100%;}button .gs_wr:before{content:\"\";width:0;height:100%;}button .gs_wr:before,button .gs_ico,button .gs_rdt,button .gs_lbl,button .gs_icm{display:inline-block;vertical-align:middle;}button .gs_wr{font-size:13px;text-transform:none;}.gs_btn_lrge .gs_wr{font-size:15px;}.gs_btn_lsb .gs_wr{font-size:11px;font-weight:bold;}.gs_btn_lsu .gs_wr{font-size:11px;text-transform:uppercase;}.gs_btn_lrge.gs_btn_lsb .gs_wr,.gs_btn_lrge.gs_btn_lsu .gs_wr{font-size:13px;}.gs_btn_half,.gs_el_ta .gs_btn_hta,.gs_el_ph .gs_btn_hph{min-width:36px;}.gs_btn_lrge.gs_btn_half,.gs_el_ta .gs_btn_lrge.gs_btn_hta,.gs_el_ph .gs_btn_lrge.gs_btn_hph,.gs_el_ta .gs_btn_mta,.gs_el_ph .gs_btn_mph{min-width:41px;}.gs_btn_slt{border-radius:3px 0 0 3px;}.gs_btn_srt{margin-left:-1px;border-radius:0 3px 3px 0;}.gs_btn_smd{margin-left:-1px;border-radius:0;}button:hover{z-index:2;color:#222;border-color:rgba(0,0,0,.2);background-color:#f8f8f8;}button.gs_sel{background-color:#dcdcdc;}button:active{z-index:2;background-color:#f1f1f1;}button:focus{z-index:2;}button::-moz-focus-inner{padding:0;border:0}button:-moz-focusring{outline:1px dotted ButtonText}.gs_pfcs button:-moz-focusring{outline:none}a.gs_in_ib{position:relative;display:inline-block;line-height:16px;padding:6px 0 7px 0;user-select:none;}a.gs_btn_lrge{height:40px;padding:0;}a.gs_in_ib .gs_lbl{display:inline-block;padding-left:21px;color:#222;}a.gs_in_ib .gs_lbl:not(:empty){padding-left:29px;}button.gs_in_ib .gs_lbl:not(:empty){padding-left:4px;}a.gs_in_ib:active .gs_lbl,a.gs_in_ib .gs_lbl:active,a.gs_in_ib :active~.gs_lbl{color:#d14836;}.gs_el_ta .gs_btn_hta .gs_lbl,.gs_el_ph .gs_btn_hph .gs_lbl,.gs_el_ta .gs_btn_mta .gs_lbl,.gs_el_ph .gs_btn_mph .gs_lbl,.gs_el_ta .gs_btn_cta .gs_lbl,.gs_el_ph .gs_btn_cph .gs_lbl{display:none;}a.gs_in_ib .gs_ico{position:absolute;top:3px;left:0;}.gs_in_ib.gs_md_li .gs_ico{left:14px;}.gs_el_tc .gs_in_ib.gs_md_li .gs_ico{top:11px;}.gs_in_ib.gs_md_li.gs_md_lix .gs_ico{top:10px;left:16px;}a.gs_btn_lrge .gs_ico{top:50%;left:50%;margin:-10.5px 0 0 -10.5px;}.gs_in_ib .gs_ico{opacity:.55;}.gs_in_ib:hover .gs_ico{opacity:.72;}.gs_in_ib:active .gs_ico,.gs_in_ib .gs_ico:active,.gs_in_ib :active~.gs_ico{opacity:1;}.gs_in_ib:disabled .gs_ico,.gs_in_ib.gs_dis .gs_ico{opacity:.28;}.gs_in_ib.gs_btn_act .gs_ico,.gs_in_ib.gs_btn_cre .gs_ico{opacity:1;}.gs_btn_act:disabled .gs_ico,.gs_btn_cre:disabled .gs_ico{opacity:.72;}.gs_rdt{position:relative;width:0;height:21px;}.gs_rdt:before{content:\"\";position:absolute;top:2px;right:1px;width:5px;height:5px;border-radius:50%;background-color:#dd4b39;}button.gs_btn_flat{border-color:transparent;background-color:transparent;}button.gs_btn_flat:hover{background-color:rgba(0,0,0,.05);}button.gs_btn_flat:active{background-color:rgba(0,0,0,.1);}button.gs_btn_flat.gs_btn_flact{color:#1a0dab;}button.gs_btn_act{color:#fff;background-color:#4d90fe;}button.gs_btn_act:hover{color:#fff;background-color:#3983fe;}button.gs_btn_act.gs_sel{background-color:#2f6bcc;}button.gs_btn_act:active{background-color:#357ae8;}button.gs_btn_cre{color:#fff;background-color:#d14836;}button.gs_btn_cre:hover{color:#fff;background-color:#c53727;}button.gs_btn_cre.gs_sel{background-color:#992b1e;}button.gs_btn_cre:active{background-color:#b0281a;}button:disabled,button:disabled:hover,button:disabled:active{cursor:default;color:#b8b8b8;border-color:rgba(0,0,0,.05);background-color:transparent;z-index:0;}button.gs_btn_flat:disabled{color:#b8b8b8;border-color:transparent;}button.gs_btn_act:disabled{color:#fff;background-color:#a6c8ff;}button.gs_btn_cre:disabled{color:#fff;background-color:#e8a49b;}a.gs_in_ib.gs_dis{cursor:default;pointer-events:none}a.gs_in_ib.gs_dis .gs_lbl{color:#b8b8b8;text-decoration:none}.gs_ttp{position:absolute;top:100%;right:50%;z-index:10;pointer-events:none;visibility:hidden;opacity:0;transition:visibility 0s .13s,opacity .13s ease-out;}button:hover .gs_ttp,button:focus .gs_ttp,a:hover .gs_ttp,a:focus .gs_ttp{transition:visibility 0s .3s,opacity .13s ease-in .3s;visibility:visible;opacity:1;}.gs_md_tb.gs_sel .gs_ttp{transition:none;visibility:hidden;}.gs_ttp .gs_aro,.gs_ttp .gs_aru{position:absolute;top:-2px;right:-5px;width:0;height:0;line-height:0;font-size:0;border:5px solid transparent;border-top:none;border-bottom-color:#2a2a2a;z-index:1;}.gs_ttp .gs_aro{top:-3px;right:-6px;border-width:6px;border-top:none;border-bottom-color:white;}.gs_ttp .gs_txt{display:block;position:relative;top:2px;right:-50%;padding:7px 9px;background:#2a2a2a;color:white;font-size:11px;font-weight:bold;line-height:normal;white-space:nowrap;border:1px solid white;box-shadow:inset 0 1px 4px rgba(0,0,0,.2);}.gs_press,.gs_in_se,.gs_tan{touch-action:none;}.gs_in_se .gs_lbl:not(:empty){padding-right:14px;}.gs_in_se .gs_icm{position:absolute;top:50%;margin-top:-5.5px;right:0;width:7px;height:11px;background-position:-21px -88px;opacity:.55;}.gs_in_se:hover .gs_icm{opacity:.72;}.gs_in_se:active .gs_icm{opacity:1;}.gs_in_se:disabled .gs_icm{opacity:.28;}.gs_el_ta .gs_btn_hta .gs_icm,.gs_el_ph .gs_btn_hph .gs_icm,.gs_el_ta .gs_btn_mta .gs_icm,.gs_el_ph .gs_btn_mph .gs_icm,.gs_el_ta .gs_btn_cta .gs_icm,.gs_el_ph .gs_btn_cph .gs_icm{display:none;}.gs_btn_mnu .gs_icm{margin-top:-3.5px;height:7px;background-position:0 -110px;}.gs_in_se.gs_btn_act .gs_icm,.gs_in_se.gs_btn_cre .gs_icm{margin-top:-3.5px;height:7px;background-position:-42px -44px;opacity:1;}.gs_btn_act:disabled .gs_icm,.gs_btn_cre:disabled .gs_icm{opacity:.72;}button.gs_btnG .gs_ico{width:21px;height:21px;background-position:-92px -253px;}.gs_md_d{text-transform:none;white-space:nowrap;position:absolute;top:0;left:0;border:1px solid #ccc;border-color:rgba(0,0,0,.2);background:#fff;box-shadow:0 2px 4px rgba(0,0,0,.2);z-index:1100;text-align:left;visibility:hidden;max-height:0;margin-top:-1000px;opacity:0;transition:opacity .13s,visibility 0s .13s,max-height 0s .13s,margin-top 0s .13s;}.gs_md_d.gs_vis{visibility:visible;max-height:10000px;margin-top:0;opacity:1;transition:all 0s;}.gs_el_tc .gs_md_d{transform-origin:100% 0;transform:scale(1,0);transition:opacity .218s ease-out,transform 0s .218s,visibility 0s .218s,max-height 0s .218s,margin-top 0s .218s;}.gs_el_tc .gs_md_d.gs_ttzi{transform-origin:50% 50%;transform:scale(0,0);}.gs_el_tc .gs_md_d.gs_ttzr{transform:scale(0,0);}.gs_el_tc .gs_md_d.gs_vis{transform:scale(1,1);transition:transform .218s ease-out;}.gs_md_r{position:relative;display:inline-block;}.gs_md_rmb>.gs_md_d{top:29px}.gs_md_rmbl>.gs_md_d{top:41px}.gs_md_ul{list-style-type:none;word-wrap:break-word;display:inline-block;vertical-align:top;}.gs_md_ul.gs_md_ul_tb{display:block;}.gs_md_li,.gs_in_cb.gs_md_li,.gs_md_li:link,.gs_md_li:visited{display:block;padding:6px 44px 6px 16px;font-size:13px;line-height:16px;color:#222;cursor:pointer;text-decoration:none;position:relative;z-index:0;}a.gs_md_li:hover .gs_lbl,a.gs_md_li:active .gs_lbl{text-decoration:none}.gs_el_tc .gs_md_li{padding-top:14px;padding-bottom:10px;}.gs_md_li.gs_md_lix{font-size:16px;line-height:20px;padding:12px 16px 8px 16px;}.gs_md_li:before{content:\"\";background-color:#f1f1f1;position:absolute;left:0;right:0;top:0;bottom:0;opacity:0;transition:opacity .13s;z-index:-1;}.gs_md_li:hover:before,.gs_md_li:focus:before{opacity:1;transition:all 0s;}a.gs_in_ib.gs_md_li .gs_lbl{color:#222}a.gs_in_ib.gs_md_li.gs_in_gray .gs_lbl{color:#444}.gs_md_li:active:before{background-color:#ddd}.gs_md_li.gs_sel,a.gs_in_ib.gs_md_li.gs_sel .gs_lbl{color:#d14836}.gs_md_d:focus,.gs_md_li:focus{outline:none}a.gs_md_lix .gs_lbl,a.gs_md_lix .gs_lbl:not(:empty){padding:0 0 0 40px;}a.gs_in_cb:link,a.gs_in_cb:visited,a.gs_in_cb:active,a.gs_in_cb:hover{cursor:pointer;color:#222;text-decoration:none;}.gs_in_cb,.gs_in_ra{position:relative;line-height:16px;display:inline-block;user-select:none;}.gs_in_cb.gs_md_li{padding:6px 44px 6px 16px;}.gs_in_cb input,.gs_in_ra input{position:absolute;top:1px;left:1px;width:15px;height:15px;margin:0;padding:0;opacity:0;z-index:2;}.gs_in_ra input{top:0;left:0}.gs_el_tc .gs_in_cb input{top:9px}.gs_el_tc .gs_in_ra input{top:8px}.gs_in_cb.gs_in_cbj input{top:15px;left:15px}.gs_in_cb label,.gs_in_cb .gs_lbl,.gs_in_ra label{display:inline-block;padding-left:21px;min-height:16px;}.gs_in_cb label:empty:before,.gs_in_cb .gs_lbl:empty:before,.gs_in_ra label:empty:before{content:\"\\200b\";}.gs_el_tc .gs_in_cb label,.gs_el_tc .gs_in_cb .gs_lbl,.gs_el_tc .gs_in_ra label{padding-top:8px;padding-bottom:5px;}.gs_in_cb.gs_in_cbj label,.gs_in_cb.gs_in_cbj .gs_lbl{padding:13px 0 12px 41px;}.gs_in_cbb,.gs_in_cbb label,.gs_in_cbb .gs_lbl{display:block;}.gs_in_cb .gs_cbx,.gs_in_ra .gs_cbx{position:absolute}.gs_in_cb .gs_cbx{top:2px;left:2px;width:11px;height:11px;border:1px solid #c6c6c6;border-radius:1px;}.gs_md_li .gs_cbx{top:8px;left:18px}.gs_el_tc .gs_in_cb .gs_cbx{top:10px}.gs_el_tc .gs_md_li .gs_cbx{top:16px}.gs_in_cb.gs_in_cbj .gs_cbx{top:15px;left:15px}.gs_el_tc .gs_in_ra .gs_cbx{top:8px}.gs_in_ra .gs_cbx{top:0;left:0;border:1px solid #c6c6c6;width:13px;height:13px;border-radius:7px;}.gs_in_cb:hover .gs_cbx,.gs_in_ra:hover .gs_cbx{border-color:#666;box-shadow:inset 0 1px 1px rgba(0,0,0,.1);}button.gs_in_cb:hover .gs_cbx{border-color:#c6c6c6;}.gs_in_cb :focus~label,.gs_in_ra :focus~label{outline:1px dotted #222;}.gs_pfcs .gs_in_cb :focus~label,.gs_pfcs .gs_in_ra :focus~label{outline:none;}.gs_in_cb:active .gs_cbx,.gs_in_ra:active .gs_cbx,.gs_in_cb .gs_cbx:active,.gs_in_ra .gs_cbx:active,.gs_in_cb :active~.gs_cbx,.gs_in_ra :active~.gs_cbx{border-color:#666;background-color:#ebebeb;}button.gs_in_cb:active .gs_cbx{border-color:#a6a6a6;}.gs_in_cb :disabled~.gs_cbx,.gs_in_ra :disabled~.gs_cbx,button.gs_in_cb:disabled .gs_cbx{border-color:#f1f1f1;box-shadow:none;}.gs_in_cb :disabled~label,.gs_in_ra :disabled~label{color:#b8b8b8;}.gs_in_cb.gs_err .gs_cbx{border-color:#eda29b;}.gs_in_cb .gs_chk,.gs_in_ra .gs_chk{position:absolute;z-index:1;top:-3px;left:-2px;width:21px;height:21px;}.gs_md_li .gs_chk{top:3px;left:14px}.gs_el_tc .gs_in_cb .gs_chk{top:5px}.gs_el_tc .gs_md_li .gs_chk{top:11px}.gs_in_cb.gs_in_cbj .gs_chk{top:10px;left:11px}.gs_in_ra .gs_chk{top:4px;left:4px;width:7px;height:7px;border-radius:4px;}.gs_el_tc .gs_in_ra .gs_chk{top:12px}.gs_in_cb input:checked~.gs_chk,.gs_in_cb.gs_sel .gs_chk{background:no-repeat url(/intl/en/scholar/images/1x/sprite_20161020.png) -69px -67px;opacity:.62;}.gs_in_ra input:checked~.gs_chk{background-color:#666}.gs_in_cb.gs_par .gs_chk{background:no-repeat url(/intl/en/scholar/images/1x/sprite_20161020.png) -21px -44px;opacity:.55;}@media(-webkit-min-device-pixel-ratio:1.5),(min-resolution:144dpi){.gs_in_cb input:checked~.gs_chk,.gs_in_cb.gs_sel .gs_chk,.gs_in_cb.gs_par .gs_chk{background-image:url(/intl/en/scholar/images/2x/sprite_20161020.png);background-size:169px;}}.gs_in_cb input:checked:disabled~.gs_chk{opacity:.22}.gs_in_ra input:checked:disabled~.gs_chk{background-color:#f1f1f1}.gs_md_ac{position:absolute;top:28px;left:0;right:0;z-index:1100;white-space:normal;display:none;pointer-events:none;}.gs_md_ac[dir=\"ltr\"]{text-align:left;}.gs_md_ac[dir=\"rtl\"]{text-align:right;}.gs_md_ac ul{list-style-type:none;word-wrap:break-word;line-height:1.24;border:1px solid #e5e5e5;border-color:rgba(0,0,0,.2);background:#fff;box-shadow:0px 2px 4px rgba(0,0,0,.2);touch-action:manipulation;cursor:pointer;user-select:none;pointer-events:auto;}.gs_md_acp{display:flex;line-height:0;}.gs_md_acp .gs_md_acs,.gs_md_acp ul{max-width:100%;box-sizing:border-box;display:inline-block;vertical-align:top;}.gs_md_acs{visibility:hidden;white-space:pre;height:0;min-width:0%;flex:0 1 auto;font-size:16px;}.gs_el_tc .gs_md_acs{font-size:18px;}.gs_md_acp ul{white-space:nowrap;flex:0 0 auto;}.gs_md_ac li{position:relative;padding:2px 8px;font-size:16px;line-height:20px;color:#222;background-color:#fff;overflow:hidden;text-overflow:ellipsis;}.gs_md_ac li.gs_sel{color:#000;background-color:#c6dafc;}.gs_md_ac li:active{background-color:#e8f0fe;}.gs_el_ios .gs_md_ac li:active{background-color:#fff;}.gs_md_ac li.gs_md_ac_lh,.gs_md_ac li.gs_md_ac_lh b{color:#660099;}.gs_el_tc .gs_md_ac li{padding:11px 8px 9px 8px;font-size:18px;border-top:1px solid #e5e5e5;}.gs_el_tc .gs_md_ac li:first-child{border-top:none;}.gs_md_ac[dir=\"ltr\"] li.gs_md_ac_lh{padding-right:29px;}.gs_md_ac[dir=\"rtl\"] li.gs_md_ac_lh{padding-left:29px;}.gs_el_tc .gs_md_ac[dir=\"ltr\"] li.gs_md_ac_lh{padding-right:49px;}.gs_el_tc .gs_md_ac[dir=\"rtl\"] li.gs_md_ac_lh{padding-left:49px;}.gs_md_ac_lh .gs_ico_X{position:absolute;top:0;}.gs_md_ac[dir=\"ltr\"] .gs_md_ac_lh .gs_ico_X{right:0;}.gs_md_ac[dir=\"rtl\"] .gs_md_ac_lh .gs_ico_X{left:0;}.gs_el_tc #gs_top .gs_md_ac .gs_md_ac_lh .gs_ico_Xt{padding:10px;}.gs_md_ac_lh .gs_ico_X:hover{background-color:#eee;}.gs_ico_x{background-position:-113px -22px;opacity:.55;}.gs_ico_x:hover{opacity:.72;}.gs_ico_x:active{opacity:1;}.gs_ico_X{background-position:-71px 0;opacity:.55;}.gs_ico_X:hover{opacity:.72;}.gs_ico_X:active{opacity:1;}.gs_el_tc .gs_ico_Xt{background-origin:content-box;background-clip:content-box;padding:10px 6px 10px 14px;}.gs_ico_P{background-position:0 0;opacity:.55;}.gs_ico_P:hover{opacity:.72;}.gs_ico_P:active{opacity:1;}.gs_btnP .gs_ico{background-position:-21px 0;}.gs_btnC .gs_ico{background-position:0 -66px;}.gs_btnL .gs_ico{background-position:-92px -44px;}.gs_ico_LB{background-position:-50px -44px;height:16px;}.gs_btnJ .gs_ico{background-position:-92px -22px;}.gs_btnM .gs_ico{background-position:-92px 0;}.gs_btnMW .gs_ico{background-position:-21px -22px;}.gs_btnSB .gs_ico{background-position:0 -44px;}.gs_btnTSB .gs_ico{background-position:-115px -253px;}.gs_btnPL .gs_ico{background-position:-148px -66px;}.gs_btnPR .gs_ico{background-position:-21px -66px;}.gs_btnPLW .gs_ico{background-position:-0 -230px;}.gs_btnPRW .gs_ico{background-position:-23px -230px;}.gs_btnZI .gs_ico{background-position:-148px -22px;}.gs_btnZO .gs_ico{background-position:-127px -44px;}.gs_btnDE .gs_ico{background-position:-134px 0;}.gs_btnFI .gs_ico{background-position:-50px -66px;}.gs_btnAD .gs_ico{background-position:-141px -88px;opacity:.55;}.gs_btnAD:hover .gs_ico{opacity:.72;}.gs_btnAD:active .gs_ico,.gs_btnAD .gs_ico:active,.gs_btnAD :active~.gs_ico{opacity:1;}.gs_btnBA .gs_ico{background-position:-50px -22px;}.gs_btnADD .gs_ico{background-position:-92px -66px;}.gs_btnMRG .gs_ico{background-position:-113px 0;}.gs_btnLBL .gs_ico{background-position:0 -161px;}.gs_btnCNCL .gs_ico{background-position:-71px 0;}.gs_btnDWL .gs_ico{background-position:-28px -88px;}.gs_btnMNU .gs_ico{background-position:0 -88px;}.gs_btnMNT .gs_ico{background-position:-46px -161px;}.gs_btnALT .gs_ico{background-position:-92px -161px;}.gs_btnART .gs_ico{background-position:-115px -161px;}.gs_btnGSL .gs_ico{background-position:-69px -161px;}.gs_btnCLS .gs_ico{background-position:-138px -161px;}.gs_btnXBLU .gs_ico{background-position:-138px -253px;}.gs_btnSSB .gs_ico{background-position:0 -276px;}.gs_btnSSW .gs_ico{background-position:-23px -276px;}.gs_btnFLT .gs_ico{background-position:0 -184px;}.gs_btnXT .gs_ico{background-position:-46px -184px;}.gs_btnPD .gs_ico{background-position:-69px -184px;}.gs_btnPU .gs_ico {background-position:-92px -276px;}.gs_btnCP .gs_ico{background-position:-92px -184px;}.gs_btnTP .gs_ico{background-position:-138px -184px;}.gs_btnML .gs_ico{background-position:-115px -276px;}.gs_btnCHK .gs_ico{background-position:-71px -66px;}.gs_btnDNB .gs_ico{background-position:-115px -230px;}.gs_btnDNW .gs_ico{background-position:0 -207px;}.gs_btnACA .gs_ico{background-position:-23px -207px;}.gs_btnAPT .gs_ico{background-position:-46px -207px;}.gs_btnAPTW .gs_ico{background-position:-92px -230px;}.gs_btnAFL .gs_ico{background-position:-69px -207px;}.gs_btnAN .gs_ico{background-position:-46px -276px;}.gs_btnAI .gs_ico{background-position:-69px -276px;}.gs_btnPBL .gs_ico{background-position:-92px -207px;}.gs_btnUCT .gs_ico{background-position:-115px -207px;}.gs_btnVRF .gs_ico{background-position:-138px -207px;}.gs_btnLSI .gs_ico{background-position:-46px -230px;}.gs_btnLSG .gs_ico{background-position:-69px -230px;}.gs_btnMOR .gs_ico{background-position:-23px -253px;}.gs_btnADV .gs_ico{background-position:-46px -253px;}.gs_btnPRO .gs_ico{background-position:-69px -253px;}.gs_ico_nav_previous{background-position:0 -119px;width:53px;height:40px;}.gs_ico_nav_first{background-position:-25px -119px;width:28px;height:40px;}.gs_ico_nav_current{background-position:-53px -119px;width:20px;height:40px;}.gs_ico_nav_page{background-position:-73px -119px;width:20px;height:40px;}.gs_ico_nav_next{background-position:-93px -119px;width:71px;height:40px;}.gs_ico_nav_last{background-position:-93px -119px;width:45px;height:40px;}.gs_ico_star{background-position:-71px -44px;width:13px;height:13px;}.gs_btnPLSW .gs_ico{background-position:-138px -230px;}.gs_btnPDF .gs_ico{background-position:0 -253px;}#gs_hdr_drs,#gs_hdr_drw{position:fixed;top:0;left:0;width:100%;height:100%;z-index:1200;visibility:hidden;}#gs_hdr_drs{opacity:0;background-color:#fff;transition:opacity .15s,visibility 0s .15s;}.gs_el_ta #gs_hdr_drs,.gs_el_ph #gs_hdr_drs{background-color:#666;}#gs_hdr_drs.gs_vis{visibility:visible;opacity:.5;transition:opacity .15s,visibility 0s;}.gs_el_tc #gs_hdr_drs{transition:opacity .218s,visibility 0s .218s;}.gs_el_tc #gs_hdr_drs.gs_vis{transition:opacity .218s,visibility 0s;}#gs_hdr_drw{overflow:auto;width:228px;background-color:#fff;box-shadow:2px 2px 4px rgba(0,0,0,.15);outline:none;transform:translate(-100%,0);transition:transform .15s ease-in-out,visibility 0s .15s;}#gs_hdr_drw.gs_vis{visibility:visible;transform:translate(0,0);transition:transform .15s ease-in-out,visibility 0s;}.gs_el_tc #gs_hdr_drw{transition:transform .3s cubic-bezier(.4,0,.6,1),visibility 0s .3s;}.gs_el_tc #gs_hdr_drw.gs_vis{transition:transform .225s cubic-bezier(0,0,.2,1),visibility 0s;}#gs_hdr_drw.gs_abt,.gs_el_tc #gs_hdr_drw.gs_abt{transition:none;}#gs_hdr_drw_in{position:relative;box-sizing:border-box;min-height:100%;padding:0 0 8px 0;}.gs_el_ta #gs_hdr_drw_in,.gs_el_ph #gs_hdr_drw_in{padding:0 0 65px 0;}#gs_hdr_drw_top{position:relative;height:63px;border-bottom:1px solid #e5e5e5;margin-bottom:8px;}.gs_el_ta #gs_hdr_drw_top,.gs_el_ph #gs_hdr_drw_top{height:57px;}#gs_hdr_drw_mnu,#gs_hdr_drw_lgo{position:absolute;top:0;height:100%;}#gs_hdr_drw_mnu{left:0;width:55px;}#gs_hdr_drw_lgo{left:56px;}.gs_hdr_drw_sec:before{display:block;content:\" \";height:0;border-bottom:1px solid #e5e5e5;margin:8px 0;}.gs_hdr_drw_sec:first-child:before{display:none;}#gs_hdr_drw_bot{display:none;}.gs_el_ta #gs_hdr_drw_bot,.gs_el_ph #gs_hdr_drw_bot{display:block;position:absolute;left:0;bottom:0;width:100%;height:65px;}#gs_hdr_drw_bot .gs_md_li:before{opacity:0;}#gs_hdr_drw_bot .gs_hdr_pp{display:block;position:absolute;bottom:14px;left:15px;pointer-events:none;}#gs_hdr_drw_bot .gs_lbl{display:block;white-space:nowrap;overflow:hidden;text-overflow:ellipsis;}#gs_hdr{position:relative;height:63px;background-color:#f5f5f5;border-bottom:1px solid #e5e5e5;display:flex;}.gs_el_ta #gs_hdr,.gs_el_ph #gs_hdr{height:57px;}#gs_hdr_mnu,#gs_hdr_bck,#gs_hdr_lgo,#gs_hdr_lgt,#gs_hdr_md,#gs_hdr_sre,#gs_hdr_act{display:inline-block;vertical-align:top;position:relative;height:100%;flex:0 0 auto;}#gs_hdr_md{flex:1 1 auto;}#gs_hdr .gs_hdr_mbo,#gs_hdr .gs_hdr_mbo,.gs_el_ta #gs_hdr .gs_hdr_dso,.gs_el_ph #gs_hdr .gs_hdr_dso{display:none;}.gs_el_ta #gs_hdr .gs_hdr_mbo,.gs_el_ph #gs_hdr .gs_hdr_mbo{display:inline-block;}#gs_hdr_mnu,#gs_hdr_bck,#gs_hdr_sre{width:55px;margin-right:1px;}#gs_hdr_lgo,#gs_hdr_drw_lgo{width:149px;background:no-repeat url('/intl/en/scholar/images/1x/scholar_logo_24dp.png') 0% 50%;background-size:149px;}@media(-webkit-min-device-pixel-ratio:1.5),(min-resolution:144dpi){#gs_hdr_lgo,#gs_hdr_drw_lgo{background-image:url('/intl/en/scholar/images/2x/scholar_logo_24dp.png');}}#gs_hdr_lgo{margin-right:31px;}.gs_el_ph #gs_hdr_lgo{margin-right:0;}#gs_hdr_lgt{min-width:164px;margin-right:16px;}.gs_el_sm #gs_hdr_lgt:empty{min-width:60px;}#gs_hdr_md{margin-right:16px;min-width:1px;}#gs_hdr_lgt,#gs_hdr_md h1{padding:19px 0 0 0;white-space:nowrap;overflow:hidden;text-overflow:ellipsis;font-size:20px;line-height:25px;font-weight:normal;color:#666;max-width:100%;text-align:left;}.gs_el_ta #gs_hdr_md h1,.gs_el_ph #gs_hdr_md h1{padding:16px 0 0 0;}#gs_hdr_srch{padding:14px 0 0 0;max-width:600px;}.gs_el_ta #gs_hdr_srch,.gs_el_ph #gs_hdr_srch{padding:10px 0 0 0;max-width:none;}#gs_hdr_frm{position:relative;padding-right:39px;}#gs_hdr_tsi{height:38px;border-radius:2px 0 0 2px;}#gs_hdr_tsi::-ms-clear{display:none;}#gs_hdr_tsc{display:none;position:absolute;top:3px;right:41px;width:21px;height:21px;padding:6px 10px 7px 10px;}.gs_in_acw[dir=\"rtl\"]~#gs_hdr_tsc{right:auto;left:1px;}#gs_hdr_tsb{position:absolute;top:0;right:0;width:40px;height:38px;border-radius:0 2px 2px 0;}#gs_hdr_frm_ac{top:37px;right:40px;}.gs_el_ph #gs_hdr_frm_ac{right:0;}.gs_el_ph .gs_hdr_ifc #gs_hdr_mnu,.gs_el_ph .gs_hdr_ifc #gs_hdr_bck,.gs_hdr_src #gs_hdr_srch,.gs_hdr_src #gs_hdr_lgt,.gs_hdr_srx #gs_hdr_sre,.gs_hdr_srx #gs_hdr_md h1,.gs_hdr_srx #gs_hdr_md h1.gs_hdr_mbo,.gs_hdr_srx #gs_hdr_md h1.gs_hdr_dso,.gs_el_ta .gs_hdr_srx #gs_hdr_lgo,.gs_el_ph .gs_hdr_srx #gs_hdr_lgo,.gs_el_ph .gs_hdr_srx #gs_hdr_mnu,.gs_el_ph .gs_hdr_srx #gs_hdr_bck{display:none;}.gs_el_ph .gs_hdr_ifc #gs_hdr_md,.gs_el_ph .gs_hdr_srx #gs_hdr_md{margin-left:16px;}.gs_el_tc .gs_hdr_tsc #gs_hdr_tsi[dir=\"ltr\"]{padding-right:41px;}.gs_el_tc .gs_hdr_tsc #gs_hdr_tsi[dir=\"rtl\"]{padding-left:41px;}.gs_el_tc .gs_hdr_tsc .gs_in_acw~#gs_hdr_tsc{display:block;}#gs_hdr_act{min-width:64px;max-width:200px;text-align:right;float:right;}.gs_el_ta #gs_hdr_act,.gs_el_ph #gs_hdr_act{display:none;}#gs_hdr_act_i,#gs_hdr_act_s{display:inline-block;padding:23px 24px 23px 16px;max-width:100%;box-sizing:border-box;font-size:13px;line-height:17px;white-space:nowrap;overflow:hidden;text-overflow:ellipsis;color:#444;}#gs_hdr_act_s{text-transform:uppercase;}.gs_el_sm #gs_hdr_act_i,.gs_el_sm #gs_hdr_act_s{padding:23px 16px;}.gs_el_ta #gs_hdr_act_i,.gs_el_ta #gs_hdr_act_s,.gs_el_ph #gs_hdr_act_i,.gs_el_ph #gs_hdr_act_s{padding:20px 16px;}#gs_hdr_act_i:active,#gs_hdr_act_s:active{color:#d14836;}#gs_hdr_act_i,.gs_el_sm #gs_hdr_act_i{padding-top:15px;padding-bottom:16px;}.gs_el_ta #gs_hdr_act_i,.gs_el_ph #gs_hdr_act_i{padding-top:12px;padding-bottom:13px;}#gs_hdr_act_i .gs_hdr_pp{vertical-align:top;}#gs_hdr_act_d{top:63px;left:auto;right:24px;min-width:288px;max-width:400px;}.gs_el_sm #gs_hdr_act_d{right:16px;}.gs_el_ta #gs_hdr_act_d{top:57px;}.gs_el_ph #gs_hdr_act_d{top:57px;min-width:280px;max-width:280px;max-width:90vw;}/* Account dialog body. */#gs_hdr_act_aw,#gs_hdr_act_ap,.gs_hdr_act_am,#gs_hdr_act_ab{display:block;padding:10px 20px;word-wrap:break-word;white-space:normal;}#gs_hdr_act_aw{background-color:#fef9db;font-size:11px;}#gs_hdr_act_ap,.gs_hdr_act_am{border-bottom:1px solid #ccc;}#gs_hdr_act_ap{padding:20px;}.gs_el_ph #gs_hdr_act_ap{padding:10px;}#gs_hdr_act_apb{margin-top:12px;}#gs_hdr_act_aa:link,#gs_hdr_act_aa:visited{float:right;margin-left:8px;color:#1a0dab;}#gs_hdr_act_aa:active{color:#d14836}.gs_hdr_act_am:link,.gs_hdr_act_am:visited{color:#222;text-decoration:none;background:#fbfbfb;}.gs_hdr_act_am:hover,.gs_hdr_act_am:focus{background:#f1f1f1;}.gs_hdr_act_am:active{background:#eee;}#gs_hdr_act_ab{background:#fbfbfb;padding:10px 0;display:table;width:100%;white-space:nowrap;}#gs_hdr_act_aba,#gs_hdr_act_abs{display:table-cell;padding:0 20px;}#gs_hdr_act_abs{text-align:right;}.gs_el_ph #gs_hdr_act_aba,.gs_el_ph #gs_hdr_act_abs{display:block;padding:10px;text-align:center;}.gs_el_ph #gs_hdr_act_aba button,.gs_el_ph #gs_hdr_act_abs button{width:100%;}#gs_hdr_act_a1,#gs_hdr_act_a2{position:absolute;top:-9px;right:7.5px;width:0;height:0;z-index:1;border:8.5px solid transparent;border-top:none;border-bottom-color:#333;border-bottom-color:rgba(0,0,0,.2);}#gs_hdr_act_a2{top:-8px;border-bottom-color:#fff;}.gs_hdr_act_mw #gs_hdr_act_a2{border-bottom-color:#fef9db;}.gs_hdr_pp{border-radius:50%;overflow:hidden;}#gs_hdr_act_ap .gs_hdr_pp,.gs_hdr_act_am .gs_hdr_pp{float:left;}#gs_hdr_act_ap .gs_hdr_pm{margin-left:116px;}.gs_hdr_act_am .gs_hdr_pm{margin:6px 0 0 58px;}#gs_ab{position:relative;height:41px;border-bottom:1px solid #e5e5e5;display:flex;white-space:nowrap;background-color:#fff;z-index:1000;}.gs_el_ta #gs_ab.gs_nta,.gs_el_ph #gs_ab.gs_nph{display:none;}#gs_ab_g{height:42px;}.gs_sth_vis #gs_ab{position:fixed;}#gs_ab_ico,#gs_ab_ttl,#gs_ab_md,#gs_ab_btns{display:inline-block;vertical-align:top;position:relative;height:100%;flex:0 0 auto;}.gs_el_ph #gs_ab_md{display:block;}#gs_ab_ico{width:55px;margin-right:1px;}.gs_el_sm #gs_ab_ico{width:15px;visibility:hidden;}.gs_el_ta #gs_ab_ico,.gs_el_ph #gs_ab_ico{width:55px;visibility:visible;}#gs_ab_ico .gs_ico{position:absolute;top:50%;left:50%;margin:-10.5px 0 0 -10.5px;}#gs_ab_ttl{min-width:172px;padding-right:8px;}.gs_el_sm #gs_ab_ttl{min-width:120px;}.gs_el_ta #gs_ab_ttl,.gs_el_ph #gs_ab_ttl{min-width:0;}#gs_ab_ttl,#gs_ab_ttll{font-size:18px;color:#666;text-transform:none;}.gs_el_sm #gs_ab_ttl,.gs_el_sm #gs_ab_ttll{font-size:16px;}#gs_ab_ttll{overflow:hidden;text-overflow:ellipsis;max-width:200px;}#gs_ab_md{flex:1 0 auto;}.gs_ab_st #gs_ab_md{flex:1 1 auto;font-size:13px;line-height:17px;padding:0 8px;color:#999;overflow:hidden;text-overflow:ellipsis;}.gs_el_ph .gs_ab_st #gs_ab_md{visibility:hidden;padding:0;}#gs_ab_btns{margin-right:8px;}.gs_el_sm #gs_ab_btns{margin-right:0;}.gs_el_ta #gs_ab_btns,.gs_el_ph #gs_ab_btns{margin-right:4px;}#gs_ab_ttl:before,#gs_ab_md:before,#gs_ab_btns:before{content:\"\";display:inline-block;width:0;height:100%;vertical-align:middle;}#gs_ab_md>button,#gs_ab_btns>button,#gs_ab_md>.gs_in_ib,#gs_ab_btns>.gs_in_ib,#gs_ab_md>.gs_md_r,#gs_ab_btns>.gs_md_r,#gs_ab .gs_ab_mdw,#gs_ab .gs_ab_btw{margin:0 8px;vertical-align:middle;}#gs_ab .gs_ab_mdw,.gs_ab_btw{display:inline-block;margin:0;}#gs_ab_btns>.gs_in_ib{margin:0 16px 0 8px;}#gs_ab .gs_ab_btw{margin:0 12px 0 16px;}.gs_el_ta .gs_ab_sel #gs_ab_ico,.gs_el_ph .gs_ab_sel #gs_ab_ico,.gs_el_ta .gs_ab_sel #gs_ab_ttl,.gs_el_ph .gs_ab_sel #gs_ab_ttl,.gs_el_ta .gs_ab_sel #gs_ab_btns,.gs_el_ph .gs_ab_sel #gs_ab_btns{display:none;}#gs_bdy{display:table;table-layout:fixed;width:100%;}#gs_bdy_sb{vertical-align:top;width:228px;word-wrap:break-word;display:table-cell;}.gs_el_sm #gs_bdy_sb{width:136px;}.gs_el_ta #gs_bdy_sb,.gs_el_ph #gs_bdy_sb{display:none;}.gs_bdy_sb_sec{margin:0 40px 0 56px;}.gs_el_sm .gs_bdy_sb_sec{margin:0 0 0 16px;}.gs_bdy_sb_sec:before{display:block;content:\" \";height:0;margin:13px 0;border-top:1px solid #eee;}.gs_bdy_sb_sec:first-child:before{margin:21px 0 0 0;border:none;}.gs_el_sm .gs_bdy_sb_sec:first-child:before{margin-top:15px;}#gs_bdy_sb ul{list-style-type:none;}.gs_bdy_sb_sec a:link,.gs_bdy_sb_sec a:visited{color:#222;}.gs_bdy_sb_sec a:active{color:#d14836;}.gs_bdy_sb_sel a:link,.gs_bdy_sb_sel a:visited{color:#d14836;text-decoration:none;}.gs_el_tc .gs_bdy_sb_sec li.gs_ind,.gs_el_tc .gs_bdy_sb_sec li.gs_ind a{padding-top:8px;padding-bottom:5px;}.gs_el_tc .gs_bdy_sb_sec:first-child li.gs_ind:first-child{margin-top:-8px;}#gs_bdy_sb .gs_ind,#gs_bdy_sb .gs_inw{margin-bottom:4px;}.gs_el_tc #gs_bdy_sb .gs_ind,.gs_el_tc #gs_bdy_sb .gs_inw{margin-bottom:0;}#gs_bdy_ccl{display:table-cell;vertical-align:top;padding:0 24px 0 16px;}.gs_el_sm #gs_bdy_ccl{padding:0 16px;}.gs_el_ta #gs_bdy_ccl,.gs_el_ph #gs_bdy_ccl{padding:0 16px;}.gs_el_ph #gs_bdy_ccl{}#gs_ftr_sp{height:62px;}.gs_el_sm #gs_ftr_sp{height:57px;}#gs_ftr{position:absolute;bottom:0;left:0;width:100%;white-space:nowrap;border-top:1px solid #e4e4e4;background-color:#f2f2f2;display:flex;}#gs_ftr_rt{box-sizing:border-box;max-width:100%;overflow-x:auto;margin-left:auto;padding:0 12px;}.gs_el_sm #gs_ftr_rt{padding:0 8px;}.gs_el_ph #gs_ftr_rt:after{content:\" \";position:absolute;top:0;right:0;width:16px;height:100%;background-image:linear-gradient(to right,rgba(242,242,242,0),rgba(242,242,242,1) 80%);}#gs_ftr_rt a{display:inline-block;line-height:16px;padding:12px;white-space:nowrap;}.gs_el_sm #gs_ftr_rt a{padding:12px 8px;}#gs_ftr_rt a:link,#gs_ftr_rt a:visited{color:#666}#gs_ftr_rt a:active{color:#d14836}.gs_res_sb_yyr{padding:5px 0;text-align:center;white-space:nowrap;}.gs_el_tc .gs_res_sb_yyr{padding:10px 0;}.gs_res_sb_yyr .gs_in_txt{width:48px;}#gs_res_ccl{max-width:950px;padding-top:10px;}.gs_el_sm #gs_res_ccl{padding-top:7px;}.gs_el_tc #gs_res_ccl{padding-top:6px;}.gs_el_sm.gs_el_tc #gs_res_ccl{padding-top:0;}.gs_r{position:relative;padding:11px 0 10px 0;}.gs_el_sm .gs_r{padding:7px 0 6px 0;}.gs_el_tc .gs_r{padding:15px 0;border-bottom:1px solid #eee;}.gs_rt{position:relative;font-weight:normal;font-size:17px;line-height:19px;margin-right:100px;margin-bottom:2px;}.gs_el_tc .gs_rt{margin-bottom:0;}.gs_el_ph .gs_rt{margin-right:0;}.gs_rt2{font-size:13px;font-weight:normal;}.gs_rt a:link,.gs_rt a:link b,.gs_rt2 a:link,.gs_rt2 a:link b{color:#1a0dab}.gs_rt a:visited,.gs_rt a:visited b,.gs_rt2 a:visited,.gs_rt2 a:visited b{color:#660099}.gs_rt a:active,.gs_rt a:active b,.gs_rt2 a:active,.gs_rt2 a:active b{color:#d14836}.gs_or_ggsm:focus{outline:none;}.gs_ggs{position:relative;z-index:1;float:right;margin-left:24px;min-width:200px;max-width:256px;width:200px;width:calc(100% - 620px);font-size:17px;line-height:19px;}.gs_el_sm .gs_ggs{margin-left:16px;}@media(max-width:699px){.gs_el_sm .gs_ggs{min-width:0;width:182px;}}.gs_el_ph .gs_ggs{width:72px;height:43px;}.gs_el_tc .gs_ggs{margin-top:-14px;}.gs_el_ph .gs_ggsd{position:absolute;top:-1px;right:0;width:72px;height:43px;overflow:hidden;transition:width 0s .3s,height 0s .3s;}.gs_el_ph .gs_ggsd.gs_vis{width:208px;height:88px;transition:none;}.gs_or_ggsm a{display:block;white-space:nowrap;overflow:hidden;text-overflow:ellipsis;margin-bottom:4px;}.gs_el_tc .gs_or_ggsm a{padding:13px 8px 9px 8px;touch-action:none;background:#fff;height:19px;margin-bottom:0;}.gs_el_ph .gs_or_ggsm a{text-decoration:none;}.gs_el_ph .gs_or_ggsm a:focus{outline:none;background:#f1f1f1;}.gs_el_ph .gs_or_ggsm a:active{color:#1a0dab;}.gs_el_ph .gs_or_ggsm a:visited{color:#660099;}.gs_el_ph .gs_or_ggsm{position:absolute;top:0;right:-132px;margin-right:4px;padding:1px 0;width:200px;height:41px;transform:translate(0,0);}.gs_el_ph .gs_or_ggsm.gs_vis{right:0;height:auto;}.gs_el_ph .gs_or_ggsm>a:nth-child(2){height:0;transform:scale(1,0);transform-origin:0 0;}.gs_el_ph .gs_or_ggsm.gs_vis>a:nth-child(2){height:19px;transform:scale(1,1);}.gs_el_ph .gs_or_ggsm:before{content:\"\";position:absolute;top:0;left:-1px;right:-1px;bottom:0;box-shadow:0 2px 4px rgba(0,0,0,.2);border:1px solid #ccc;opacity:0;z-index:-1;}.gs_el_ph .gs_or_ggsm.gs_vis:before{opacity:1;transition:opacity 0s .3s ;}.gs_el_ph .gs_or_ggsm:after{content:\"\";pointer-events:none;position:absolute;top:0;left:0;right:0;bottom:0;z-index:1;background-image:linear-gradient(to left,rgba(255,255,255,1),rgba(255,255,255,1) 65%,rgba(255,255,255,0) 70%);}.gs_el_ph .gs_or_ggsm.gs_vis:after{visibility:hidden}.gs_el_ph .gs_or_ggsm.gs_vis.gs_anm{animation:gs_anm_hsli .218s ease-in-out;}.gs_el_ph .gs_or_ggsm.gs_anm{animation:gs_anm_hslo .218s ease-out;}.gs_el_ph .gs_ggs .gs_or_ggsm.gs_vis.gs_anm>a:nth-child(2){animation:gs_anm_vscli .218s ease-in;}@keyframes gs_anm_hsli{0%{transform:translate(66%,0);height:41px;}99%{transform:translate(0,0);height:41px;}100%{transform:translate(0,0);height:auto;}}@keyframes gs_anm_hslo{0%{transform:translate(-66%,0);}100%{transform:translate(0,0);}}@keyframes gs_anm_vscli{0%{transform:scale(1,0);}100%{transform:scale(1,1);}}.gs_ct1{display:inline}.gs_ct2{display:none}.gs_el_ph .gs_ct1{display:none}.gs_el_ph .gs_ct2{display:inline;font-size:13px;font-weight:normal}.gs_ri{max-width:712px}.gs_a a:link,.gs_a a:visited{text-decoration:underline;}.gs_ri .gs_fl a,.gs_a a{white-space:nowrap;}.gs_ri .gs_fl a.gs_wno{white-space:normal;}.gs_ri .gs_fl{font-size:1px;}.gs_ri .gs_fl a{font-size:13px;margin-right:12px;}.gs_ri .gs_fl a:last-child{margin-right:0;}.gs_ri .gs_fl .gs_or_sav,.gs_ri .gs_fl .gs_or_cit,.gs_ri .gs_fl .gs_or_mor{margin:-7px 6px -6px -6px;padding:7px 0 6px 0;border-radius:50%;}.gs_ri .gs_fl .gs_or_sav:hover,.gs_ri .gs_fl .gs_or_cit:hover,.gs_ri .gs_fl .gs_or_mor:hover{background-color:rgba(0,0,0,.05);}.gs_el_ph .gs_ri .gs_fl .gs_or_sav,.gs_el_ph .gs_ri .gs_fl .gs_or_cit{margin-right:4px;}.gs_el_ph .gs_ri .gs_fl .gs_or_mor{margin-right:-8px;}.gs_or_svg{position:relative;width:29px;height:16px;vertical-align:text-bottom;fill:none;stroke:#1a0dab;}.gs_or:not([data-lid=\"\"]) .gs_or_sav .gs_or_svg{fill:#1a0dab;}.gs_or[data-lid] .gs_or_ldg .gs_or_svg{fill:#eee;animation:gs_anm_spin 1.2s .5s linear infinite;}a:active .gs_or_svg,a .gs_or_svg:active,a .gs_or_svg>*:active{stroke:#dd4b39;}.gs_or_nvi,.gs_or_mvi .gs_or_mor{display:none}.gs_or_mvi .gs_or_nvi,.gs_or_mvi .gs_nph,.gs_or_mvi .gs_nta{display:inline}.gs_rs{margin:2px 0;word-wrap:break-word;}.gs_el_tc .gs_rs{margin:0}.gs_el_ta .gs_rs{margin-right:10%}@media(max-width:780px){.gs_el_ta .gs_rs,.gs_el_ta .gs_a{margin-right:100px;}}.gs_el_ph .gs_rs br,.gs_el_ta .gs_rs br{display:none}@media screen and (min-width:771px){.gs_el_ta .gs_rs br{display:block}}.gs_age{color:#777777}.gs_rs b,.gs_rt b,.gs_rt2 b{color:#000}.gs_el_tc .gs_rt a{font-size:17px;line-height:20px;padding:12px 0 9px 0;}.gs_el_tc .gs_rt2 a{font-size:14px;line-height:20px;padding:6px 0 4px 0;}.gs_el_tc .gs_a,.gs_el_tc .gs_a a,.gs_el_tc .gs_ri .gs_fl a{padding-top:7px;padding-bottom:6px;}.gs_el_tc .gs_ri .gs_fl a{line-height:29px;}.gs_el_tc .gs_ri .gs_fl{margin-bottom:-6px;}#gs_n{clear:both;margin:1.5em 0;width:600px;text-align:center;}#gs_n td{font-size:13px}#gs_n a:link,#gs_n a:visited{color:#1a0dab}#gs_n a:active{color:#d14836}#gs_nm{clear:both;position:relative;text-align:center;max-width:500px;margin:24px 50px;font-size:15px;line-height:41px;display:none;}#gs_nm button{position:absolute;top:0}#gs_nm .gs_btnPL{left:-50px}#gs_nm .gs_btnPR{right:-50px}#gs_nml{overflow:hidden;white-space:nowrap;}.gs_nma{display:inline-block;width:40px;margin:0 5px;}.gs_el_tc #gs_n,.gs_el_ta #gs_n,.gs_el_ph #gs_n{display:none}.gs_el_tc #gs_nm,.gs_el_ta #gs_nm,.gs_el_ph #gs_nm{display:block}#gs_bdy_sb_ca{margin-top:-6px;}.gs_el_tc #gs_bdy_sb_ca{margin-top:2px;}@media print{#gs_gb,#gs_hdr,#gs_ab,#gs_top #gs_bdy_sb,.gs_pda,.gs_ggs,.gs_alrt_btm,#gs_top #gs_n,#gs_top #gs_nm,#gs_ftr,#gs_top .gs_ctc,#gs_top .gs_ctu,#gs_rt_hdr,.gs_rt_hdr_ttl{display:none}#gs_top,#gs_top #gs_bdy,#gs_top #gs_res_bdy,#gs_top #gs_bdy_ccl,#gs_top .gs_r,#gs_top .gs_ri,#gs_top .gs_rs{font-size:9pt;color:black;position:static;float:none;margin:0;padding:0;width:auto;min-width:0;max-width:none;}#gs_top #gs_bdy a{color:blue;text-decoration:none}#gs_top .gs_r{margin:1em 0;page-break-inside:avoid;border:0;}#gs_top .gs_med,#gs_top .gs_rt{font-size:12pt}#gs_top .gs_a,#gs_top #gs_bdy .gs_a a{font-size:9pt;color:green}#gs_top .gs_fl,#gs_top .gs_fl a{font-size:9pt}#gs_top .gs_rs br{display:inline}}.gs_el_ph #gs_ab_ttll{max-width:98px;max-width:calc(100vw - 222px);}@media(max-width:320px){.gs_el_ph #gs_ab_ttll{max-width:98px;}}#gs_res_ab_yy-r,#gs_res_ab_ad-r{display:none;}.gs_el_ta #gs_res_ab_yy-r,.gs_el_ph #gs_res_ab_yy-r,.gs_el_ta #gs_res_ab_ad-r,.gs_el_ph #gs_res_ab_ad-r{display:inline-block;margin:0;}#gs_res_ab_yy-r:last-child{margin-right:4px;}#gs_res_ab_ad-r:last-child{margin-right:12px;}#gs_res_ab_tmn-d,#gs_res_ab_yy-d,#gs_res_ab_ad-d{white-space:normal;word-wrap:break-word;width:208px;width:max-content;min-width:100px;max-width:208px;}#gs_res_ab_yy-d,#gs_res_ab_ad-d{left:auto;right:0;}.gs_res_ab_dd_bdy{padding:8px 0;box-sizing:border-box;}.gs_res_ab_dd_sec a.gs_res_ab_sel,.gs_res_ab_dd_sec a[role=menuitemradio]:active{color:#d14836;}.gs_res_ab_dd_sec:before{display:block;content:\" \";height:0;border-bottom:1px solid #e5e5e5;margin:8px 0;}.gs_res_ab_dd_sec:first-child:before{display:none;}.gs_fsvg line{stroke:#222222}a:link .gs_fsvg{fill:#1a0dab;}a:link .gs_fsvg line{stroke:#1a0dab;}a:visited .gs_fsvg{fill:#660099;}a:visited .gs_fsvg line{stroke:#660099;}a:active .gs_fsvg{fill:#d14836;}a:active .gs_fsvg line{stroke:#d14836;}a .gs_fsvg{border-bottom:1px solid transparent;}a:hover .gs_fsvg,a:focus .gs_fsvg{border-bottom-color:inherit;}.gs_fsml{font-size:13px}.gs_fscp{font-variant:small-caps}.gs_qsuggest{max-width:712px;line-height:21px;margin-bottom:2px;}.gs_r .gs_qsuggest{max-width:600px;}.gs_el_ta .gs_r .gs_qsuggest{margin-right:100px;}.gs_qsuggest h2{margin-bottom:8px;font-weight:normal;font-size:17px;}.gs_qsuggest li{display:inline-block;width:100%;font-size:15px;line-height:18px;padding:4px 0 3px;}.gs_qsuggest ul{list-style-type:none;columns:2;column-gap:40px;margin-bottom:-3px;}.gs_el_sm .gs_qsuggest ul{column-gap:16px;margin-bottom:3px;}.gs_qsuggest li:only-child{column-span:all;}.gs_qsuggest li>a{display:inline-block;max-width:100%;word-wrap:break-word;}.gs_el_tc .gs_qsuggest a{padding:8px 0 5px;}.gs_el_tc .gs_qsuggest li{padding:2px 0 1px;}.gs_el_tc .gs_qsuggest ul{margin:0;}.gs_el_tc .gs_qsuggest h2{margin:6px 0;}.gs_qsuggest_bottom h2{padding-top:16px;}.gs_el_tc .gs_qsuggest_wrap .gs_qsuggest_related h2{padding-bottom:0;}.gs_el_ph .gs_r .gs_qsuggest{margin-bottom:-15px;}.gs_el_ph .gs_qsuggest ul{columns:1;margin:0;}.gs_el_ph .gs_qsuggest li{margin:0;padding:0;position:relative;}.gs_el_ph .gs_qsuggest h2{margin:1px 0 16px;}.gs_el_ph .gs_qsuggest a{display:block;padding:11px 29px 9px 0;border-bottom:1px solid #eee;}.gs_el_ph .gs_qsuggest li:first-child a{border-top:1px solid #eee;}.gs_el_ph .gs_qsuggest_wrap.gs_r li:last-child a{border-bottom:0;}.gs_el_ph .gs_qsuggest a:link,.gs_el_ph .gs_qsuggest a:visited{color:#222;}.gs_el_ph .gs_qsuggest a:hover,.gs_el_ph .gs_qsuggest a:focus{background:#f1f1f1;text-decoration:none;outline:none;}.gs_el_ph .gs_qsuggest li>a:after{content:\"\";position:absolute;width:7px;height:7px;top:50%;margin-top:-4px;right:10px;border:2px solid #777;border-left:none;border-bottom:none;transform:rotate(45deg);}</style><script>!function(GSP){/*\n",
            "\n",
            " Copyright The Closure Library Authors.\n",
            " SPDX-License-Identifier: Apache-2.0\n",
            "*/\n",
            "var l,aa=function(a){var b=0;return function(){return b<a.length?{done:!1,value:a[b++]}:{done:!0}}},ba=function(a){var b=\"undefined\"!=typeof Symbol&&Symbol.iterator&&a[Symbol.iterator];return b?b.call(a):{next:aa(a)}},ca=\"function\"==typeof Object.create?Object.create:function(a){var b=function(){};b.prototype=a;return new b},da;\n",
            "if(\"function\"==typeof Object.setPrototypeOf)da=Object.setPrototypeOf;else{var ea;a:{var fa={a:!0},ha={};try{ha.__proto__=fa;ea=ha.a;break a}catch(a){}ea=!1}da=ea?function(a,b){a.__proto__=b;if(a.__proto__!==b)throw new TypeError(a+\" is not extensible\");return a}:null}\n",
            "var ia=da,ja=function(a,b){a.prototype=ca(b.prototype);a.prototype.constructor=a;if(ia)ia(a,b);else for(var c in b)if(\"prototype\"!=c)if(Object.defineProperties){var d=Object.getOwnPropertyDescriptor(b,c);d&&Object.defineProperty(a,c,d)}else a[c]=b[c];a.ub=b.prototype},ka=function(){},la=function(a){var b=typeof a;return\"object\"==b&&null!=a||\"function\"==b},ma=function(a,b){var c=Array.prototype.slice.call(arguments,1);return function(){var d=c.slice();d.push.apply(d,arguments);return a.apply(this,\n",
            "d)}};var p=function(){this.O=this.O;this.$=this.$};p.prototype.O=!1;p.prototype.isDisposed=function(){return this.O};p.prototype.xa=function(){this.O||(this.O=!0,this.ea())};p.prototype.ea=function(){if(this.$)for(;this.$.length;)this.$.shift()()};function q(a,b){a.classList.add(b)}function t(a,b){a.classList.remove(b)}function v(a,b){return a.classList?a.classList.contains(b):!1}function w(a,b,c){c=void 0!==c?c:!v(a,b);(c?q:t)(a,b)};function x(a){return 0<=(navigator.userAgent||\"\").indexOf(a)}var na=x(\"iPhone\")||x(\"iPad\")||x(\"iPod\"),oa=x(\"iPhone\")||x(\"Android\")&&x(\"Mobile\");function pa(){if(void 0===b){var a=window.screen;a={width:window.innerWidth,height:window.innerHeight,tb:a.width,sb:a.height}}else a=b;var b=a;a=b.width;var c=b.height,d=b.tb;b=b.sb;var e=4;if(600>a||48E4>d*b||oa)e=1;else if(982>a)e=2;else if(1136>a||590>c)e=3;return e}var qa,ra=/[?&]tc=([01])/.exec(location.search||\"\");\n",
            "qa=ra?0<+ra[1]:x(\"Android\")?!0:window.matchMedia&&window.matchMedia(\"(pointer)\").matches?window.matchMedia(\"(pointer:coarse)\").matches:!x(\"Firefox\")||x(\"Mobile\")||x(\"Tablet\")?na||\"ontouchstart\"in window||0<(navigator.msMaxTouchPoints||0):!1;function sa(){if(void 0==ta){ta=!1;try{var a=Object.defineProperty({},\"passive\",{get:function(){ta=!0}});window.addEventListener(\"testPassive\",ka,a);window.removeEventListener(\"testPassive\",ka,a)}catch(b){}}return ta}var ta;var ua=function(a){this.Ia=a},va=new ua(\"INPUT\"),wa=new ua(\"STYLE\");function y(a){return document.getElementById(a)}function z(a){return a.id||(a.id=\"gs_id\"+xa++)}function ya(a){a=(void 0===a?null:a)||document.body;return\"rtl\"==(a?window.getComputedStyle(a,null):null).direction}\n",
            "function za(a,b){var c=[];a=a.elements;for(var d=a.length,e=0;e<d;e++){var f=a[e],h=encodeURIComponent(f.name||\"\"),g=f.type;!h||b&&!b(f)||f.disabled||!(\"checkbox\"!=g&&\"radio\"!=g||f.checked)||c.push(h+\"=\"+encodeURIComponent(f.value||\"\"))}return c.join(\"&\")}function Aa(a){var b=a.elements.scipsc;b||(b=document.createElement(va.Ia),b.type=\"hidden\",b.name=\"scipsc\",a.appendChild(b));return b}function Ba(a){a.match(Ca)&&(window.location.href=a)}\n",
            "var xa=100,Da=/\\S+/g,Ca=/^(?:https?:|[^:/?#]*(?:[/?#]|$))/i,Ea=/^(?:#|\\/[a-z0-9_-]*(?:[?].*)?$)/i;function Fa(a){return a.hasOwnProperty(\"gs_uid\")?a.gs_uid:a.gs_uid=++Ga}var Ga=0;function Ha(a){var b=[];a=ba(a);for(var c=a.next();!c.done;c=a.next())c=c.value.charCodeAt(0),b.push(32>c||126<=c?c:String.fromCharCode(32+(c-32+47)%94));return b.join(\"\")};var A=function(){this.j=[];this.T={};this.na=this.D=0};A.prototype.add=function(a){var b=Fa(a);this.T[b]||(this.j.push(a),this.T[b]=this.j.length,++this.D)};A.prototype.remove=function(a){a=Fa(a);var b=this.T[a];b&&(this.j[b-1]=null,delete this.T[a],2*--this.D<this.j.length&&!this.na&&Ia(this))};A.prototype.notify=function(a){var b=this.j;try{++this.na;for(var c=0;c<b.length;c++){var d=b[c];d&&d.apply(null,arguments)}}finally{!--this.na&&2*this.D<b.length&&Ia(this)}};\n",
            "var Ia=function(a){var b=a.j,c=b.length;a=a.T;for(var d=0,e=0;e<c;e++){var f=b[e];f&&(b[d]=f,a[Fa(f)]=++d)}b.length=d};function B(a,b,c,d,e){Ja(a,b,c,void 0===d?!1:d,void 0===e?!1:e,Ka)}function D(a,b,c,d){Ja(a,b,c,void 0===d?!1:d,!1,La)}function Ma(a,b,c,d,e){function f(h){D(a,b,f,d);c(h)}d=void 0===d?!1:d;B(a,b,f,d,void 0===e?!1:e);return f}function Na(a,b,c,d,e){var f=Ma(a,b,function(g){clearTimeout(h);c(g)}),h=setTimeout(function(){D(a,b,f);e&&e()},d)}function F(a){Oa?Oa.add(a):a()}var Pa=window.requestAnimationFrame?function(a){window.requestAnimationFrame(a)}:function(a){setTimeout(a,33)};\n",
            "function Qa(a){a.stopPropagation();a.preventDefault()}function Ra(a){return(a.ctrlKey?1:0)|(a.altKey?2:0)|(a.metaKey?4:0)|(a.shiftKey?8:0)}function Ka(a,b,c,d,e){var f=a.addEventListener;e=e&&sa();f.call(a,b,c,e?{passive:e,capture:d}:d)}function La(a,b,c,d){a.removeEventListener(b,c,d)}function Ja(a,b,c,d,e,f){if(\"string\"===typeof b)f(a,b,c,d,e);else for(var h=b.length,g=0;g<h;g++)f(a,b[g],c,d,e)}function Sa(){Oa.notify();Oa=null}\n",
            "function Ta(){\"complete\"==document.readyState&&(D(document,\"readystatechange\",Ta),Sa())}var Oa,Ua=!!document.attachEvent,Va=document.readyState;if(Ua?\"complete\"!=Va:\"loading\"==Va)Oa=new A,Ua?B(document,\"readystatechange\",Ta):Ma(document,\"DOMContentLoaded\",Sa);function Wa(){Ma(document,[\"mousedown\",\"touchstart\"],function(){w(document.documentElement,\"gs_pfcs\",!0);B(document,\"keydown\",Xa,!0)},!0,!0)}\n",
            "function Xa(a){9==a.keyCode&&(w(document.documentElement,\"gs_pfcs\",!1),D(document,\"keydown\",Xa,!0),Wa())}Wa();function Ya(a,b,c,d,e){var f=y(a);Za(f,function(){q(f,\"gs_vis\");b&&b()},function(){t(f,\"gs_vis\");c&&c()},d,e)}function Za(a,b,c,d,e){var f=z(a);if(!H[f]){var h=document.activeElement;$a(ab(a),!0);b&&b();I.push(function(g){delete H[f];try{g||(e||h).focus()}catch(k){}c&&c()});H[f]=I.length;h&&a.contains(h)||setTimeout(function(){var g=d,k=g&&\"text\"==g.type;if(!g||k&&qa)g=a;try{g.focus(),k&&(g.value=g.value)}catch(n){}},0)}}function J(a){$a((H[a]||1E6)-1,!1)}\n",
            "function bb(a){a=void 0===a?!1:a;I.pop()(a)}function $a(a,b){for(b=void 0===b?!1:b;I.length>a;)bb(b||I.length>a+1)}function ab(a){for(var b=0;a&&!(b=H[a.id]||0);)a=a.parentNode;return b}var I=[],H={};B(document,\"click\",function(a){var b=I.length;b&&!Ra(a)&&b>ab(a.target)&&bb(!0)});B(document,\"keydown\",function(a){27==a.keyCode&&!Ra(a)&&I.length&&bb()});\n",
            "B(document,\"focus\",function(a){var b=I.length;if(b)for(var c=ab(a.target);c<b;){var d=\"\",e;for(e in H)if(H[e]==b){d=e;break}a:{d=(y(d).getAttribute(\"data-wfc\")||\"\").match(Da)||[];for(var f=0;f<d.length;f++){var h=y(d[f]);if(h&&h.offsetWidth){d=h;break a}}d=void 0}if(d){Qa(a);d.focus();break}else bb(!0),--b}},!0);function cb(a,b,c,d){if((void 0===d?0:d)||!(c in db)){a=a&&a.getItem(c);if(a)try{var e=JSON.parse(a)}catch(f){}b[c]=e}return b[c]}function eb(a,b,c,d){b[c]=d;try{a&&a.setItem(c,JSON.stringify(d))}catch(e){}}function fb(a,b){return cb(gb,db,a,void 0===b?!1:b)}var db={},gb,hb={},ib;try{gb=window.localStorage,ib=window.sessionStorage}catch(a){};function jb(a){return\"object\"==typeof a?a:null}function kb(a,b){b=lb(b);a=mb(a);a=nb(a)||\"#\";ob=jb(b);pb?window.history.pushState(b,\"\",a):window.location.assign(a)}function qb(a,b){b=lb(b);a=mb(a);a=nb(a)||\"#\";ob=jb(b);pb?window.history.replaceState(b,\"\",a):window.location.replace(a)}function nb(a){var b=[],c;for(c in a)b.push(encodeURIComponent(c)+\"=\"+encodeURIComponent(a[c]));return(a=b.sort().join(\"&\"))?\"#\"+a:\"\"}\n",
            "function rb(a){var b={};a=a.split(\"&\");for(var c=0;c<a.length;c++){var d=a[c],e=d.indexOf(\"=\");if(e+1){var f=d.substr(0,e);d=d.substr(e+1)}else f=d,d=\"\";f&&(b[decodeURIComponent(f)]=decodeURIComponent(d))}return b}function sb(){var a=window.location.hash,b=a.indexOf(\"#\")+1;return rb(b?a.substr(b):\"\")}function tb(a,b){for(var c in b){var d=b[c];void 0!==d?a[c]=d:delete a[c]}}function mb(a){var b=sb();tb(b,a);return b}\n",
            "function lb(a){var b=ob||jb(window.history.state),c={},d;for(d in b)c[d]=b[d];tb(c,a);return c}function ub(){setTimeout(function(){if(!vb){var a=window.history.state;vb=!0;ob=jb(a);wb.notify()}xb=!1},0)}var wb=new A,ob,vb=!1,xb=!0,pb=\"pushState\"in window.history,yb;\n",
            "if(\"undefined\"==typeof GSP)yb=!1;else{var zb=.001*Date.now(),Ab=GSP.eventId,Bb=!1,K=cb(ib,hb,\"nh\",!1);K instanceof Array||(K=[]);for(var Cb=K.length,Db=0,Eb=0;Eb<Cb;Eb++){var Fb=K[Eb];if(Fb instanceof Array&&2==Fb.length){var Gb=Fb[1]==Ab;Bb=Bb||Gb;10>=Cb-Eb&&+Fb[0]>zb-86400&&!Gb&&(K[Db++]=Fb)}}K.length=Db;K.push([zb,Ab]);eb(ib,hb,\"nh\",K);yb=Bb}var Hb=yb;\"onpageshow\"in window?B(window,\"pageshow\",ub):F(ub);\n",
            "B(window,pb?\"popstate\":\"hashchange\",function(a){\"loading\"!=document.readyState&&(a=a.state,vb=!0,ob=jb(a),wb.notify())});function Ib(a){var b=void 0===b?\"\":b;var c=void 0===c?\"\":c;var d=void 0===d?[]:d;y(\"gs_alrt_m\").innerHTML=a;Lb().action=c.match(Ca)?c:\"\";y(\"gs_alrt_l\").textContent=b;a=y(\"gs_alrt_h\");a.innerHTML=\"\";for(var e in d)b=document.createElement(\"input\"),b.type=\"hidden\",b.name=e,b.value=d[e],a.appendChild(b);Mb()}function Mb(){var a=Lb();q(a,\"gs_anm\");q(a,\"gs_vis\");B(document,\"click\",Nb);clearTimeout(Ob);Ob=setTimeout(Nb,4E3);++Pb;setTimeout(Qb,0)}\n",
            "function Nb(){Pb||(D(document,\"click\",Nb),clearTimeout(Ob),Ob=void 0,t(Lb(),\"gs_vis\"))}function Lb(){return y(\"gs_alrt\")}function Qb(){Pb=0}var Ob,Pb=0;F(function(){var a=y(\"gs_alrt_m\");a&&(a.innerHTML&&!Hb&&Mb(),B(window,\"pagehide\",function(){Pb=0;Nb();t(Lb(),\"gs_anm\")}))});function L(a,b,c){b=void 0===b?Rb:b;c=void 0===c?!1:c;b.length=0;a.normalize&&(a=a.normalize(\"NFKD\").replace(Sb,\"\"));return a.toLowerCase().replace(Tb,function(d,e){b.length||e&&b.push(0);b.push(d.length);return e&&(!c||e+d.length<a.length)?\" \":\"\"})}function Ub(a,b,c,d,e){var f=c.indexOf(a),h=\"\",g=\"\";0<f&&(f=c.indexOf(\" \"+a));!(a&&f+1)||void 0!==e&&e&&f||(f+=\" \"==c[f],h=Vb(c.substr(0,f),b,d),g=Vb(c.substr(0,f+a.length),b,d).substr(h.length));return[h,g,b.substr(h.length+g.length)]}\n",
            "function Vb(a,b,c){var d=a.length;for(a=a.split(\" \").length;a--;)d+=(c[a]||0)-1;return b.substr(0,d+1)}var Rb=[],Sb=/[\\u0300-\\u036f]+/g,Tb=/[\\s\\x00-/:-@[-`{-\\u00bf\\u2000-\\u206f\\u2e00-\\u2e42\\u3000-\\u303f\\uff00-\\uff0f\\uff1a-\\uff20\\uff3b-\\uff40\\uff5b-\\uff65]+/g,Wb=/^[\\d\\s]*[\\u0590-\\u08ff\\ufb1d-\\ufdff\\ufe70-\\ufefc]/;var Xb=function(a,b,c,d,e,f,h){e=void 0===e?[]:e;this.o=a;this.source=b;this.za=void 0===c?\"\":c;this.m=void 0===d?\"\":d;this.K=e;this.ob=void 0===f?\"\":f;this.Ca=void 0===h?\"\":h};var Yb=function(){this.Ja=100;this.D=0;this.J=this.H=null;this.Y=Object.create(null)};Yb.prototype.get=function(a){if(a=this.Y[a])return Zb(this,a),a.value};Yb.prototype.set=function(a,b){var c=this.Y[a];c?(c.value=b,Zb(this,c)):(this.D>=this.Ja&&(delete this.Y[this.J.key],this.J=this.J.I,this.J.Z=null,--this.D),c=this.Y[a]={key:a,value:b,Z:this.H,I:null},this.H?this.H.I=c:this.J=c,this.H=c,++this.D)};var Zb=function(a,b){var c=b.Z,d=b.I;d&&((d.Z=c)?c.I=d:a.J=d,a.H.I=b,b.Z=a.H,b.I=null,a.H=b)};function $b(a,b,c){var d=new XMLHttpRequest;d.onreadystatechange=function(){if(4==d.readyState){var e=d.status,f=d.responseText,h=d.responseURL,g=window.location,k=g.protocol;g=\"//\"+g.host+\"/\";h&&h.indexOf(k+g)&&h.indexOf(\"https:\"+g)&&(e=0,f=\"\");c(e,f)}};d.open(b?\"POST\":\"GET\",a,!0);d.setRequestHeader(\"X-Requested-With\",\"XHR\");b&&d.setRequestHeader(\"Content-Type\",\"application/x-www-form-urlencoded\");b?d.send(b):d.send();return d}function ac(a){a&&(a.onreadystatechange=ka,a.abort())};var bc=function(a,b){this.pb=a;this.Fa=b;this.S=this.R=0;this.pa=this.qa=\"\";this.ra=void 0;this.wa=new Yb},ec=function(a,b,c){var d=b?a.wa.get(cc(a,b,c)):[];d?a.Fa(b,c,d):(a.qa=b,a.pa=c,10<=a.R||3<=a.S||(a.R?void 0!==a.ra||(a.ra=setTimeout(function(){dc(a)},100<<Math.max(a.R-4,0))):dc(a)))},dc=function(a){a.ra=void 0;var b=a.qa,c=a.pa;a.qa=a.pa=\"\";if(b){++a.R;var d=new XMLHttpRequest;d.onreadystatechange=function(){if(d&&4==d.readyState){var e=d.status;200==e&&a.la(b,c,d.responseText);d=null;fc(a,\n",
            "e)}};d.ontimeout=function(){d&&(d=null,fc(a))};d.open(\"GET\",cc(a,b,c),!0);d.timeout=3E4;d.send()}},fc=function(a,b){b=void 0===b?0:b;--a.R;var c=3*(403==b)+(499<b&&600>b);a.S+=c;c&&setTimeout(function(){a.S-=c},3E4)};\n",
            "bc.prototype.la=function(a,b,c){try{var d=JSON.parse(c)}catch(r){}if(d&&\"object\"==typeof d&&(c=d.l,c instanceof Array)){d=[];for(var e=c.length,f=0;f<e;f++){var h=d,g=h.push,k=\"\"+c[f],n=k.indexOf(\"|\");var m=k.substr(0,n);var u=L(m);k=k.substr(n+1);n=[];m=new Xb(k,0,\"\",L(k,n),n,m,u);g.call(h,m)}this.wa.set(cc(this,a,b),d);this.Fa(a,b,d)}};var cc=function(a,b,c){return\"/scholar_complete?\"+encodeURIComponent(a.pb)+\"=\"+encodeURIComponent(b)+\"&\"+c};var hc=function(a){this.Ga=\"H:\"+a;this.B=[];this.nb=.001*Date.now();a=fb(this.Ga);a instanceof Array||(a=[]);for(var b=this.B,c={\"\":1},d=0;d<a.length&&50>b.length;d++){var e=new gc(a[d]);c.hasOwnProperty(e.m)||(c[e.m]=1,b.push(e))}};\n",
            "hc.prototype.add=function(a,b,c){c=(void 0===c?0:c)||.001*Date.now();b=(void 0===b?0:b)||c;a=new gc([0,0,a]);if(a.m){for(var d=this.B,e=d.length,f=0;f<e&&d[f].m!=a.m;)++f;f<e||d.push(a);e=d[f];if(!(2>b-e.A)){e.A=b;e.o=a.o;e.K=a.K;for(e.C=Math.min(e.C+ic(b),10*ic(c));f&&jc(d[f],d[f-1]);)a=d[f],d[f]=d[f-1],d[--f]=a;d.splice(50,1);kc(this)}}};hc.prototype.remove=function(a){for(var b=this.B,c=b.length,d=0;d<c;d++)if(b[d].o==a){b.splice(d,1);kc(this);break}};\n",
            "var kc=function(a){for(var b=[],c=a.B,d=c.length,e=0;e<d;e++)b.push(c[e].encode());eb(gb,db,a.Ga,b)};function ic(a){return Math.exp(.0231*(Math.max(a-1422777600,0)/86400|0))}var gc=function(a){a instanceof Array||(a=lc);this.A=+a[0]||0;this.C=+a[1]||0;this.o=\"\"+a[2];this.K=[];this.m=L(this.o,this.K,!0)};gc.prototype.encode=function(){return[this.A,this.C,this.o]};\n",
            "var jc=function(a,b){var c=a.C-b.C;return 0<c||!c&&a.A>b.A},lc=[0,0,\"\"],mc=function(a,b,c){this.A=a;this.C=b;this.o=c},nc=function(a,b){var c=a.C-b.C;return 0<c||!c&&a.A>b.A};var oc=function(a){this.v=a};function pc(a){var b=document.createElement(\"b\");b.textContent=a;return b};var qc=function(a,b,c){this.type=a;this.currentTarget=this.target=b;this.i=void 0===c?null:c;this.sa=!1};qc.prototype.stopPropagation=function(){this.i&&this.i.stopPropagation();this.sa=!0};var N=function(a){a.i&&Qa(a.i);a.sa=!0};var O=function(a,b){this.ua=a;this.mb=b},rc=function(a,b,c){this.ua=a;this.types=b;this.listener=c};function sc(a,b){P(a,\"click\",b)}function Q(a,b){var c=b.length;if(c){var d=Fa(a),e=tc[d];if(!e){e=tc[d]=[];d=uc(b[0].ua);for(var f in d){var h=vc[f];h||(h=vc[f]=Object.create(null));for(var g in d[f]){var k=h[g];k||(k=h[g]=[]);k.push(a)}}wc(a,e,b[0],xc);for(f=1;f<c;f++)wc(a,e,b[f],yc)}}}function R(a,b,c){zc(new qc(a,b,void 0===c?null:c))}\n",
            "function P(a,b,c){var d=Ac;\"string\"===typeof b&&(Bc[0]=b,b=Bc);var e=b.length;a=uc(a);for(var f in a)for(var h in a[f])for(var g=0;g<e;g++)d(f,h,b[g],c)}function uc(a){\"string\"===typeof a&&(Cc[0]=a,a=Cc);for(var b=a.length,c=Object.create(null),d=0;d<b;d++){var e=a[d],f=e.charAt(0),h=e.substr(1);if(\"#\"!=f&&\".\"!=f||!h)throw Error(\"bad selector: \"+e);(e=c[f])||(e=c[f]=Object.create(null));e[h]=!0}return c}\n",
            "function Ac(a,b,c,d){var e=Dc[c];e||(\"touchstart\"!=c&&\"mouseover\"!=c&&\"mouseout\"!=c&&B(document,c,Ec,\"focus\"==c||\"blur\"==c),e=Dc[c]=Object.create(null));(c=e[a])||(c=e[a]=Object.create(null));(a=c[b])||(a=c[b]=new A);a.add(d)}function Ec(a){var b=a.target;b&&3==b.nodeType&&(b=b.parentNode);zc(new qc(a.type,b,a))}\n",
            "function zc(a){for(var b=a.target;b&&b!=document&&!b.disabled&&!v(b,\"gs_dis\");){a.currentTarget=b;var c=b.id;if(c&&!Fc(\"#\",c,a))break;c=b.classList||[];for(var d=c.length,e=0;e<d;e++)if(!Fc(\".\",c[e],a))return;b=b.parentNode}}function Fc(a,b,c){var d=Dc[c.type];(b=(a=d&&d[a])&&a[b])&&b.notify(c);return!c.sa}function wc(a,b,c,d){var e=c.ua;c=c.mb;for(var f in c){var h=ma(d,a,c[f]);P(e,f,h);b.push(new rc(e,f,h))}}function xc(a,b,c){var d=c.currentTarget;a=Gc(a,d)||a;a=Hc(a,d);b.call(a,c)}\n",
            "function yc(a,b,c){a:{for(var d=c.currentTarget;d&&d!=document;){var e=Gc(a,d);if(e){a=Hc(e,d);break a}d=d.parentNode}a=void 0}a&&b.call(a,c)}function Hc(a,b){var c=Ic(b),d=Jc[c];d||(d=Jc[c]=[]);for(var e=d.length,f=0;f<e;f++){var h=d[f];if(h instanceof a)return h}b=new a(b);d.push(b);a=Fa(a);(d=Kc[a])||(d=Kc[a]=[]);d.push(c);return b}function Gc(a,b){var c,d=b.id;d&&(c=Lc(a,c,\"#\",d));b=b.classList||[];d=b.length;for(var e=0;e<d;e++)c=Lc(a,c,\".\",b[e]);return c}\n",
            "function Lc(a,b,c,d){c=(d=(c=vc[c])&&c[d])?d.length:0;for(var e=0;e<c;e++){var f=d[e];!(f===a||f.prototype instanceof a)||b&&!(f===b||f.prototype instanceof b)||(b=f)}return b}function Ic(a){var b=a.getAttribute(\"data-duid\");b||a.setAttribute(\"data-duid\",b=\"\"+Mc++);return b}var Dc=Object.create(null),Cc=[\"\"],Bc=[\"\"],vc=Object.create(null),tc=Object.create(null),Kc=Object.create(null),Jc=Object.create(null),Mc=100;window.gs_evt_dsp=Ec;function Nc(a){if(\"string\"===typeof a){var b=a.charAt(0),c=a.slice(1);if(\"#\"==b)a=function(d){return d.id==c&&0<d.offsetWidth};else if(\".\"==b)a=function(d){return v(d,c)&&0<d.offsetWidth};else throw Error(\"bad selector: \"+a);}return a}function Oc(a,b){return a&&((void 0===b?0:b)?a.lastElementChild:a.firstElementChild)}function Pc(a,b){return a&&((void 0===b?0:b)?a.previousElementSibling:a.nextElementSibling)}function Qc(a,b,c,d){d=void 0===d?!1:d;return Rc(a,b,Nc(c),d,!1)}\n",
            "function Rc(a,b,c,d,e){for(var f;b&&a;){if(c(b)){if(e)return b}else for(f=Oc(b,d);f;f=Pc(f,d))if(e=Rc(f,f,c,d,!0))return e;for(e=!0;;){if(b==a)return null;f=b.parentNode;if(b=Pc(b,d))break;b=f}}return null};var S=function(a){var b=this;this.g=a.querySelector(\".gs_in_ac\");this.v=a.querySelector(\".gs_md_ac\");this.P=this.G=!1;this.B=new hc(this.g.name);this.Ma=new bc(this.g.name,function(c,d,e){d==b.aa&&Sc(b,c)&&(c.length>=b.ba.length||!Sc(b,b.ba))&&(b.ba=c,b.ta=e,Tc(b))});this.Da=0;this.qb=new oc(this.v);this.Aa=[];this.Ba=[];this.ba=\"\";this.ta=[];this.aa=\"\";this.F=this.g.value;Uc(this);B(this.g.form,[\"change\",\"gs-change\"],function(){Uc(b)})},Vc=function(a){return\"block\"==a.v.style.display},Xc=function(a){if(Vc(a)){var b=\n",
            "Wc(a);b&&t(b,\"gs_sel\");a.G=a.P=!1;a.v.style.display=\"none\"}},Yc=function(a,b,c){c=void 0===c?[]:c;a.Aa=c;c=a.B;var d=L(b);var e=\" \"+d,f=d.length,h=d.split(\" \").length,g=.1/ic(c.nb),k=c.B,n=k.length;c=[];for(var m=0;m<n;m++){var u=k[m],r=u.m,E=r.indexOf(d);if(!(0>E)){var G=10;E&&(E=r.lastIndexOf(e),G=+(0<=E));r=G*(2*(h-1)+(1+(\" \"==(r[E+f]||\" \"))))/h;E=u.C*g;if(r=d?r*E:1){u=new mc(u.A,r,u.o);for(r=0;r<c.length&&!nc(u,c[r]);)++r;3>r&&c.splice(r,0,u);c.splice(3,1)}}}d=[];for(e=0;e<c.length;e++)f=d,h=\n",
            "f.push,g=c[e].o,k=[],g=new Xb(g,2,\"\",L(g,k),k),h.call(f,g);a.Ba=d;ec(a.Ma,b,a.aa);Tc(a)},Sc=function(a,b){return 0==L(a.g.value).indexOf(L(b))},Zc=function(a){var b=a.g.value;a.F=b;Uc(a);var c=[],d=a.g.getAttribute(\"data-iq\")||\"\",e=a.g.getAttribute(\"data-is\");if(d==b&&e){d=document.querySelectorAll(e);e=d.length;for(var f=0;f<e&&10>f;f++){var h=d[f];c.push(new Xb(h.textContent,1,h.innerHTML))}}Yc(a,b,c)},Tc=function(a){a.Da++||Pa(function(){a.Da=0;var b=a.Aa;var c=a.ta;if(b.length)b=b.slice(0,10);\n",
            "else{b=a.Ba.slice(0,3);var d=c.length&&c[0].Ca,e=d?3:10,f=b.length;if(!f||!d){for(d=Object.create(null);f--;)d[b[f].m]=!0;for(f=0;f<c.length&&b.length<e;f++){var h=c[f];d[h.m]||b.push(h)}}}c=b;var g=a.g.value,k=a.qb.v.firstElementChild;h=k.querySelector(\".gs_md_acs\");b=k.querySelector(\"ul\");e=(e=b.querySelector(\".gs_sel\"))?e.getAttribute(\"data-q\"):\"\";f=c.length;var n=[];d=L(g,n);b.innerHTML=\"\";if(f){var m=c[0].Ca,u=m&&\"gs_md_acp\";\"string\"===typeof u||(u=u.join(\" \"));k.className!=u&&(k.className=u);\n",
            "g=Ub(m,g,d,n,!0);h.textContent=g[0]+g[1];g=g[2];d=L(g,n);for(h=0;h<f;h++){m=c[h];k=document.createElement(\"li\");n=(m.ob||\"\")+m.o;k.className=\"gs_md_ac_li\";k.setAttribute(\"data-q\",n);k.setAttribute(\"onclick\",\"\");if(m.za)k.innerHTML=m.za;else{g=Ub(d,m.o,m.m,m.K);if(!g[1]){for(g=0;m.m[g]==d[g];)++g;g=Ub(d.substr(0,g),m.o,m.m,m.K)}g[0]&&k.appendChild(pc(g[0]));k.appendChild(document.createTextNode(g[1]));g[2]&&k.appendChild(pc(g[2]));2==m.source&&(q(k,\"gs_md_ac_lh\"),g=document.createElement(\"span\"),g.className=\n",
            "\"gs_ico gs_ico_X gs_ico_Xt\",k.appendChild(g))}n==e&&q(k,\"gs_sel\");b.appendChild(k)}}c=c.length&&document.activeElement==a.g;c!=Vc(a)&&(c?Vc(a)||(a.G=a.P=!1,a.v.style.display=\"block\"):Xc(a))})},Wc=function(a){return a.v.querySelector(\".gs_sel\")},ad=function(a,b){var c=a.g.getAttribute(\"data-oq\")||\"oq\",d=a.g.form,e=d.elements[c];e||(e=document.createElement(\"input\"),e.name=c,e.type=\"hidden\",d.appendChild(e));e.value=a.F;a.g.value=$c(b)},bd=function(a){R(\"gs-change\",a.g)};l=S.prototype;\n",
            "l.bb=function(){var a=this.g.value;this.F!=a&&(this.F=a,Yc(this,a),cd(this.g,L(a).match(Wb)?\"rtl\":\"ltr\"))};\n",
            "l.ja=function(a){if(!this.P){var b=a.i,c=b.keyCode;b=Ra(b);var d;13!=c||b?27!=c||b?38!=c&&40!=c||b?(46==c&&!b||88==c&&(1==b||4==b))&&(d=Wc(this))&&v(d,\"gs_md_ac_lh\")&&(this.g.selectionStart||0)>=this.g.value.length&&(this.B.remove($c(d)),Yc(this,this.g.value=this.F),N(a),bd(this)):(Vc(this)?((d=Wc(this))&&t(d,\"gs_sel\"),(d=Qc(this.v,d||this.v,\".gs_md_ac_li\",38==c))?(q(d,\"gs_sel\"),this.g.value=$c(d)):this.g.value=this.F,bd(this)):Zc(this),N(a)):Vc(this)&&(this.g.value=this.F,Xc(this),N(a),bd(this)):\n",
            "((d=Wc(this))&&ad(this,d),Xc(this),bd(this))}};l.ka=function(){var a=this;document.activeElement==this.g?Zc(this):(clearTimeout(this.oa),this.oa=setTimeout(function(){a.oa=void 0},500))};l.ab=function(){void 0!==this.oa&&Zc(this)};l.Pa=function(){var a=this;setTimeout(function(){Xc(a)},this.G?300:0)};l.Oa=function(a){this.G&&N(a)};l.Za=function(){this.P=!0};l.Ya=function(){this.P=!1};var Uc=function(a){var b=a.g,c=za(b.form,function(d){return d!=b});c!=a.aa&&(a.aa=c,a.ba=\"\",a.ta=[])};l=S.prototype;\n",
            "l.Ta=function(a){this.G=!0;N(a)};l.Ua=function(){this.G=!0};l.ha=function(){this.G=!1};l.Qa=function(a){var b=a.currentTarget;if(v(a.target,\"gs_ico_X\"))this.B.remove($c(b)),Yc(this,this.g.value=this.F);else{ad(this,b);Xc(this);this.g.blur();var c=this.g.form;setTimeout(function(){c.submit()},0)}bd(this)};l.Sa=function(a){a=a.currentTarget;if(!v(a,\"gs_sel\")){var b=Wc(this);b&&t(b,\"gs_sel\");q(a,\"gs_sel\")}};l.Ra=function(a){t(a.currentTarget,\"gs_sel\")};\n",
            "var dd=[new O(\".gs_in_acw\",{}),new O(\".gs_in_ac\",{input:S.prototype.bb,keydown:S.prototype.ja,mousedown:S.prototype.ka,focus:S.prototype.ab,blur:S.prototype.Pa,beforedeactivate:S.prototype.Oa,compositionstart:S.prototype.Za,compositionend:S.prototype.Ya}),new O(\".gs_md_ac\",{mousedown:S.prototype.Ta,touchstart:S.prototype.Ua,mouseup:S.prototype.ha,touchend:S.prototype.ha,touchcancel:S.prototype.ha}),new O(\".gs_md_ac_li\",{click:S.prototype.Qa,mouseover:S.prototype.Sa,mouseout:S.prototype.Ra})];\n",
            "function $c(a){return a.getAttribute(\"data-q\")||\"\"}function cd(a,b){a.getAttribute(\"dir\")!=b&&(a.setAttribute(\"dir\",b),a.parentNode.setAttribute(\"dir\",b),a.parentNode.querySelector(\".gs_md_ac\").setAttribute(\"dir\",b))}function ed(){for(var a=document.querySelectorAll(\".gs_in_ac\"),b=a.length,c=0;c<b;c++){var d=a[c],e=d.getAttribute(\"data-iq\")||\"\";d.value=e;cd(d,L(e).match(Wb)?\"rtl\":\"ltr\");R(\"gs-change\",d);e=d.getAttribute(\"data-oq\")||\"oq\";(e=d.form.elements[e])&&d.form.removeChild(e)}};function fd(a){return!!v(a,\"gs_sel\")+2*!!v(a,\"gs_par\")}var gd=[\"false\",\"true\",\"mixed\"];var hd=function(a){var b=window,c=this;this.j=new A;this.Ea=0;this.va=[b,a,function(){c.Ea++||Pa(d)},!1];var d=function(){c.Ea=0;c.j.notify()}};hd.prototype.addListener=function(a){this.j.D||B.apply(null,this.va);this.j.add(a)};hd.prototype.removeListener=function(a){this.j.remove(a);this.j.D||D.apply(null,this.va)};var id=new hd(\"scroll\"),jd=new hd(\"resize\");var kd=new A;function ld(){var a=document.documentElement,b=pa();b={gs_el_ph:1==b,gs_el_ta:2==b,gs_el_sm:4!=b,gs_el_tc:qa||1==b};var c;for(c in b){var d=b[c];if(v(a,c)!=d){var e=!0;w(a,c,d)}}e&&kd.notify()}w(document.documentElement,\"gs_el_ios\",na);ld();jd.addListener(ld);B(window,[\"pageshow\",\"load\"],ld);function md(a,b,c,d){function e(){var C=E&&v(h,\"gs_el_ph\");w(u,\"gs_vis\",!C);h.style.overflowY=Ee&&!C?\"scroll\":\"\"}function f(){var C=h.clientHeight,M=+r.getAttribute(\"data-h\");M||(n.style.maxHeight=\"none\",M=k.offsetHeight);M=Math.max((C-M)/2,10);C=Math.max(C-48-2*M,10);var nd=E&&v(h,\"gs_el_ph\");k.style.top=nd?\"auto\":M+\"px\";n.style.maxHeight=nd?\"none\":C+\"px\";od(n)}b=void 0===b?\"\":b;c=void 0===c?\"\":c;d=void 0===d?\"\":d;var h=document.documentElement,g=y(\"gs_top\"),k=y(a),n=y(a+\"-bdy\"),m=y(k.getAttribute(\"data-cid\")||\n",
            "k.id+\"-bdy\")||k,u=y(k.getAttribute(\"data-shd\")||\"gs_md_s\"),r=qd(k),E=!!r&&v(r,\"gs_md_wmw\"),G=window.pageYOffset,Ee=g.scrollHeight>h.clientHeight,Jb=!!H[a],Kb=Jb?\"\":T,pd=b&&\"#\"!=b[0]&&!d,Ge=a==T&&b==rd&&c==U;pd?(Jb?w(m,\"gs_md_ldg\",!0):sd(k,m,'<div class=\"gs_md_prg\">'+y(\"gs_md_ldg\").innerHTML+\"</div>\"),R(\"gs-md-ldin\",m)):(d&&sd(k,m,d),R(\"gs-md-lded\",m));Kb&&(++td,J(Kb),--td);T=a;rd=b;U=c;ud=d;Ge||td||(vd+=1,(Kb?qb:kb)(wd(),xd()));Jb||Za(k,function(){r&&q(r,\"gs_vis\");q(k,\"gs_vis\");w(k,\"gs_abt\",xb);yd(a);\n",
            "kd.add(e);e();r&&n&&(f(),jd.addListener(f));q(g,\"gs_nscl\");g.style.top=-G+\"px\"},function(){kd.remove(e);jd.removeListener(f);r&&t(r,\"gs_vis\");t(k,\"gs_vis\");t(k,\"gs_abt\");t(u,\"gs_vis\");h.style.overflowY=\"\";t(g,\"gs_nscl\");g.style.top=\"auto\";ac(V);V=null;window.scrollTo(0,G);T=rd=U=ud=\"\";var C=vd;vd=0;td||(0<C?window.history.go(-C):qb(wd(),xd()))},zd(k),Ad(k));pd&&(ac(V),V=null,V=$b(b,c,function(C,M){V=null;C=200==C;sd(k,m,C?M:Bd());C&&a==T&&b==rd&&c==U&&(ud=M,qb(wd(),xd()));R(\"gs-md-lded\",m)}))}\n",
            "function qd(a){a=a.parentNode;return v(a,\"gs_md_wnw\")?a:null}function zd(a){return(a=a.getAttribute(\"data-ifc\"))?y(a):null}function Ad(a){return(a=a.getAttribute(\"data-cfc\"))?y(a):null}\n",
            "function sd(a,b,c){w(b,\"gs_md_ldg\",!1);for(var d=b.querySelectorAll(\"[data-duid]\"),e=d.length,f={},h=0;h<e;h++){for(var g=Ic(d[h]),k=Jc[g],n=k?k.length:0,m=0;m<n;m++){var u=k[m],r=Fa(u.constructor),E=f[r];E||(E=f[r]={});E[g]=!0;u&&\"function\"==typeof u.xa&&u.xa()}delete Jc[g]}for(var G in f){G=+G;d=f[G];h=(e=Kc[G])?e.length:0;for(k=g=0;k<h;k++)n=e[k],n in d||(e[g++]=n);g?e.length=g:delete Kc[G]}b.innerHTML=c;yd(a.id);ac(V);V=null}\n",
            "function yd(a){if(a=document.querySelector(\"#\"+a+\">.gs_md_bdy\"))a.scrollTop=a.scrollLeft=0,od(a)}function od(a){var b=a.style,c=\"padding\"+(ya(a)?\"Left\":\"Right\");b[c]=\"\";var d=a.offsetWidth-a.clientWidth;2<d&&(a=parseInt(window.getComputedStyle(a,null)[c],10)||0,b[c]=Math.max(a-d,0)+\"px\")}function Cd(){return y(\"gs_md_err\").innerHTML}function Bd(){return'<div class=\"gs_md_prg\"><div class=\"gs_alrt\">'+Cd()+\"</div></div>\"}function wd(){return{d:T||void 0,u:rd||void 0,p:U?\"1\":void 0}}\n",
            "function xd(){return{n:vd,p:U,h:ud}}var V=null,T=\"\",rd=\"\",U=\"\",ud=\"\",vd=0,td=0;wb.add(function(){var a=sb(),b=a.d||\"\",c=b?y(b):null;++td;if(c){c=a.u||\"\";a=0<+a.p;var d=ob||jb(window.history.state)||{},e=+d.n||0,f=\"\"+(d.p||\"\");d=\"\"+(d.h||\"\");c.match(Ea)||(c=\"\");a!=!!f?md(b,\"\",\"\",Bd()):b==T&&c==rd&&f==U&&d==ud||md(b,c,f,d);vd=e}else T&&J(T);--td});var Dd=function(a){p.call(this);this.W=a;this.ma=Object.create(null);this.V=null;a=a.querySelectorAll(\".gs_in_txtw>input[type=text]\");for(var b=a.length;b--;){var c=a[b],d=c.parentNode.querySelector(\".gs_in_txts\");c=c.name;d&&c&&(this.ma[c]=d.innerHTML)}};ja(Dd,p);Dd.prototype.ea=function(){ac(this.V);this.W=this.V=null;p.prototype.ea.call(this)};Dd.prototype.ib=function(a){var b=this;N(a);if((a=this.W)&&!this.V){var c=\"json=&\"+za(a);Ed(this,!0);this.V=$b(a.action,c,function(d,e){b.la(d,e)})}};\n",
            "Dd.prototype.la=function(a,b){this.V=null;Ed(this,!1);var c=this.W,d=c.getAttribute(\"data-alrt\");if(d=d?y(d):null)d.innerHTML=\"\";try{var e=200==a&&JSON.parse(b)}catch(n){}e&&\"object\"==typeof e||(e=Cd(),d?d.innerHTML=e:Ib(e),e={});if(a=e.L)Ba(\"\"+a);else{if(a=e.M)d?d.innerHTML=a:Ib(a);a=1E6;if(d&&d.innerHTML){var f=d;a=d.getBoundingClientRect().top}c=c.elements;e=e.E;\"object\"==typeof e||(e=Object.create(null));for(var h in this.ma){d=c[h];b=void 0;var g=\"\"+(e[h]||\"\"),k=d.parentNode.querySelector(\".gs_in_txts\");\n",
            "w(d.parentNode,\"gs_in_txte\",!!g);k&&(k.innerHTML=g||this.ma[h]||\"\");g&&(b=d.getBoundingClientRect().top)<a&&(f=d,a=b)}f&&f.scrollIntoView&&(0>a||a+20>window.innerHeight)&&f.scrollIntoView()}};var Ed=function(a,b){a=a.W;var c=a.getAttribute(\"data-bsel\");a=c?document.querySelectorAll(c):a.querySelectorAll(\"button\");for(c=a.length;c--;){var d=a[c];d.disabled=b;w(d,\"gs_bsp\",b)}};Q(Dd,[new O(\".gs_ajax_frm\",{submit:Dd.prototype.ib})]);var Fd=[[1,0,1],[2,0,1]];P(\".gs_cb_gen\",\"click\",function(a){var b=a.currentTarget,c=fd(b),d=2==+b.getAttribute(\"data-s\");c=Fd[+d][c];d=!0;d=void 0===d?!1:d;w(b,\"gs_sel\",1==c);w(b,\"gs_par\",2==c);b.setAttribute(\"aria-checked\",gd[c]);d||b.setAttribute(\"data-s\",\"\"+c);R(\"gs-change\",b,a.i)});P(\".gs_cb_gen\",[\"keydown\",\"keyup\"],function(a){var b=a.currentTarget,c=a.i.keyCode;\"BUTTON\"!=b.tagName||13!=c&&32!=c||(N(a),\"keydown\"==a.type&&b.click())});P([\".gs_cb_gen\",\".gs_md_li\"],\"keydown\",function(a){var b=a.currentTarget,c=b.tagName,d=a.i.keyCode;\"BUTTON\"!=c&&(32==d||13==d&&\"A\"!=c)&&(N(a),b.click())});var Gd=[\"click\",\"contextmenu\",\"mouseup\"].concat(navigator.sendBeacon&&GSP.neverBounce?[]:[\"mousedown\",\"touchstart\"]),Hd=GSP.bouncePrefix||\"http://\"+window.location.host,Id=\"\",Jd=null;function Kd(){Jd=null}function Ld(a){navigator.sendBeacon?navigator.sendBeacon(a):Jd&&a==Jd.src||((Jd=new Image).src=a,setTimeout(Kd,1E3))}\n",
            "function Md(){var a=document.location.href,b=a.indexOf(\"?\")+1;a=b?a.substr(b):\"\";b=a.indexOf(\"#\");a=rb(b+1?a.substr(0,b):a).hl||\"\";a=\"/scholar_bfnav?url=\"+encodeURIComponent(document.location.href)+\"&hl=\"+encodeURIComponent(a)+\"&ei=\"+GSP.eventId;Ld(a)}F(function(){Id=Hb?\"&bn=1\":\"\";Hb&&Md()});B(window,\"pageshow\",function(a){a.persisted&&(Id=\"&bn=1\",Md())});\n",
            "B(document,Gd,function(a){if(!(\"click\"==a.type&&a.button||\"mouseup\"==a.type&&1!=a.button)){var b,c;a:{for(a=a.target;a;){var d=a.nodeName;if(\"A\"==d)break a;if(\"SPAN\"==d||\"B\"==d||\"I\"==d||\"EM\"==d||\"IMG\"==d)a=a.parentNode;else break}a=null}if(a&&(b=a.getAttribute(\"href\"))&&(c=a.getAttribute(\"data-clk\"))){b=\"/scholar_url?url=\"+encodeURIComponent(b)+\"&\"+c+\"&ws=\"+window.innerWidth+\"x\"+window.innerHeight+\"&at=\";d=encodeURIComponent;var e=a.getAttribute(\"data-clk-atid\");e=e&&y(e);b=b+d(e&&e.innerText||\"\")+\n",
            "Id;0<c.indexOf(\"scisig=\")?(a.setAttribute(\"href\",Hd+b),a.removeAttribute(\"data-clk\")):Ld(b)}}},!1,!0);P(\".gs_fm_s\",\"click\",function(a){a=a.currentTarget.getAttribute(\"data-fm\")||\"\";(a=y(a))&&a.submit()});var W=function(a){this.N=z(a.querySelector(\".gs_md_d\"));this.da=z(a.querySelector(\".gs_md_tb\"))};l=W.prototype;l.ga=function(a){var b=y(this.N);return void 0!==a?Qc(b,b,\".gs_md_li\",a):null};l.open=function(a){a=this.ga(a);if(v(y(this.da),\"gs_sel\"))try{a&&a.focus()}catch(c){}else{var b=y(this.da);Ya(this.N,function(){q(b,\"gs_sel\")},function(){t(b,\"gs_sel\")},a,b)}};l.close=function(){J(this.N)};l.Va=function(a){N(a);v(y(this.da),\"gs_sel\")?this.close():this.open(\"keydown\"==a.i.type?!1:void 0)};\n",
            "l.ya=function(a){var b=a.i.keyCode;if(38==b||40==b)N(a),this.open(38==b)};l.$a=function(a){a.target.id==this.N&&this.ya(a)};Q(W,[new O(\".gs_md_rmb\",{}),new O(\".gs_md_tb\",{\"gs-press\":W.prototype.Va,keydown:W.prototype.ya}),new O(\".gs_md_d\",{keydown:W.prototype.$a})]);var X=function(a){W.call(this,a);this.kb=z(a.querySelector(\".gs_md_in\"));this.lb=z(a.querySelector(\".gs_md_tb .gs_lbl\"))};ja(X,W);X.prototype.ga=function(){return y(this.N).querySelector(\".gs_md_li[aria-selected]\")};X.prototype.cb=function(a){Nd(this,a)};X.prototype.ia=function(a){var b=a.i.keyCode;13!=b&&32!=b||Nd(this,a)};\n",
            "var Nd=function(a,b){var c=b.currentTarget,d=y(a.kb),e=a.ga();c!=e&&(d.value=c.getAttribute(\"data-v\"),y(a.lb).innerHTML=c.innerHTML,e&&Od(e,!1),Od(c,!0));N(b);a.close();R(\"gs-change\",d,b.i)},Od=function(a,b){w(a,\"gs_sel\",b);b?a.setAttribute(\"aria-selected\",\"true\"):a.removeAttribute(\"aria-selected\")};Q(X,[new O(\".gs_md_ris\",{}),new O(\".gs_md_li\",{click:X.prototype.cb,keydown:X.prototype.ia})]);P(\"#gs_lp\",\"click\",function(a){N(a);md(\"gs_lp_d\")});P(\"#gs_lp_cur\",\"click\",function(a){N(a);J(\"gs_lp_d\")});var Pd=function(a){this.Ha=z(a)};Pd.prototype.ia=function(a){var b=a.currentTarget,c=a.i.keyCode;if(38==c||40==c){var d=y(this.Ha);d=Qc(d,b,\".gs_md_li\",38==c)||Qc(d,d,\".gs_md_li\",38==c)}else if(37==c||39==c)a:{c=!!(37==c^ya(b.parentNode));d=b.parentNode;var e=d.children,f=e.length;if(d.id!=this.Ha){for(;e[--f]!=b;);d=Pc(d,c)||Oc(d.parentNode,c);e=d.children;if(f=Math.min(f+1,e.length))if(d=e[f-1],v(d,\"gs_md_li\")&&d.offsetLeft!=b.offsetLeft)break a}d=void 0}d&&(N(a),d.focus())};\n",
            "Q(Pd,[new O(\".gs_md_ulr\",{}),new O(\".gs_md_li\",{keydown:Pd.prototype.ia})]);P(\"#gs_hdr_mnu\",\"click\",function(a){N(a);md(\"gs_hdr_drw\")});P(\"#gs_hdr_drw_mnu\",\"click\",function(a){N(a);J(\"gs_hdr_drw\")});P(\"#gs_hdr_act_i\",\"click\",function(a){N(a);1==pa()?Ba(document.querySelector(\"#gs_hdr_drw_bot>a\").href):Ya(\"gs_hdr_act_d\")});P(\"#gs_hdr_drw\",\"keydown\",function(a){var b=a.i.keyCode;if(38==b||40==b){var c=a.currentTarget;if(b=Qc(c,c,\".gs_md_li\",38==b))N(a),b.focus()}});\n",
            "P(\"#gs_hdr_tsi\",[\"focus\",\"blur\"],function(a){function b(){var h=d.getBoundingClientRect().top-10;10<Math.abs(h)&&window.scrollBy(0,h);clearTimeout(e);c()}function c(){D(window,f,b)}var d=a.target;a=\"focus\"==a.type;w(y(\"gs_hdr\"),\"gs_hdr_ifc\",a);if(a&&qa&&!(749<window.innerHeight)){var e=setTimeout(c,1E3),f=[\"scroll\",\"resize\"];B(window,f,b)}});P(\"#gs_hdr_tsi\",[\"input\",\"gs-change\"],function(a){w(y(\"gs_hdr_frm\"),\"gs_hdr_tsc\",!!a.currentTarget.value)});\n",
            "P(\"#gs_hdr_tsc\",\"mousedown\",function(a){N(a);var b=y(\"gs_hdr_tsi\");b.value=\"\";b.focus();R(\"input\",b,a.i)});P(\"#gs_hdr_sre\",\"click\",function(a){N(a);var b=y(\"gs_hdr\");Ya(\"gs_hdr_frm\",function(){t(b,\"gs_hdr_src\");q(b,\"gs_hdr_srx\")},function(){q(b,\"gs_hdr_src\");t(b,\"gs_hdr_srx\")},y(\"gs_hdr_tsi\"))});P(\".gs_md_x\",\"click\",function(a){(a=a.currentTarget.getAttribute(\"data-mdx\"))&&J(a)});var Qd=function(){},Rd,Sd;l=Qd.prototype;l.Xa=function(a){a.i.button||(N(a),Td(a))};l.ja=function(a){Ud(a)&&(N(a),Td(a))};l.eb=function(a){Ud(a)&&N(a)};l.ka=function(a){if(!a.i.button){N(a);var b=a.i;b&&(Vd=b.clientX||0,Wd=b.clientY||0,B(document,Xd,Yd,!0),clearTimeout(Rd),Rd=setTimeout(Zd,2E3));Td(a)}};l.jb=function(a){N(a);if($d){var b=a.i;if(b=(b=b&&b.touches)&&1==b.length&&b[0])ae=b.clientX,be=b.clientY,B(document,ce,de,!0),clearTimeout(Sd),Sd=setTimeout(ee,2E3)}Td(a)};\n",
            "var Ud=function(a){a=a.i.keyCode;return 32==a||13==a},Td=function(a){R(\"gs-press\",a.currentTarget,a.i)},Zd=function(){D(document,Xd,Yd,!0);clearTimeout(Rd);Rd=void 0},Yd=function(a){\"mousedown\"!=a.type&&10>Math.abs(a.clientX-Vd)&&10>Math.abs(a.clientY-Wd)?(Qa(a),\"click\"==a.type&&Zd()):Zd()},ee=function(){D(document,ce,de,!0);clearTimeout(Sd);Sd=void 0},de=function(a){\"touchstart\"!=a.type&&10>Math.abs(a.clientX-ae)&&10>Math.abs(a.clientY-be)?(Qa(a),\"click\"==a.type&&ee()):ee()},Vd=0,Wd=0,Xd=[\"mousedown\",\n",
            "\"mouseup\",\"click\"],$d=x(\"Android\")&&!x(\"Chrome\"),ae=0,be=0,ce=[\"touchstart\",\"mousedown\",\"mouseup\",\"click\"];Q(Qd,[new O(\".gs_press\",{click:Qd.prototype.Xa,keydown:Qd.prototype.ja,keyup:Qd.prototype.eb,mousedown:Qd.prototype.ka,touchstart:Qd.prototype.jb})]);function fe(){var a=0>ge.getBoundingClientRect().top;he!=a&&(he=a,w(ie,\"gs_sth_vis\",a),a?je():(ke.style.left=\"\",ke.style.width=\"\",le()))}function je(){if(he){var a=ge.getBoundingClientRect();ke.style.left=a.left+\"px\";ke.style.width=a.width+\"px\";le()}}function le(){R(\"gs-sth-change\",y(\"gs_sth\"))}var ie,ge,ke,he=!1;F(function(){if(ie=y(\"gs_sth\"))ge=ie.querySelector(\".gs_sth_g\"),ke=ie.querySelector(\".gs_sth_b\"),id.addListener(fe),jd.addListener(je),fe()});function me(){y(\"gs_asd_frm\").submit()};function ne(a){a&&a.querySelectorAll&&a.querySelectorAll(oe).length&&Ba(pe)}function qe(){ne(document.body);re=new MutationObserver(function(a){a=ba(a);for(var b=a.next();!b.done;b=a.next())ne(b.value.target)});re.observe(document.body,{childList:!0,subtree:!0})}var re,oe=[Ha(\"R8D02D50AD3,7@C>.\"),Ha(\":7C2>6,4=2DDYlC6=:6G65.\"),Ha(\"2,52E2\\\\<@A6C?:@\\\\:5.\")].join(),pe=Ha(\"^D49@=2C^<@A6C?:@]9E>=\");function se(a,b,c){var d=(y(\"gs_citd\").getAttribute(\"data-u\")||\"\").replace(\"{id}\",a).replace(\"{p}\",\"\"+b);$b(d,\"\",function(e,f){H.gs_cit||(200==e?md(\"gs_cit\",d,\"\",f):Ib(Cd()));c&&c()})}var te;function ue(){sc(\"#gsb_promo_x\",function(a){y(\"gsb_promo\").className=\"\";N(a);$b(a.target.href,\"\",function(){})});B(window,\"message\",function(a){var b=a.data,c;a.origin.match(/[.]google[.]com(:[0-9]+)?$/)&&b&&\"object\"==typeof b&&0<=(c=+b.gsbPromo)&&(y(\"gsb_promo\").className=c?\"gsb_not_installed\":\"gsb_installed\")});F(function(){var a=document.createElement(\"iframe\");a.id=\"gsb_promo_ping\";a.frameBorder=\"0\";a.scrolling=\"no\";a.tabIndex=-1;a.src=(window.location.host.indexOf(\"scholar.google.\")?\"\":\"//scholar.google.com\")+\n",
            "\"/scholar_gsb_promo_ping\";document.body.appendChild(a)})};function ve(a,b){if(!we[a]){we[a]=!0;xe.notify({fa:a,X:b,error:void 0});var c=b?ye.replace(\"{id}\",ze+\":\"+b):Ae.replace(\"{id}\",a);$b(c,\"\",function(d,e){delete we[a];var f=b,h=\"\";if(200==d)try{var g=JSON.parse(e)}catch(k){}la(g)?g.L?Ba(\"\"+g.L):g.M?h=\"\"+g.M:Array.isArray(g.U)&&1==g.U.length&&la(g.U[0])?(d=(\"\"+(g.U[0].c||\"\")).split(\":\"),f=d[1]||\"\",e={},e[a+\",\"+d[0]]=f,Be(e)):f&&!g.U?(f=\"\",d={},d[a+\",\"+ze]=f,Be(d)):h=Cd():h=Cd();xe.notify({fa:a,X:f,error:h})})}}\n",
            "function Ce(a){return(a=fb(\"s\",void 0===a?!1:a))&&la(a)?a:{}}function Be(a){var b=Date.now(),c=Ce(!0),d;for(d in c){var e=c[d];e instanceof Array&&2==e.length&&12E5>b-e[1]||delete c[d]}for(var f in a)c[f]=[a[f],b];eb(gb,db,\"s\",c)}var we={},xe=new A,ze,ye,Ae;function Y(a){var b=y(\"gs_res_glb\");return b?b.getAttribute(a)||\"\":\"\"};var Z=function(a){this.ca=a;this.Ka=a.getAttribute(\"data-cid\")||\"\";this.La=De(a);this.rb=+(a.getAttribute(\"data-rp\")||0)||0};Z.prototype.fb=function(a){w(a.currentTarget.parentNode,\"gs_or_mvi\")};Z.prototype.Wa=function(a){var b=a.currentTarget;v(b,\"gs_or_ldg\")||(w(b,\"gs_or_ldg\",!0),se(this.Ka,this.rb,function(){w(b,\"gs_or_ldg\",!1)}))};Z.prototype.Na=function(a){var b=a.currentTarget,c=b.parentNode;Ya(z(b),function(){t(b,\"gs_press\");q(c,\"gs_vis\");q(b,\"gs_anm\")},function(){q(b,\"gs_press\");t(c,\"gs_vis\")})};\n",
            "Z.prototype.hb=function(){var a=this.ca.getAttribute(\"data-lid\")||\"\";ve(this.La,a)};var Fe=[new O(\".gs_or\",{}),new O(\".gs_or_ggsm\",{\"gs-press\":Z.prototype.Na}),new O(\".gs_or_cit\",{click:Z.prototype.Wa}),new O(\".gs_or_sav\",{click:Z.prototype.hb}),new O(\".gs_or_mor\",{click:Z.prototype.fb})];function He(){for(var a=v(document.documentElement,\"gs_el_ph\"),b=document.querySelectorAll(\".gs_or_ggsm\"),c=b.length;c--;){var d=b[c];v(d,\"gs_vis\")&&J(z(d));w(d,\"gs_press\",a);t(d,\"gs_anm\")}}\n",
            "function Ie(a){var b=document.querySelector('.gs_or[data-did=\"'+a.fa+'\"]');if(b){var c=b.querySelector(\".gs_or_sav\");if(c){var d=void 0===a.error;w(c,\"gs_or_ldg\",d);d?(Pb=0,Nb()):a.error?Ib(a.error):(b.setAttribute(\"data-lid\",a.X),(b=Y(\"data-lsm\"))&&a.X&&Je&&Ib(b))}}}function De(a){return a.getAttribute(\"data-did\")||\"\"}var Je=!1;var Ke=function(a){this.ca=a};Ke.prototype.gb=function(){5>(+(this.ca.getAttribute(\"data-rp\")||0)||0)?Le({}):(Me=De(this.ca),Ne=Date.now())};function Oe(){var a=document.location.href;return a.substr(0,a.indexOf(\"#\"))||a}function Pe(){return document.querySelector(\".gs_r_rfr\")}function Qe(a){var b=Pe();return!!b&&De(b)==a&&!!b.querySelector(\".gs_rfr\")}function Le(a){eb(gb,db,\"rfr\",a)}function Re(){var a=fb(\"rfr\");return a&&la(a)?a:null}\n",
            "function Se(a,b,c){q(a,\"gs_r_rfr\");var d=document.createElement(\"div\");d.className=\"gs_rfr\";d.innerHTML=b;a.appendChild(d);Te();if(c){b=\"@keyframes gs_r_vsld_anm{0%{transform:translate(0,-\"+d.offsetHeight+\"px);}100%{transform:translate(0,0);}}\";c=y(\"gs_r_vsld_style\");c||(c=document.createElement(wa.Ia),c.id=\"gs_r_vsld_style\",document.head.appendChild(c));c.textContent=b;for(b=a.nextElementSibling;b;)q(b,\"gs_r_vsld\"),b=b.nextElementSibling;(b=y(\"gs_res_ccl_bot\"))&&q(b,\"gs_r_vsld\");q(a,\"gs_anm\");Na(d,\n",
            "\"animationend\",Ue,500,Ue)}}function Ue(){var a=Pe();a&&t(a,\"gs_anm\");a=document.querySelectorAll(\".gs_r_vsld\");for(var b=a.length,c=0;c<b;c++)t(a[c],\"gs_r_vsld\")}function Ve(){var a=Pe();if(!a)return!1;t(a,\"gs_r_rfr\");var b=a.querySelector(\".gs_rfr\");if(!b)return!1;a.removeChild(b);return!0}function We(){var a=window.pageYOffset,b=Pe();if(!b)return a;b=b.querySelector(\".gs_rfr\");if(!b)return a;b=b.getBoundingClientRect();0>b.top&&(a-=b.bottom-b.top);return a}\n",
            "function Xe(a,b){var c=b.getBoundingClientRect();b=c.bottom;c=b-(b-c.top)/3;var d=1E4,e=-1E4,f=!1;a=a.getClientRects();for(var h=0;h<a.length;h++){var g=a[h];4<=b-g.top&&4<=g.bottom-c?(d=Math.min(d,g.left),e=Math.max(e,g.right)):g.top>=b&&(f=!0)}return 1E4==d?f?0:-1:f?e-d:-1}\n",
            "function Te(){for(var a=document.querySelectorAll(\".gs_rfr_rt>a\"),b=0;b<a.length;b++){var c=a[b],d=c.parentNode,e=d.firstElementChild,f=e.style;c=c.querySelector(\"[dir]\")||c;f.display=\"none\";var h=Xe(c,d);if(0<=h){var g=ya(d),k=ya(c);f.display=\"block\";e.setAttribute(\"dir\",k?\"rtl\":\"ltr\");h=Xe(c,d);f.transform=\"translateX(\"+[-1,0,0,1][2*g+k]*(d.offsetWidth-e.offsetWidth-h)+\"px)\"}}}var Ye=[new O([\".gs_r\"],{}),new O([\".gs_rt\",\".gs_or_ggsm\"],{click:Ke.prototype.gb})],Me,Ne;GSP.customAC&&(Q(S,dd),F(ed),B(window,\"pageshow\",function(){setTimeout(ed,0)}));window.MutationObserver&&F(qe);P(\"#gs_asd_psb\",\"click\",me);P(\"#gs_asd_frm\",\"keydown\",function(a){var b=a.target;\"INPUT\"==b.tagName&&\"text\"==b.type&&13==a.i.keyCode&&me()});P(\".gs_citr\",\"focus\",function(a){var b=a.currentTarget;b!=te&&(te=b,N(a),setTimeout(function(){window.getSelection().selectAllChildren(b);b.focus()},0))});P(\".gs_cith\",\"click\",function(a){(a=a.currentTarget.parentNode.querySelector(\".gs_citr\"))&&a.focus()});\n",
            "Q(Z,Fe);F(function(){He();xe.add(Ie);for(var a={},b=document.querySelectorAll(\".gs_or[data-did]\"),c=b.length;c--;){var d=b[c],e=De(d);d=d.getAttribute(\"data-lid\")||\"\";a[e]=d}b=Y(\"data-lpu\");c=Y(\"data-sva\");e=Y(\"data-tra\");d=Y(\"data-lsl\");ze=b;ye=e;Ae=c;try{var f=JSON.parse(void 0===d?\"\":d)}catch(g){}f&&la(f)&&!Hb||(f={});Be(f);f=Ce();for(var h in a)b=a[h],c=f[h+\",\"+ze],c instanceof Array&&(c=\"\"+c[0],b!=c&&(b=c,xe.notify({fa:h,X:b,error:\"\"})));Je=!0});kd.add(He);He();B(window,\"pagehide\",He);\n",
            "P(\"#gs_res_sb_yyc\",\"click\",function(){y(\"gs_res_sb_yyf\").style.display=\"block\";for(var a=document.querySelectorAll(\"#gs_res_sb_yyl>li\"),b=a.length;b--;)w(a[b],\"gs_bdy_sb_sel\",b==a.length-1)});P(\"#gs_scipsc\",\"gs-change\",function(a){var b=fd(a.currentTarget),c=Aa(y(\"gs_hdr_frm\")),d=Aa(y(\"gs_asd_frm\"));c.value=d.value=b?\"1\":\"\";a=a.currentTarget.getAttribute(\"data-msg\")||\"\";y(\"gs_hdr_tsi\").placeholder=b?a:\"\"});sc(\"#gs_res_drw_adv\",function(){md(\"gs_asd\")});\n",
            "F(function(){var a=Y(\"data-ttl\");a&&(document.title=a);a=new hc(\"q\");var b=Y(\"data-ahq\");b&&a.add(b);Y(\"data-gsb\")&&ue()});Q(Ke,Ye);B(window,\"pagehide\",function(){Ue();if(Me&&!Qe(Me)){var a={d:Me,u:Oe(),t:Date.now()};5E3<=Date.now()-Ne&&(a={});var b=We();Ve()&&window.scrollTo(0,b);a.s=b;Le(a)}});\n",
            "B(window,\"pageshow\",function(){var a=Re(),b=Oe();if(a&&a.u==b)if(864E5<=Date.now()-(+a.t||0))Le({});else{b=\"\"+a.d;var c=Y(\"data-rfr\");if(c)if(Qe(b))Te();else{var d=Ve(),e=+a.s;e&&!d&&(x(\"Trident\")||x(\"Edge\"))&&Na(window,\"scroll\",function(){window.scrollTo(0,e)},20);a.s=0;Le(a);var f=document.querySelector('.gs_or[data-did=\"'+b+'\"]');if(f)if(d=a.h)Se(f,\"\"+d,!1);else{b=c.replace(\"{id}\",b);var h=$b(b,\"\",function(k,n){200==k&&n&&(Se(f,n,!0),a.h=n,a.t=Date.now(),Le(a));clearTimeout(g)}),g=setTimeout(function(){ac(h)},\n",
            "1E3)}}}});jd.addListener(Te);\n",
            "}({\"bouncePrefix\":\"http://scholar.google.com\",\"neverBounce\":!1,\"customAC\":0,\"eventId\":\"7FFEYM6IAfSL6rQP5-6vsAw\"});</script></head><body><div id=\"gs_top\" onclick=\"\"><style>#gs_md_s,.gs_md_wnw{z-index:1200;position:fixed;top:0;left:0;width:100%;height:100%;visibility:hidden;}#gs_md_s{background-color:#fff;opacity:.5;}.gs_el_ta #gs_md_s,.gs_el_ph #gs_md_s{background-color:#666;}.gs_md_wnw{transition:all 0s .218s;}#gs_md_s.gs_vis,.gs_md_wnw.gs_vis{visibility:visible;transition:all 0s;}.gs_md_wnw>.gs_md_d{position:relative;margin:0 auto;width:464px;box-shadow:2px 2px 8px rgba(0,0,0,.2);white-space:normal;}.gs_el_ta .gs_md_wnw>.gs_md_d,.gs_el_ph .gs_md_wnw>.gs_md_d{box-shadow:2px 2px 8px rgba(0,0,0,.65);}.gs_el_ph .gs_md_wnw>.gs_md_d{width:80%;max-width:440px;}.gs_el_ph .gs_md_wmw>.gs_md_d{width:100%;height:100%;max-width:none;border:none;box-shadow:none;transform:translate(0,100%);transform:translate(0,100vh);transition:transform .27s cubic-bezier(.4,0,.6,1),opacity 0s .27s,visibility 0s .27s,max-height 0s .27s;}.gs_el_ph .gs_md_wmw>.gs_md_d.gs_vis{transform:translate(0,0);transition:transform .3s cubic-bezier(0,0,.2,1);}.gs_md_wmw>.gs_md_d.gs_abt,.gs_el_ph .gs_md_wmw>.gs_md_d.gs_abt{transition:none;}.gs_md_hdr{display:flex;align-items:center;height:47px;border-bottom:1px solid #e0e0e0;border-bottom-color:rgba(0,0,0,.12);background-color:#f5f5f5;}.gs_md_hdr>a,.gs_md_hdr>a.gs_btn_lrge{flex:0 0 auto;width:41px;height:47px;}.gs_el_ph .gs_md_hdr>a{margin:0 2px 0 0;}.gs_el_ph a.gs_md_hdr_c{margin:0 0 0 2px;}.gs_md_hdr_b{margin:0 41px 0 16px;}.gs_el_ph .gs_md_hdr_b{margin:0 16px;}.gs_md_hdr_t:empty~.gs_md_hdr_b{margin-left:0;}.gs_md_hdr_b:empty{width:41px;margin:0;}.gs_el_ph .gs_md_hdr_b:empty{margin-right:2px;}.gs_md_hdr_b:empty:not(:last-child){display:none;}.gs_md_hdr_b>button{min-width:51px;height:33px;}.gs_md_hdr_t{flex:1 1 auto;font-size:18px;font-weight:normal;color:#666;overflow:hidden;text-overflow:ellipsis;white-space:nowrap;text-align:center;}.gs_md_bdy{overflow-y:auto;box-sizing:border-box;padding:24px 41px 0 41px;}.gs_md_bdy:after{display:block;content:\"\";clear:both;padding-bottom:24px;}.gs_el_ph .gs_md_bdy{padding:16px 16px 0 16px;}.gs_el_ph .gs_md_bdy:after{padding-bottom:16px;}.gs_el_ph .gs_md_wmw .gs_md_bdy{position:absolute;width:100%;top:48px;bottom:0;}.gs_md_lbl{display:block;font-size:16px;margin:0 0 16px 0;word-wrap:break-word;}.gs_md_btns{margin:24px 0 0 0;white-space:nowrap;}.gs_el_ph .gs_md_btns{margin:16px 0 0 0;}.gs_md_btns button{margin-right:16px;}.gs_md_btns button:last-child{margin-right:0;}.gs_md_prg{margin:24px 0;text-align:center;}.gs_md_prg .gs_alrt{padding:4px 16px;}.gs_md_ldg:before{content:\"\";position:absolute;top:0;left:0;bottom:0;right:0;background-color:#fff;opacity:.5;z-index:100;}</style><div id=\"gs_md_ldg\" style=\"display:none\">Loading...</div><div id=\"gs_md_err\" style=\"display:none\">The system can't perform the operation now. Try again later.</div><div id=\"gs_md_s\"></div><div class=\"gs_md_wnw gs_md_wmw\" data-h=\"0\"><div aria-labelledby=\"gs_cit-t\" class=\"gs_md_d gs_ttzi\" data-cid=\"gs_citd\" data-wfc=\"gs_cit-x\" id=\"gs_cit\" role=\"dialog\" tabindex=\"-1\"><div class=\"gs_md_hdr\"><a aria-label=\"Cancel\" class=\"gs_btnCLS gs_md_x gs_md_hdr_c gs_in_ib gs_btn_lrge\" data-mdx=\"gs_cit\" href=\"javascript:void(0)\" id=\"gs_cit-x\" role=\"button\"><span class=\"gs_ico\"></span><span class=\"gs_lbl\"></span></a><h2 class=\"gs_md_hdr_t\" id=\"gs_cit-t\">Cite</h2><div class=\"gs_md_hdr_b\"></div></div><div class=\"gs_md_bdy\" id=\"gs_cit-bdy\"><style>#gs_cit{width:520px;max-width:80%;}.gs_el_ph #gs_cit{width:100%;max-width:100%;}#gs_citt table{width:100%;margin-top:-8px;}#gs_citt td,#gs_citt th{vertical-align:top;padding:8px 0;}#gs_citt th{text-align:right;font-weight:normal;color:#777;padding-right:16px;white-space:nowrap;user-select:none;}#gs_citi{margin:16px 0 0 0;text-align:center;}.gs_el_ph #gs_citi{margin:16px 0 8px 0;}.gs_citi{margin-right:16px;white-space:nowrap;padding:7px 0 5px 0;}.gs_citi:first-child{margin-left:16px;}</style><div aria-live=\"assertive\" data-u=\"/scholar?q=info:{id}:scholar.google.com/&amp;output=cite&amp;scirp={p}&amp;hl=en\" id=\"gs_citd\"></div></div></div></div><div class=\"gs_md_wnw gs_md_wmw\" data-h=\"0\"><div aria-labelledby=\"gs_asd-t\" class=\"gs_md_d gs_ttzi\" data-ifc=\"gs_asd_q\" data-wfc=\"gs_asd-x\" id=\"gs_asd\" role=\"dialog\" tabindex=\"-1\"><div class=\"gs_md_hdr\"><a aria-label=\"Cancel\" class=\"gs_btnCLS gs_md_x gs_md_hdr_c gs_in_ib gs_btn_lrge\" data-mdx=\"gs_asd\" href=\"javascript:void(0)\" id=\"gs_asd-x\" role=\"button\"><span class=\"gs_ico\"></span><span class=\"gs_lbl\"></span></a><h2 class=\"gs_md_hdr_t\" id=\"gs_asd-t\">Advanced search</h2><div class=\"gs_md_hdr_b\"><button aria-label=\"Search\" class=\"gs_btnG gs_in_ib gs_btn_act gs_btn_half gs_btn_lsb\" id=\"gs_asd_psb\" type=\"button\"><span class=\"gs_wr\"><span class=\"gs_ico\"></span><span class=\"gs_lbl\"></span></span></button></div></div><div class=\"gs_md_bdy\" id=\"gs_asd-bdy\"><style>#gs_asd{width:80%;max-width:552px;}.gs_el_ph #gs_asd{width:100%;max-width:100%;}#gs_asd_frm{margin-top:-6px;}.gs_el_tc #gs_asd_frm{margin-top:-8px;}.gs_asd_tr{clear:both;}.gs_el_tc .gs_asd_tr{padding:8px 0;}.gs_el_tc .gs_asd_tr:first-child{padding-bottom:0;}.gs_asd_dt{float:left;width:190px;padding:6px 2px 2px;}.gs_el_tc .gs_asd_dt{float:none;width:auto;padding:0 0 4px 0;}.gs_asd_dd{margin-left:194px;padding:2px;}.gs_el_tc .gs_asd_dd{margin-left:0;padding:0;}.gs_asd_yri .gs_in_txt{width:48px;}.gs_el_ph #gs_asd input,.gs_el_ph #gs_asd label{-webkit-tap-highlight-color:rgba(0,0,0,0);}.gs_asd_occtr{padding:5px 0;}.gs_el_tc .gs_asd_occtr{padding:0;}</style><form action=\"/scholar\" class=\"gs_scl\" id=\"gs_asd_frm\"><div class=\"gs_asd_tr\"><div class=\"gs_asd_dt\" id=\"gs_asd_dt_t\"><b>Find articles</b></div></div><div class=\"gs_asd_tr\"><div class=\"gs_asd_dt\"><label for=\"gs_asd_q\">with <b>all</b> of the words</label></div><div class=\"gs_asd_dd\"><div class=\"gs_in_txtw gs_in_txtm gs_in_txtb\"><input autocapitalize=\"off\" class=\"gs_in_txt\" id=\"gs_asd_q\" name=\"as_q\" type=\"text\" value=\"pattern recognition machine learning\"/></div></div></div><div class=\"gs_asd_tr\"><div class=\"gs_asd_dt\"><label for=\"gs_asd_epq\">with the <b>exact phrase</b></label></div><div class=\"gs_asd_dd\"><div class=\"gs_in_txtw gs_in_txtm gs_in_txtb\"><input autocapitalize=\"off\" class=\"gs_in_txt\" id=\"gs_asd_epq\" name=\"as_epq\" type=\"text\" value=\"\"/></div></div></div><div class=\"gs_asd_tr\"><div class=\"gs_asd_dt\"><label for=\"gs_asd_oq\">with <b>at least one</b> of the words</label></div><div class=\"gs_asd_dd\"><div class=\"gs_in_txtw gs_in_txtm gs_in_txtb\"><input autocapitalize=\"off\" class=\"gs_in_txt\" id=\"gs_asd_oq\" name=\"as_oq\" type=\"text\" value=\"\"/></div></div></div><div class=\"gs_asd_tr\"><div class=\"gs_asd_dt\"><label for=\"gs_asd_eq\"><b>without</b> the words</label></div><div class=\"gs_asd_dd\"><div class=\"gs_in_txtw gs_in_txtm gs_in_txtb\"><input autocapitalize=\"off\" class=\"gs_in_txt\" id=\"gs_asd_eq\" name=\"as_eq\" type=\"text\" value=\"\"/></div></div></div><div class=\"gs_asd_tr\"><div class=\"gs_asd_dt\"><label for=\"gs_asd_occt\">where my words occur</label></div><div class=\"gs_asd_dd\"><div class=\"gs_asd_occtr\"><span class=\"gs_in_ra\" onclick=\"void(0)\"><input checked=\"\" id=\"gs_asd_occt_a\" name=\"as_occt\" type=\"radio\" value=\"any\"/><label for=\"gs_asd_occt_a\">anywhere in the article</label><span class=\"gs_chk\"></span><span class=\"gs_cbx\"></span></span></div><div class=\"gs_asd_occtr\"><span class=\"gs_in_ra\" onclick=\"void(0)\"><input id=\"gs_asd_occt_t\" name=\"as_occt\" type=\"radio\" value=\"title\"/><label for=\"gs_asd_occt_t\">in the title of the article</label><span class=\"gs_chk\"></span><span class=\"gs_cbx\"></span></span></div></div></div><div class=\"gs_asd_tr\"><div class=\"gs_asd_dt\"><label for=\"gs_asd_sau\">Return articles <b>authored</b> by</label></div><div class=\"gs_asd_dd\"><div class=\"gs_in_txtw gs_in_txtm gs_in_txtb\"><input autocapitalize=\"off\" class=\"gs_in_txt\" id=\"gs_asd_sau\" name=\"as_sauthors\" type=\"text\" value=\"\"/></div><div>e.g., <i>\"PJ Hayes\"</i> or <i>McCarthy</i></div></div></div><div class=\"gs_asd_tr\"><div class=\"gs_asd_dt\"><label for=\"gs_asd_pub\">Return articles <b>published</b> in</label></div><div class=\"gs_asd_dd\"><div class=\"gs_in_txtw gs_in_txtm gs_in_txtb\"><input autocapitalize=\"off\" class=\"gs_in_txt\" id=\"gs_asd_pub\" name=\"as_publication\" type=\"text\" value=\"\"/></div><div>e.g., <i>J Biol Chem</i> or <i>Nature</i></div></div></div><div class=\"gs_asd_tr\"><div class=\"gs_asd_dt\"><label for=\"gs_asd_ylo\">Return articles <b>dated</b> between</label></div><div class=\"gs_asd_dd\"><div class=\"gs_asd_yri\"><div class=\"gs_in_txtw gs_in_txtm\"><input autocapitalize=\"off\" class=\"gs_in_txt\" id=\"gs_asd_ylo\" maxlength=\"4\" name=\"as_ylo\" pattern=\"[0-9]*\" size=\"4\" type=\"text\" value=\"\"/></div> — <div class=\"gs_in_txtw gs_in_txtm\"><input autocapitalize=\"off\" class=\"gs_in_txt\" id=\"gs_asd_yhi\" maxlength=\"4\" name=\"as_yhi\" pattern=\"[0-9]*\" size=\"4\" type=\"text\" value=\"\"/></div></div><div>e.g., <i>1996</i></div></div></div><input name=\"hl\" type=\"hidden\" value=\"en\"/><input name=\"as_sdt\" type=\"hidden\" value=\"0,5\"/></form></div></div></div><!--[if lte IE 9]><div class=\"gs_alrt\" style=\"padding:16px\"><div>Sorry, some features may not work in this version of Internet Explorer.</div><div>Please use <a href=\"//www.google.com/chrome/\">Google Chrome</a> or <a href=\"//www.mozilla.com/firefox/\">Mozilla Firefox</a> for the best experience.</div></div><![endif]--><div id=\"gs_hdr_drs\"></div><div class=\"gs_md_ulr\" data-cfc=\"gs_hdr_mnu\" data-shd=\"gs_hdr_drs\" data-wfc=\"gs_hdr_drw_mnu\" id=\"gs_hdr_drw\" role=\"dialog\" tabindex=\"-1\"><div id=\"gs_hdr_drw_in\"><div id=\"gs_hdr_drw_top\"><a aria-controls=\"gs_hdr_drw\" aria-label=\"Options\" class=\"gs_btnMNT gs_in_ib gs_btn_lrge\" href=\"javascript:void(0)\" id=\"gs_hdr_drw_mnu\" role=\"button\"><span class=\"gs_ico\"></span><span class=\"gs_lbl\"></span></a><a aria-label=\"Homepage\" href=\"/schhp?hl=en&amp;as_sdt=0,5\" id=\"gs_hdr_drw_lgo\"></a></div><div><div class=\"gs_hdr_drw_sec\"><a class=\" gs_in_ib gs_md_li gs_md_lix gs_in_gray gs_sel\" href=\"/scholar?as_sdt=0,5&amp;q=pattern+recognition+machine+learning&amp;hl=en\" role=\"menuitem\"><span class=\"gs_ico\"></span><span class=\"gs_lbl\">Articles</span></a><a class=\" gs_in_ib gs_md_li gs_md_lix gs_in_gray\" href=\"/scholar?as_sdt=2006&amp;q=pattern+recognition+machine+learning&amp;hl=en\" role=\"menuitem\"><span class=\"gs_ico\"></span><span class=\"gs_lbl\">Case law</span></a><a class=\" gs_in_ib gs_md_li gs_md_lix gs_in_gray\" href=\"/citations?view_op=search_authors&amp;mauthors=pattern+recognition+machine+learning&amp;hl=en&amp;oi=drw\" role=\"menuitem\"><span class=\"gs_ico\"></span><span class=\"gs_lbl\">Profiles</span></a></div><div class=\"gs_hdr_drw_sec\"><a class=\"gs_btnPRO gs_in_ib gs_md_li gs_md_lix gs_in_gray\" href=\"/citations?hl=en\" role=\"menuitem\"><span class=\"gs_ico\"></span><span class=\"gs_lbl\">My profile</span></a><a class=\"gs_btnL gs_in_ib gs_md_li gs_md_lix gs_in_gray\" href=\"/scholar?scilib=1&amp;scioq=pattern+recognition+machine+learning&amp;hl=en&amp;as_sdt=0,5\" role=\"menuitem\"><span class=\"gs_ico\"></span><span class=\"gs_lbl\">My library</span></a><a class=\"gs_btnM gs_in_ib gs_md_li gs_md_lix gs_in_gray\" href=\"/scholar_alerts?view_op=list_alerts&amp;hl=en\" role=\"menuitem\"><span class=\"gs_ico\"></span><span class=\"gs_lbl\">Alerts</span></a><a class=\"gs_btnJ gs_in_ib gs_md_li gs_md_lix gs_in_gray\" href=\"/citations?view_op=top_venues&amp;hl=en\" role=\"menuitem\"><span class=\"gs_ico\"></span><span class=\"gs_lbl\">Metrics</span></a></div><div class=\"gs_hdr_drw_sec\"><a class=\"gs_btnADV gs_in_ib gs_md_li gs_md_lix gs_in_gray\" href=\"javascript:void(0)\" id=\"gs_res_drw_adv\" role=\"menuitem\"><span class=\"gs_ico\"></span><span class=\"gs_lbl\">Advanced search</span></a></div><div class=\"gs_hdr_drw_sec\"><a class=\"gs_btnP gs_in_ib gs_md_li gs_md_lix gs_in_gray\" href=\"/scholar_settings?q=pattern+recognition+machine+learning&amp;hl=en&amp;as_sdt=0,5\" role=\"menuitem\"><span class=\"gs_ico\"></span><span class=\"gs_lbl\">Settings</span></a></div></div><div class=\"gs_hdr_drw_sec\" id=\"gs_hdr_drw_bot\"><a class=\" gs_in_ib gs_md_li gs_md_lix gs_in_gray\" href=\"https://accounts.google.com/Login?hl=en&amp;continue=https://scholar.google.com/scholar%3Fq%3Dpattern%2Brecognition%2Bmachine%2Blearning%26ie%3DUTF-8%26oe%3DUTF-8%26hl%3Den%26btnG%3DSearch\"><span class=\"gs_ico\"></span><span class=\"gs_lbl\">Sign in</span></a></div></div></div><div id=\"gs_hdr\" role=\"banner\"><a aria-controls=\"gs_hdr_drw\" class=\"gs_btnMNT gs_in_ib gs_btn_lrge\" href=\"javascript:void(0)\" id=\"gs_hdr_mnu\" role=\"button\"><span class=\"gs_ico\"></span><span class=\"gs_lbl\"></span></a><a aria-label=\"Homepage\" class=\"gs_hdr_dso\" href=\"/schhp?hl=en&amp;as_sdt=0,5\" id=\"gs_hdr_lgo\"></a><div id=\"gs_hdr_md\"><div id=\"gs_hdr_srch\"><form action=\"/scholar\" class=\"gs_hdr_tsc\" id=\"gs_hdr_frm\"><input name=\"hl\" type=\"hidden\" value=\"en\"/><input name=\"as_sdt\" type=\"hidden\" value=\"0,5\"/><div class=\"gs_in_txtw gs_in_txtb\"><input aria-label=\"Search\" autocapitalize=\"off\" class=\"gs_in_txt\" id=\"gs_hdr_tsi\" maxlength=\"2048\" name=\"q\" size=\"50\" type=\"text\" value=\"pattern recognition machine learning\"/></div><span id=\"gs_hdr_tsc\"><span class=\"gs_ico gs_ico_X\"></span></span><button aria-label=\"Search\" class=\"gs_btnG gs_in_ib gs_btn_act gs_btn_half gs_btn_lsb\" id=\"gs_hdr_tsb\" name=\"btnG\" type=\"submit\"><span class=\"gs_wr\"><span class=\"gs_ico\"></span><span class=\"gs_lbl\"></span></span></button></form></div></div><div id=\"gs_hdr_act\"><a href=\"https://accounts.google.com/Login?hl=en&amp;continue=https://scholar.google.com/scholar%3Fq%3Dpattern%2Brecognition%2Bmachine%2Blearning%26ie%3DUTF-8%26oe%3DUTF-8%26hl%3Den%26btnG%3DSearch\" id=\"gs_hdr_act_s\">Sign in</a></div></div><style>#gs_alrt{position:fixed;bottom:48px;left:16px;max-width:384px;z-index:1250;display:flex;justify-content:space-between;align-items:center;font-size:13px;line-height:16px;color:#e2e2e2;background:#333;text-align:left;border-radius:3px;box-shadow:0 3px 5px -1px rgba(0,0,0,.2),0 6px 10px 0 rgba(0,0,0,.14),0 1px 18px 0 rgba(0,0,0,.12);visibility:hidden;transform-origin:center;transform:scale(0.8,0.8) translate(0,100%);}.gs_el_ph #gs_alrt{bottom:0;left:0;width:100%;max-width:none;border-radius:0;box-shadow:none;transform:scale(1,1) translate(0,100%);}#gs_alrt.gs_vis{visibility:visible;transform:scale(1,1) translate(0,0);}#gs_alrt.gs_anm{transition:transform .067s cubic-bezier(.4,0,1,1),visibility 0s .067s;}#gs_alrt.gs_vis.gs_anm{transition:transform .067s cubic-bezier(0,0,.2,1);}.gs_el_ph #gs_alrt.gs_anm{transition:transform .084s cubic-bezier(.4,0,1,1),visibility 0s .084s;}.gs_el_ph #gs_alrt.gs_vis.gs_anm{transition:transform .1s cubic-bezier(0,0,.2,1);}#gs_alrt_m{display:block;padding:16px;}#gs_alrt_l{display:block;padding:8px;margin:0 8px 0 -8px;border-radius:3px;color:#fcc934;text-transform:uppercase;text-decoration:none;}#gs_alrt_l:hover{background-color:rgba(255,255,255,.05)}#gs_alrt_l:active{background-color:rgba(255,255,255,.1)}#gs_alrt_l:empty{display:none}#gs_alrt_m a{padding:8px 0;color:#e2e2e2;text-decoration:underline;}#gs_alrt_m a:active{color:#f6aea9}</style><form action=\"\" id=\"gs_alrt\" method=\"post\"><span id=\"gs_alrt_m\"></span><span id=\"gs_alrt_h\"></span><a class=\"gs_fm_s\" data-fm=\"gs_alrt\" href=\"javascript:void(0)\" id=\"gs_alrt_l\"></a></form><div class=\" gs_ab_st\" id=\"gs_ab\"><div class=\"gs_btnGSL\" id=\"gs_ab_ico\"><span class=\"gs_ico\"></span></div><div id=\"gs_ab_ttl\"><div class=\"gs_ab_mdw\"><span class=\"gs_nph gs_nta\">Articles</span><div class=\"gs_oph gs_ota\">Scholar</div></div></div><div id=\"gs_ab_md\"><div class=\"gs_ab_mdw\">About 2,680,000 results (<b>0.03</b> sec)</div></div><div id=\"gs_ab_btns\"><a class=\"gs_btnPRO gs_in_ib gs_nph gs_nta\" href=\"/citations?hl=en\"><span class=\"gs_ico\"></span><span class=\"gs_lbl\">My profile</span></a><a class=\"gs_btnL gs_in_ib gs_nph gs_nta\" href=\"/scholar?scilib=1&amp;scioq=pattern+recognition+machine+learning&amp;hl=en&amp;as_sdt=0,5\"><span class=\"gs_ico\"></span><span class=\"gs_lbl\">My library</span></a><div class=\"gs_md_r gs_md_rmb gs_md_rmbl\" id=\"gs_res_ab_yy-r\"><button aria-controls=\"gs_res_ab_yy-d\" aria-haspopup=\"true\" class=\" gs_in_se gs_btn_mnu gs_btn_flat gs_btn_lrge gs_btn_half gs_btn_lsu gs_press gs_md_tb\" id=\"gs_res_ab_yy-b\" ontouchstart=\"gs_evt_dsp(event)\" type=\"button\"><span class=\"gs_wr\"><span class=\"gs_lbl\">Year</span><span class=\"gs_icm\"></span></span></button><div class=\"gs_md_d gs_md_ulr\" id=\"gs_res_ab_yy-d\" role=\"menu\" tabindex=\"-1\"><div class=\"gs_res_ab_dd_bdy\"><div class=\"gs_res_ab_dd_sec\"><a aria-checked=\"true\" class=\"gs_md_li gs_res_ab_sel\" href=\"/scholar?q=pattern+recognition+machine+learning&amp;hl=en&amp;as_sdt=0,5\" role=\"menuitemradio\" tabindex=\"-1\">Any time</a><a class=\"gs_md_li\" href=\"/scholar?as_ylo=2021&amp;q=pattern+recognition+machine+learning&amp;hl=en&amp;as_sdt=0,5\" role=\"menuitemradio\" tabindex=\"-1\">Since 2021</a><a class=\"gs_md_li\" href=\"/scholar?as_ylo=2020&amp;q=pattern+recognition+machine+learning&amp;hl=en&amp;as_sdt=0,5\" role=\"menuitemradio\" tabindex=\"-1\">Since 2020</a><a class=\"gs_md_li\" href=\"/scholar?as_ylo=2017&amp;q=pattern+recognition+machine+learning&amp;hl=en&amp;as_sdt=0,5\" role=\"menuitemradio\" tabindex=\"-1\">Since 2017</a></div><div class=\"gs_res_ab_dd_sec\"><a aria-checked=\"true\" class=\"gs_md_li gs_res_ab_sel\" href=\"/scholar?hl=en&amp;as_sdt=0,5&amp;q=%22pattern+recognition%22++machine+learning\" role=\"menuitemradio\" tabindex=\"-1\">Sort by relevance</a><a class=\"gs_md_li\" href=\"/scholar?hl=en&amp;as_sdt=0,5&amp;q=%22pattern+recognition%22++machine+learning&amp;scisbd=1\" role=\"menuitemradio\" tabindex=\"-1\">Sort by date</a></div></div></div></div><div class=\"gs_md_r gs_md_rmb gs_md_rmbl\" id=\"gs_res_ab_ad-r\"><button aria-controls=\"gs_res_ab_ad-d\" aria-haspopup=\"true\" aria-label=\"More\" class=\"gs_btnFLT gs_in_ib gs_btn_flat gs_btn_lrge gs_btn_half gs_btn_lsu gs_press gs_md_tb\" id=\"gs_res_ab_ad-b\" ontouchstart=\"gs_evt_dsp(event)\" type=\"button\"><span class=\"gs_wr\"><span class=\"gs_ico\"></span><span class=\"gs_lbl\"></span></span></button><div class=\"gs_md_d gs_md_ulr\" id=\"gs_res_ab_ad-d\" role=\"menu\" tabindex=\"-1\"><div class=\"gs_res_ab_dd_bdy\"><div class=\"gs_res_ab_dd_sec\"><a aria-checked=\"false\" class=\"gs_cb_gen gs_in_cb gs_md_li\" data-s=\"0\" href=\"/scholar?as_sdt=2007&amp;q=pattern+recognition+machine+learning&amp;hl=en\" role=\"menuitemcheckbox\" tabindex=\"-1\"><span class=\"gs_lbl\">include patents</span><span class=\"gs_chk\"></span><span class=\"gs_cbx\"></span></a><a aria-checked=\"true\" class=\"gs_cb_gen gs_in_cb gs_md_li gs_sel\" data-s=\"1\" href=\"/scholar?as_vis=1&amp;q=pattern+recognition+machine+learning&amp;hl=en&amp;as_sdt=0,5\" role=\"menuitemcheckbox\" tabindex=\"-1\"><span class=\"gs_lbl\">include citations</span><span class=\"gs_chk\"></span><span class=\"gs_cbx\"></span></a></div></div></div></div></div></div><div id=\"gs_bdy\"><div id=\"gs_bdy_sb\" role=\"navigation\"><div id=\"gs_bdy_sb_in\"><div class=\"gs_bdy_sb_sec\"><ul id=\"gs_res_sb_yyl\"><li class=\"gs_ind gs_bdy_sb_sel\"><a href=\"/scholar?q=pattern+recognition+machine+learning&amp;hl=en&amp;as_sdt=0,5\">Any time</a></li><li class=\"gs_ind\"><a href=\"/scholar?as_ylo=2021&amp;q=pattern+recognition+machine+learning&amp;hl=en&amp;as_sdt=0,5\">Since 2021</a></li><li class=\"gs_ind\"><a href=\"/scholar?as_ylo=2020&amp;q=pattern+recognition+machine+learning&amp;hl=en&amp;as_sdt=0,5\">Since 2020</a></li><li class=\"gs_ind\"><a href=\"/scholar?as_ylo=2017&amp;q=pattern+recognition+machine+learning&amp;hl=en&amp;as_sdt=0,5\">Since 2017</a></li><li class=\"gs_ind\"><a href=\"javascript:void(0)\" id=\"gs_res_sb_yyc\">Custom range...</a></li></ul><form action=\"/scholar\" class=\"gs_pad\" id=\"gs_res_sb_yyf\" style=\"display:none\"><input name=\"q\" type=\"hidden\" value=\"pattern recognition machine learning\"/><input name=\"hl\" type=\"hidden\" value=\"en\"/><input name=\"as_sdt\" type=\"hidden\" value=\"0,5\"/><div class=\"gs_res_sb_yyr\"><div class=\"gs_in_txtw gs_in_txtm\"><input autocapitalize=\"off\" class=\"gs_in_txt\" id=\"gs_as_ylo\" maxlength=\"4\" name=\"as_ylo\" pattern=\"[0-9]*\" size=\"4\" type=\"text\" value=\"\"/></div> — <div class=\"gs_in_txtw gs_in_txtm\"><input autocapitalize=\"off\" class=\"gs_in_txt\" maxlength=\"4\" name=\"as_yhi\" pattern=\"[0-9]*\" size=\"4\" type=\"text\" value=\"\"/></div></div><div class=\"gs_res_sb_yyr\"><button class=\" gs_btn_lsb\" type=\"submit\"><span class=\"gs_wr\"><span class=\"gs_lbl\">Search</span></span></button></div></form></div><ul class=\"gs_bdy_sb_sec\"><li class=\"gs_ind gs_bdy_sb_sel\"><a href=\"/scholar?hl=en&amp;as_sdt=0,5&amp;q=%22pattern+recognition%22++machine+learning\">Sort by relevance</a></li><li class=\"gs_ind\"><a href=\"/scholar?hl=en&amp;as_sdt=0,5&amp;q=%22pattern+recognition%22++machine+learning&amp;scisbd=1\">Sort by date</a></li></ul><ul class=\"gs_bdy_sb_sec\"><li class=\"gs_inw\"><a aria-checked=\"false\" class=\"gs_cb_gen gs_in_cb\" data-s=\"0\" href=\"/scholar?as_sdt=2007&amp;q=pattern+recognition+machine+learning&amp;hl=en\" role=\"checkbox\"><span class=\"gs_lbl\">include patents</span><span class=\"gs_chk\"></span><span class=\"gs_cbx\"></span></a></li><li class=\"gs_inw\"><a aria-checked=\"true\" class=\"gs_cb_gen gs_in_cb gs_sel\" data-s=\"1\" href=\"/scholar?as_vis=1&amp;q=pattern+recognition+machine+learning&amp;hl=en&amp;as_sdt=0,5\" role=\"checkbox\"><span class=\"gs_lbl\">include citations</span><span class=\"gs_chk\"></span><span class=\"gs_cbx\"></span></a></li></ul><div class=\"gs_bdy_sb_sec\"><a class=\"gs_btnM gs_in_ib\" href=\"/scholar_alerts?view_op=create_alert_options&amp;hl=en&amp;alert_query=intitle:%22pattern+recognition%22++machine+learning&amp;alert_params=%3Fhl%3Den%26as_sdt%3D0,5\" id=\"gs_bdy_sb_ca\"><span class=\"gs_ico\"></span><span class=\"gs_lbl\">Create alert</span></a></div></div></div><div id=\"gs_bdy_ccl\" role=\"main\"><div data-ahq=\"pattern recognition machine learning\" data-exp=\"\" data-gsb=\"\" data-lph=\"\" data-lpu=\"\" data-lsl=\"\" data-lsm='Saved to &lt;a href=\"/scholar?scilib=1&amp;amp;scioq=pattern+recognition+machine+learning&amp;amp;hl=en&amp;amp;as_sdt=0,5\"&gt;your library&lt;/a&gt;.' data-mlu=\"\" data-rfr=\"/scholar?q=related:{id}:scholar.google.com/&amp;output=rfrra&amp;scioq=pattern%2Brecognition%2Bmachine%2Blearning&amp;ei=7FFEYM6IAfSL6rQP5-6vsAw&amp;hl=en\" data-sva=\"/citations?hl=en&amp;xsrf=&amp;continue=/scholar%3Fq%3Dpattern%2Brecognition%2Bmachine%2Blearning%26hl%3Den%26as_sdt%3D0,5&amp;citilm=1&amp;json=&amp;update_op=library_add&amp;info={id}&amp;ei=7FFEYM6IAfSL6rQP5-6vsAw\" data-tra=\"/citations?hl=en&amp;xsrf=&amp;continue=/scholar%3Fq%3Dpattern%2Brecognition%2Bmachine%2Blearning%26hl%3Den%26as_sdt%3D0,5&amp;citilm=1&amp;json=&amp;update_op=trash_citations&amp;s={id}\" data-ttl=\"pattern recognition machine learning - Google Scholar\" data-via=\"/citations?view_op=view_citation&amp;continue=/scholar%3Fq%3Dpattern%2Brecognition%2Bmachine%2Blearning%26hl%3Den%26as_sdt%3D0,5&amp;citilm=1&amp;citation_for_view={id}&amp;hl=en&amp;oi=saved\" id=\"gs_res_glb\" style=\"display:none\"></div><div id=\"gs_res_ccl\"><div id=\"gs_res_ccl_top\"></div><div id=\"gs_res_ccl_mid\"> <div class=\"gs_r gs_or gs_scl\" data-cid=\"jYxggZ6Ag1YJ\" data-did=\"jYxggZ6Ag1YJ\" data-lid=\"\" data-rp=\"0\"><div class=\"gs_ggs gs_fl\"><div class=\"gs_ggsd\"><div class=\"gs_or_ggsm\" ontouchstart=\"gs_evt_dsp(event)\" tabindex=\"-1\"><a data-clk=\"hl=en&amp;sa=T&amp;oi=gga&amp;ct=gga&amp;cd=0&amp;d=6233967727474674829&amp;ei=7FFEYM6IAfSL6rQP5-6vsAw&amp;scisig=AAGBfm3lEbSX_p3t1yA4jiWQMvp2ZFt-rQ&amp;nossl=1\" data-clk-atid=\"jYxggZ6Ag1YJ\" href=\"https://cds.cern.ch/record/998831/files/9780387310732_TOC.pdf?source=post_page---------------------------\"><span class=\"gs_ctg2\">[PDF]</span> cern.ch</a></div></div></div><div class=\"gs_ri\"><h3 class=\"gs_rt\" ontouchstart=\"gs_evt_dsp(event)\"><span class=\"gs_ctc\"><span class=\"gs_ct1\">[BOOK]</span><span class=\"gs_ct2\">[B]</span></span> <a data-clk=\"hl=en&amp;sa=T&amp;ct=res&amp;cd=0&amp;d=6233967727474674829&amp;ei=7FFEYM6IAfSL6rQP5-6vsAw&amp;scisig=AAGBfm1eL3V4hVpFdQBvX90zz_k7hHinkA&amp;nossl=1\" data-clk-atid=\"jYxggZ6Ag1YJ\" href=\"https://cds.cern.ch/record/998831\" id=\"jYxggZ6Ag1YJ\"><b>Pattern recognition </b>and <b>machine learning</b></a></h3><div class=\"gs_a\"><a href=\"/citations?user=gsr-K3ADUvAC&amp;hl=en&amp;oi=sra\">CM Bishop</a> - 2006 - cds.cern.ch</div><div class=\"gs_rs\">This is the first textbook on <b>pattern recognition </b>to present the Bayesian viewpoint. The book <br/>presents approximate inference algorithms that permit fast approximate answers in <br/>situations where exact answers are not feasible. It uses graphical models to describe …</div><div class=\"gs_fl\"><a class=\"gs_or_sav\" href=\"javascript:void(0)\" role=\"button\" title=\"Save\"><svg class=\"gs_or_svg\" viewbox=\"-1 0 17 16\"><path d=\"M8 11.57l3.824 2.308-1.015-4.35 3.379-2.926-4.45-.378L8 2.122 6.261 6.224l-4.449.378 3.379 2.926-1.015 4.35z\"></path></svg></a> <a aria-controls=\"gs_cit\" aria-haspopup=\"true\" class=\"gs_or_cit gs_nph\" href=\"javascript:void(0)\" role=\"button\" title=\"Cite\"><svg class=\"gs_or_svg\" viewbox=\"-1 0 17 16\"><path d=\"M1.5 3.5v5h2v.375L1.75 12.5h3L6.5 8.875V3.5zM9.5 3.5v5h2v.375L9.75 12.5h3L14.5 8.875V3.5z\"></path></svg></a> <a href=\"/scholar?cites=6233967727474674829&amp;as_sdt=2005&amp;sciodt=0,5&amp;hl=en\">Cited by 49129</a> <a href=\"/scholar?q=related:jYxggZ6Ag1YJ:scholar.google.com/&amp;scioq=pattern+recognition+machine+learning&amp;hl=en&amp;as_sdt=0,5\">Related articles</a> <a class=\"gs_nph\" href=\"/scholar?cluster=6233967727474674829&amp;hl=en&amp;as_sdt=0,5\">All 21 versions</a> <a class=\"gs_or_mor\" href=\"javascript:void(0)\" role=\"button\" title=\"More\"><svg class=\"gs_or_svg\" viewbox=\"-1 0 17 16\"><path d=\"M1.5 5.5l2-2L8 8l-4.5 4.5-2-2L4 8zM8.5 5.5l2-2L15 8l-4.5 4.5-2-2L11 8z\"></path></svg></a> <a class=\"gs_or_nvi\" href=\"https://scholar.googleusercontent.com/scholar?q=cache:jYxggZ6Ag1YJ:scholar.google.com/+pattern+recognition+machine+learning&amp;hl=en&amp;as_sdt=0,5\">View as HTML</a> <a class=\"gs_or_nvi gs_or_mor\" href=\"javascript:void(0)\" role=\"button\" title=\"Fewer\"><svg class=\"gs_or_svg\" viewbox=\"0 0 17 16\"><path d=\"M8.5 5.5l-2-2L2 8l4.5 4.5 2-2L6 8zM15.5 5.5l-2-2L9 8l4.5 4.5 2-2L13 8z\"></path></svg></a></div></div></div> <div class=\"gs_r gs_or gs_scl\" data-cid=\"-GrOOv8LN64J\" data-did=\"-GrOOv8LN64J\" data-lid=\"\" data-rp=\"1\"><div class=\"gs_ri\"><h3 class=\"gs_rt\" ontouchstart=\"gs_evt_dsp(event)\"><span class=\"gs_ctc\"><span class=\"gs_ct1\">[BOOK]</span><span class=\"gs_ct2\">[B]</span></span> <a data-clk=\"hl=en&amp;sa=T&amp;ct=res&amp;cd=1&amp;d=12553515677149719288&amp;ei=7FFEYM6IAfSL6rQP5-6vsAw&amp;scisig=AAGBfm0toUFlGq5ORMZYkLp8u1VDj7I_rA&amp;nossl=1\" data-clk-atid=\"-GrOOv8LN64J\" href=\"https://books.google.com/books?hl=en&amp;lr=&amp;id=3RxQmtJnH5YC&amp;oi=fnd&amp;pg=PP1&amp;dq=pattern+recognition+machine+learning&amp;ots=MBbwhdyu2P&amp;sig=mY836KX2uvoapl1XPrVjOxdD8h0\" id=\"-GrOOv8LN64J\"><b>Pattern recognition </b>and <b>machine learning</b></a></h3><div class=\"gs_a\">Y Anzai - 2012 - books.google.com</div><div class=\"gs_rs\">This is the first text to provide a unified and self-contained introduction to visual <b>pattern </b><br/><b>recognition </b>and <b>machine learning</b>. It is useful as a general introduction to artifical <br/>intelligence and knowledge engineering, and no previous knowledge of <b>pattern recognition </b> …</div><div class=\"gs_fl\"><a class=\"gs_or_sav\" href=\"javascript:void(0)\" role=\"button\" title=\"Save\"><svg class=\"gs_or_svg\" viewbox=\"-1 0 17 16\"><path d=\"M8 11.57l3.824 2.308-1.015-4.35 3.379-2.926-4.45-.378L8 2.122 6.261 6.224l-4.449.378 3.379 2.926-1.015 4.35z\"></path></svg></a> <a aria-controls=\"gs_cit\" aria-haspopup=\"true\" class=\"gs_or_cit gs_nph\" href=\"javascript:void(0)\" role=\"button\" title=\"Cite\"><svg class=\"gs_or_svg\" viewbox=\"-1 0 17 16\"><path d=\"M1.5 3.5v5h2v.375L1.75 12.5h3L6.5 8.875V3.5zM9.5 3.5v5h2v.375L9.75 12.5h3L14.5 8.875V3.5z\"></path></svg></a> <a href=\"/scholar?cites=12553515677149719288&amp;as_sdt=2005&amp;sciodt=0,5&amp;hl=en\">Cited by 268</a> <a href=\"/scholar?q=related:-GrOOv8LN64J:scholar.google.com/&amp;scioq=pattern+recognition+machine+learning&amp;hl=en&amp;as_sdt=0,5\">Related articles</a> <a class=\"gs_nph\" href=\"/scholar?cluster=12553515677149719288&amp;hl=en&amp;as_sdt=0,5\">All 5 versions</a> <a class=\"gs_or_mor gs_oph\" href=\"javascript:void(0)\" role=\"button\" title=\"More\"><svg class=\"gs_or_svg\" viewbox=\"-1 0 17 16\"><path d=\"M1.5 5.5l2-2L8 8l-4.5 4.5-2-2L4 8zM8.5 5.5l2-2L15 8l-4.5 4.5-2-2L11 8z\"></path></svg></a> <a class=\"gs_or_nvi gs_or_mor\" href=\"javascript:void(0)\" role=\"button\" title=\"Fewer\"><svg class=\"gs_or_svg\" viewbox=\"0 0 17 16\"><path d=\"M8.5 5.5l-2-2L2 8l4.5 4.5 2-2L6 8zM15.5 5.5l-2-2L9 8l4.5 4.5 2-2L13 8z\"></path></svg></a></div></div></div> <div class=\"gs_r gs_or gs_scl\" data-cid=\"It2NsLjpn-4J\" data-did=\"It2NsLjpn-4J\" data-lid=\"\" data-rp=\"2\"><div class=\"gs_ri\"><h3 class=\"gs_rt\" ontouchstart=\"gs_evt_dsp(event)\"><span class=\"gs_ctc\"><span class=\"gs_ct1\">[BOOK]</span><span class=\"gs_ct2\">[B]</span></span> <a data-clk=\"hl=en&amp;sa=T&amp;ct=res&amp;cd=2&amp;d=17194718881769184546&amp;ei=7FFEYM6IAfSL6rQP5-6vsAw&amp;scisig=AAGBfm2f_izHY3hr1M7WTaPCBph6bEUAEw&amp;nossl=1\" data-clk-atid=\"It2NsLjpn-4J\" href=\"https://books.google.com/books?hl=en&amp;lr=&amp;id=TrFoHng-H8MC&amp;oi=fnd&amp;pg=PP1&amp;dq=pattern+recognition+machine+learning&amp;ots=ZiuR6UsS4J&amp;sig=MjVa06BSonX6XaHZtxL5njyU8bM\" id=\"It2NsLjpn-4J\">Sequential methods in <b>pattern recognition </b>and <b>machine learning</b></a></h3><div class=\"gs_a\">KC Fu - 1968 - books.google.com</div><div class=\"gs_rs\">During the past decade there has been a considerable growth of interest in problems of <br/><b>pattern recognition </b>and <b>machine learning</b>. This interest has created an increasing need for <br/>methods and techniques for the design of <b>pattern recognition </b>and <b>learning </b>systems. Many …</div><div class=\"gs_fl\"><a class=\"gs_or_sav\" href=\"javascript:void(0)\" role=\"button\" title=\"Save\"><svg class=\"gs_or_svg\" viewbox=\"-1 0 17 16\"><path d=\"M8 11.57l3.824 2.308-1.015-4.35 3.379-2.926-4.45-.378L8 2.122 6.261 6.224l-4.449.378 3.379 2.926-1.015 4.35z\"></path></svg></a> <a aria-controls=\"gs_cit\" aria-haspopup=\"true\" class=\"gs_or_cit gs_nph\" href=\"javascript:void(0)\" role=\"button\" title=\"Cite\"><svg class=\"gs_or_svg\" viewbox=\"-1 0 17 16\"><path d=\"M1.5 3.5v5h2v.375L1.75 12.5h3L6.5 8.875V3.5zM9.5 3.5v5h2v.375L9.75 12.5h3L14.5 8.875V3.5z\"></path></svg></a> <a href=\"/scholar?cites=17194718881769184546&amp;as_sdt=2005&amp;sciodt=0,5&amp;hl=en\">Cited by 658</a> <a href=\"/scholar?q=related:It2NsLjpn-4J:scholar.google.com/&amp;scioq=pattern+recognition+machine+learning&amp;hl=en&amp;as_sdt=0,5\">Related articles</a> <a class=\"gs_nph\" href=\"/scholar?cluster=17194718881769184546&amp;hl=en&amp;as_sdt=0,5\">All 4 versions</a> <a class=\"gs_or_mor gs_oph\" href=\"javascript:void(0)\" role=\"button\" title=\"More\"><svg class=\"gs_or_svg\" viewbox=\"-1 0 17 16\"><path d=\"M1.5 5.5l2-2L8 8l-4.5 4.5-2-2L4 8zM8.5 5.5l2-2L15 8l-4.5 4.5-2-2L11 8z\"></path></svg></a> <a class=\"gs_or_nvi gs_or_mor\" href=\"javascript:void(0)\" role=\"button\" title=\"Fewer\"><svg class=\"gs_or_svg\" viewbox=\"0 0 17 16\"><path d=\"M8.5 5.5l-2-2L2 8l4.5 4.5 2-2L6 8zM15.5 5.5l-2-2L9 8l4.5 4.5 2-2L13 8z\"></path></svg></a></div></div></div> <div class=\"gs_r gs_or gs_scl\" data-cid=\"IaNuFrvXqnEJ\" data-did=\"IaNuFrvXqnEJ\" data-lid=\"\" data-rp=\"3\"><div class=\"gs_ggs gs_fl\"><div class=\"gs_ggsd\"><div class=\"gs_or_ggsm\" ontouchstart=\"gs_evt_dsp(event)\" tabindex=\"-1\"><a data-clk=\"hl=en&amp;sa=T&amp;oi=gga&amp;ct=gga&amp;cd=3&amp;d=8190596070861873953&amp;ei=7FFEYM6IAfSL6rQP5-6vsAw&amp;scisig=AAGBfm1FjbopxtSEgpAo9qOnzvPxkhiy2Q&amp;nossl=1\" data-clk-atid=\"IaNuFrvXqnEJ\" href=\"https://citeseerx.ist.psu.edu/viewdoc/download?doi=10.1.1.81.9576&amp;rep=rep1&amp;type=pdf\"><span class=\"gs_ctg2\">[PDF]</span> psu.edu</a></div></div></div><div class=\"gs_ri\"><h3 class=\"gs_rt\" ontouchstart=\"gs_evt_dsp(event)\"><span class=\"gs_ctc\"><span class=\"gs_ct1\">[PDF]</span><span class=\"gs_ct2\">[PDF]</span></span> <a data-clk=\"hl=en&amp;sa=T&amp;oi=ggp&amp;ct=res&amp;cd=3&amp;d=8190596070861873953&amp;ei=7FFEYM6IAfSL6rQP5-6vsAw&amp;scisig=AAGBfm1FjbopxtSEgpAo9qOnzvPxkhiy2Q&amp;nossl=1\" data-clk-atid=\"IaNuFrvXqnEJ\" href=\"https://citeseerx.ist.psu.edu/viewdoc/download?doi=10.1.1.81.9576&amp;rep=rep1&amp;type=pdf\" id=\"IaNuFrvXqnEJ\">An empirical comparison of <b>pattern recognition</b>, neural nets, and <b>machine learning </b>classification methods.</a></h3><div class=\"gs_a\">SM Weiss, I Kapouleas - IJCAI, 1989 - Citeseer</div><div class=\"gs_rs\">Classification methods from statistical <b>pattern recognition</b>, neural nets, and <b>machine learning </b><br/>were applied to four real-world data sets. Each of these data sets has been previously <br/>analyzed and reported in the statistical, medical, or <b>machine learning </b>literature. The data …</div><div class=\"gs_fl\"><a class=\"gs_or_sav\" href=\"javascript:void(0)\" role=\"button\" title=\"Save\"><svg class=\"gs_or_svg\" viewbox=\"-1 0 17 16\"><path d=\"M8 11.57l3.824 2.308-1.015-4.35 3.379-2.926-4.45-.378L8 2.122 6.261 6.224l-4.449.378 3.379 2.926-1.015 4.35z\"></path></svg></a> <a aria-controls=\"gs_cit\" aria-haspopup=\"true\" class=\"gs_or_cit gs_nph\" href=\"javascript:void(0)\" role=\"button\" title=\"Cite\"><svg class=\"gs_or_svg\" viewbox=\"-1 0 17 16\"><path d=\"M1.5 3.5v5h2v.375L1.75 12.5h3L6.5 8.875V3.5zM9.5 3.5v5h2v.375L9.75 12.5h3L14.5 8.875V3.5z\"></path></svg></a> <a href=\"/scholar?cites=8190596070861873953&amp;as_sdt=2005&amp;sciodt=0,5&amp;hl=en\">Cited by 618</a> <a href=\"/scholar?q=related:IaNuFrvXqnEJ:scholar.google.com/&amp;scioq=pattern+recognition+machine+learning&amp;hl=en&amp;as_sdt=0,5\">Related articles</a> <a class=\"gs_nph\" href=\"/scholar?cluster=8190596070861873953&amp;hl=en&amp;as_sdt=0,5\">All 10 versions</a> <a class=\"gs_or_mor\" href=\"javascript:void(0)\" role=\"button\" title=\"More\"><svg class=\"gs_or_svg\" viewbox=\"-1 0 17 16\"><path d=\"M1.5 5.5l2-2L8 8l-4.5 4.5-2-2L4 8zM8.5 5.5l2-2L15 8l-4.5 4.5-2-2L11 8z\"></path></svg></a> <a class=\"gs_or_nvi\" href=\"https://scholar.googleusercontent.com/scholar?q=cache:IaNuFrvXqnEJ:scholar.google.com/+pattern+recognition+machine+learning&amp;hl=en&amp;as_sdt=0,5\">View as HTML</a> <a class=\"gs_or_nvi gs_or_mor\" href=\"javascript:void(0)\" role=\"button\" title=\"Fewer\"><svg class=\"gs_or_svg\" viewbox=\"0 0 17 16\"><path d=\"M8.5 5.5l-2-2L2 8l4.5 4.5 2-2L6 8zM15.5 5.5l-2-2L9 8l4.5 4.5 2-2L13 8z\"></path></svg></a></div></div></div> <div class=\"gs_r gs_or gs_scl\" data-cid=\"nZLfjWVWeOcJ\" data-did=\"nZLfjWVWeOcJ\" data-lid=\"\" data-rp=\"4\"><div class=\"gs_ggs gs_fl\"><div class=\"gs_ggsd\"><div class=\"gs_or_ggsm\" ontouchstart=\"gs_evt_dsp(event)\" tabindex=\"-1\"><a data-clk=\"hl=en&amp;sa=T&amp;oi=gga&amp;ct=gga&amp;cd=4&amp;d=16679176214138557085&amp;ei=7FFEYM6IAfSL6rQP5-6vsAw&amp;scisig=AAGBfm31OkYKaoNsnbdkcEcbwG6XofgpWg&amp;nossl=1\" data-clk-atid=\"nZLfjWVWeOcJ\" href=\"https://link.springer.com/content/pdf/10.1007/978-3-540-89689-0_33.pdf\"><span class=\"gs_ctg2\">[PDF]</span> springer.com</a></div></div></div><div class=\"gs_ri\"><h3 class=\"gs_rt\" ontouchstart=\"gs_evt_dsp(event)\"><a data-clk=\"hl=en&amp;sa=T&amp;ct=res&amp;cd=4&amp;d=16679176214138557085&amp;ei=7FFEYM6IAfSL6rQP5-6vsAw&amp;scisig=AAGBfm1H-TBTEEehj8-BxqAu7OgIa4tHjA&amp;nossl=1\" data-clk-atid=\"nZLfjWVWeOcJ\" href=\"https://link.springer.com/chapter/10.1007/978-3-540-89689-0_33\" id=\"nZLfjWVWeOcJ\">IAM graph database repository for graph based <b>pattern recognition </b>and <b>machine learning</b></a></h3><div class=\"gs_a\"><a href=\"/citations?user=7jAfLSkAAAAJ&amp;hl=en&amp;oi=sra\">K Riesen</a>, <a href=\"/citations?user=Lksqw0EAAAAJ&amp;hl=en&amp;oi=sra\">H Bunke</a> - … on Statistical Techniques in <b>Pattern Recognition </b> …, 2008 - Springer</div><div class=\"gs_rs\">In recent years the use of graph based representation has gained popularity in <b>pattern </b><br/><b>recognition </b>and <b>machine learning</b>. As a matter of fact, object representation by means of <br/>graphs has a number of advantages over feature vectors. Therefore, various algorithms for …</div><div class=\"gs_fl\"><a class=\"gs_or_sav\" href=\"javascript:void(0)\" role=\"button\" title=\"Save\"><svg class=\"gs_or_svg\" viewbox=\"-1 0 17 16\"><path d=\"M8 11.57l3.824 2.308-1.015-4.35 3.379-2.926-4.45-.378L8 2.122 6.261 6.224l-4.449.378 3.379 2.926-1.015 4.35z\"></path></svg></a> <a aria-controls=\"gs_cit\" aria-haspopup=\"true\" class=\"gs_or_cit gs_nph\" href=\"javascript:void(0)\" role=\"button\" title=\"Cite\"><svg class=\"gs_or_svg\" viewbox=\"-1 0 17 16\"><path d=\"M1.5 3.5v5h2v.375L1.75 12.5h3L6.5 8.875V3.5zM9.5 3.5v5h2v.375L9.75 12.5h3L14.5 8.875V3.5z\"></path></svg></a> <a href=\"/scholar?cites=16679176214138557085&amp;as_sdt=2005&amp;sciodt=0,5&amp;hl=en\">Cited by 396</a> <a href=\"/scholar?q=related:nZLfjWVWeOcJ:scholar.google.com/&amp;scioq=pattern+recognition+machine+learning&amp;hl=en&amp;as_sdt=0,5\">Related articles</a> <a class=\"gs_nph\" href=\"/scholar?cluster=16679176214138557085&amp;hl=en&amp;as_sdt=0,5\">All 8 versions</a> <a class=\"gs_or_mor gs_oph\" href=\"javascript:void(0)\" role=\"button\" title=\"More\"><svg class=\"gs_or_svg\" viewbox=\"-1 0 17 16\"><path d=\"M1.5 5.5l2-2L8 8l-4.5 4.5-2-2L4 8zM8.5 5.5l2-2L15 8l-4.5 4.5-2-2L11 8z\"></path></svg></a> <a class=\"gs_or_nvi gs_or_mor\" href=\"javascript:void(0)\" role=\"button\" title=\"Fewer\"><svg class=\"gs_or_svg\" viewbox=\"0 0 17 16\"><path d=\"M8.5 5.5l-2-2L2 8l4.5 4.5 2-2L6 8zM15.5 5.5l-2-2L9 8l4.5 4.5 2-2L13 8z\"></path></svg></a></div></div></div> <div class=\"gs_r gs_or gs_scl\" data-cid=\"fSJP_L_iDcEJ\" data-did=\"fSJP_L_iDcEJ\" data-lid=\"\" data-rp=\"5\"><div class=\"gs_ggs gs_fl\"><div class=\"gs_ggsd\"><div class=\"gs_or_ggsm\" ontouchstart=\"gs_evt_dsp(event)\" tabindex=\"-1\"><a data-clk=\"hl=en&amp;sa=T&amp;oi=gga&amp;ct=gga&amp;cd=5&amp;d=13911024138217005693&amp;ei=7FFEYM6IAfSL6rQP5-6vsAw&amp;scisig=AAGBfm3YVzHJB62do83hxUhxAcEhLW6nbw&amp;nossl=1\" data-clk-atid=\"fSJP_L_iDcEJ\" href=\"https://www.academia.edu/download/50945366/s0734-189x_2887_2980014-220161217-29007-b2dl45.pdf\"><span class=\"gs_ctg2\">[PDF]</span> academia.edu</a></div></div></div><div class=\"gs_ri\"><h3 class=\"gs_rt\" ontouchstart=\"gs_evt_dsp(event)\"><a data-clk=\"hl=en&amp;sa=T&amp;ct=res&amp;cd=5&amp;d=13911024138217005693&amp;ei=7FFEYM6IAfSL6rQP5-6vsAw&amp;scisig=AAGBfm3rfKE9Nx9plsJaSMhoD8639V1pZA&amp;nossl=1\" data-clk-atid=\"fSJP_L_iDcEJ\" href=\"https://www.sciencedirect.com/science/article/pii/S0734189X87800142\" id=\"fSJP_L_iDcEJ\">A massively parallel architecture for a self-organizing neural <b>pattern recognition machine</b></a></h3><div class=\"gs_a\"><a href=\"/citations?user=DBsQtuAAAAAJ&amp;hl=en&amp;oi=sra\">GA Carpenter</a>, <a href=\"/citations?user=3BIV70wAAAAJ&amp;hl=en&amp;oi=sra\">S Grossberg</a> - Computer vision, graphics, and image …, 1987 - Elsevier</div><div class=\"gs_rs\">COMPUTER VISION, GRAPHICS, AND IMAGE PROCESSING 37, 54-115 (1987) A Massively<br/>\n",
            "Parallel Architecture for a Self-Organizing Neural <b>Pattern</b> <b>Recognition</b> <b>Machine</b> … ADAPTIVE<br/>\n",
            "<b>PATTERN</b> <b>RECOGNITION</b> 57 or linear predictability constraints upon its input <b>patterns</b> … \n",
            "</div><div class=\"gs_fl\"><a class=\"gs_or_sav\" href=\"javascript:void(0)\" role=\"button\" title=\"Save\"><svg class=\"gs_or_svg\" viewbox=\"-1 0 17 16\"><path d=\"M8 11.57l3.824 2.308-1.015-4.35 3.379-2.926-4.45-.378L8 2.122 6.261 6.224l-4.449.378 3.379 2.926-1.015 4.35z\"></path></svg></a> <a aria-controls=\"gs_cit\" aria-haspopup=\"true\" class=\"gs_or_cit gs_nph\" href=\"javascript:void(0)\" role=\"button\" title=\"Cite\"><svg class=\"gs_or_svg\" viewbox=\"-1 0 17 16\"><path d=\"M1.5 3.5v5h2v.375L1.75 12.5h3L6.5 8.875V3.5zM9.5 3.5v5h2v.375L9.75 12.5h3L14.5 8.875V3.5z\"></path></svg></a> <a href=\"/scholar?cites=13911024138217005693&amp;as_sdt=2005&amp;sciodt=0,5&amp;hl=en\">Cited by 3761</a> <a href=\"/scholar?q=related:fSJP_L_iDcEJ:scholar.google.com/&amp;scioq=pattern+recognition+machine+learning&amp;hl=en&amp;as_sdt=0,5\">Related articles</a> <a class=\"gs_nph\" href=\"/scholar?cluster=13911024138217005693&amp;hl=en&amp;as_sdt=0,5\">All 8 versions</a> <a class=\"gs_or_mor gs_oph\" href=\"javascript:void(0)\" role=\"button\" title=\"More\"><svg class=\"gs_or_svg\" viewbox=\"-1 0 17 16\"><path d=\"M1.5 5.5l2-2L8 8l-4.5 4.5-2-2L4 8zM8.5 5.5l2-2L15 8l-4.5 4.5-2-2L11 8z\"></path></svg></a> <a class=\"gs_or_nvi gs_or_mor\" href=\"javascript:void(0)\" role=\"button\" title=\"Fewer\"><svg class=\"gs_or_svg\" viewbox=\"0 0 17 16\"><path d=\"M8.5 5.5l-2-2L2 8l4.5 4.5 2-2L6 8zM15.5 5.5l-2-2L9 8l4.5 4.5 2-2L13 8z\"></path></svg></a></div></div></div> <div class=\"gs_r gs_or gs_scl\" data-cid=\"CfAGs03ywrIJ\" data-did=\"CfAGs03ywrIJ\" data-lid=\"\" data-rp=\"6\"><div class=\"gs_ri\"><h3 class=\"gs_rt\" ontouchstart=\"gs_evt_dsp(event)\"><span class=\"gs_ctc\"><span class=\"gs_ct1\">[BOOK]</span><span class=\"gs_ct2\">[B]</span></span> <a data-clk=\"hl=en&amp;sa=T&amp;ct=res&amp;cd=6&amp;d=12881124299763019785&amp;ei=7FFEYM6IAfSL6rQP5-6vsAw&amp;scisig=AAGBfm09JkM-XTXUkzagP1289TRF73ToEQ&amp;nossl=1\" data-clk-atid=\"CfAGs03ywrIJ\" href=\"https://link.springer.com/content/pdf/10.1007/978-3-642-37846-1.pdf\" id=\"CfAGs03ywrIJ\">Multidimensional particle swarm optimization for <b>machine learning </b>and <b>pattern recognition</b></a></h3><div class=\"gs_a\"><a href=\"/citations?user=gXlFuY0AAAAJ&amp;hl=en&amp;oi=sra\">S Kiranyaz</a>, <a href=\"/citations?user=nkEUFcoAAAAJ&amp;hl=en&amp;oi=sra\">T Ince</a>, <a href=\"/citations?user=cHukfSUAAAAJ&amp;hl=en&amp;oi=sra\">M Gabbouj</a> - 2014 - Springer</div><div class=\"gs_rs\">The definition of success—To laugh much; to win respect of intelligent persons and the <br/>affections of children; to earn the approbation of honest critics and endure the betrayal of <br/>false friends; to appreciate beauty; to find the best in others; to give one's self; to leave the …</div><div class=\"gs_fl\"><a class=\"gs_or_sav\" href=\"javascript:void(0)\" role=\"button\" title=\"Save\"><svg class=\"gs_or_svg\" viewbox=\"-1 0 17 16\"><path d=\"M8 11.57l3.824 2.308-1.015-4.35 3.379-2.926-4.45-.378L8 2.122 6.261 6.224l-4.449.378 3.379 2.926-1.015 4.35z\"></path></svg></a> <a aria-controls=\"gs_cit\" aria-haspopup=\"true\" class=\"gs_or_cit gs_nph\" href=\"javascript:void(0)\" role=\"button\" title=\"Cite\"><svg class=\"gs_or_svg\" viewbox=\"-1 0 17 16\"><path d=\"M1.5 3.5v5h2v.375L1.75 12.5h3L6.5 8.875V3.5zM9.5 3.5v5h2v.375L9.75 12.5h3L14.5 8.875V3.5z\"></path></svg></a> <a href=\"/scholar?cites=12881124299763019785&amp;as_sdt=2005&amp;sciodt=0,5&amp;hl=en\">Cited by 130</a> <a href=\"/scholar?q=related:CfAGs03ywrIJ:scholar.google.com/&amp;scioq=pattern+recognition+machine+learning&amp;hl=en&amp;as_sdt=0,5\">Related articles</a> <a class=\"gs_nph\" href=\"/scholar?cluster=12881124299763019785&amp;hl=en&amp;as_sdt=0,5\">All 6 versions</a> <a class=\"gs_or_mor gs_oph\" href=\"javascript:void(0)\" role=\"button\" title=\"More\"><svg class=\"gs_or_svg\" viewbox=\"-1 0 17 16\"><path d=\"M1.5 5.5l2-2L8 8l-4.5 4.5-2-2L4 8zM8.5 5.5l2-2L15 8l-4.5 4.5-2-2L11 8z\"></path></svg></a> <a class=\"gs_or_nvi gs_or_mor\" href=\"javascript:void(0)\" role=\"button\" title=\"Fewer\"><svg class=\"gs_or_svg\" viewbox=\"0 0 17 16\"><path d=\"M8.5 5.5l-2-2L2 8l4.5 4.5 2-2L6 8zM15.5 5.5l-2-2L9 8l4.5 4.5 2-2L13 8z\"></path></svg></a></div></div></div> <div class=\"gs_r gs_or gs_scl\" data-cid=\"sTyb0zvvHwEJ\" data-did=\"sTyb0zvvHwEJ\" data-lid=\"\" data-rp=\"7\"><div class=\"gs_ri\"><h3 class=\"gs_rt\" ontouchstart=\"gs_evt_dsp(event)\"><span class=\"gs_ctc\"><span class=\"gs_ct1\">[BOOK]</span><span class=\"gs_ct2\">[B]</span></span> <a data-clk=\"hl=en&amp;sa=T&amp;ct=res&amp;cd=7&amp;d=81046358548233393&amp;ei=7FFEYM6IAfSL6rQP5-6vsAw&amp;scisig=AAGBfm0fDnEStKjQ6T2LKhFqAeXKWl9Q6w&amp;nossl=1\" data-clk-atid=\"sTyb0zvvHwEJ\" href=\"https://books.google.com/books?hl=en&amp;lr=&amp;id=DzDUO5nhiOQC&amp;oi=fnd&amp;pg=PR11&amp;dq=pattern+recognition+machine+learning&amp;ots=6NNZcxUghM&amp;sig=dK57KmTwH9bTyPhzFruiKKn_uaM\" id=\"sTyb0zvvHwEJ\">Genetic algorithms for <b>pattern recognition</b></a></h3><div class=\"gs_a\"><a href=\"/citations?user=HErC5agAAAAJ&amp;hl=en&amp;oi=sra\">SK Pal</a>, PP Wang - 1996 - books.google.com</div><div class=\"gs_rs\">… <b>Pattern</b> <b>recognition</b> is a must component of the so-called “Intelligent Control Systems” which<br/>\n",
            "involve processing and fusion of data from different sen- sors and transducers … <b>Machine</b> <b>recognition</b><br/>\n",
            "of <b>patterns</b> can be viewed as a twofold task, consisting of <b>learning</b> the invariant … \n",
            "</div><div class=\"gs_fl\"><a class=\"gs_or_sav\" href=\"javascript:void(0)\" role=\"button\" title=\"Save\"><svg class=\"gs_or_svg\" viewbox=\"-1 0 17 16\"><path d=\"M8 11.57l3.824 2.308-1.015-4.35 3.379-2.926-4.45-.378L8 2.122 6.261 6.224l-4.449.378 3.379 2.926-1.015 4.35z\"></path></svg></a> <a aria-controls=\"gs_cit\" aria-haspopup=\"true\" class=\"gs_or_cit gs_nph\" href=\"javascript:void(0)\" role=\"button\" title=\"Cite\"><svg class=\"gs_or_svg\" viewbox=\"-1 0 17 16\"><path d=\"M1.5 3.5v5h2v.375L1.75 12.5h3L6.5 8.875V3.5zM9.5 3.5v5h2v.375L9.75 12.5h3L14.5 8.875V3.5z\"></path></svg></a> <a href=\"/scholar?cites=81046358548233393&amp;as_sdt=2005&amp;sciodt=0,5&amp;hl=en\">Cited by 341</a> <a href=\"/scholar?q=related:sTyb0zvvHwEJ:scholar.google.com/&amp;scioq=pattern+recognition+machine+learning&amp;hl=en&amp;as_sdt=0,5\">Related articles</a> <a class=\"gs_nph\" href=\"/scholar?cluster=81046358548233393&amp;hl=en&amp;as_sdt=0,5\">All 4 versions</a> <a class=\"gs_or_mor gs_oph\" href=\"javascript:void(0)\" role=\"button\" title=\"More\"><svg class=\"gs_or_svg\" viewbox=\"-1 0 17 16\"><path d=\"M1.5 5.5l2-2L8 8l-4.5 4.5-2-2L4 8zM8.5 5.5l2-2L15 8l-4.5 4.5-2-2L11 8z\"></path></svg></a> <a class=\"gs_or_nvi gs_or_mor\" href=\"javascript:void(0)\" role=\"button\" title=\"Fewer\"><svg class=\"gs_or_svg\" viewbox=\"0 0 17 16\"><path d=\"M8.5 5.5l-2-2L2 8l4.5 4.5 2-2L6 8zM15.5 5.5l-2-2L9 8l4.5 4.5 2-2L13 8z\"></path></svg></a></div></div></div> <div class=\"gs_r gs_or gs_scl\" data-cid=\"akC466lf5cUJ\" data-did=\"akC466lf5cUJ\" data-lid=\"\" data-rp=\"8\"><div class=\"gs_ggs gs_fl\"><div class=\"gs_ggsd\"><div class=\"gs_or_ggsm\" ontouchstart=\"gs_evt_dsp(event)\" tabindex=\"-1\"><a data-clk=\"hl=en&amp;sa=T&amp;oi=gga&amp;ct=gga&amp;cd=8&amp;d=14259908978547376234&amp;ei=7FFEYM6IAfSL6rQP5-6vsAw&amp;scisig=AAGBfm2mbxomBkq-tyk2MhgoEoLVZpAFEA&amp;nossl=1\" data-clk-atid=\"akC466lf5cUJ\" href=\"https://www.mdpi.com/2072-4292/6/4/2912/pdf\"><span class=\"gs_ctg2\">[PDF]</span> mdpi.com</a></div></div></div><div class=\"gs_ri\"><h3 class=\"gs_rt\" ontouchstart=\"gs_evt_dsp(event)\"><a data-clk=\"hl=en&amp;sa=T&amp;ct=res&amp;cd=8&amp;d=14259908978547376234&amp;ei=7FFEYM6IAfSL6rQP5-6vsAw&amp;scisig=AAGBfm024wZBJ7wFBBgtcvyA-8OZsgqi7Q&amp;nossl=1\" data-clk-atid=\"akC466lf5cUJ\" href=\"https://www.mdpi.com/2072-4292/6/4/2912\" id=\"akC466lf5cUJ\">Performance evaluation of <b>machine learning </b>algorithms for urban <b>pattern recognition </b>from multi-spectral satellite images</a></h3><div class=\"gs_a\">M Wieland, <a href=\"/citations?user=rZd1FNwAAAAJ&amp;hl=en&amp;oi=sra\">M Pittore</a> - Remote Sensing, 2014 - mdpi.com</div><div class=\"gs_rs\">In this study, a classification and performance evaluation framework for the <b>recognition </b>of <br/>urban <b>patterns </b>in medium (Landsat ETM, TM and MSS) and very high resolution (WorldView-<br/>2, Quickbird, Ikonos) multi-spectral satellite images is presented. The study aims at exploring …</div><div class=\"gs_fl\"><a class=\"gs_or_sav\" href=\"javascript:void(0)\" role=\"button\" title=\"Save\"><svg class=\"gs_or_svg\" viewbox=\"-1 0 17 16\"><path d=\"M8 11.57l3.824 2.308-1.015-4.35 3.379-2.926-4.45-.378L8 2.122 6.261 6.224l-4.449.378 3.379 2.926-1.015 4.35z\"></path></svg></a> <a aria-controls=\"gs_cit\" aria-haspopup=\"true\" class=\"gs_or_cit gs_nph\" href=\"javascript:void(0)\" role=\"button\" title=\"Cite\"><svg class=\"gs_or_svg\" viewbox=\"-1 0 17 16\"><path d=\"M1.5 3.5v5h2v.375L1.75 12.5h3L6.5 8.875V3.5zM9.5 3.5v5h2v.375L9.75 12.5h3L14.5 8.875V3.5z\"></path></svg></a> <a href=\"/scholar?cites=14259908978547376234&amp;as_sdt=2005&amp;sciodt=0,5&amp;hl=en\">Cited by 91</a> <a href=\"/scholar?q=related:akC466lf5cUJ:scholar.google.com/&amp;scioq=pattern+recognition+machine+learning&amp;hl=en&amp;as_sdt=0,5\">Related articles</a> <a class=\"gs_nph\" href=\"/scholar?cluster=14259908978547376234&amp;hl=en&amp;as_sdt=0,5\">All 12 versions</a> <a class=\"gs_or_mor\" href=\"javascript:void(0)\" role=\"button\" title=\"More\"><svg class=\"gs_or_svg\" viewbox=\"-1 0 17 16\"><path d=\"M1.5 5.5l2-2L8 8l-4.5 4.5-2-2L4 8zM8.5 5.5l2-2L15 8l-4.5 4.5-2-2L11 8z\"></path></svg></a> <a class=\"gs_or_nvi\" href=\"https://scholar.googleusercontent.com/scholar?q=cache:akC466lf5cUJ:scholar.google.com/+pattern+recognition+machine+learning&amp;hl=en&amp;as_sdt=0,5\">Cached</a> <a class=\"gs_or_nvi gs_or_mor\" href=\"javascript:void(0)\" role=\"button\" title=\"Fewer\"><svg class=\"gs_or_svg\" viewbox=\"0 0 17 16\"><path d=\"M8.5 5.5l-2-2L2 8l4.5 4.5 2-2L6 8zM15.5 5.5l-2-2L9 8l4.5 4.5 2-2L13 8z\"></path></svg></a></div></div></div> <div class=\"gs_r gs_or gs_scl\" data-cid=\"0nyGFoiNDiIJ\" data-did=\"0nyGFoiNDiIJ\" data-lid=\"\" data-rp=\"9\"><div class=\"gs_ggs gs_fl\"><div class=\"gs_ggsd\"><div class=\"gs_or_ggsm\" ontouchstart=\"gs_evt_dsp(event)\" tabindex=\"-1\"><a data-clk=\"hl=en&amp;sa=T&amp;oi=gga&amp;ct=gga&amp;cd=9&amp;d=2454054462596480210&amp;ei=7FFEYM6IAfSL6rQP5-6vsAw&amp;scisig=AAGBfm3UGqEuxMwB-iH1UjmJ16hq7AgFKw&amp;nossl=1\" data-clk-atid=\"0nyGFoiNDiIJ\" href=\"http://ebot.gmu.edu/bitstream/handle/1920/1569/83-02.pdf?sequence=1&amp;isAllowed=y\"><span class=\"gs_ctg2\">[PDF]</span> gmu.edu</a></div></div></div><div class=\"gs_ri\"><h3 class=\"gs_rt\" ontouchstart=\"gs_evt_dsp(event)\"><a data-clk=\"hl=en&amp;sa=T&amp;ct=res&amp;cd=9&amp;d=2454054462596480210&amp;ei=7FFEYM6IAfSL6rQP5-6vsAw&amp;scisig=AAGBfm0cVLCStTO995Nm4LMYuZDMltnzrg&amp;nossl=1\" data-clk-atid=\"0nyGFoiNDiIJ\" href=\"https://www.sciencedirect.com/science/article/pii/B9780080510545500054\" id=\"0nyGFoiNDiIJ\">An overview of <b>machine learning</b></a></h3><div class=\"gs_a\"><a href=\"/citations?user=wlqqttEAAAAJ&amp;hl=en&amp;oi=sra\">JG Carbonell</a>, RS Michalski, <a href=\"/citations?user=MnfzuPYAAAAJ&amp;hl=en&amp;oi=sra\">TM Mitchell</a> - <b>Machine learning</b>, 1983 - Elsevier</div><div class=\"gs_rs\">… weighting coefficients for threshold logic elements when <b>learning</b> to recognize twodimensional<br/>\n",
            "<b>patterns</b> … Speech <b>Recognition</b> The Bibliography provides an index to the literature organized<br/>\n",
            "around … in the above areas spawned the new discipline of <b>pattern</b> <b>recognition</b> and led to … \n",
            "</div><div class=\"gs_fl\"><a class=\"gs_or_sav\" href=\"javascript:void(0)\" role=\"button\" title=\"Save\"><svg class=\"gs_or_svg\" viewbox=\"-1 0 17 16\"><path d=\"M8 11.57l3.824 2.308-1.015-4.35 3.379-2.926-4.45-.378L8 2.122 6.261 6.224l-4.449.378 3.379 2.926-1.015 4.35z\"></path></svg></a> <a aria-controls=\"gs_cit\" aria-haspopup=\"true\" class=\"gs_or_cit gs_nph\" href=\"javascript:void(0)\" role=\"button\" title=\"Cite\"><svg class=\"gs_or_svg\" viewbox=\"-1 0 17 16\"><path d=\"M1.5 3.5v5h2v.375L1.75 12.5h3L6.5 8.875V3.5zM9.5 3.5v5h2v.375L9.75 12.5h3L14.5 8.875V3.5z\"></path></svg></a> <a href=\"/scholar?cites=2454054462596480210&amp;as_sdt=2005&amp;sciodt=0,5&amp;hl=en\">Cited by 546</a> <a href=\"/scholar?q=related:0nyGFoiNDiIJ:scholar.google.com/&amp;scioq=pattern+recognition+machine+learning&amp;hl=en&amp;as_sdt=0,5\">Related articles</a> <a class=\"gs_nph\" href=\"/scholar?cluster=2454054462596480210&amp;hl=en&amp;as_sdt=0,5\">All 8 versions</a> <a class=\"gs_or_mor gs_oph\" href=\"javascript:void(0)\" role=\"button\" title=\"More\"><svg class=\"gs_or_svg\" viewbox=\"-1 0 17 16\"><path d=\"M1.5 5.5l2-2L8 8l-4.5 4.5-2-2L4 8zM8.5 5.5l2-2L15 8l-4.5 4.5-2-2L11 8z\"></path></svg></a> <a class=\"gs_or_nvi gs_or_mor\" href=\"javascript:void(0)\" role=\"button\" title=\"Fewer\"><svg class=\"gs_or_svg\" viewbox=\"0 0 17 16\"><path d=\"M8.5 5.5l-2-2L2 8l4.5 4.5 2-2L6 8zM15.5 5.5l-2-2L9 8l4.5 4.5 2-2L13 8z\"></path></svg></a></div></div></div></div><div id=\"gs_res_ccl_bot\"><div class=\"gs_r gs_alrt_btm gs_oph gs_ota\"><a class=\"gs_btnM gs_in_ib\" href=\"/scholar_alerts?view_op=create_alert_options&amp;hl=en&amp;alert_query=intitle:%22pattern+recognition%22++machine+learning&amp;alert_params=%3Fhl%3Den%26as_sdt%3D0,5\"><span class=\"gs_ico\"></span><span class=\"gs_lbl\">Create alert</span></a></div><div class=\"gs_qsuggest_wrap\"><div class=\"gs_qsuggest gs_qsuggest_regular gs_qsuggest_bottom\"><h2>Related searches</h2><ul><li><a href=\"/scholar?hl=en&amp;as_sdt=0,5&amp;qsp=1&amp;q=urban+pattern+recognition+%22machine+learning+algorithms%22&amp;qst=br\"><b>urban </b>pattern recognition machine learning <b>algorithms</b></a></li><li><a href=\"/scholar?hl=en&amp;as_sdt=0,5&amp;qsp=2&amp;q=pattern+recognition+machine+%22massively+parallel+architecture%22&amp;qst=br\">pattern recognition machine <b>massively parallel architecture</b></a></li><li><a href=\"/scholar?hl=en&amp;as_sdt=0,5&amp;qsp=3&amp;q=machine+learning+%22multidimensional+particle+swarm+optimization%22&amp;qst=br\">machine learning <b>multidimensional particle swarm optimization</b></a></li><li><a href=\"/scholar?hl=en&amp;as_sdt=0,5&amp;qsp=4&amp;q=adaptive+pattern+classification&amp;qst=br\"><b>adaptive </b>pattern <b>classification</b></a></li><li><a href=\"/scholar?hl=en&amp;as_sdt=0,5&amp;qsp=5&amp;q=adaptive+learning+and+pattern+recognition+systems&amp;qst=br\"><b>adaptive </b>learning <b>and </b>pattern recognition <b>systems</b></a></li><li><a href=\"/scholar?hl=en&amp;as_sdt=0,5&amp;qsp=6&amp;q=machine+learning+methods+%22image+classification%22&amp;qst=br\">machine learning <b>methods image classification</b></a></li><li><a href=\"/scholar?hl=en&amp;as_sdt=0,5&amp;qsp=7&amp;q=support+vector+machine+%22pattern+recognition%22&amp;qst=br\"><b>support vector </b>machine pattern recognition</a></li><li><a href=\"/scholar?hl=en&amp;as_sdt=0,5&amp;qsp=8&amp;q=machine+learning+classifiers+%22land+cover+classification%22&amp;qst=br\">machine learning <b>classifiers land cover classification</b></a></li><li><a href=\"/scholar?hl=en&amp;as_sdt=0,5&amp;qsp=9&amp;q=sequential+methods+in+pattern+recognition&amp;qst=br\"><b>sequential methods in </b>pattern recognition</a></li><li><a href=\"/scholar?hl=en&amp;as_sdt=0,5&amp;qsp=10&amp;q=fundamentals+of+pattern+recognition&amp;qst=br\"><b>fundamentals of </b>pattern recognition</a></li><li><a href=\"/scholar?hl=en&amp;as_sdt=0,5&amp;qsp=11&amp;q=genetic+algorithms+for+pattern+recognition&amp;qst=br\"><b>genetic algorithms for </b>pattern recognition</a></li><li><a href=\"/scholar?hl=en&amp;as_sdt=0,5&amp;qsp=12&amp;q=structural+pattern+recognition&amp;qst=br\"><b>structural </b>pattern recognition</a></li><li><a href=\"/scholar?hl=en&amp;as_sdt=0,5&amp;qsp=13&amp;q=overview+of+machine+learning&amp;qst=br\"><b>overview of </b>machine learning</a></li><li><a href=\"/scholar?hl=en&amp;as_sdt=0,5&amp;qsp=14&amp;q=%22graph+database+repository%22+pattern+recognition&amp;qst=br\"><b>graph database repository </b>pattern recognition</a></li><li><a href=\"/scholar?hl=en&amp;as_sdt=0,5&amp;qsp=15&amp;q=%22attributed+relational+graphs%22+pattern+recognition&amp;qst=br\"><b>attributed relational graphs </b>pattern recognition</a></li><li><a href=\"/scholar?hl=en&amp;as_sdt=0,5&amp;qsp=16&amp;q=%22last+10+years%22+pattern+recognition&amp;qst=br\"><b>last 10 years </b>pattern recognition</a></li></ul></div></div><div id=\"gs_n\" role=\"navigation\"><center><table cellpadding=\"0\" width=\"1%\"><tr align=\"center\" valign=\"top\"><td align=\"right\" nowrap=\"\"><span class=\"gs_ico gs_ico_nav_first\"></span><b style=\"display:block;margin-right:35px;visibility:hidden\">Previous</b></td><td><span class=\"gs_ico gs_ico_nav_current\"></span><b>1</b></td><td><a href=\"/scholar?start=10&amp;q=pattern+recognition+machine+learning&amp;hl=en&amp;as_sdt=0,5\"><span class=\"gs_ico gs_ico_nav_page\"></span>2</a></td><td><a href=\"/scholar?start=20&amp;q=pattern+recognition+machine+learning&amp;hl=en&amp;as_sdt=0,5\"><span class=\"gs_ico gs_ico_nav_page\"></span>3</a></td><td><a href=\"/scholar?start=30&amp;q=pattern+recognition+machine+learning&amp;hl=en&amp;as_sdt=0,5\"><span class=\"gs_ico gs_ico_nav_page\"></span>4</a></td><td><a href=\"/scholar?start=40&amp;q=pattern+recognition+machine+learning&amp;hl=en&amp;as_sdt=0,5\"><span class=\"gs_ico gs_ico_nav_page\"></span>5</a></td><td><a href=\"/scholar?start=50&amp;q=pattern+recognition+machine+learning&amp;hl=en&amp;as_sdt=0,5\"><span class=\"gs_ico gs_ico_nav_page\"></span>6</a></td><td><a href=\"/scholar?start=60&amp;q=pattern+recognition+machine+learning&amp;hl=en&amp;as_sdt=0,5\"><span class=\"gs_ico gs_ico_nav_page\"></span>7</a></td><td><a href=\"/scholar?start=70&amp;q=pattern+recognition+machine+learning&amp;hl=en&amp;as_sdt=0,5\"><span class=\"gs_ico gs_ico_nav_page\"></span>8</a></td><td><a href=\"/scholar?start=80&amp;q=pattern+recognition+machine+learning&amp;hl=en&amp;as_sdt=0,5\"><span class=\"gs_ico gs_ico_nav_page\"></span>9</a></td><td><a href=\"/scholar?start=90&amp;q=pattern+recognition+machine+learning&amp;hl=en&amp;as_sdt=0,5\"><span class=\"gs_ico gs_ico_nav_page\"></span>10</a></td><td align=\"left\" nowrap=\"\"><a href=\"/scholar?start=10&amp;q=pattern+recognition+machine+learning&amp;hl=en&amp;as_sdt=0,5\"><span class=\"gs_ico gs_ico_nav_next\"></span><b style=\"display:block;margin-left:53px\">Next</b></a></td></tr></table></center></div><div id=\"gs_nm\" role=\"navigation\"><button aria-label=\"Previous\" class=\"gs_btnPL gs_in_ib gs_btn_lrge gs_btn_half gs_btn_lsu\" disabled=\"\" type=\"button\"><span class=\"gs_wr\"><span class=\"gs_ico\"></span><span class=\"gs_lbl\"></span></span></button><button aria-label=\"Next\" class=\"gs_btnPR gs_in_ib gs_btn_lrge gs_btn_half gs_btn_lsu\" onclick=\"window.location='/scholar?start\\x3d10\\x26q\\x3dpattern+recognition+machine+learning\\x26hl\\x3den\\x26as_sdt\\x3d0,5'\" type=\"button\"><span class=\"gs_wr\"><span class=\"gs_ico\"></span><span class=\"gs_lbl\"></span></span></button><div id=\"gs_nml\"><b class=\"gs_nma\">1</b><a class=\"gs_nma\" href=\"/scholar?start=10&amp;q=pattern+recognition+machine+learning&amp;hl=en&amp;as_sdt=0,5\">2</a><a class=\"gs_nma\" href=\"/scholar?start=20&amp;q=pattern+recognition+machine+learning&amp;hl=en&amp;as_sdt=0,5\">3</a><a class=\"gs_nma\" href=\"/scholar?start=30&amp;q=pattern+recognition+machine+learning&amp;hl=en&amp;as_sdt=0,5\">4</a><a class=\"gs_nma\" href=\"/scholar?start=40&amp;q=pattern+recognition+machine+learning&amp;hl=en&amp;as_sdt=0,5\">5</a><a class=\"gs_nma\" href=\"/scholar?start=50&amp;q=pattern+recognition+machine+learning&amp;hl=en&amp;as_sdt=0,5\">6</a><a class=\"gs_nma\" href=\"/scholar?start=60&amp;q=pattern+recognition+machine+learning&amp;hl=en&amp;as_sdt=0,5\">7</a><a class=\"gs_nma\" href=\"/scholar?start=70&amp;q=pattern+recognition+machine+learning&amp;hl=en&amp;as_sdt=0,5\">8</a><a class=\"gs_nma\" href=\"/scholar?start=80&amp;q=pattern+recognition+machine+learning&amp;hl=en&amp;as_sdt=0,5\">9</a><a class=\"gs_nma\" href=\"/scholar?start=90&amp;q=pattern+recognition+machine+learning&amp;hl=en&amp;as_sdt=0,5\">10</a></div></div></div></div></div></div><div id=\"gs_ftr_sp\" role=\"presentation\"></div><div id=\"gs_ftr\" role=\"contentinfo\"><div id=\"gs_ftr_rt\"><a href=\"/intl/en/scholar/about.html\">Help</a><a href=\"//www.google.com/intl/en/policies/privacy/\">Privacy</a><a href=\"//www.google.com/intl/en/policies/terms/\">Terms</a></div></div></div></body></html>\n",
            "10\n",
            "This --> nsubj --> DET\n",
            "is --> ROOT --> AUX\n",
            "the --> det --> DET\n",
            "first --> amod --> ADJ\n",
            "textbook --> attr --> NOUN\n",
            "on --> prep --> ADP\n",
            "pattern --> compound --> NOUN\n",
            "recognition --> pobj --> NOUN\n",
            "to --> aux --> PART\n",
            "present --> relcl --> VERB\n",
            "the --> det --> DET\n",
            "Bayesian --> amod --> ADJ\n",
            "viewpoint --> dobj --> NOUN\n",
            ". --> punct --> PUNCT\n",
            "The --> det --> DET\n",
            "book --> nsubj --> NOUN\n",
            "presents --> ROOT --> VERB\n",
            "approximate --> amod --> ADJ\n",
            "inference --> compound --> NOUN\n",
            "algorithms --> dobj --> VERB\n",
            "that --> nsubj --> DET\n",
            "permit --> relcl --> VERB\n",
            "fast --> advmod --> ADJ\n",
            "approximate --> amod --> ADJ\n",
            "answers --> dobj --> NOUN\n",
            "in --> prep --> ADP\n",
            "situations --> pobj --> NOUN\n",
            "where --> advmod --> ADV\n",
            "exact --> amod --> ADJ\n",
            "answers --> nsubj --> NOUN\n",
            "are --> relcl --> AUX\n",
            "not --> neg --> PART\n",
            "feasible --> acomp --> ADJ\n",
            ". --> punct --> PUNCT\n",
            "It --> nsubj --> PRON\n",
            "uses --> ROOT --> VERB\n",
            "graphical --> amod --> ADJ\n",
            "models --> dobj --> NOUN\n",
            "to --> aux --> PART\n",
            "describe --> xcomp --> VERB\n",
            "  -->  --> SPACE\n",
            "… --> punct --> PUNCT\n"
          ],
          "name": "stdout"
        },
        {
          "output_type": "error",
          "ename": "TypeError",
          "evalue": "ignored",
          "traceback": [
            "\u001b[0;31m---------------------------------------------------------------------------\u001b[0m",
            "\u001b[0;31mTypeError\u001b[0m                                 Traceback (most recent call last)",
            "\u001b[0;32m<ipython-input-6-9ee1fc0edc93>\u001b[0m in \u001b[0;36m<module>\u001b[0;34m()\u001b[0m\n\u001b[1;32m    148\u001b[0m \u001b[0;31m#Calling above function to print the patterned texts from all the articles\u001b[0m\u001b[0;34m\u001b[0m\u001b[0;34m\u001b[0m\u001b[0;34m\u001b[0m\u001b[0m\n\u001b[1;32m    149\u001b[0m \u001b[0;32mfor\u001b[0m \u001b[0meach\u001b[0m \u001b[0;32min\u001b[0m \u001b[0mgetArticle_dict\u001b[0m\u001b[0;34m(\u001b[0m\u001b[0mallTitles\u001b[0m\u001b[0;34m)\u001b[0m\u001b[0;34m[\u001b[0m\u001b[0;36m0\u001b[0m\u001b[0;34m:\u001b[0m\u001b[0;36m10\u001b[0m\u001b[0;34m]\u001b[0m\u001b[0;34m:\u001b[0m\u001b[0;34m\u001b[0m\u001b[0;34m\u001b[0m\u001b[0m\n\u001b[0;32m--> 150\u001b[0;31m   \u001b[0mprint\u001b[0m\u001b[0;34m(\u001b[0m\u001b[0mquestPattern\u001b[0m\u001b[0;34m(\u001b[0m\u001b[0mgetPOSforText\u001b[0m\u001b[0;34m(\u001b[0m\u001b[0meach\u001b[0m\u001b[0;34m[\u001b[0m\u001b[0;34m'full_title'\u001b[0m\u001b[0;34m]\u001b[0m\u001b[0;34m)\u001b[0m\u001b[0;34m)\u001b[0m\u001b[0;34m)\u001b[0m\u001b[0;34m\u001b[0m\u001b[0;34m\u001b[0m\u001b[0m\n\u001b[0m\u001b[1;32m    151\u001b[0m   \u001b[0mprint\u001b[0m\u001b[0;34m(\u001b[0m\u001b[0mprobPattern\u001b[0m\u001b[0;34m(\u001b[0m\u001b[0mgetPOSforText\u001b[0m\u001b[0;34m(\u001b[0m\u001b[0meach\u001b[0m\u001b[0;34m[\u001b[0m\u001b[0;34m'full_title'\u001b[0m\u001b[0;34m]\u001b[0m\u001b[0;34m)\u001b[0m\u001b[0;34m)\u001b[0m\u001b[0;34m)\u001b[0m\u001b[0;34m\u001b[0m\u001b[0;34m\u001b[0m\u001b[0m\n\u001b[1;32m    152\u001b[0m   \u001b[0mprint\u001b[0m\u001b[0;34m(\u001b[0m\u001b[0mfactPattern\u001b[0m\u001b[0;34m(\u001b[0m\u001b[0mgetPOSforText\u001b[0m\u001b[0;34m(\u001b[0m\u001b[0meach\u001b[0m\u001b[0;34m[\u001b[0m\u001b[0;34m'full_title'\u001b[0m\u001b[0;34m]\u001b[0m\u001b[0;34m)\u001b[0m\u001b[0;34m)\u001b[0m\u001b[0;34m)\u001b[0m\u001b[0;34m\u001b[0m\u001b[0;34m\u001b[0m\u001b[0m\n",
            "\u001b[0;32m<ipython-input-6-9ee1fc0edc93>\u001b[0m in \u001b[0;36mquestPattern\u001b[0;34m(token_doc)\u001b[0m\n\u001b[1;32m     91\u001b[0m              {'POS':'PRON'}]\n\u001b[1;32m     92\u001b[0m   \u001b[0mmatcher\u001b[0m \u001b[0;34m=\u001b[0m \u001b[0mMatcher\u001b[0m\u001b[0;34m(\u001b[0m\u001b[0mnlp\u001b[0m\u001b[0;34m.\u001b[0m\u001b[0mvocab\u001b[0m\u001b[0;34m)\u001b[0m\u001b[0;34m.\u001b[0m\u001b[0madd\u001b[0m\u001b[0;34m(\u001b[0m\u001b[0;34m\"matching_1\"\u001b[0m\u001b[0;34m,\u001b[0m \u001b[0;32mNone\u001b[0m\u001b[0;34m,\u001b[0m \u001b[0mpattern\u001b[0m\u001b[0;34m)\u001b[0m\u001b[0;34m\u001b[0m\u001b[0;34m\u001b[0m\u001b[0m\n\u001b[0;32m---> 93\u001b[0;31m   \u001b[0mmatches\u001b[0m \u001b[0;34m=\u001b[0m \u001b[0mmatcher\u001b[0m\u001b[0;34m(\u001b[0m\u001b[0mtoken_doc\u001b[0m\u001b[0;34m)\u001b[0m\u001b[0;34m\u001b[0m\u001b[0;34m\u001b[0m\u001b[0m\n\u001b[0m\u001b[1;32m     94\u001b[0m   \u001b[0mprint\u001b[0m\u001b[0;34m(\u001b[0m\u001b[0mlen\u001b[0m\u001b[0;34m(\u001b[0m\u001b[0mmatches\u001b[0m\u001b[0;34m)\u001b[0m\u001b[0;34m)\u001b[0m\u001b[0;34m\u001b[0m\u001b[0;34m\u001b[0m\u001b[0m\n\u001b[1;32m     95\u001b[0m   \u001b[0mspan\u001b[0m \u001b[0;34m=\u001b[0m \u001b[0mtoken_doc\u001b[0m\u001b[0;34m[\u001b[0m\u001b[0mmatches\u001b[0m\u001b[0;34m[\u001b[0m\u001b[0;36m0\u001b[0m\u001b[0;34m]\u001b[0m\u001b[0;34m[\u001b[0m\u001b[0;36m1\u001b[0m\u001b[0;34m]\u001b[0m\u001b[0;34m]\u001b[0m\u001b[0;34m\u001b[0m\u001b[0;34m\u001b[0m\u001b[0m\n",
            "\u001b[0;31mTypeError\u001b[0m: 'NoneType' object is not callable"
          ]
        }
      ]
    },
    {
      "cell_type": "code",
      "metadata": {
        "colab": {
          "base_uri": "https://localhost:8080/"
        },
        "id": "QDwph5Za_4Wa",
        "outputId": "3ce87640-ac4a-4461-88a5-c817b9e6c7d2"
      },
      "source": [
        "\r\n",
        "import nltk\r\n",
        "nltk.download('all')\r\n"
      ],
      "execution_count": 3,
      "outputs": [
        {
          "output_type": "stream",
          "text": [
            "[nltk_data] Downloading collection 'all'\n",
            "[nltk_data]    | \n",
            "[nltk_data]    | Downloading package abc to /root/nltk_data...\n",
            "[nltk_data]    |   Unzipping corpora/abc.zip.\n",
            "[nltk_data]    | Downloading package alpino to /root/nltk_data...\n",
            "[nltk_data]    |   Unzipping corpora/alpino.zip.\n",
            "[nltk_data]    | Downloading package biocreative_ppi to\n",
            "[nltk_data]    |     /root/nltk_data...\n",
            "[nltk_data]    |   Unzipping corpora/biocreative_ppi.zip.\n",
            "[nltk_data]    | Downloading package brown to /root/nltk_data...\n",
            "[nltk_data]    |   Unzipping corpora/brown.zip.\n",
            "[nltk_data]    | Downloading package brown_tei to /root/nltk_data...\n",
            "[nltk_data]    |   Unzipping corpora/brown_tei.zip.\n",
            "[nltk_data]    | Downloading package cess_cat to /root/nltk_data...\n",
            "[nltk_data]    |   Unzipping corpora/cess_cat.zip.\n",
            "[nltk_data]    | Downloading package cess_esp to /root/nltk_data...\n",
            "[nltk_data]    |   Unzipping corpora/cess_esp.zip.\n",
            "[nltk_data]    | Downloading package chat80 to /root/nltk_data...\n",
            "[nltk_data]    |   Unzipping corpora/chat80.zip.\n",
            "[nltk_data]    | Downloading package city_database to\n",
            "[nltk_data]    |     /root/nltk_data...\n",
            "[nltk_data]    |   Unzipping corpora/city_database.zip.\n",
            "[nltk_data]    | Downloading package cmudict to /root/nltk_data...\n",
            "[nltk_data]    |   Unzipping corpora/cmudict.zip.\n",
            "[nltk_data]    | Downloading package comparative_sentences to\n",
            "[nltk_data]    |     /root/nltk_data...\n",
            "[nltk_data]    |   Unzipping corpora/comparative_sentences.zip.\n",
            "[nltk_data]    | Downloading package comtrans to /root/nltk_data...\n",
            "[nltk_data]    | Downloading package conll2000 to /root/nltk_data...\n",
            "[nltk_data]    |   Unzipping corpora/conll2000.zip.\n",
            "[nltk_data]    | Downloading package conll2002 to /root/nltk_data...\n",
            "[nltk_data]    |   Unzipping corpora/conll2002.zip.\n",
            "[nltk_data]    | Downloading package conll2007 to /root/nltk_data...\n",
            "[nltk_data]    | Downloading package crubadan to /root/nltk_data...\n",
            "[nltk_data]    |   Unzipping corpora/crubadan.zip.\n",
            "[nltk_data]    | Downloading package dependency_treebank to\n",
            "[nltk_data]    |     /root/nltk_data...\n",
            "[nltk_data]    |   Unzipping corpora/dependency_treebank.zip.\n",
            "[nltk_data]    | Downloading package dolch to /root/nltk_data...\n",
            "[nltk_data]    |   Unzipping corpora/dolch.zip.\n",
            "[nltk_data]    | Downloading package europarl_raw to\n",
            "[nltk_data]    |     /root/nltk_data...\n",
            "[nltk_data]    |   Unzipping corpora/europarl_raw.zip.\n",
            "[nltk_data]    | Downloading package floresta to /root/nltk_data...\n",
            "[nltk_data]    |   Unzipping corpora/floresta.zip.\n",
            "[nltk_data]    | Downloading package framenet_v15 to\n",
            "[nltk_data]    |     /root/nltk_data...\n",
            "[nltk_data]    |   Unzipping corpora/framenet_v15.zip.\n",
            "[nltk_data]    | Downloading package framenet_v17 to\n",
            "[nltk_data]    |     /root/nltk_data...\n",
            "[nltk_data]    |   Unzipping corpora/framenet_v17.zip.\n",
            "[nltk_data]    | Downloading package gazetteers to /root/nltk_data...\n",
            "[nltk_data]    |   Unzipping corpora/gazetteers.zip.\n",
            "[nltk_data]    | Downloading package genesis to /root/nltk_data...\n",
            "[nltk_data]    |   Unzipping corpora/genesis.zip.\n",
            "[nltk_data]    | Downloading package gutenberg to /root/nltk_data...\n",
            "[nltk_data]    |   Unzipping corpora/gutenberg.zip.\n",
            "[nltk_data]    | Downloading package ieer to /root/nltk_data...\n",
            "[nltk_data]    |   Unzipping corpora/ieer.zip.\n",
            "[nltk_data]    | Downloading package inaugural to /root/nltk_data...\n",
            "[nltk_data]    |   Unzipping corpora/inaugural.zip.\n",
            "[nltk_data]    | Downloading package indian to /root/nltk_data...\n",
            "[nltk_data]    |   Unzipping corpora/indian.zip.\n",
            "[nltk_data]    | Downloading package jeita to /root/nltk_data...\n",
            "[nltk_data]    | Downloading package kimmo to /root/nltk_data...\n",
            "[nltk_data]    |   Unzipping corpora/kimmo.zip.\n",
            "[nltk_data]    | Downloading package knbc to /root/nltk_data...\n",
            "[nltk_data]    | Downloading package lin_thesaurus to\n",
            "[nltk_data]    |     /root/nltk_data...\n",
            "[nltk_data]    |   Unzipping corpora/lin_thesaurus.zip.\n",
            "[nltk_data]    | Downloading package mac_morpho to /root/nltk_data...\n",
            "[nltk_data]    |   Unzipping corpora/mac_morpho.zip.\n",
            "[nltk_data]    | Downloading package machado to /root/nltk_data...\n",
            "[nltk_data]    | Downloading package masc_tagged to /root/nltk_data...\n",
            "[nltk_data]    | Downloading package moses_sample to\n",
            "[nltk_data]    |     /root/nltk_data...\n",
            "[nltk_data]    |   Unzipping models/moses_sample.zip.\n",
            "[nltk_data]    | Downloading package movie_reviews to\n",
            "[nltk_data]    |     /root/nltk_data...\n",
            "[nltk_data]    |   Unzipping corpora/movie_reviews.zip.\n",
            "[nltk_data]    | Downloading package names to /root/nltk_data...\n",
            "[nltk_data]    |   Unzipping corpora/names.zip.\n",
            "[nltk_data]    | Downloading package nombank.1.0 to /root/nltk_data...\n",
            "[nltk_data]    | Downloading package nps_chat to /root/nltk_data...\n",
            "[nltk_data]    |   Unzipping corpora/nps_chat.zip.\n",
            "[nltk_data]    | Downloading package omw to /root/nltk_data...\n",
            "[nltk_data]    |   Unzipping corpora/omw.zip.\n",
            "[nltk_data]    | Downloading package opinion_lexicon to\n",
            "[nltk_data]    |     /root/nltk_data...\n",
            "[nltk_data]    |   Unzipping corpora/opinion_lexicon.zip.\n",
            "[nltk_data]    | Downloading package paradigms to /root/nltk_data...\n",
            "[nltk_data]    |   Unzipping corpora/paradigms.zip.\n",
            "[nltk_data]    | Downloading package pil to /root/nltk_data...\n",
            "[nltk_data]    |   Unzipping corpora/pil.zip.\n",
            "[nltk_data]    | Downloading package pl196x to /root/nltk_data...\n",
            "[nltk_data]    |   Unzipping corpora/pl196x.zip.\n",
            "[nltk_data]    | Downloading package ppattach to /root/nltk_data...\n",
            "[nltk_data]    |   Unzipping corpora/ppattach.zip.\n",
            "[nltk_data]    | Downloading package problem_reports to\n",
            "[nltk_data]    |     /root/nltk_data...\n",
            "[nltk_data]    |   Unzipping corpora/problem_reports.zip.\n",
            "[nltk_data]    | Downloading package propbank to /root/nltk_data...\n",
            "[nltk_data]    | Downloading package ptb to /root/nltk_data...\n",
            "[nltk_data]    |   Unzipping corpora/ptb.zip.\n",
            "[nltk_data]    | Downloading package product_reviews_1 to\n",
            "[nltk_data]    |     /root/nltk_data...\n",
            "[nltk_data]    |   Unzipping corpora/product_reviews_1.zip.\n",
            "[nltk_data]    | Downloading package product_reviews_2 to\n",
            "[nltk_data]    |     /root/nltk_data...\n",
            "[nltk_data]    |   Unzipping corpora/product_reviews_2.zip.\n",
            "[nltk_data]    | Downloading package pros_cons to /root/nltk_data...\n",
            "[nltk_data]    |   Unzipping corpora/pros_cons.zip.\n",
            "[nltk_data]    | Downloading package qc to /root/nltk_data...\n",
            "[nltk_data]    |   Unzipping corpora/qc.zip.\n",
            "[nltk_data]    | Downloading package reuters to /root/nltk_data...\n",
            "[nltk_data]    | Downloading package rte to /root/nltk_data...\n",
            "[nltk_data]    |   Unzipping corpora/rte.zip.\n",
            "[nltk_data]    | Downloading package semcor to /root/nltk_data...\n",
            "[nltk_data]    | Downloading package senseval to /root/nltk_data...\n",
            "[nltk_data]    |   Unzipping corpora/senseval.zip.\n",
            "[nltk_data]    | Downloading package sentiwordnet to\n",
            "[nltk_data]    |     /root/nltk_data...\n",
            "[nltk_data]    |   Unzipping corpora/sentiwordnet.zip.\n",
            "[nltk_data]    | Downloading package sentence_polarity to\n",
            "[nltk_data]    |     /root/nltk_data...\n",
            "[nltk_data]    |   Unzipping corpora/sentence_polarity.zip.\n",
            "[nltk_data]    | Downloading package shakespeare to /root/nltk_data...\n",
            "[nltk_data]    |   Unzipping corpora/shakespeare.zip.\n",
            "[nltk_data]    | Downloading package sinica_treebank to\n",
            "[nltk_data]    |     /root/nltk_data...\n",
            "[nltk_data]    |   Unzipping corpora/sinica_treebank.zip.\n",
            "[nltk_data]    | Downloading package smultron to /root/nltk_data...\n",
            "[nltk_data]    |   Unzipping corpora/smultron.zip.\n",
            "[nltk_data]    | Downloading package state_union to /root/nltk_data...\n",
            "[nltk_data]    |   Unzipping corpora/state_union.zip.\n",
            "[nltk_data]    | Downloading package stopwords to /root/nltk_data...\n",
            "[nltk_data]    |   Unzipping corpora/stopwords.zip.\n",
            "[nltk_data]    | Downloading package subjectivity to\n",
            "[nltk_data]    |     /root/nltk_data...\n",
            "[nltk_data]    |   Unzipping corpora/subjectivity.zip.\n",
            "[nltk_data]    | Downloading package swadesh to /root/nltk_data...\n",
            "[nltk_data]    |   Unzipping corpora/swadesh.zip.\n",
            "[nltk_data]    | Downloading package switchboard to /root/nltk_data...\n",
            "[nltk_data]    |   Unzipping corpora/switchboard.zip.\n",
            "[nltk_data]    | Downloading package timit to /root/nltk_data...\n",
            "[nltk_data]    |   Unzipping corpora/timit.zip.\n",
            "[nltk_data]    | Downloading package toolbox to /root/nltk_data...\n",
            "[nltk_data]    |   Unzipping corpora/toolbox.zip.\n",
            "[nltk_data]    | Downloading package treebank to /root/nltk_data...\n",
            "[nltk_data]    |   Unzipping corpora/treebank.zip.\n",
            "[nltk_data]    | Downloading package twitter_samples to\n",
            "[nltk_data]    |     /root/nltk_data...\n",
            "[nltk_data]    |   Unzipping corpora/twitter_samples.zip.\n",
            "[nltk_data]    | Downloading package udhr to /root/nltk_data...\n",
            "[nltk_data]    |   Unzipping corpora/udhr.zip.\n",
            "[nltk_data]    | Downloading package udhr2 to /root/nltk_data...\n",
            "[nltk_data]    |   Unzipping corpora/udhr2.zip.\n",
            "[nltk_data]    | Downloading package unicode_samples to\n",
            "[nltk_data]    |     /root/nltk_data...\n",
            "[nltk_data]    |   Unzipping corpora/unicode_samples.zip.\n",
            "[nltk_data]    | Downloading package universal_treebanks_v20 to\n",
            "[nltk_data]    |     /root/nltk_data...\n",
            "[nltk_data]    | Downloading package verbnet to /root/nltk_data...\n",
            "[nltk_data]    |   Unzipping corpora/verbnet.zip.\n",
            "[nltk_data]    | Downloading package verbnet3 to /root/nltk_data...\n",
            "[nltk_data]    |   Unzipping corpora/verbnet3.zip.\n",
            "[nltk_data]    | Downloading package webtext to /root/nltk_data...\n",
            "[nltk_data]    |   Unzipping corpora/webtext.zip.\n",
            "[nltk_data]    | Downloading package wordnet to /root/nltk_data...\n",
            "[nltk_data]    |   Unzipping corpora/wordnet.zip.\n",
            "[nltk_data]    | Downloading package wordnet_ic to /root/nltk_data...\n",
            "[nltk_data]    |   Unzipping corpora/wordnet_ic.zip.\n",
            "[nltk_data]    | Downloading package words to /root/nltk_data...\n",
            "[nltk_data]    |   Unzipping corpora/words.zip.\n",
            "[nltk_data]    | Downloading package ycoe to /root/nltk_data...\n",
            "[nltk_data]    |   Unzipping corpora/ycoe.zip.\n",
            "[nltk_data]    | Downloading package rslp to /root/nltk_data...\n",
            "[nltk_data]    |   Unzipping stemmers/rslp.zip.\n",
            "[nltk_data]    | Downloading package maxent_treebank_pos_tagger to\n",
            "[nltk_data]    |     /root/nltk_data...\n",
            "[nltk_data]    |   Unzipping taggers/maxent_treebank_pos_tagger.zip.\n",
            "[nltk_data]    | Downloading package universal_tagset to\n",
            "[nltk_data]    |     /root/nltk_data...\n",
            "[nltk_data]    |   Unzipping taggers/universal_tagset.zip.\n",
            "[nltk_data]    | Downloading package maxent_ne_chunker to\n",
            "[nltk_data]    |     /root/nltk_data...\n",
            "[nltk_data]    |   Unzipping chunkers/maxent_ne_chunker.zip.\n",
            "[nltk_data]    | Downloading package punkt to /root/nltk_data...\n",
            "[nltk_data]    |   Unzipping tokenizers/punkt.zip.\n",
            "[nltk_data]    | Downloading package book_grammars to\n",
            "[nltk_data]    |     /root/nltk_data...\n",
            "[nltk_data]    |   Unzipping grammars/book_grammars.zip.\n",
            "[nltk_data]    | Downloading package sample_grammars to\n",
            "[nltk_data]    |     /root/nltk_data...\n",
            "[nltk_data]    |   Unzipping grammars/sample_grammars.zip.\n",
            "[nltk_data]    | Downloading package spanish_grammars to\n",
            "[nltk_data]    |     /root/nltk_data...\n",
            "[nltk_data]    |   Unzipping grammars/spanish_grammars.zip.\n",
            "[nltk_data]    | Downloading package basque_grammars to\n",
            "[nltk_data]    |     /root/nltk_data...\n",
            "[nltk_data]    |   Unzipping grammars/basque_grammars.zip.\n",
            "[nltk_data]    | Downloading package large_grammars to\n",
            "[nltk_data]    |     /root/nltk_data...\n",
            "[nltk_data]    |   Unzipping grammars/large_grammars.zip.\n",
            "[nltk_data]    | Downloading package tagsets to /root/nltk_data...\n",
            "[nltk_data]    |   Unzipping help/tagsets.zip.\n",
            "[nltk_data]    | Downloading package snowball_data to\n",
            "[nltk_data]    |     /root/nltk_data...\n",
            "[nltk_data]    | Downloading package bllip_wsj_no_aux to\n",
            "[nltk_data]    |     /root/nltk_data...\n",
            "[nltk_data]    |   Unzipping models/bllip_wsj_no_aux.zip.\n",
            "[nltk_data]    | Downloading package word2vec_sample to\n",
            "[nltk_data]    |     /root/nltk_data...\n",
            "[nltk_data]    |   Unzipping models/word2vec_sample.zip.\n",
            "[nltk_data]    | Downloading package panlex_swadesh to\n",
            "[nltk_data]    |     /root/nltk_data...\n",
            "[nltk_data]    | Downloading package mte_teip5 to /root/nltk_data...\n",
            "[nltk_data]    |   Unzipping corpora/mte_teip5.zip.\n",
            "[nltk_data]    | Downloading package averaged_perceptron_tagger to\n",
            "[nltk_data]    |     /root/nltk_data...\n",
            "[nltk_data]    |   Unzipping taggers/averaged_perceptron_tagger.zip.\n",
            "[nltk_data]    | Downloading package averaged_perceptron_tagger_ru to\n",
            "[nltk_data]    |     /root/nltk_data...\n",
            "[nltk_data]    |   Unzipping\n",
            "[nltk_data]    |       taggers/averaged_perceptron_tagger_ru.zip.\n",
            "[nltk_data]    | Downloading package perluniprops to\n",
            "[nltk_data]    |     /root/nltk_data...\n",
            "[nltk_data]    |   Unzipping misc/perluniprops.zip.\n",
            "[nltk_data]    | Downloading package nonbreaking_prefixes to\n",
            "[nltk_data]    |     /root/nltk_data...\n",
            "[nltk_data]    |   Unzipping corpora/nonbreaking_prefixes.zip.\n",
            "[nltk_data]    | Downloading package vader_lexicon to\n",
            "[nltk_data]    |     /root/nltk_data...\n",
            "[nltk_data]    | Downloading package porter_test to /root/nltk_data...\n",
            "[nltk_data]    |   Unzipping stemmers/porter_test.zip.\n",
            "[nltk_data]    | Downloading package wmt15_eval to /root/nltk_data...\n",
            "[nltk_data]    |   Unzipping models/wmt15_eval.zip.\n",
            "[nltk_data]    | Downloading package mwa_ppdb to /root/nltk_data...\n",
            "[nltk_data]    |   Unzipping misc/mwa_ppdb.zip.\n",
            "[nltk_data]    | \n",
            "[nltk_data]  Done downloading collection all\n"
          ],
          "name": "stdout"
        },
        {
          "output_type": "execute_result",
          "data": {
            "text/plain": [
              "True"
            ]
          },
          "metadata": {
            "tags": []
          },
          "execution_count": 3
        }
      ]
    },
    {
      "cell_type": "markdown",
      "metadata": {
        "id": "Dq_7VGmrsum4"
      },
      "source": [
        "## **2. Domain-specific information extraction (10 points)**\n",
        "\n",
        "For the legal case used in the data cleaning exercise: [01-05-1 Adams v Tanner.txt](https://raw.githubusercontent.com/unt-iialab/info5731_spring2021/main/class_exercises/01-05-1%20%20Adams%20v%20Tanner.txt), use [legalNLP](https://lexpredict-lexnlp.readthedocs.io/en/latest/modules/extract/extract.html#nlp-based-extraction-methods) to extract the following inforation from the text (if the information is not exist, just print None):\n",
        "\n",
        "(1) acts, e.g., “section 1 of the Advancing Hope Act, 1986”\n",
        "\n",
        "(2) amounts, e.g., “ten pounds” or “5.8 megawatts”\n",
        "\n",
        "(3) citations, e.g., “10 U.S. 100” or “1998 S. Ct. 1”\n",
        "\n",
        "(4) companies, e.g., “Lexpredict LLC”\n",
        "\n",
        "(5) conditions, e.g., “subject to …” or “unless and until …”\n",
        "\n",
        "(6) constraints, e.g., “no more than”\n",
        "\n",
        "(7) copyright, e.g., “(C) Copyright 2000 Acme”\n",
        "\n",
        "(8) courts, e.g., “Supreme Court of New York”\n",
        "\n",
        "(9) CUSIP, e.g., “392690QT3”\n",
        "\n",
        "(10) dates, e.g., “June 1, 2017” or “2018-01-01”\n",
        "\n",
        "(11) definitions, e.g., “Term shall mean …”\n",
        "\n",
        "(12) distances, e.g., “fifteen miles”\n",
        "\n",
        "(13) durations, e.g., “ten years” or “thirty days”\n",
        "\n",
        "(14) geographic and geopolitical entities, e.g., “New York” or “Norway”\n",
        "\n",
        "(15) money and currency usages, e.g., “$5” or “10 Euro”\n",
        "\n",
        "(16) percents and rates, e.g., “10%” or “50 bps”\n",
        "\n",
        "(17) PII, e.g., “212-212-2121” or “999-999-9999”\n",
        "\n",
        "(18) ratios, e.g.,” 3:1” or “four to three”\n",
        "\n",
        "(19) regulations, e.g., “32 CFR 170”\n",
        "\n",
        "(20) trademarks, e.g., “MyApp (TM)”\n",
        "\n",
        "(21) URLs, e.g., “http://acme.com/”\n",
        "\n",
        "(22) addresses, e.g., “1999 Mount Read Blvd, Rochester, NY, USA, 14615”\n",
        "\n",
        "(23) persons, e.g., “John Doe"
      ]
    },
    {
      "cell_type": "code",
      "metadata": {
        "colab": {
          "base_uri": "https://localhost:8080/"
        },
        "id": "caRZEBzxACBP",
        "outputId": "730d33b0-f470-4466-8cb8-93a13c60b15b"
      },
      "source": [
        "#Download the lexnlp\r\n",
        "!pip install lexnlp\r\n",
        "from six.moves import urllib\r\n",
        "import pandas as pd\r\n",
        "import lexnlp\r\n",
        "\r\n",
        "#Reading Text from the link to a string\r\n",
        "text = ''\r\n",
        "url = \"https://raw.githubusercontent.com/unt-iialab/info5731_spring2021/main/class_exercises/01-05-1%20%20Adams%20v%20Tanner.txt\"\r\n",
        "text_file = urllib.request.urlopen(url)\r\n",
        "\r\n",
        "for line in text_file:\r\n",
        "  decoded_data = line.decode(\"utf-8\").replace('\\n', ' ')\r\n",
        "  if decoded_data: text = text + decoded_data\r\n",
        "\r\n",
        "\r\n"
      ],
      "execution_count": 2,
      "outputs": [
        {
          "output_type": "stream",
          "text": [
            "Requirement already satisfied: lexnlp in /usr/local/lib/python3.7/dist-packages (1.8.0)\n",
            "Requirement already satisfied: us==2.0.2 in /usr/local/lib/python3.7/dist-packages (from lexnlp) (2.0.2)\n",
            "Requirement already satisfied: pandas==0.24.2 in /usr/local/lib/python3.7/dist-packages (from lexnlp) (0.24.2)\n",
            "Requirement already satisfied: reporters-db==2.0.3 in /usr/local/lib/python3.7/dist-packages (from lexnlp) (2.0.3)\n",
            "Requirement already satisfied: datefinder-lexpredict==0.6.2.1 in /usr/local/lib/python3.7/dist-packages (from lexnlp) (0.6.2.1)\n",
            "Requirement already satisfied: regex==2020.7.14 in /usr/local/lib/python3.7/dist-packages (from lexnlp) (2020.7.14)\n",
            "Requirement already satisfied: requests==2.24.0 in /usr/local/lib/python3.7/dist-packages (from lexnlp) (2.24.0)\n",
            "Requirement already satisfied: scipy==1.5.1 in /usr/local/lib/python3.7/dist-packages (from lexnlp) (1.5.1)\n",
            "Requirement already satisfied: gensim==3.8.3 in /usr/local/lib/python3.7/dist-packages (from lexnlp) (3.8.3)\n",
            "Requirement already satisfied: nltk==3.5 in /usr/local/lib/python3.7/dist-packages (from lexnlp) (3.5)\n",
            "Requirement already satisfied: Unidecode==1.1.1 in /usr/local/lib/python3.7/dist-packages (from lexnlp) (1.1.1)\n",
            "Requirement already satisfied: dateparser==0.7.2 in /usr/local/lib/python3.7/dist-packages (from lexnlp) (0.7.2)\n",
            "Requirement already satisfied: numpy==1.19.1 in /usr/local/lib/python3.7/dist-packages (from lexnlp) (1.19.1)\n",
            "Requirement already satisfied: pycountry==20.7.3 in /usr/local/lib/python3.7/dist-packages (from lexnlp) (20.7.3)\n",
            "Requirement already satisfied: num2words==0.5.10 in /usr/local/lib/python3.7/dist-packages (from lexnlp) (0.5.10)\n",
            "Requirement already satisfied: scikit-learn==0.23.1 in /usr/local/lib/python3.7/dist-packages (from lexnlp) (0.23.1)\n",
            "Requirement already satisfied: joblib==0.14.0 in /usr/local/lib/python3.7/dist-packages (from lexnlp) (0.14.0)\n",
            "Requirement already satisfied: jellyfish==0.6.1 in /usr/local/lib/python3.7/dist-packages (from us==2.0.2->lexnlp) (0.6.1)\n",
            "Requirement already satisfied: pytz>=2011k in /usr/local/lib/python3.7/dist-packages (from pandas==0.24.2->lexnlp) (2018.9)\n",
            "Requirement already satisfied: python-dateutil>=2.5.0 in /usr/local/lib/python3.7/dist-packages (from pandas==0.24.2->lexnlp) (2.8.1)\n",
            "Requirement already satisfied: six in /usr/local/lib/python3.7/dist-packages (from reporters-db==2.0.3->lexnlp) (1.15.0)\n",
            "Requirement already satisfied: certifi>=2017.4.17 in /usr/local/lib/python3.7/dist-packages (from requests==2.24.0->lexnlp) (2020.12.5)\n",
            "Requirement already satisfied: idna<3,>=2.5 in /usr/local/lib/python3.7/dist-packages (from requests==2.24.0->lexnlp) (2.10)\n",
            "Requirement already satisfied: chardet<4,>=3.0.2 in /usr/local/lib/python3.7/dist-packages (from requests==2.24.0->lexnlp) (3.0.4)\n",
            "Requirement already satisfied: urllib3!=1.25.0,!=1.25.1,<1.26,>=1.21.1 in /usr/local/lib/python3.7/dist-packages (from requests==2.24.0->lexnlp) (1.24.3)\n",
            "Requirement already satisfied: smart-open>=1.8.1 in /usr/local/lib/python3.7/dist-packages (from gensim==3.8.3->lexnlp) (4.2.0)\n",
            "Requirement already satisfied: tqdm in /usr/local/lib/python3.7/dist-packages (from nltk==3.5->lexnlp) (4.41.1)\n",
            "Requirement already satisfied: click in /usr/local/lib/python3.7/dist-packages (from nltk==3.5->lexnlp) (7.1.2)\n",
            "Requirement already satisfied: tzlocal in /usr/local/lib/python3.7/dist-packages (from dateparser==0.7.2->lexnlp) (1.5.1)\n",
            "Requirement already satisfied: docopt>=0.6.2 in /usr/local/lib/python3.7/dist-packages (from num2words==0.5.10->lexnlp) (0.6.2)\n",
            "Requirement already satisfied: threadpoolctl>=2.0.0 in /usr/local/lib/python3.7/dist-packages (from scikit-learn==0.23.1->lexnlp) (2.1.0)\n"
          ],
          "name": "stdout"
        }
      ]
    },
    {
      "cell_type": "code",
      "metadata": {
        "id": "hH6pF20SEUIj"
      },
      "source": [
        "#Removing Punctuations\r\n",
        "import string\r\n",
        "text = text.translate(str.maketrans('', '', string.punctuation))\r\n",
        "\r\n"
      ],
      "execution_count": 3,
      "outputs": []
    },
    {
      "cell_type": "code",
      "metadata": {
        "colab": {
          "base_uri": "https://localhost:8080/"
        },
        "id": "hXQm5UscEkLa",
        "outputId": "54af745f-5af0-4a04-c3aa-e7bb9d443124"
      },
      "source": [
        "#Acts\r\n",
        "import lexnlp.extract.en.acts\r\n",
        "acts = lexnlp.extract.en.acts.get_act_list(text)\r\n",
        "if acts: \r\n",
        "  print(acts)\r\n",
        "else:\r\n",
        "  print('No Acts')\r\n",
        "\r\n"
      ],
      "execution_count": 4,
      "outputs": [
        {
          "output_type": "stream",
          "text": [
            "No Acts\n"
          ],
          "name": "stdout"
        }
      ]
    },
    {
      "cell_type": "code",
      "metadata": {
        "colab": {
          "base_uri": "https://localhost:8080/"
        },
        "id": "dJ2CbGTGEn0K",
        "outputId": "c96b9823-e68e-4bb5-8f10-c63582644121"
      },
      "source": [
        "#Accounts\r\n",
        "import lexnlp.extract.en.amounts\r\n",
        "print(list(lexnlp.extract.en.amounts.get_amounts(text)))\r\n",
        "\r\n"
      ],
      "execution_count": 5,
      "outputs": [
        {
          "output_type": "stream",
          "text": [
            "[Decimal('5.0'), Decimal('740.0'), Decimal('1843.0'), Decimal('2.0'), Decimal('1.0'), Decimal('4.0'), Decimal('2.0'), Decimal('5.0'), Decimal('1.0'), Decimal('1840.0'), Decimal('80100.0'), Decimal('30.0'), Decimal('1839.0'), Decimal('741.0'), Decimal('1840.0'), Decimal('14000.0'), Decimal('120.0'), Decimal('1.0'), Decimal('1840.0'), Decimal('3.0'), Decimal('4.0'), Decimal('1.0'), Decimal('1840.0'), Decimal('2.0'), Decimal('1.0'), Decimal('361.0'), Decimal('1.0'), Decimal('307.0'), Decimal('6.0'), Decimal('604.0'), Decimal('1.0'), Decimal('2.0'), Decimal('418.0'), Decimal('422.0'), Decimal('7.0'), Decimal('34.0'), Decimal('41.0'), Decimal('167.0'), Decimal('742.0'), Decimal('3.0'), Decimal('112.0'), Decimal('207.0'), Decimal('3.0'), Decimal('338.0'), Decimal('424.0'), Decimal('5.0'), Decimal('26.0'), Decimal('13.0'), Decimal('235.0'), Decimal('8.0'), Decimal('693.0'), Decimal('4.0'), Decimal('1821.0'), Decimal('167.0'), Decimal('2.0'), Decimal('2.0'), Decimal('216.0'), Decimal('3.0'), Decimal('66.0'), Decimal('4.0'), Decimal('130.0'), Decimal('29.0'), Decimal('2.0'), Decimal('2412.0'), Decimal('332.0'), Decimal('2.0'), Decimal('422.0'), Decimal('9.0'), Decimal('112.0'), Decimal('743.0'), Decimal('9.0'), Decimal('39.0'), Decimal('14000.0'), Decimal('1840.0'), Decimal('744.0'), Decimal('5.0'), Decimal('182.0'), Decimal('3.0'), Decimal('368.0'), Decimal('1.0'), Decimal('397.0'), Decimal('6.0'), Decimal('604.0'), Decimal('1.0'), Decimal('1821.0'), Decimal('167.0'), Decimal('745.0'), Decimal('4.0'), Decimal('746.0'), Decimal('4.0'), Decimal('210.0'), Decimal('46.0'), Decimal('747.0'), Decimal('5.0'), Decimal('5.0'), Decimal('740.0'), Decimal('1843.0'), Decimal('284.0'), Decimal('2019.0'), Decimal('9.0'), Decimal('1.0'), Decimal('55.0'), Decimal('266.0'), Decimal('271.0'), Decimal('1876.0'), Decimal('2.0'), Decimal('47.0'), Decimal('362.0'), Decimal('376.0'), Decimal('1872.0'), Decimal('3.0'), Decimal('45.0'), Decimal('329.0'), Decimal('334.0'), Decimal('1871.0'), Decimal('4.0'), Decimal('31.0'), Decimal('526.0'), Decimal('527.0'), Decimal('1858.0'), Decimal('5.0'), Decimal('21.0'), Decimal('333.0'), Decimal('335.0'), Decimal('1852.0'), Decimal('6.0'), Decimal('8.0'), Decimal('145.0'), Decimal('147.0'), Decimal('1857.0'), Decimal('7.0'), Decimal('65.0'), Decimal('256.0'), Decimal('258.0'), Decimal('3.0'), Decimal('1880.0'), Decimal('8.0'), Decimal('4.0'), Decimal('913.0'), Decimal('914.0'), Decimal('1887.0'), Decimal('9.0'), Decimal('103.0'), Decimal('464.0'), Decimal('1936.0'), Decimal('3.0'), Decimal('1.0'), Decimal('9.0'), Decimal('39.0'), Decimal('1828.0'), Decimal('2.0'), Decimal('2.0'), Decimal('5.0'), Decimal('182.0'), Decimal('1837.0'), Decimal('2.0'), Decimal('3.0'), Decimal('9.0'), Decimal('108.0'), Decimal('1812.0'), Decimal('6.0'), Decimal('1.0'), Decimal('2.0')]\n"
          ],
          "name": "stdout"
        }
      ]
    },
    {
      "cell_type": "code",
      "metadata": {
        "colab": {
          "base_uri": "https://localhost:8080/"
        },
        "id": "yFi0etM3ExyL",
        "outputId": "ffa3ed0b-1477-4663-f7e0-7cb16a3586f2"
      },
      "source": [
        "#Citations\r\n",
        "import lexnlp.extract.en.citations\r\n",
        "print(list(lexnlp.extract.en.citations.get_citations(text)))"
      ],
      "execution_count": 6,
      "outputs": [
        {
          "output_type": "stream",
          "text": [
            "[(1843, 'WL', 'West Law Citation', 284, None, None, None)]\n"
          ],
          "name": "stdout"
        }
      ]
    },
    {
      "cell_type": "code",
      "metadata": {
        "colab": {
          "base_uri": "https://localhost:8080/"
        },
        "id": "L5aTmcDEE0Q9",
        "outputId": "95ed4a3c-5c14-4b1a-b448-cceff68173fd"
      },
      "source": [
        "#Companies\r\n",
        "import lexnlp.extract.en.entities.nltk_re\r\n",
        "print(list(lexnlp.extract.en.entities.nltk_re.get_companies(text)))"
      ],
      "execution_count": 7,
      "outputs": [
        {
          "output_type": "stream",
          "text": [
            "[Lehman Durr Co, (17439, 17455)]\n"
          ],
          "name": "stdout"
        }
      ]
    },
    {
      "cell_type": "code",
      "metadata": {
        "colab": {
          "base_uri": "https://localhost:8080/"
        },
        "id": "pvLI1y2NE5cf",
        "outputId": "dfa40dd2-3c0a-4cfb-a4e2-db943ee80a12"
      },
      "source": [
        "#Conditions\r\n",
        "import lexnlp.extract.en.conditions\r\n",
        "print(list(lexnlp.extract.en.conditions.get_conditions(text)))"
      ],
      "execution_count": 9,
      "outputs": [
        {
          "output_type": "stream",
          "text": [
            "[('until', '5 Ala 740\\r Supreme Court of Alabama\\r ADAMS\\r v\\r TANNER AND HORTON\\r June Term 1843\\r Synopsis\\r WRIT of Error to the Circuit Court of Sumter\\r \\xa0\\r \\r \\r West Headnotes 2\\r \\r \\r 1\\r Chattel Mortgages\\r Crops\\r A growing crop has such an existence as to be the subjectmatter of a mortgage or other contract which passes an interest to vest in possession either immediately or at a future time\\r 4 Cases that cite this headnote\\r \\r 2\\r Creditors’ Remedies\\r Lien and Priority\\r Under St1821 prohibiting a levy on a crop', ''), ('until', 'it has been gathered no lien attaches in favor of a fi fa on a growing crop nor does such lien attach', ''), ('if', 'after the crop has been gathered\\r 5 Cases that cite this headnote\\r \\r 1 This was a trial of the right of property under the statute In November 1840 an execution issued from the circuit court of Sumter at the suit of the plaintiff in error requiring the sheriff of that county to make of the goods c of Allen Harrison and others the sum of thirtyseven hundred and seventyseven 80100 dollars besides costs This execution was levied on thirty bales of cotton as the property of Allen Harrison which was claimed and a bond given to try the right An issue was made up to try the question of the liability of the cotton to the plaintiff’s execution and submitted to a jury On the trial a bill of exceptions was sealed at the instance of the plaintiff The plaintiff proved that he recovered his judgment in October 1839 that an execution 741 was issued thereon on the 7th Nov thereafter and that alias and pluries fieri facias’ issued regularly up to the time levy was made that the cotton levied on was growed on the plantation of Harrison and cultivated by the hands in his service It was proved by the claimants by the production of a written contract that Harrison on the twentysecond of May 1840 in consideration that the claimants were involved as indorsers for Burton  Harrison of Sumter county and were then exposed to an execution amounting to upwards of fourteen thousand dollars bargained and sold to the claimants all his growing crop of cotton c consisting of one hundred and twenty acres c Allen Harrison promised and obliged himself to give up his crop to the use of the claimants at any time to save them from suffering as his indorsers', ''), ('where', 'the crop matured and was gathered he undertook to deliver the cotton in Gainesville The claimants came from Tennessee', ''), ('when', 'they resided about the first of September 1840 bringing with them three or four white laborers and took possession of the crop and slaves and with the latter and white laborers gathered the cotton prepared it for market and', ''), ('if', 'levied on it was in a warehouse in Gainesville The plaintiff then proved by Harrison that the claimants took possession of the crop while he was absent and disposed of it without his consent It was admitted that the contract was made in good faith\\r The court charged the jury that the plaintiff had no lien by virtue of his judgment and execution on the growing crop that Harrison had a right to convey it without being in any manner restrained by them that the writing adduced was a sale of the crop but', ''), ('when', 'it was not and the lien of the fieri facias would have attached upon it', ''), ('if', 'gathered yet', ''), ('not subject to', 'the claimants obtained possession on the first of September and controlled the gathering of the crop then no lien attached and it was', ''), ('until', 'the levy\\r Attorneys and Law Firms\\r R H SMITH for the plaintiff in error made the following points1 The crop of Harrison must in May 1840 have been in an immature state and it is insisted was not the subject of a sale 2 By the common law a growing crop could be levied on and sold 1 Salk Rep 361 1 Bos  P Rep 307 6 East’s Rep 604 note 1 2 Johns Rep 418 422 7 Mass Rep 34 and our statue Aik Dig § 41 p 167 which forbids the levy of an 742 execution on a growing crop is to receive a strict construction It merely inhibits the levy but the lien attaches and a levy and sale may be made after the crop matures and is gathered 3 The contract does not purport to convey the growing crop but is a mere executory agreement requiring some act to be done by Harrison in order to invest the claimants with the right of property Chit on Con 112 207 3 Johns Rep 338 424 5 Wend Rep 26 13 Johns Rep 235 8 Dowl Rep 693 and', ''), ('until', 'this act was done the crop no matter by who gathered because liable to be seized for Harrison’s debts A court of chancery would not compel a specific performance of the contract at the claimant’s instance 4 The charge of the court is also objectionable in deciding disputed facts\\r W M MURPHY with whom was W G JONES for the defendantcited the act of 1821 Aik Dig 167 which declares it to be lawful to levy an execution on a planted crop', ''), ('if', 'it is gathered and contended that no lien attached in favor of the plaintiff This being the case the defendant in execution was not restrained from making the contract which he did with the claimants\\r 2 The lien of an execution is destroyed by an injunction because it takes away the right to levy it In short whenever the right to levy an execution is but temporarily suspended or withdrawn the lien is during that time lost Whipple v Foot 2 Johns Rep 216 3 Wash C C Rep 66 4 How Rep 130\\r It is admitted that the contract between the defendant in execution and the claimants was in good faith', ''), ('when', 'so the severance and removal of the cotton gave the latter a good title against all creditors of the former\\r Opinion\\r \\r COLLIER C J\\r \\r There can be no doubt that a growing crop has such an existence as to be the subject matter of a sale mortgage or other contract which possess an interest to vest in possession either immediately or at some future time This proposition has frequently been assumed as unquestionable the point of inquiry generally being whether under a statute of frauds such as the 29 Chas 2 it is a mere chattel and transferrable by parol without writing Chitty on Con 2412 332 Whipple v Foot 2 Johns Rep 422 Stewart v Doughty 9 Johns Rep 112 743 Austin v Sawyer 9 Cow Rep 39 See also Ravesies v Lee  Alston at last term The contract set out in the bill of exceptions we are inclined to think evidences rather a mortgage than an absolute sale It recites that the claimants are involved as indorsers of a mercantile firm of which the defendant was a partner that an execution for upwards of fourteen thousand dollars against their estate is in the sheriff’s hands and that a conveyance is made of the crop of cotton corn and oats which the grantor agrees to give up at any time to the use of the claimants so as to prevent injury to them as indorsers The defendant in execution might at any time have divested the interest which the contract vested in the claimants by discharging their liability as his indorsers or a judgment creditor might have satisfied the lien and', ''), ('unless', 'the crop was gathered have levied on and sold it under a fieri facias\\r We will then consider the writing under which the claimants assert a right as a mortgage with a power to take possession any time during the year', ''), ('if', 'they should be relieved from their engagements as indorsers It is not pretended that their liability has been satisfied and it is admitted that the parties have acted with good faith so that it is a dry question of law whether the right of the plaintiff or the claimants shall prevail Assuming for the present that the execution of the plaintiffs did not operate a lien upon the planted crop previous to the contract of May 1840 we will inquire whether the defendant in execution had such an interest as could be levied on and sold\\r The claimants had previous to the levy of the execution taken possession of the crop prepared the cotton for market and removed it to a warehouse This possession it is insisted was a trespass because it was acquired in the absence of the defendant in execution and without his consent then given Conceding the truth of the facts stated in the bill of exceptions and we think it will not follow that the possession of the claimants is a nullity and that the case must be considered as', ''), ('if', 'they had never interfered with the crop The contract contains an express undertaking to give up the crop at any time the claimants might require it for their indemnity and', ''), ('if', 'they took possession of it in the absence of the grantor though without his consent', ''), ('if', 'he subsequently acquiesced in it the inference would be', ''), ('subject to', 'necessary that their acts were approved by him Taking this to be clear 744 law and it will be seen that the defendant in execution at the time of the levy had nothing more than a mere equitable right to redeem the cotton by paying the debts indorsed by the claimants He had no possession coupled with this equity but only a naked equity which it has been held cannot be reached by an ordinary execution Perkins and Elliott v Mayfield 5 Porter’s Rep 182\\r 3 This brings us back to the question whether the execution of the plaintiff was a lien on the growing crop so as to defeat the mortgage to the claimants It has been frequently mooted whether at common law corn c before it is gathered can be seized under a fieri facias Mr Dane in remarking upon this point says “The American editor of Bacon’s Abridgment says ‘Wheat growing in the ground is a chattel and', ''), ('until', 'be taken in execution and the sheriff may suffer it to grow till harvest and then cut and sell it or may perhaps sell it growing and the purchaser will then be entitled to enter for the purpose of cutting and carrying it away” He cites Whipple v Foot ut supra also Poole’s case Salk 368 1 Bos  P 397 6 East 604 n But Whipple v Foot seems to be the only case that supports his position that unripe wheat or corn may be taken in execution and the same editor states that nothing can be taken in execution which cannot be sold This position says the learned commentator is no doubt law But it is unnecessary to consider how this matter stands at common law The first section of the act of 1821 “To prevent sheriffs and other officers from levying executions in certain cases enacts that “It shall not be lawful for any sheriff or other officer to levy a writ of fieri facias or other execution on the planted crop of a debtor or person against whom an execution may issue', ''), ('until', 'the crop is gathered” Aik Dig 167 Now here is an express inhibition to levy an execution on a crop while it remains on or in the ground and', ''), ('if', 'it is severed from the soil to which it owes its growth In respect to property thus situated will the lien of an execution attach eo instanti upon its being placed in the hands of an officer', ''), ('until', 'so the act cited will only have the effect of keeping the right to levy it in abeyance', ''), ('if', 'the crop is gathered The lien of an execution does not only operate so as to prevent the debtor from disposing of the property on which it attaches but gives to the creditor the right to have it sold to satisfy his 745 judgment The lien and the right to levy are intimately connected and', ''), ('until', 'the latter be taken away or suspended the effect at common law is the destruction of the former This principle is fully established by Mansony and Hurtell v The President c of the Bank of the United States and its assignees and the citations contained in the opinion of the court in that case as also in my opinion in Wood v Gary et al both decided at the last term That it was competent for the legislature to have made it unlawful to levy an execution on particular property', ''), ('if', 'its condition was changed and still to give it a continuing lien cannot be doubted but there is nothing in the act in question to indicate that such is its intention', ''), ('until', 'the object was merely to suspend the sale', ''), ('as soon as', 'the crop was gathered it would have been very easy to have said so in explicit terms but declaring as the statute does in totidem verbis that the execution shall not be levied the legislature must be supposed to have meant what they have expressed The act was induced by the doubts which existed as to what was the common law and was intended to remove those doubts by declaring what should be the law in future It does not create a lien or authorize a levy in a case in which the law as it then existed was silent The idea that the lien attached upon the planted crop', ''), ('until', 'the execution was delivered to the sheriff though the right to levy it was postponed', ''), ('if', 'a severance took place is attempted to be deduced from the last words of the section cited viz “until the crop is gathered” These words cannot upon any just principles of construction be regarded so potent as to give to an execution a retrospective effect They do not refer to the lien', ''), ('until', 'they did they would postpone it', ''), ('until', 'the crop was gathered but it is the levy they relate to and postpone', ''), ('until', 'that event takes place\\r 4 The right to levy an execution on a planted crop then being expressly taken away by the statute the lien which is connected with and consequent upon that right never attaches', ''), ('if', 'severance This being the case the right of the defendant in execution to make the contract which he did is unquestionable and the title of the claimants coupled as it was with the possession was paramount to any lien which the execution could exert\\r The circuit judge may have mistaken the law in supposing that the contract was a sale but', ''), ('when', 'he did an error in that respect was very immaterial for whether a sale or mortgage as we have 746 seen under the facts of the case the defendant in execution has no interest that could be seised and sold under execution There is no assumption of any material fact in the charge but the possession of the claimant the time', ''), ('if', 'acquired the gathering of the crop c are all referred to the determination of the jury who are instructed', ''), ('until', 'they find them according to the evidence adduced that no lien ever attached in favor of the plaintiff The bona fides of the contract was conceded so that no charge was necessary on that point and it could not with propriety enter into the inquiry of the jury\\r It results from what has been said that the judgment of the circuit court is affirmed\\r \\r DISSENTING OPINION\\r \\r ORMOND J\\r 4 The statute which presents the question before the court is that “it shall not be lawful for any sheriff or other officer to levy a writ of fieei facias or other execution on the planted crop of a debtor or person against whom an execution may issue', ''), ('subject to', 'the crop is gathered” Clay’s Dig 210 § 46\\r I shall not enter upon the enquiry whether at common law an execution could be levied upon a growing crop though I apprehend it would not be difficult to maintain the affirmative of the proposition It is sufficient for my purpose that the statute supposes such to have been the law as it doubtless was the practice\\r This act must be considered in connection with the other acts upon the same subject The policy of the State as indicated by these statutes is undeniably that all the property of a debtor real and personal to which he has a legal title shall be', ''), ('until', 'sale by execution and it appears to me that it would be difficult to assign a reason for the exemption of this species of property from the claims of judgment creditors and for giving to the defendant in execution the right to dispose of it It appears to me with all deference that the argument that because the sheriff was prohibited from levying on a ““planted crop” that therefore the execution had lost its lien and the debtor had the right to sell it is a non sequitur The mischief which the statute designed to remedy was the sacrifice which would be necessarily made by the sale of an immature crop the statute enables the debtor to retain it', ''), ('if', 'it matures and by severing it from the soil to put it 747 in a condition to bring its valuethe lien in the mean time continuing in the plaintiff in execution\\r 5', ''), ('until', 'further confirmation of the correctness of this view were necessary it will be found I think in the language employed by the legislature The sheriff is forbidden to levy on a “planted crop”', ''), ('if', 'the crop is gathered Now', ''), ('until', 'the view taken by the majority of the court is correct the right secured to the plaintiff in execution of levying on the crop after it is gathered may be frustrated as it was in this case by a sale by the defendant in execution whilst the crop is in an immature state The construction which has been put upon the statute involves the singular anomaly that the legislature for the protection of the debtor has forbidden the plaintiff in execution to sell the property of his debtor because it is not in a condition to bring its value and yet permits the debtor voluntarily by a sale to submit to the same sacrifice for his own benefit It is in effect a gift to the defendant in execution of the growing crop provided he does not gather it himself but disposes of it in its then condition This I feel a thorough conviction was not the intention of the legislature but that it was to secure him from loss by prohibiting a levy and sale of the crop', ''), ('when', 'it was gathered', ''), ('subject to', 'the temporary suspension of the right to sell ceased\\r All Citations\\r 5 Ala 740 1843 WL 284\\r End of Document\\r © 2019 Thomson Reuters No claim to original US Government Works\\r Citing References 9\\r Treatment\\r Title\\r Date\\r Type\\r Depth\\r Headnotes\\r Cited by\\r 1  Booker v Jones’s Adm’x\\r 55 Ala 266 271  Ala\\r Trover for Conversion of Cotton with Counts in Case APPEAL from the Circuit Court of Hale Tried before the Hon M J SAFFOLD\\r Dec Term 1876\\r Case\\r —\\r Cited by\\r 2  Lehman Durr  Co v Marshall\\r 47 Ala 362 376  Ala\\r TROVER FOR CONVERSION OF COTTON APPEAL from the City Court of Montgomery Tried before Hon JOHN D CUNNINGHAM\\r Jan Term 1872\\r Case\\r —\\r Cited by\\r 3  Bibb v Janney\\r 45 Ala 329 334  Ala\\r GARNISHMENT WAGES WAIVER OF EXEMPTION APPEAL from City Court of Montgomery Tried before Hon JOHN D CUNNINGHAM\\r Jan Term 1871\\r Case\\r —\\r Cited by\\r 4  McKenzie v Lampley\\r 31 Ala 526 527  Ala\\r TRIAL OF RIGHT OF PROPERTY IN COTTON APPEAL from the Circuit Court of Barbour Tried before the Hon S D HALE\\r Jan Term 1858\\r Case\\r —\\r Cited by\\r 5  Evans v Lamar\\r 21 Ala 333 335  Ala\\r ERROR to the Circuit Court of Autauga Tried before the Hon A B MOORE\\r Jun Term 1852\\r Case\\r —\\r Cited by\\r  6  Dewey v Bowman\\r 8 Cal 145 147  Cal\\r The judgment of the Court below against Jacob S Cohen should be reversed for the following reasons Because the finding of the Court was so far as Cohen was concerned\\r Jul Term 1857\\r Case\\r —\\r Mentioned by\\r 7  Rees v Coats\\r 65 Ala 256 258  Ala\\r Trover for Conversion of Three Bales of Cotton APPEAL from the Circuit Court of Etowah Tried before the Hon WM L WHITLOCK\\r Nov Term 1880\\r Case\\r —\\r Mentioned by\\r 8  Edwards v Thompson\\r 4 SW 913 914  Tenn\\r Appeal from circuit court Weakley county\\r May 1887\\r Case\\r —\\r —\\r 9  Growing crops as', ''), ('subject to', 'levy and seizure under attachment or execution\\r 103 ALR 464\\r Generally at common law growing crops raised by annual planting while still attached to the soil are regarded as personal chattels', ''), ('where', 'levy and seizure under attachment\\r 1936\\r ALR\\r —\\r —\\r Table of Authorities 3\\r Treatment\\r Referenced Title\\r Type\\r Depth\\r Quoted\\r Page Number\\r Mentioned\\r 1  Austin v Sawyer\\r 9 Cow 39 NYSup 1828\\r Parol evidence is not admissible to contradict or substantially vary a written contract And', '')]\n"
          ],
          "name": "stdout"
        }
      ]
    },
    {
      "cell_type": "code",
      "metadata": {
        "colab": {
          "base_uri": "https://localhost:8080/"
        },
        "id": "hj6Kx8jcFKEu",
        "outputId": "28570592-c4ba-4831-95d6-b827f7f51813"
      },
      "source": [
        "#Constraints\r\n",
        "import lexnlp.extract.en.constraints\r\n",
        "print(list(lexnlp.extract.en.constraints.get_constraints(text)))"
      ],
      "execution_count": 10,
      "outputs": [
        {
          "output_type": "stream",
          "text": [
            "[('after', '5 ala 740\\r supreme court of alabama\\r adams\\r v\\r tanner and horton\\r june term 1843\\r synopsis\\r writ of error to the circuit court of sumter\\r \\xa0\\r \\r \\r west headnotes 2\\r \\r \\r 1\\r chattel mortgages\\r crops\\r a growing crop has such an existence as to be the subjectmatter of a mortgage or other contract which passes an interest to vest in possession either immediately or at a future time\\r 4 cases that cite this headnote\\r \\r 2\\r creditors’ remedies\\r lien and priority\\r under st1821 prohibiting a levy on a crop until it has been gathered no lien attaches in favor of a fi fa on a growing crop nor does such lien attach until', ''), ('first of', 'the crop has been gathered\\r 5 cases that cite this headnote\\r \\r 1 this was a trial of the right of property under the statute in november 1840 an execution issued from the circuit court of sumter at the suit of the plaintiff in error requiring the sheriff of that county to make of the goods c of allen harrison and others the sum of thirtyseven hundred and seventyseven 80100 dollars besides costs this execution was levied on thirty bales of cotton as the property of allen harrison which was claimed and a bond given to try the right an issue was made up to try the question of the liability of the cotton to the plaintiff’s execution and submitted to a jury on the trial a bill of exceptions was sealed at the instance of the plaintiff the plaintiff proved that he recovered his judgment in october 1839 that an execution 741 was issued thereon on the 7th nov thereafter and that alias and pluries fieri facias’ issued regularly up to the time levy was made that the cotton levied on was growed on the plantation of harrison and cultivated by the hands in his service it was proved by the claimants by the production of a written contract that harrison on the twentysecond of may 1840 in consideration that the claimants were involved as indorsers for burton  harrison of sumter county and were then exposed to an execution amounting to upwards of fourteen thousand dollars bargained and sold to the claimants all his growing crop of cotton c consisting of one hundred and twenty acres c allen harrison promised and obliged himself to give up his crop to the use of the claimants at any time to save them from suffering as his indorsers if the crop matured and was gathered he undertook to deliver the cotton in gainesville the claimants came from tennessee where they resided about the', ''), ('first of', 'september 1840 bringing with them three or four white laborers and took possession of the crop and slaves and with the latter and white laborers gathered the cotton prepared it for market and when levied on it was in a warehouse in gainesville the plaintiff then proved by harrison that the claimants took possession of the crop while he was absent and disposed of it without his consent it was admitted that the contract was made in good faith\\r the court charged the jury that the plaintiff had no lien by virtue of his judgment and execution on the growing crop that harrison had a right to convey it without being in any manner restrained by them that the writing adduced was a sale of the crop but if it was not and the lien of the fieri facias would have attached upon it when gathered yet if the claimants obtained possession on the', ''), ('after', 'september and controlled the gathering of the crop then no lien attached and it was not subject to the levy\\r attorneys and law firms\\r r h smith for the plaintiff in error made the following points1 the crop of harrison must in may 1840 have been in an immature state and it is insisted was not the subject of a sale 2 by the common law a growing crop could be levied on and sold 1 salk rep 361 1 bos  p rep 307 6 east’s rep 604 note 1 2 johns rep 418 422 7 mass rep 34 and our statue aik dig § 41 p 167 which forbids the levy of an 742 execution on a growing crop is to receive a strict construction it merely inhibits the levy but the lien attaches and a levy and sale may be made', ''), ('more than', 'the crop matures and is gathered 3 the contract does not purport to convey the growing crop but is a mere executory agreement requiring some act to be done by harrison in order to invest the claimants with the right of property chit on con 112 207 3 johns rep 338 424 5 wend rep 26 13 johns rep 235 8 dowl rep 693 and until this act was done the crop no matter by who gathered because liable to be seized for harrison’s debts a court of chancery would not compel a specific performance of the contract at the claimant’s instance 4 the charge of the court is also objectionable in deciding disputed facts\\r w m murphy with whom was w g jones for the defendantcited the act of 1821 aik dig 167 which declares it to be lawful to levy an execution on a planted crop until it is gathered and contended that no lien attached in favor of the plaintiff this being the case the defendant in execution was not restrained from making the contract which he did with the claimants\\r 2 the lien of an execution is destroyed by an injunction because it takes away the right to levy it in short whenever the right to levy an execution is but temporarily suspended or withdrawn the lien is during that time lost whipple v foot 2 johns rep 216 3 wash c c rep 66 4 how rep 130\\r it is admitted that the contract between the defendant in execution and the claimants was in good faith if so the severance and removal of the cotton gave the latter a good title against all creditors of the former\\r opinion\\r \\r collier c j\\r \\r there can be no doubt that a growing crop has such an existence as to be the subject matter of a sale mortgage or other contract which possess an interest to vest in possession either immediately or at some future time this proposition has frequently been assumed as unquestionable the point of inquiry generally being whether under a statute of frauds such as the 29 chas 2 it is a mere chattel and transferrable by parol without writing chitty on con 2412 332 whipple v foot 2 johns rep 422 stewart v doughty 9 johns rep 112 743 austin v sawyer 9 cow rep 39 see also ravesies v lee  alston at last term the contract set out in the bill of exceptions we are inclined to think evidences rather a mortgage than an absolute sale it recites that the claimants are involved as indorsers of a mercantile firm of which the defendant was a partner that an execution for upwards of fourteen thousand dollars against their estate is in the sheriff’s hands and that a conveyance is made of the crop of cotton corn and oats which the grantor agrees to give up at any time to the use of the claimants so as to prevent injury to them as indorsers the defendant in execution might at any time have divested the interest which the contract vested in the claimants by discharging their liability as his indorsers or a judgment creditor might have satisfied the lien and when the crop was gathered have levied on and sold it under a fieri facias\\r we will then consider the writing under which the claimants assert a right as a mortgage with a power to take possession any time during the year unless they should be relieved from their engagements as indorsers it is not pretended that their liability has been satisfied and it is admitted that the parties have acted with good faith so that it is a dry question of law whether the right of the plaintiff or the claimants shall prevail assuming for the present that the execution of the plaintiffs did not operate a lien upon the planted crop previous to the contract of may 1840 we will inquire whether the defendant in execution had such an interest as could be levied on and sold\\r the claimants had previous to the levy of the execution taken possession of the crop prepared the cotton for market and removed it to a warehouse this possession it is insisted was a trespass because it was acquired in the absence of the defendant in execution and without his consent then given conceding the truth of the facts stated in the bill of exceptions and we think it will not follow that the possession of the claimants is a nullity and that the case must be considered as if they had never interfered with the crop the contract contains an express undertaking to give up the crop at any time the claimants might require it for their indemnity and if they took possession of it in the absence of the grantor though without his consent if he subsequently acquiesced in it the inference would be if necessary that their acts were approved by him taking this to be clear 744 law and it will be seen that the defendant in execution at the time of the levy had nothing', ''), ('before', 'a mere equitable right to redeem the cotton by paying the debts indorsed by the claimants he had no possession coupled with this equity but only a naked equity which it has been held cannot be reached by an ordinary execution perkins and elliott v mayfield 5 porter’s rep 182\\r 3 this brings us back to the question whether the execution of the plaintiff was a lien on the growing crop so as to defeat the mortgage to the claimants it has been frequently mooted whether at common law corn c', ''), ('before', 'it is gathered can be seized under a fieri facias mr dane in remarking upon this point says “the american editor of bacon’s abridgment says ‘wheat growing in the ground is a chattel and subject to be taken in execution and the sheriff may suffer it to grow till harvest and then cut and sell it or may perhaps sell it growing and the purchaser will then be entitled to enter for the purpose of cutting and carrying it away” he cites whipple v foot ut supra also poole’s case salk 368 1 bos  p 397 6 east 604 n but whipple v foot seems to be the only case that supports his position that unripe wheat or corn may be taken in execution and the same editor states that nothing can be taken in execution which cannot be sold this position says the learned commentator is no doubt law but it is unnecessary to consider how this matter stands at common law the first section of the act of 1821 “to prevent sheriffs and other officers from levying executions in certain cases enacts that “it shall not be lawful for any sheriff or other officer to levy a writ of fieri facias or other execution on the planted crop of a debtor or person against whom an execution may issue until the crop is gathered” aik dig 167 now here is an express inhibition to levy an execution on a crop while it remains on or in the ground and until it is severed from the soil to which it owes its growth in respect to property thus situated will the lien of an execution attach eo instanti upon its being placed in the hands of an officer if so the act cited will only have the effect of keeping the right to levy it in abeyance until the crop is gathered the lien of an execution does not only operate so as to prevent the debtor from disposing of the property on which it attaches but gives to the creditor the right to have it sold to satisfy his 745 judgment the lien and the right to levy are intimately connected and if the latter be taken away or suspended the effect at common law is the destruction of the former this principle is fully established by mansony and hurtell v the president c of the bank of the united states and its assignees and the citations contained in the opinion of the court in that case as also in my opinion in wood v gary et al both decided at the last term that it was competent for the legislature to have made it unlawful to levy an execution on particular property until its condition was changed and still to give it a continuing lien cannot be doubted but there is nothing in the act in question to indicate that such is its intention if the object was merely to suspend the sale until the crop was gathered it would have been very easy to have said so in explicit terms but declaring as the statute does in totidem verbis that the execution shall not be levied the legislature must be supposed to have meant what they have expressed the act was induced by the doubts which existed as to what was the common law and was intended to remove those doubts by declaring what should be the law in future it does not create a lien or authorize a levy in a case in which the law as it then existed was silent the idea that the lien attached upon the planted crop as soon as the execution was delivered to the sheriff though the right to levy it was postponed until a severance took place is attempted to be deduced from the last words of the section cited viz “until the crop is gathered” these words cannot upon any just principles of construction be regarded so potent as to give to an execution a retrospective effect they do not refer to the lien if they did they would postpone it until the crop was gathered but it is the levy they relate to and postpone until that event takes place\\r 4 the right to levy an execution on a planted crop then being expressly taken away by the statute the lien which is connected with and consequent upon that right never attaches until severance this being the case the right of the defendant in execution to make the contract which he did is unquestionable and the title of the claimants coupled as it was with the possession was paramount to any lien which the execution could exert\\r the circuit judge may have mistaken the law in supposing that the contract was a sale but if he did an error in that respect was very immaterial for whether a sale or mortgage as we have 746 seen under the facts of the case the defendant in execution has no interest that could be seised and sold under execution there is no assumption of any material fact in the charge but the possession of the claimant the time when acquired the gathering of the crop c are all referred to the determination of the jury who are instructed if they find them according to the evidence adduced that no lien ever attached in favor of the plaintiff the bona fides of the contract was conceded so that no charge was necessary on that point and it could not with propriety enter into the inquiry of the jury\\r it results from what has been said that the judgment of the circuit court is affirmed\\r \\r dissenting opinion\\r \\r ormond j\\r 4 the statute which presents the question', ''), ('after', 'the court is that “it shall not be lawful for any sheriff or other officer to levy a writ of fieei facias or other execution on the planted crop of a debtor or person against whom an execution may issue until the crop is gathered” clay’s dig 210 § 46\\r i shall not enter upon the enquiry whether at common law an execution could be levied upon a growing crop though i apprehend it would not be difficult to maintain the affirmative of the proposition it is sufficient for my purpose that the statute supposes such to have been the law as it doubtless was the practice\\r this act must be considered in connection with the other acts upon the same subject the policy of the state as indicated by these statutes is undeniably that all the property of a debtor real and personal to which he has a legal title shall be subject to sale by execution and it appears to me that it would be difficult to assign a reason for the exemption of this species of property from the claims of judgment creditors and for giving to the defendant in execution the right to dispose of it it appears to me with all deference that the argument that because the sheriff was prohibited from levying on a ““planted crop” that therefore the execution had lost its lien and the debtor had the right to sell it is a non sequitur the mischief which the statute designed to remedy was the sacrifice which would be necessarily made by the sale of an immature crop the statute enables the debtor to retain it until it matures and by severing it from the soil to put it 747 in a condition to bring its valuethe lien in the mean time continuing in the plaintiff in execution\\r 5 if further confirmation of the correctness of this view were necessary it will be found i think in the language employed by the legislature the sheriff is forbidden to levy on a “planted crop” until the crop is gathered now if the view taken by the majority of the court is correct the right secured to the plaintiff in execution of levying on the crop', ''), ('before', 'it is gathered may be frustrated as it was in this case by a sale by the defendant in execution whilst the crop is in an immature state the construction which has been put upon the statute involves the singular anomaly that the legislature for the protection of the debtor has forbidden the plaintiff in execution to sell the property of his debtor because it is not in a condition to bring its value and yet permits the debtor voluntarily by a sale to submit to the same sacrifice for his own benefit it is in effect a gift to the defendant in execution of the growing crop provided he does not gather it himself but disposes of it in its then condition this i feel a thorough conviction was not the intention of the legislature but that it was to secure him from loss by prohibiting a levy and sale of the crop until it was gathered when the temporary suspension of the right to sell ceased\\r all citations\\r 5 ala 740 1843 wl 284\\r end of document\\r © 2019 thomson reuters no claim to original us government works\\r citing references 9\\r treatment\\r title\\r date\\r type\\r depth\\r headnotes\\r cited by\\r 1  booker v jones’s adm’x\\r 55 ala 266 271  ala\\r trover for conversion of cotton with counts in case appeal from the circuit court of hale tried', ''), ('before', 'the hon m j saffold\\r dec term 1876\\r case\\r —\\r cited by\\r 2  lehman durr  co v marshall\\r 47 ala 362 376  ala\\r trover for conversion of cotton appeal from the city court of montgomery tried', ''), ('before', 'hon john d cunningham\\r jan term 1872\\r case\\r —\\r cited by\\r 3  bibb v janney\\r 45 ala 329 334  ala\\r garnishment wages waiver of exemption appeal from city court of montgomery tried', ''), ('before', 'hon john d cunningham\\r jan term 1871\\r case\\r —\\r cited by\\r 4  mckenzie v lampley\\r 31 ala 526 527  ala\\r trial of right of property in cotton appeal from the circuit court of barbour tried', ''), ('before', 'the hon s d hale\\r jan term 1858\\r case\\r —\\r cited by\\r 5  evans v lamar\\r 21 ala 333 335  ala\\r error to the circuit court of autauga tried', ''), ('before', 'the hon a b moore\\r jun term 1852\\r case\\r —\\r cited by\\r  6  dewey v bowman\\r 8 cal 145 147  cal\\r the judgment of the court below against jacob s cohen should be reversed for the following reasons because the finding of the court was so far as cohen was concerned\\r jul term 1857\\r case\\r —\\r mentioned by\\r 7  rees v coats\\r 65 ala 256 258  ala\\r trover for conversion of three bales of cotton appeal from the circuit court of etowah tried', '')]\n"
          ],
          "name": "stdout"
        }
      ]
    },
    {
      "cell_type": "code",
      "metadata": {
        "colab": {
          "base_uri": "https://localhost:8080/"
        },
        "id": "yXrjhd_kFW5c",
        "outputId": "efbe92fb-f44b-421f-cd96-d5da2b254cf5"
      },
      "source": [
        "#Copy Rights\r\n",
        "\r\n",
        "import lexnlp.extract.en.copyright\r\n",
        "print(list(lexnlp.extract.en.copyright.get_copyright(text)))"
      ],
      "execution_count": 11,
      "outputs": [
        {
          "output_type": "stream",
          "text": [
            "[('©', '2019', 'Thomson Reuters No')]\n"
          ],
          "name": "stdout"
        }
      ]
    },
    {
      "cell_type": "code",
      "metadata": {
        "id": "9Nxnw9y2FbQn"
      },
      "source": [
        "#Courts\r\n",
        "import lexnlp.extract.en.dict_entities\r\n",
        "import lexnlp.extract.en.courts\r\n",
        "import pandas\r\n",
        "\r\n",
        "court_df = pandas.read_csv(\"https://raw.githubusercontent.com/LexPredict/lexpredict-legal-dictionary/1.0.5/en/legal/us_courts.csv\")\r\n",
        "# Create config objects\r\n",
        "court_config_data = []\r\n",
        "for _, row in court_df.iterrows():\r\n",
        "    x = lexnlp.extract.en.dict_entities.entity_config(row[\"Court ID\"], row[\"Court Name\"], 0, row[\"Alias\"].split(\";\") if not pandas.isnull(row[\"Alias\"]) else [])\r\n",
        "    court_config_data.append(x)\r\n",
        "for entity, alias in lexnlp.extract.en.courts.get_courts(text, court_config_data):\r\n",
        "    print(\"entity=\", entity)\r\n",
        "    print(\"alias=\", alias)\r\n"
      ],
      "execution_count": null,
      "outputs": []
    },
    {
      "cell_type": "code",
      "metadata": {
        "colab": {
          "base_uri": "https://localhost:8080/"
        },
        "id": "_1I9ziCBFoq3",
        "outputId": "a4e020c6-8ecb-4737-eea9-2a3f464b04b6"
      },
      "source": [
        "#Cusip\r\n",
        "import lexnlp.extract.en.cusip\r\n",
        "cusip = list(lexnlp.extract.en.cusip.get_cusip(text))\r\n",
        "if cusip:\r\n",
        "  print(cusip)\r\n",
        "else:\r\n",
        "  print('No Cusip')"
      ],
      "execution_count": 13,
      "outputs": [
        {
          "output_type": "stream",
          "text": [
            "No Cusip\n"
          ],
          "name": "stdout"
        }
      ]
    },
    {
      "cell_type": "code",
      "metadata": {
        "colab": {
          "base_uri": "https://localhost:8080/"
        },
        "id": "ynuLXNU6FwnP",
        "outputId": "73c26da0-b7f0-4baf-8b4a-4c77285b6bd6"
      },
      "source": [
        "#Dates\r\n",
        "import lexnlp.extract.en.dates\r\n",
        "print(list(lexnlp.extract.en.dates.get_dates(text)))"
      ],
      "execution_count": 14,
      "outputs": [
        {
          "output_type": "stream",
          "text": [
            "[datetime.date(2021, 6, 1), datetime.date(1840, 11, 1), datetime.date(1839, 10, 1), datetime.date(1840, 5, 1), datetime.date(1840, 9, 1), datetime.date(1840, 5, 1), datetime.date(1840, 5, 1), datetime.date(2021, 12, 1), datetime.date(2021, 12, 1), datetime.date(2021, 1, 1), datetime.date(2021, 1, 1), datetime.date(2021, 1, 1), datetime.date(2021, 3, 21), datetime.date(2021, 6, 1), datetime.date(2021, 7, 1), datetime.date(2021, 11, 1), datetime.date(1887, 5, 1)]\n"
          ],
          "name": "stdout"
        }
      ]
    },
    {
      "cell_type": "code",
      "metadata": {
        "colab": {
          "base_uri": "https://localhost:8080/"
        },
        "id": "08XLl-HOF27R",
        "outputId": "ebf31fcf-16b3-4f19-bb02-4a9c6a40cf3f"
      },
      "source": [
        "#Definitions\r\n",
        "import lexnlp.extract.en.definitions\r\n",
        "definitions = list(lexnlp.extract.en.definitions.get_definitions(text))\r\n",
        "if definitions:\r\n",
        "  print(Definitions)\r\n",
        "else:\r\n",
        "  print('No Definitions')"
      ],
      "execution_count": 16,
      "outputs": [
        {
          "output_type": "stream",
          "text": [
            "No Definitions\n"
          ],
          "name": "stdout"
        }
      ]
    },
    {
      "cell_type": "code",
      "metadata": {
        "colab": {
          "base_uri": "https://localhost:8080/"
        },
        "id": "JnN_aStXGBn1",
        "outputId": "19d2bed2-23a1-4ada-8541-26882344655c"
      },
      "source": [
        "#Distances\r\n",
        "import lexnlp.extract.en.distances\r\n",
        "distances = list(lexnlp.extract.en.distances.get_distances(text))\r\n",
        "if distances:\r\n",
        "  print(Distances)\r\n",
        "else:\r\n",
        "  print('No Distances')"
      ],
      "execution_count": 17,
      "outputs": [
        {
          "output_type": "stream",
          "text": [
            "No Distances\n"
          ],
          "name": "stdout"
        }
      ]
    },
    {
      "cell_type": "code",
      "metadata": {
        "colab": {
          "base_uri": "https://localhost:8080/"
        },
        "id": "vbgDq_OzGJz5",
        "outputId": "11090152-171c-443c-daad-7b52d304a46d"
      },
      "source": [
        "#Duration\r\n",
        "import lexnlp.extract.en.durations\r\n",
        "print(list(lexnlp.extract.en.durations.get_durations(text)))"
      ],
      "execution_count": 18,
      "outputs": [
        {
          "output_type": "stream",
          "text": [
            "[('year', Decimal('6.0'), Decimal('2190.0'))]\n"
          ],
          "name": "stdout"
        }
      ]
    },
    {
      "cell_type": "code",
      "metadata": {
        "id": "gLSY0z6cGPMe"
      },
      "source": [
        "#Geographical Locations\r\n",
        "import lexnlp.extract.en.geoentities\r\n",
        "geo_df = pd.read_csv(\"https://raw.githubusercontent.com/LexPredict/lexpredict-lexnlp/master/test_data/lexnlp/extract/en/tests/test_geoentities/geoentities.csv\")\r\n",
        "geo_config_data = []\r\n",
        "for _, row in geo_df.iterrows():\r\n",
        "  g = entity_config(row[\"entity_id\"], row[\"name\"],row[\"category\"])\r\n",
        "  geo_config_data.append(g)\r\n",
        "for entity, alias in lexnlp.extract.en.geoentities.get_geoentities(text, geo_config_data):\r\n",
        "  print(\"entity=\", entity)\r\n",
        "  print(\"alias=\", alias)"
      ],
      "execution_count": null,
      "outputs": []
    },
    {
      "cell_type": "code",
      "metadata": {
        "colab": {
          "base_uri": "https://localhost:8080/"
        },
        "id": "IAfvkeFhGYGz",
        "outputId": "f7fa7aac-ae60-45a3-c9f3-026e52a2ca2c"
      },
      "source": [
        "# Money\r\n",
        "import lexnlp.extract.en.money\r\n",
        "print(list(lexnlp.extract.en.money.get_money(text)))"
      ],
      "execution_count": 20,
      "outputs": [
        {
          "output_type": "stream",
          "text": [
            "[(Decimal('80100.0'), 'USD'), (Decimal('14000.0'), 'USD'), (Decimal('14000.0'), 'USD')]\n"
          ],
          "name": "stdout"
        }
      ]
    },
    {
      "cell_type": "code",
      "metadata": {
        "colab": {
          "base_uri": "https://localhost:8080/"
        },
        "id": "2ch8WYUhGfDx",
        "outputId": "3eb78b70-359c-4ad9-f02b-e4bf8907bc1b"
      },
      "source": [
        "#Percentage\r\n",
        "import lexnlp.extract.en.percents\r\n",
        "Percentage = list(lexnlp.extract.en.percents.get_percents(text))\r\n",
        "if Percentage:\r\n",
        "  print(Percentage)\r\n",
        "else:\r\n",
        "  print('No Percentage')"
      ],
      "execution_count": 21,
      "outputs": [
        {
          "output_type": "stream",
          "text": [
            "No Percentage\n"
          ],
          "name": "stdout"
        }
      ]
    },
    {
      "cell_type": "code",
      "metadata": {
        "colab": {
          "base_uri": "https://localhost:8080/"
        },
        "id": "jjmb_aMnGs1S",
        "outputId": "db9ccfe0-4500-4cdb-bfd3-17ef698804d2"
      },
      "source": [
        "#Pii\r\n",
        "import lexnlp.extract.en.pii\r\n",
        "Pi = list(lexnlp.extract.en.pii.get_pii(text))\r\n",
        "if Pi:\r\n",
        "  print(Pi)\r\n",
        "else:\r\n",
        "  print('No Pi')"
      ],
      "execution_count": 22,
      "outputs": [
        {
          "output_type": "stream",
          "text": [
            "No Pi\n"
          ],
          "name": "stdout"
        }
      ]
    },
    {
      "cell_type": "code",
      "metadata": {
        "colab": {
          "base_uri": "https://localhost:8080/"
        },
        "id": "NQ9hlh3pG3EL",
        "outputId": "6f6ad82e-6e23-4140-82d2-539959142c46"
      },
      "source": [
        "#Ratios\r\n",
        "\r\n",
        "import lexnlp.extract.en.ratios\r\n",
        "Ratio = list(lexnlp.extract.en.ratios.get_ratios(text))\r\n",
        "if Ratio:\r\n",
        "  print(Ratio)\r\n",
        "else:\r\n",
        "  print('No Ratio')"
      ],
      "execution_count": 24,
      "outputs": [
        {
          "output_type": "stream",
          "text": [
            "No Ratio\n"
          ],
          "name": "stdout"
        }
      ]
    },
    {
      "cell_type": "code",
      "metadata": {
        "colab": {
          "base_uri": "https://localhost:8080/"
        },
        "id": "9UZkocAGHGKb",
        "outputId": "c0a323a2-bc06-44d5-d1bf-7f890911f93f"
      },
      "source": [
        "#Regulation\r\n",
        "import lexnlp.extract.en.regulations\r\n",
        "Regulation = list(lexnlp.extract.en.regulations.get_regulations(text))\r\n",
        "if Regulation:\r\n",
        "  print(Regulation)\r\n",
        "else:\r\n",
        "  print('No Regulation')"
      ],
      "execution_count": 25,
      "outputs": [
        {
          "output_type": "stream",
          "text": [
            "No Regulation\n"
          ],
          "name": "stdout"
        }
      ]
    },
    {
      "cell_type": "code",
      "metadata": {
        "colab": {
          "base_uri": "https://localhost:8080/"
        },
        "id": "2OjOnsMjHSCj",
        "outputId": "788c82d6-2456-45cc-8a30-b04305acbc31"
      },
      "source": [
        "#Trademarks\r\n",
        "import lexnlp.extract.en.trademarks\r\n",
        "Trademark = list(lexnlp.extract.en.trademarks.get_trademarks(text))\r\n",
        "if Trademark:\r\n",
        "  print(Trademark)\r\n",
        "else:\r\n",
        "  print('No Trademark')"
      ],
      "execution_count": 26,
      "outputs": [
        {
          "output_type": "stream",
          "text": [
            "No Trademark\n"
          ],
          "name": "stdout"
        }
      ]
    },
    {
      "cell_type": "code",
      "metadata": {
        "colab": {
          "base_uri": "https://localhost:8080/"
        },
        "id": "5u08LijuHdKt",
        "outputId": "753c346c-efdd-4e1d-a2da-dee124a7dd1e"
      },
      "source": [
        "#Urls\r\n",
        "import lexnlp.extract.en.urls\r\n",
        "Urls = list(lexnlp.extract.en.urls.get_urls(text))\r\n",
        "if Urls:\r\n",
        "  print(Urls)\r\n",
        "else:\r\n",
        "  print('No Urls')"
      ],
      "execution_count": 27,
      "outputs": [
        {
          "output_type": "stream",
          "text": [
            "No Urls\n"
          ],
          "name": "stdout"
        }
      ]
    },
    {
      "cell_type": "code",
      "metadata": {
        "colab": {
          "base_uri": "https://localhost:8080/"
        },
        "id": "5zMGl4-9Hl_d",
        "outputId": "df4c52f7-a806-4860-aafc-ddac6f267468"
      },
      "source": [
        "#Address\r\n",
        "!pip install pyap\r\n",
        "import pyap\r\n",
        "addresses = pyap.parse(text, country='US')\r\n",
        "for address in addresses:\r\n",
        "  print(address)\r\n",
        "  print(address.as_dict())"
      ],
      "execution_count": 30,
      "outputs": [
        {
          "output_type": "stream",
          "text": [
            "Requirement already satisfied: pyap in /usr/local/lib/python3.7/dist-packages (0.3.1)\n",
            "5 Ala 740 Supreme Court of Alabama ADAMS\n",
            "{'full_address': '5 Ala 740 Supreme Court of Alabama ADAMS', 'full_street': '5 Ala 740 Supreme Court', 'street_number': '5', 'street_name': 'Ala 740 Supreme', 'street_type': 'Court', 'route_id': None, 'post_direction': None, 'floor': None, 'building_id': None, 'occupancy': None, 'city': 'of Alabama ADA', 'region1': 'MS', 'postal_code': None, 'country_id': 'US', 'match_start': 1, 'match_end': 42}\n"
          ],
          "name": "stdout"
        }
      ]
    },
    {
      "cell_type": "code",
      "metadata": {
        "colab": {
          "base_uri": "https://localhost:8080/"
        },
        "id": "lRa4DFUyH9aU",
        "outputId": "538f7bf5-6392-4c33-ba26-3690073e03df"
      },
      "source": [
        "#Person\r\n",
        "import spacy\r\n",
        "spacy_nlp  = spacy.load('en_core_web_sm')\r\n",
        "doc = spacy_nlp(text.strip())\r\n",
        "person = set()\r\n",
        "for i in doc.ents:\r\n",
        "  entry = str(i.lemma_).lower()\r\n",
        "  text_sample = text.replace(str(i).lower(), \"\")\r\n",
        "  if i.label_ == \"PERSON\":\r\n",
        "    person.add(entry.title())\r\n",
        "person"
      ],
      "execution_count": 31,
      "outputs": [
        {
          "output_type": "execute_result",
          "data": {
            "text/plain": [
              "{'Ala',\n",
              " 'Ala \\r  Error',\n",
              " 'Allen Harrison',\n",
              " 'Alston',\n",
              " 'Austin',\n",
              " 'Booker',\n",
              " 'Burton   Harrison',\n",
              " 'Case',\n",
              " 'Cohen',\n",
              " 'Dewey',\n",
              " 'Dowl Rep',\n",
              " 'Edwards',\n",
              " 'Elliott',\n",
              " 'Evans',\n",
              " 'Harrison',\n",
              " 'Jacob S Cohen',\n",
              " 'Janney',\n",
              " 'Lamar',\n",
              " 'Lampley \\r  31',\n",
              " 'Lien',\n",
              " 'Lien Attach',\n",
              " 'Mansony',\n",
              " 'Marshall',\n",
              " 'Perkins',\n",
              " 'Sawyer',\n",
              " 'Stewart',\n",
              " 'Sumter',\n",
              " 'W G Jones',\n",
              " 'Whipple',\n",
              " 'Wood'}"
            ]
          },
          "metadata": {
            "tags": []
          },
          "execution_count": 31
        }
      ]
    }
  ]
}