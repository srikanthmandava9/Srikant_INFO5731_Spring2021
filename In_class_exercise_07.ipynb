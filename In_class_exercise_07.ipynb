{
  "nbformat": 4,
  "nbformat_minor": 0,
  "metadata": {
    "kernelspec": {
      "display_name": "Python 3",
      "language": "python",
      "name": "python3"
    },
    "language_info": {
      "codemirror_mode": {
        "name": "ipython",
        "version": 3
      },
      "file_extension": ".py",
      "mimetype": "text/x-python",
      "name": "python",
      "nbconvert_exporter": "python",
      "pygments_lexer": "ipython3",
      "version": "3.8.5"
    },
    "colab": {
      "name": "In_class_exercise_07 (1).ipynb",
      "provenance": [],
      "collapsed_sections": [],
      "include_colab_link": true
    }
  },
  "cells": [
    {
      "cell_type": "markdown",
      "metadata": {
        "id": "view-in-github",
        "colab_type": "text"
      },
      "source": [
        "<a href=\"https://colab.research.google.com/github/srikanthmandava9/Srikant_INFO5731_Spring2021/blob/master/In_class_exercise_07.ipynb\" target=\"_parent\"><img src=\"https://colab.research.google.com/assets/colab-badge.svg\" alt=\"Open In Colab\"/></a>"
      ]
    },
    {
      "cell_type": "markdown",
      "metadata": {
        "id": "n_DuDP3wjMdy"
      },
      "source": [
        "# **The seventh in-class-exercise (20 points in total, 3/16/2021)**"
      ]
    },
    {
      "cell_type": "markdown",
      "metadata": {
        "id": "snrcwh09jMd6"
      },
      "source": [
        "Question description: In the last in-class-exercise (exercise-06), you collected the titles of 100 articles about data science, natural language processing, and machine learning. The 100 article titles will be used as the text corpus of this exercise. Perform the following tasks:"
      ]
    },
    {
      "cell_type": "markdown",
      "metadata": {
        "id": "bUAI_EAxjMd6"
      },
      "source": [
        "## (1) (8 points) Generate K topics by using LDA, the number of topics K should be decided by the coherence score, then summarize what are the topics. You may refer the code here: \n",
        "\n",
        "https://www.machinelearningplus.com/nlp/topic-modeling-gensim-python/"
      ]
    },
    {
      "cell_type": "code",
      "metadata": {
        "id": "UiTQCYnXjMd7",
        "colab": {
          "base_uri": "https://localhost:8080/"
        },
        "outputId": "737ee81b-0876-4f33-cc0a-13ed149d2e74"
      },
      "source": [
        "# Write your code here\n",
        "import pandas as pd\n",
        "import requests\n",
        "from bs4 import BeautifulSoup\n",
        "def insert_to_array(values,refer_array):\n",
        "  for i in values:\n",
        "    refer_array.append(i.text)\n",
        "titles=[]\n",
        "for i in range(0,100,10):\n",
        "  URL=\"http://citeseerx.ist.psu.edu/search?q=data+science&t=doc&sort=rlv&start=\"+str(i)\n",
        "  pages=requests.get(URL,headers={'User-Agent':'Chrome/85.0.4183.121'})\n",
        "  beautiful_soup = BeautifulSoup(pages.content, 'html.parser')\n",
        "  insert_to_array(beautiful_soup.find_all('a', class_='remove doc_details'),titles)\n",
        "print(titles)\n",
        "df = pd.DataFrame (titles,columns=['titles'])\n"
      ],
      "execution_count": 16,
      "outputs": [
        {
          "output_type": "stream",
          "text": [
            "['\\nData Streams: Algorithms and Applications\\n                  ', '\\n                  Bayesian Data Analysis\\n                  ', '\\n                  Voronoi diagrams -- a survey of a fundamental geometric data structure\\n                  ', '\\n                  From Data Mining to Knowledge Discovery in Databases.\\n                  ', '\\n                  Survey of clustering algorithms\\n                  ', '\\n                  Thresholding of statistical maps in functional neuroimaging using the false discovery rate.\\n                  ', '\\n                  Maintaining knowledge about temporal intervals\\n                  ', '\\n                  Status quo bias in decision making\\n                  ', '\\n                  Rough Sets.\\n                  ', '\\n                  Modeling TCP Throughput: A Simple Model and its Empirical Validation\\n                  ', '\\n                  Compressive sampling\\n                  ', '\\n                  Search and replication in unstructured peer-to-peer networks\\n                  ', '\\n                  Dynamic Bayesian Networks: Representation, Inference and Learning\\n                  ', '\\n                  Motivational and self-regulated learning components of classroom academic performance\\n                  ', '\\n                  Probabilistic Inference Using Markov Chain Monte Carlo Methods\\n                  ', '\\n                  A theory of social comparison processes,”\\n                  ', '\\n                  Group formation in large social networks: membership, growth, and evolution\\n                  ', '\\n                  Illusion and well-being: A social psychological perspective on mental health.\\n                  ', '\\n                  Analyzing Incomplete Political Science Data: An Alternative Algorithm for Multiple Imputation\\n                  ', '\\n                  Natural Selection\\n                  ', '\\n                  Foreign Direct Investment and Relative Wages: Evidence from Mexico’s Maquiladoras\\n                  ', '\\n                  Indexing and Querying XML Data for Regular Path Expressions\\n                  ', '\\n                  A survey of data provenance in e-science\\n', '\\n                  A Survey of Affect Recognition Methods: Audio, Visual, and Spontaneous Expressions\\n                  ', '\\n                  The earth is round (p < .05\\n                  ', '\\n                  Citizens as sensors: the world of volunteered geography.”\\n                  ', '\\n                   Mechanism Design for Data Science\\n', '\\n                  Foundations of data science\\n', '\\n                  Foundations of data science\\n', '\\nData Sciences UK Ltd.\\n                  ', '\\n                  EMI Music Data Science\\n', '\\nData Sciences Laboratory\\n                  ', '\\n                  INTRODUCTION TO DATA SCIENCE\\n', '\\n                  Database Mining: A Performance Perspective\\n                  ', '\\n                  Functional Data Structures\\n                  ', '\\n                  Towards Cognitive Automation of Data Science\\n', '\\n                  My Solution to the EMC Data Science Global\\n                  ', '\\n                  MOOCdb: Developing Data Standards for MOOC Data Science\\n', '\\n                  A survey of outlier detection methodologies\\n                  ', '\\n                  Gender, Agricultural Productivity and the Theory of the Household\\n                  ', '\\n                  SPARSKIT: a basic tool kit for sparse matrix computations - Version 2\\n                  ', '\\n                  On Clustering Validation Techniques\\n                  ', '\\n                  Chief. Data Sciences Division1\\n                  ', '\\n                  Industrial development in cities\\n                  ', '\\n                  Parallel Computing for Data Science with Examples in R and Beyond\\n                  ', '\\nData Science in the Statistics Curricula: Preparing Students to \"Think with Data\"\\n                  ', '\\n                  Guest Editorial EDITOR’S COMMENTS The Business of Business Data Science in IS Journals\\n                  ', '\\n                  Reconstructing past climate from noisy data. Science 306: 679–682\\n                  ', '\\n                  A Critique of Software Defect Prediction Models\\n                  ', '\\n                  A new approach to abstract syntax with variable binding\\n                  ', '\\n                  Stochastic global optimization\\n                  ', '\\n                  Fidelity and yield in a volcano monitoring sensor network\\n                  ', '\\n                  The Netflix Prize\\n                  ', '\\n                  A rational analysis of the selection task as optimal data selection\\n                  ', '\\n                  A Tutorial on (Co)Algebras and (Co)Induction\\n                  ', '\\n                  Statistical Analysis of a Telephone Call Center: A Queueing Science Perspective\\n                  ', '\\n                  1 Data Science and Mass Media: Seeking a Hermeneutic Ethics of Information\\n                  ', '\\n                  Editorial—Big Data, Data Science, and Analytics: The Opportunity and Challenge for Is Research\\n                  ', '\\n                  Deep Feature Synthesis: Towards Automating Data Science Endeavors\\n                  ', '\\nData Science and Distributed Intelligence: Recent Developments and Future Insights\\n                  ', '\\nDATA SCIENCE AND ITS RELATIONSHIP TO BIG DATA AND DATA-DRIVEN DECISION MAKING ORIGINAL ARTICLE\\n                  ', '\\n                  •\\u202f Organic data science 4. Closing thoughts\\n                  ', '\\n                  e-Infrastructure Requirements for Big Data Science\\n', '\\n                  The Electronic Universe: Network Delivery of Data, Science and Discovery\\n                  ', '\\n                  Editorial: special issue on learning from imbalanced data sets\\n                  ', '\\n                  ICML 2014 AutoML Workshop Cognitive Automation of Data Science\\n', '\\n                  Matrix Completion with Noise\\n                  ', '\\n                  Qualitative Case Study Methodology: Study Design and Implementation for Novice Researchers\\n                  ', '\\n                  The Investment behavior and performance of various investor\\n                  ', '\\n                  E-commerce: The role of familiarity and trust\\n                  ', '\\n                  A Software Interface for Supporting the Application of Data Science to Optimisation\\n                  ', '\\n                  Technology Probes: Inspiring Design for and with Families\\n                  ', '\\n                  TEACHING PRECURSORS TO DATA SCIENCE IN INTRODUCTORY AND SECOND COURSES IN STATISTICS\\n                  ', '\\nData Science of the People, for the People, by the People: A Viewpoint on an Emerging Dichotomy\\n                  ', '\\nData Science Study Protocols for Investigating Lifetime and Degradation of PV Technology Systems\\n                  ', '\\n                  Maps of random walks on complex networks reveal community structure\\n                  ', '\\n                  A Macroscope in the Redwoods\\n                  ', '\\n                  Thrust Area in Data Science-Big Data and Data Analytics\\n                  ', '\\n                  With their book XML and Web Technologies for Data Sciences with R, Deborah Nolan and\\n                  ', '\\nData Management and Transfer in High-Performance Computational Grid Environments\\n                  ', '\\n                  A new approach to decoding life: systems biology\\n                  ', '\\n                  Geometry for the selfish herd.\\n                  ', '\\n                  PERSPECTIVE Let&aposs Make Gender Diversity in Data Science a Priority Right from the Start\\n                  ', '\\nDataHub: Collaborative Data Science & Dataset Version Management at Scale\\n                  ', '\\n                  To be published in Data Science Journal, 2005 Digital Object Identifiers for scientific data\\n', '\\n                  OkCupid Data for Introductory Statistics and Data Science Courses\\n                  ', '\\n                  The Role of Income Aspirations in Individual Happiness\\n                  ', '\\n                  Predicting tie strength with social media\\n                  ', '\\n                  Intel “Big Data ” Science and Technology Center Vision and Execution Plan\\n                  ', '\\n                  Teaching Parallelism Without Programming: A Data Science Curriculum for Non-CS Students\\n                  ', '\\n                   How Computational Statistics Became the Backbone of Modern Data Science\\n', '\\n                  Efficient Search for Approximate Nearest Neighbor in High Dimensional Spaces\\n                  ', '\\n                  Model selection in ecology and evolution.\\n                  ', '\\n                  Local Ground:\\xa0 A\\xa0Toolkit\\xa0Supporting\\xa0Metarepresentational Competence in\\xa0Data\\xa0Science\\n', '\\n                  Visual Exploration of Formal Requirements for Data Science Demand Analysis\\n                  ', '\\n                  Earth Data, Science Writing, and Peer Review page 1 Earth Data, Science Writing, and Peer Review in a Large General Education Oceanography Class\\n                  ', '\\n                  An Online Algorithm for Segmenting Time Series\\n                  ', '\\n                  OUTLINE AND EXERCISES FOR A NOVEL INTRODUCTORY COURSE IN DATA SCIENCE AND VISUALIZATION\\n                  ', '\\n                   Computational Data Sciences for Actionable Insights on Climate Extremes and Uncertainty\\n                  ', '\\n                  The New Computational and Data Sciences Undergraduate Program at George Mason University 1 Data-Intensive Science: A New Vision for Science Education\\n                  ']\n"
          ],
          "name": "stdout"
        }
      ]
    },
    {
      "cell_type": "code",
      "metadata": {
        "colab": {
          "base_uri": "https://localhost:8080/"
        },
        "id": "87cntaag10NZ",
        "outputId": "84360b00-d809-4931-9bf8-3bf66af852bd"
      },
      "source": [
        "pip install pyLDAvis"
      ],
      "execution_count": null,
      "outputs": [
        {
          "output_type": "stream",
          "text": [
            "Collecting pyLDAvis\n",
            "\u001b[?25l  Downloading https://files.pythonhosted.org/packages/24/38/6d81eff34c84c9158d3b7c846bff978ac88b0c2665548941946d3d591158/pyLDAvis-3.2.2.tar.gz (1.7MB)\n",
            "\r\u001b[K     |▏                               | 10kB 14.2MB/s eta 0:00:01\r\u001b[K     |▍                               | 20kB 12.3MB/s eta 0:00:01\r\u001b[K     |▋                               | 30kB 8.8MB/s eta 0:00:01\r\u001b[K     |▉                               | 40kB 7.9MB/s eta 0:00:01\r\u001b[K     |█                               | 51kB 4.4MB/s eta 0:00:01\r\u001b[K     |█▏                              | 61kB 4.9MB/s eta 0:00:01\r\u001b[K     |█▍                              | 71kB 5.0MB/s eta 0:00:01\r\u001b[K     |█▋                              | 81kB 5.4MB/s eta 0:00:01\r\u001b[K     |█▉                              | 92kB 5.7MB/s eta 0:00:01\r\u001b[K     |██                              | 102kB 5.8MB/s eta 0:00:01\r\u001b[K     |██▏                             | 112kB 5.8MB/s eta 0:00:01\r\u001b[K     |██▍                             | 122kB 5.8MB/s eta 0:00:01\r\u001b[K     |██▋                             | 133kB 5.8MB/s eta 0:00:01\r\u001b[K     |██▉                             | 143kB 5.8MB/s eta 0:00:01\r\u001b[K     |███                             | 153kB 5.8MB/s eta 0:00:01\r\u001b[K     |███▏                            | 163kB 5.8MB/s eta 0:00:01\r\u001b[K     |███▍                            | 174kB 5.8MB/s eta 0:00:01\r\u001b[K     |███▋                            | 184kB 5.8MB/s eta 0:00:01\r\u001b[K     |███▊                            | 194kB 5.8MB/s eta 0:00:01\r\u001b[K     |████                            | 204kB 5.8MB/s eta 0:00:01\r\u001b[K     |████▏                           | 215kB 5.8MB/s eta 0:00:01\r\u001b[K     |████▍                           | 225kB 5.8MB/s eta 0:00:01\r\u001b[K     |████▋                           | 235kB 5.8MB/s eta 0:00:01\r\u001b[K     |████▊                           | 245kB 5.8MB/s eta 0:00:01\r\u001b[K     |█████                           | 256kB 5.8MB/s eta 0:00:01\r\u001b[K     |█████▏                          | 266kB 5.8MB/s eta 0:00:01\r\u001b[K     |█████▍                          | 276kB 5.8MB/s eta 0:00:01\r\u001b[K     |█████▋                          | 286kB 5.8MB/s eta 0:00:01\r\u001b[K     |█████▊                          | 296kB 5.8MB/s eta 0:00:01\r\u001b[K     |██████                          | 307kB 5.8MB/s eta 0:00:01\r\u001b[K     |██████▏                         | 317kB 5.8MB/s eta 0:00:01\r\u001b[K     |██████▍                         | 327kB 5.8MB/s eta 0:00:01\r\u001b[K     |██████▌                         | 337kB 5.8MB/s eta 0:00:01\r\u001b[K     |██████▊                         | 348kB 5.8MB/s eta 0:00:01\r\u001b[K     |███████                         | 358kB 5.8MB/s eta 0:00:01\r\u001b[K     |███████▏                        | 368kB 5.8MB/s eta 0:00:01\r\u001b[K     |███████▍                        | 378kB 5.8MB/s eta 0:00:01\r\u001b[K     |███████▌                        | 389kB 5.8MB/s eta 0:00:01\r\u001b[K     |███████▊                        | 399kB 5.8MB/s eta 0:00:01\r\u001b[K     |████████                        | 409kB 5.8MB/s eta 0:00:01\r\u001b[K     |████████▏                       | 419kB 5.8MB/s eta 0:00:01\r\u001b[K     |████████▍                       | 430kB 5.8MB/s eta 0:00:01\r\u001b[K     |████████▌                       | 440kB 5.8MB/s eta 0:00:01\r\u001b[K     |████████▊                       | 450kB 5.8MB/s eta 0:00:01\r\u001b[K     |█████████                       | 460kB 5.8MB/s eta 0:00:01\r\u001b[K     |█████████▏                      | 471kB 5.8MB/s eta 0:00:01\r\u001b[K     |█████████▎                      | 481kB 5.8MB/s eta 0:00:01\r\u001b[K     |█████████▌                      | 491kB 5.8MB/s eta 0:00:01\r\u001b[K     |█████████▊                      | 501kB 5.8MB/s eta 0:00:01\r\u001b[K     |██████████                      | 512kB 5.8MB/s eta 0:00:01\r\u001b[K     |██████████▏                     | 522kB 5.8MB/s eta 0:00:01\r\u001b[K     |██████████▎                     | 532kB 5.8MB/s eta 0:00:01\r\u001b[K     |██████████▌                     | 542kB 5.8MB/s eta 0:00:01\r\u001b[K     |██████████▊                     | 552kB 5.8MB/s eta 0:00:01\r\u001b[K     |███████████                     | 563kB 5.8MB/s eta 0:00:01\r\u001b[K     |███████████▏                    | 573kB 5.8MB/s eta 0:00:01\r\u001b[K     |███████████▎                    | 583kB 5.8MB/s eta 0:00:01\r\u001b[K     |███████████▌                    | 593kB 5.8MB/s eta 0:00:01\r\u001b[K     |███████████▊                    | 604kB 5.8MB/s eta 0:00:01\r\u001b[K     |████████████                    | 614kB 5.8MB/s eta 0:00:01\r\u001b[K     |████████████                    | 624kB 5.8MB/s eta 0:00:01\r\u001b[K     |████████████▎                   | 634kB 5.8MB/s eta 0:00:01\r\u001b[K     |████████████▌                   | 645kB 5.8MB/s eta 0:00:01\r\u001b[K     |████████████▊                   | 655kB 5.8MB/s eta 0:00:01\r\u001b[K     |█████████████                   | 665kB 5.8MB/s eta 0:00:01\r\u001b[K     |█████████████                   | 675kB 5.8MB/s eta 0:00:01\r\u001b[K     |█████████████▎                  | 686kB 5.8MB/s eta 0:00:01\r\u001b[K     |█████████████▌                  | 696kB 5.8MB/s eta 0:00:01\r\u001b[K     |█████████████▊                  | 706kB 5.8MB/s eta 0:00:01\r\u001b[K     |██████████████                  | 716kB 5.8MB/s eta 0:00:01\r\u001b[K     |██████████████                  | 727kB 5.8MB/s eta 0:00:01\r\u001b[K     |██████████████▎                 | 737kB 5.8MB/s eta 0:00:01\r\u001b[K     |██████████████▌                 | 747kB 5.8MB/s eta 0:00:01\r\u001b[K     |██████████████▊                 | 757kB 5.8MB/s eta 0:00:01\r\u001b[K     |██████████████▉                 | 768kB 5.8MB/s eta 0:00:01\r\u001b[K     |███████████████                 | 778kB 5.8MB/s eta 0:00:01\r\u001b[K     |███████████████▎                | 788kB 5.8MB/s eta 0:00:01\r\u001b[K     |███████████████▌                | 798kB 5.8MB/s eta 0:00:01\r\u001b[K     |███████████████▊                | 808kB 5.8MB/s eta 0:00:01\r\u001b[K     |███████████████▉                | 819kB 5.8MB/s eta 0:00:01\r\u001b[K     |████████████████                | 829kB 5.8MB/s eta 0:00:01\r\u001b[K     |████████████████▎               | 839kB 5.8MB/s eta 0:00:01\r\u001b[K     |████████████████▌               | 849kB 5.8MB/s eta 0:00:01\r\u001b[K     |████████████████▊               | 860kB 5.8MB/s eta 0:00:01\r\u001b[K     |████████████████▉               | 870kB 5.8MB/s eta 0:00:01\r\u001b[K     |█████████████████               | 880kB 5.8MB/s eta 0:00:01\r\u001b[K     |█████████████████▎              | 890kB 5.8MB/s eta 0:00:01\r\u001b[K     |█████████████████▌              | 901kB 5.8MB/s eta 0:00:01\r\u001b[K     |█████████████████▋              | 911kB 5.8MB/s eta 0:00:01\r\u001b[K     |█████████████████▉              | 921kB 5.8MB/s eta 0:00:01\r\u001b[K     |██████████████████              | 931kB 5.8MB/s eta 0:00:01\r\u001b[K     |██████████████████▎             | 942kB 5.8MB/s eta 0:00:01\r\u001b[K     |██████████████████▌             | 952kB 5.8MB/s eta 0:00:01\r\u001b[K     |██████████████████▋             | 962kB 5.8MB/s eta 0:00:01\r\u001b[K     |██████████████████▉             | 972kB 5.8MB/s eta 0:00:01\r\u001b[K     |███████████████████             | 983kB 5.8MB/s eta 0:00:01\r\u001b[K     |███████████████████▎            | 993kB 5.8MB/s eta 0:00:01\r\u001b[K     |███████████████████▌            | 1.0MB 5.8MB/s eta 0:00:01\r\u001b[K     |███████████████████▋            | 1.0MB 5.8MB/s eta 0:00:01\r\u001b[K     |███████████████████▉            | 1.0MB 5.8MB/s eta 0:00:01\r\u001b[K     |████████████████████            | 1.0MB 5.8MB/s eta 0:00:01\r\u001b[K     |████████████████████▎           | 1.0MB 5.8MB/s eta 0:00:01\r\u001b[K     |████████████████████▍           | 1.1MB 5.8MB/s eta 0:00:01\r\u001b[K     |████████████████████▋           | 1.1MB 5.8MB/s eta 0:00:01\r\u001b[K     |████████████████████▉           | 1.1MB 5.8MB/s eta 0:00:01\r\u001b[K     |█████████████████████           | 1.1MB 5.8MB/s eta 0:00:01\r\u001b[K     |█████████████████████▎          | 1.1MB 5.8MB/s eta 0:00:01\r\u001b[K     |█████████████████████▍          | 1.1MB 5.8MB/s eta 0:00:01\r\u001b[K     |█████████████████████▋          | 1.1MB 5.8MB/s eta 0:00:01\r\u001b[K     |█████████████████████▉          | 1.1MB 5.8MB/s eta 0:00:01\r\u001b[K     |██████████████████████          | 1.1MB 5.8MB/s eta 0:00:01\r\u001b[K     |██████████████████████▎         | 1.1MB 5.8MB/s eta 0:00:01\r\u001b[K     |██████████████████████▍         | 1.2MB 5.8MB/s eta 0:00:01\r\u001b[K     |██████████████████████▋         | 1.2MB 5.8MB/s eta 0:00:01\r\u001b[K     |██████████████████████▉         | 1.2MB 5.8MB/s eta 0:00:01\r\u001b[K     |███████████████████████         | 1.2MB 5.8MB/s eta 0:00:01\r\u001b[K     |███████████████████████▏        | 1.2MB 5.8MB/s eta 0:00:01\r\u001b[K     |███████████████████████▍        | 1.2MB 5.8MB/s eta 0:00:01\r\u001b[K     |███████████████████████▋        | 1.2MB 5.8MB/s eta 0:00:01\r\u001b[K     |███████████████████████▉        | 1.2MB 5.8MB/s eta 0:00:01\r\u001b[K     |████████████████████████        | 1.2MB 5.8MB/s eta 0:00:01\r\u001b[K     |████████████████████████▏       | 1.2MB 5.8MB/s eta 0:00:01\r\u001b[K     |████████████████████████▍       | 1.3MB 5.8MB/s eta 0:00:01\r\u001b[K     |████████████████████████▋       | 1.3MB 5.8MB/s eta 0:00:01\r\u001b[K     |████████████████████████▉       | 1.3MB 5.8MB/s eta 0:00:01\r\u001b[K     |█████████████████████████       | 1.3MB 5.8MB/s eta 0:00:01\r\u001b[K     |█████████████████████████▏      | 1.3MB 5.8MB/s eta 0:00:01\r\u001b[K     |█████████████████████████▍      | 1.3MB 5.8MB/s eta 0:00:01\r\u001b[K     |█████████████████████████▋      | 1.3MB 5.8MB/s eta 0:00:01\r\u001b[K     |█████████████████████████▉      | 1.3MB 5.8MB/s eta 0:00:01\r\u001b[K     |██████████████████████████      | 1.3MB 5.8MB/s eta 0:00:01\r\u001b[K     |██████████████████████████▏     | 1.4MB 5.8MB/s eta 0:00:01\r\u001b[K     |██████████████████████████▍     | 1.4MB 5.8MB/s eta 0:00:01\r\u001b[K     |██████████████████████████▋     | 1.4MB 5.8MB/s eta 0:00:01\r\u001b[K     |██████████████████████████▉     | 1.4MB 5.8MB/s eta 0:00:01\r\u001b[K     |███████████████████████████     | 1.4MB 5.8MB/s eta 0:00:01\r\u001b[K     |███████████████████████████▏    | 1.4MB 5.8MB/s eta 0:00:01\r\u001b[K     |███████████████████████████▍    | 1.4MB 5.8MB/s eta 0:00:01\r\u001b[K     |███████████████████████████▋    | 1.4MB 5.8MB/s eta 0:00:01\r\u001b[K     |███████████████████████████▉    | 1.4MB 5.8MB/s eta 0:00:01\r\u001b[K     |████████████████████████████    | 1.4MB 5.8MB/s eta 0:00:01\r\u001b[K     |████████████████████████████▏   | 1.5MB 5.8MB/s eta 0:00:01\r\u001b[K     |████████████████████████████▍   | 1.5MB 5.8MB/s eta 0:00:01\r\u001b[K     |████████████████████████████▋   | 1.5MB 5.8MB/s eta 0:00:01\r\u001b[K     |████████████████████████████▊   | 1.5MB 5.8MB/s eta 0:00:01\r\u001b[K     |█████████████████████████████   | 1.5MB 5.8MB/s eta 0:00:01\r\u001b[K     |█████████████████████████████▏  | 1.5MB 5.8MB/s eta 0:00:01\r\u001b[K     |█████████████████████████████▍  | 1.5MB 5.8MB/s eta 0:00:01\r\u001b[K     |█████████████████████████████▋  | 1.5MB 5.8MB/s eta 0:00:01\r\u001b[K     |█████████████████████████████▊  | 1.5MB 5.8MB/s eta 0:00:01\r\u001b[K     |██████████████████████████████  | 1.5MB 5.8MB/s eta 0:00:01\r\u001b[K     |██████████████████████████████▏ | 1.6MB 5.8MB/s eta 0:00:01\r\u001b[K     |██████████████████████████████▍ | 1.6MB 5.8MB/s eta 0:00:01\r\u001b[K     |██████████████████████████████▋ | 1.6MB 5.8MB/s eta 0:00:01\r\u001b[K     |██████████████████████████████▊ | 1.6MB 5.8MB/s eta 0:00:01\r\u001b[K     |███████████████████████████████ | 1.6MB 5.8MB/s eta 0:00:01\r\u001b[K     |███████████████████████████████▏| 1.6MB 5.8MB/s eta 0:00:01\r\u001b[K     |███████████████████████████████▍| 1.6MB 5.8MB/s eta 0:00:01\r\u001b[K     |███████████████████████████████▌| 1.6MB 5.8MB/s eta 0:00:01\r\u001b[K     |███████████████████████████████▊| 1.6MB 5.8MB/s eta 0:00:01\r\u001b[K     |████████████████████████████████| 1.6MB 5.8MB/s eta 0:00:01\r\u001b[K     |████████████████████████████████| 1.7MB 5.8MB/s \n",
            "\u001b[?25hRequirement already satisfied: wheel>=0.23.0 in /usr/local/lib/python3.7/dist-packages (from pyLDAvis) (0.36.2)\n",
            "Requirement already satisfied: numpy>=1.9.2 in /usr/local/lib/python3.7/dist-packages (from pyLDAvis) (1.19.5)\n",
            "Requirement already satisfied: scipy>=0.18.0 in /usr/local/lib/python3.7/dist-packages (from pyLDAvis) (1.4.1)\n",
            "Requirement already satisfied: joblib>=0.8.4 in /usr/local/lib/python3.7/dist-packages (from pyLDAvis) (1.0.1)\n",
            "Requirement already satisfied: jinja2>=2.7.2 in /usr/local/lib/python3.7/dist-packages (from pyLDAvis) (2.11.3)\n",
            "Requirement already satisfied: numexpr in /usr/local/lib/python3.7/dist-packages (from pyLDAvis) (2.7.3)\n",
            "Requirement already satisfied: future in /usr/local/lib/python3.7/dist-packages (from pyLDAvis) (0.16.0)\n",
            "Collecting funcy\n",
            "  Downloading https://files.pythonhosted.org/packages/66/89/479de0afbbfb98d1c4b887936808764627300208bb771fcd823403645a36/funcy-1.15-py2.py3-none-any.whl\n",
            "Requirement already satisfied: pandas>=0.17.0 in /usr/local/lib/python3.7/dist-packages (from pyLDAvis) (1.1.5)\n",
            "Requirement already satisfied: MarkupSafe>=0.23 in /usr/local/lib/python3.7/dist-packages (from jinja2>=2.7.2->pyLDAvis) (1.1.1)\n",
            "Requirement already satisfied: pytz>=2017.2 in /usr/local/lib/python3.7/dist-packages (from pandas>=0.17.0->pyLDAvis) (2018.9)\n",
            "Requirement already satisfied: python-dateutil>=2.7.3 in /usr/local/lib/python3.7/dist-packages (from pandas>=0.17.0->pyLDAvis) (2.8.1)\n",
            "Requirement already satisfied: six>=1.5 in /usr/local/lib/python3.7/dist-packages (from python-dateutil>=2.7.3->pandas>=0.17.0->pyLDAvis) (1.15.0)\n",
            "Building wheels for collected packages: pyLDAvis\n",
            "  Building wheel for pyLDAvis (setup.py) ... \u001b[?25l\u001b[?25hdone\n",
            "  Created wheel for pyLDAvis: filename=pyLDAvis-3.2.2-py2.py3-none-any.whl size=135593 sha256=1153980668877e4ae6ee2dae124aaee04bb09d6943d13ed1846719087fe9f4a1\n",
            "  Stored in directory: /root/.cache/pip/wheels/74/df/b6/97234c8446a43be05c9a8687ee0db1f1b5ade5f27729187eae\n",
            "Successfully built pyLDAvis\n",
            "Installing collected packages: funcy, pyLDAvis\n",
            "Successfully installed funcy-1.15 pyLDAvis-3.2.2\n"
          ],
          "name": "stdout"
        }
      ]
    },
    {
      "cell_type": "code",
      "metadata": {
        "colab": {
          "base_uri": "https://localhost:8080/"
        },
        "id": "QWlYuj-q18dK",
        "outputId": "df52e360-b993-4794-822c-efbf7549f062"
      },
      "source": [
        "import nltk; nltk.download('stopwords')\n",
        "import re\n",
        "import numpy as np\n",
        "import pandas as pd\n",
        "from pprint import pprint\n",
        "import gensim\n",
        "import gensim.corpora as corpora\n",
        "from gensim.utils import simple_preprocess\n",
        "from gensim.models import CoherenceModel\n",
        "import spacy\n",
        "import pyLDAvis\n",
        "import pyLDAvis.gensim  \n",
        "import matplotlib.pyplot as plt\n",
        "%matplotlib inline\n",
        "import logging\n",
        "logging.basicConfig(format='%(asctime)s : %(levelname)s : %(message)s', level=logging.ERROR)\n",
        "import warnings\n",
        "warnings.filterwarnings(\"ignore\",category=DeprecationWarning)\n"
      ],
      "execution_count": null,
      "outputs": [
        {
          "output_type": "stream",
          "text": [
            "[nltk_data] Downloading package stopwords to /root/nltk_data...\n",
            "[nltk_data]   Unzipping corpora/stopwords.zip.\n"
          ],
          "name": "stdout"
        },
        {
          "output_type": "stream",
          "text": [
            "/usr/local/lib/python3.7/dist-packages/past/types/oldstr.py:5: DeprecationWarning: Using or importing the ABCs from 'collections' instead of from 'collections.abc' is deprecated since Python 3.3,and in 3.9 it will stop working\n",
            "  from collections import Iterable\n"
          ],
          "name": "stderr"
        }
      ]
    },
    {
      "cell_type": "code",
      "metadata": {
        "colab": {
          "base_uri": "https://localhost:8080/"
        },
        "id": "vm_NAO8Y2AJr",
        "outputId": "ab394138-3489-4a4a-ebcc-cf6fb7d1c3cc"
      },
      "source": [
        "from nltk.corpus import stopwords\n",
        "stop_words = stopwords.words('english')\n",
        "stop_words.extend(['from', 'subject', 're', 'edu', 'use'])\n",
        "def sent_to_words(sentences):\n",
        "    for sentence in sentences:\n",
        "        yield(gensim.utils.simple_preprocess(str(sentence), deacc=True))  \n",
        "data_words = list(sent_to_words(titles))\n",
        "bi_gram = gensim.models.Phrases(data_words, min_count=5, threshold=100)\n",
        "bi_gram_mod = gensim.models.phrases.Phraser(bi_gram)\n",
        "\n",
        "print(data_words[:1])\n",
        "def remove_stopwords(texts):\n",
        "    return [[word for word in simple_preprocess(str(doc)) if word not in stop_words] for doc in texts]\n",
        "def lemmatization(texts, allowed_postags=['NOUN', 'ADJ', 'VERB', 'ADV']):\n",
        "    \"\"\"https://spacy.io/api/annotation\"\"\"\n",
        "    texts_out = []\n",
        "    for sent in texts:\n",
        "        doc = nlp(\" \".join(sent)) \n",
        "        texts_out.append([token.lemma_ for token in doc if token.pos_ in allowed_postags])\n",
        "    return texts_out\n",
        "def m_bigrams(texts):\n",
        "    return [bi_gram_mod[doc] for doc in texts]\n",
        "data_words_nostops = remove_stopwords(data_words)\n",
        "data_words_bi_grams = m_bigrams(data_words_nostops)\n",
        "nlp = spacy.load('en', disable=['parser', 'ner'])\n",
        "data_lemmatized = lemmatization(data_words_bi_grams, allowed_postags=['NOUN', 'ADJ', 'VERB', 'ADV'])\n",
        "print(data_lemmatized[:1])\n",
        "id_word = corpora.Dictionary(data_lemmatized)\n",
        "texts = data_lemmatized\n",
        "corpus = [id_word.doc2bow(text) for text in texts]\n",
        "print(corpus[:1])\n",
        "lda_model = gensim.models.ldamodel.LdaModel(corpus=corpus,\n",
        "                                           id2word=id_word,\n",
        "                                           num_topics=20, \n",
        "                                           random_state=100,\n",
        "                                           update_every=1,\n",
        "                                           chunksize=100,\n",
        "                                           passes=10,\n",
        "                                           alpha='auto',\n",
        "                                           per_word_topics=True)\n",
        "pprint(lda_model.print_topics())\n",
        "doc_lda = lda_model[corpus]"
      ],
      "execution_count": 17,
      "outputs": [
        {
          "output_type": "stream",
          "text": [
            "[['data', 'streams', 'algorithms', 'and', 'applications']]\n",
            "[[]]\n",
            "[[]]\n",
            "[(0,\n",
            "  '0.061*\"selection\" + 0.061*\"datum\" + 0.031*\"seek\" + 0.031*\"rational\" + '\n",
            "  '0.031*\"income\" + 0.031*\"happiness\" + 0.031*\"aspiration\" + 0.031*\"science\" + '\n",
            "  '0.031*\"role\" + 0.031*\"medium\"'),\n",
            " (1,\n",
            "  '0.111*\"datum\" + 0.067*\"science\" + 0.023*\"curriculum\" + 0.023*\"technique\" + '\n",
            "  '0.023*\"program\" + 0.023*\"parallelism\" + 0.023*\"non\" + 0.023*\"validation\" + '\n",
            "  '0.023*\"selection\" + 0.023*\"natural\"'),\n",
            " (2,\n",
            "  '0.033*\"academic\" + 0.033*\"classroom\" + 0.033*\"self\" + 0.033*\"regulate\" + '\n",
            "  '0.033*\"performance\" + 0.033*\"motivational\" + 0.033*\"learn\" + 0.033*\"round\" '\n",
            "  '+ 0.033*\"object\" + 0.033*\"datum\"'),\n",
            " (3,\n",
            "  '0.029*\"special\" + 0.029*\"editorial\" + 0.029*\"model\" + 0.029*\"software\" + '\n",
            "  '0.029*\"prediction\" + 0.029*\"defect\" + 0.029*\"imbalanced\" + 0.029*\"issue\" + '\n",
            "  '0.029*\"set\" + 0.029*\"inspire\"'),\n",
            " (4,\n",
            "  '0.044*\"basic\" + 0.044*\"matrix\" + 0.044*\"geometry\" + 0.044*\"computation\" + '\n",
            "  '0.044*\"kit\" + 0.044*\"selfish\" + 0.044*\"version\" + 0.044*\"herd\" + '\n",
            "  '0.044*\"sparse\" + 0.002*\"interface\"'),\n",
            " (5,\n",
            "  '0.112*\"science\" + 0.111*\"datum\" + 0.045*\"foundation\" + 0.023*\"standard\" + '\n",
            "  '0.023*\"automation\" + 0.023*\"cognitive\" + 0.023*\"data\" + 0.023*\"develop\" + '\n",
            "  '0.023*\"perspective\" + 0.023*\"agricultural\"'),\n",
            " (6,\n",
            "  '0.083*\"peer\" + 0.083*\"science\" + 0.063*\"datum\" + 0.042*\"writing\" + '\n",
            "  '0.042*\"review\" + 0.022*\"rough\" + 0.022*\"set\" + 0.022*\"class\" + '\n",
            "  '0.022*\"requirement\" + 0.022*\"replication\"'),\n",
            " (7,\n",
            "  '0.029*\"approximate\" + 0.029*\"dataset\" + 0.029*\"illusion\" + 0.029*\"science\" '\n",
            "  '+ 0.029*\"perspective\" + 0.029*\"psychological\" + 0.029*\"search\" + '\n",
            "  '0.029*\"neighbor\" + 0.029*\"efficient\" + 0.029*\"health\"'),\n",
            " (8,\n",
            "  '0.046*\"datum\" + 0.023*\"detection\" + 0.023*\"outlier\" + 0.023*\"making\" + '\n",
            "  '0.023*\"computational\" + 0.023*\"transfer\" + 0.023*\"methodology\" + '\n",
            "  '0.023*\"introductory\" + 0.023*\"performance\" + 0.023*\"management\"'),\n",
            " (9,\n",
            "  '0.088*\"datum\" + 0.088*\"science\" + 0.030*\"support\" + 0.030*\"application\" + '\n",
            "  '0.030*\"software\" + 0.030*\"discovery\" + 0.030*\"interface\" + '\n",
            "  '0.030*\"optimisation\" + 0.030*\"let\" + 0.030*\"diversity\"'),\n",
            " (10,\n",
            "  '0.067*\"people\" + 0.045*\"model\" + 0.023*\"throughput\" + 0.023*\"variable\" + '\n",
            "  '0.023*\"emerge\" + 0.023*\"science\" + 0.023*\"dichotomy\" + 0.023*\"simple\" + '\n",
            "  '0.023*\"foreign\" + 0.023*\"validation\"'),\n",
            " (11,\n",
            "  '0.112*\"datum\" + 0.098*\"science\" + 0.043*\"statistic\" + 0.029*\"insight\" + '\n",
            "  '0.015*\"become\" + 0.015*\"climate\" + 0.015*\"backbone\" + 0.015*\"editorial\" + '\n",
            "  '0.015*\"course\" + 0.015*\"noise\"'),\n",
            " (12,\n",
            "  '0.057*\"science\" + 0.057*\"datum\" + 0.029*\"stochastic\" + 0.029*\"laboratory\" + '\n",
            "  '0.029*\"business\" + 0.029*\"optimization\" + 0.029*\"editor\" + 0.029*\"comment\" '\n",
            "  '+ 0.029*\"okcupid\" + 0.029*\"global\"'),\n",
            " (13,\n",
            "  '0.048*\"knowledge\" + 0.048*\"process\" + 0.048*\"interval\" + 0.048*\"social\" + '\n",
            "  '0.048*\"maintain\" + 0.048*\"temporal\" + 0.048*\"analysis\" + 0.002*\"behavior\" + '\n",
            "  '0.002*\"course\" + 0.002*\"probe\"'),\n",
            " (14,\n",
            "  '0.044*\"expression\" + 0.044*\"technology\" + 0.022*\"audio\" + '\n",
            "  '0.022*\"performance\" + 0.022*\"science\" + 0.022*\"lifetime\" + '\n",
            "  '0.022*\"investigate\" + 0.022*\"degradation\" + 0.022*\"sampling\" + '\n",
            "  '0.022*\"center\"'),\n",
            " (15,\n",
            "  '0.149*\"science\" + 0.105*\"datum\" + 0.031*\"new\" + 0.016*\"visual\" + '\n",
            "  '0.016*\"big\" + 0.016*\"medium\" + 0.016*\"introduction\" + 0.016*\"drive\" + '\n",
            "  '0.016*\"incomplete\" + 0.016*\"imputation\"'),\n",
            " (16,\n",
            "  '0.003*\"application\" + 0.003*\"various\" + 0.003*\"probe\" + 0.003*\"inspire\" + '\n",
            "  '0.003*\"family\" + 0.003*\"support\" + 0.003*\"optimisation\" + 0.003*\"interface\" '\n",
            "  '+ 0.003*\"course\" + 0.003*\"study\"'),\n",
            " (17,\n",
            "  '0.080*\"network\" + 0.041*\"monitor\" + 0.041*\"volcano\" + 0.041*\"yield\" + '\n",
            "  '0.041*\"reveal\" + 0.041*\"sensor\" + 0.041*\"structure\" + 0.041*\"random\" + '\n",
            "  '0.041*\"community\" + 0.041*\"complex\"'),\n",
            " (18,\n",
            "  '0.039*\"membership\" + 0.039*\"mining\" + 0.039*\"formation\" + 0.039*\"evolution\" '\n",
            "  '+ 0.039*\"network\" + 0.039*\"large\" + 0.039*\"growth\" + 0.039*\"social\" + '\n",
            "  '0.039*\"knowledge\" + 0.039*\"database\"'),\n",
            " (19,\n",
            "  '0.071*\"study\" + 0.037*\"new\" + 0.037*\"implementation\" + 0.037*\"qualitative\" '\n",
            "  '+ 0.037*\"researcher\" + 0.037*\"methodology\" + 0.037*\"design\" + '\n",
            "  '0.037*\"approach\" + 0.037*\"novice\" + 0.037*\"life\"')]\n"
          ],
          "name": "stdout"
        }
      ]
    },
    {
      "cell_type": "markdown",
      "metadata": {
        "id": "EpXoOcwBjMd8"
      },
      "source": [
        "## (2) (8 points) Generate K topics by using LSA, the number of topics K should be decided by the coherence score, then summarize what are the topics. You may refer the code here:\n",
        "\n",
        "https://www.datacamp.com/community/tutorials/discovering-hidden-topics-python"
      ]
    },
    {
      "cell_type": "code",
      "metadata": {
        "id": "15JZ1IO21zIn"
      },
      "source": [
        "import os.path\n",
        "from gensim import corpora\n",
        "from gensim.models import LsiModel\n",
        "from nltk.tokenize import RegexpTokenizer\n",
        "from nltk.corpus import stopwords\n",
        "from nltk.stem.porter import PorterStemmer\n",
        "from gensim.models.coherencemodel import CoherenceModel\n",
        "import matplotlib.pyplot as plt"
      ],
      "execution_count": 20,
      "outputs": []
    },
    {
      "cell_type": "code",
      "metadata": {
        "id": "ogG1TPMQ2wrw"
      },
      "source": [
        "def preprocess_data(docu_set):\n",
        "    \"\"\"\n",
        "    Input  : docuemnt list\n",
        "    Purpose: preprocess text (tokenize, removing stopwords, and stemming)\n",
        "    Output : preprocessed text\n",
        "    \"\"\"\n",
        "    tokenizer = RegexpTokenizer(r'\\w+')\n",
        "    english_stopwords = set(stopwords.words('english'))\n",
        "    porter_stemmer = PorterStemmer()\n",
        "    texts = []\n",
        "    for i in docu_set:\n",
        "        raw = i.lower()\n",
        "        tokens = tokenizer.tokenize(raw)\n",
        "        stopped_tokens = [i for i in tokens if not i in english_stopwords]\n",
        "        stemmed_tokens = [porter_stemmer.stem(i) for i in stopped_tokens]\n",
        "        texts.append(stemmed_tokens)\n",
        "    return texts\n",
        "def prepare_corpus(doc_clean):\n",
        "    \"\"\"\n",
        "    Input  : clean document\n",
        "    Purpose: create term dictionary of our courpus and Converting list of documents (corpus) into Document Term Matrix\n",
        "    Output : term dictionary and Document Term Matrix\n",
        "    \"\"\"\n",
        "    dictionary = corpora.Dictionary(doc_clean)\n",
        "    document_term_matrix = [dictionary.doc2bow(doc) for doc in doc_clean]\n",
        "    return dictionary,document_term_matrix\n",
        "\n",
        "def create_gensim_lsa_model(doc_clean,number_of_topics,words):\n",
        "    \"\"\"\n",
        "    Input  : clean document, number of topics and number of words associated with each topic\n",
        "    Purpose: create LSA model using gensim\n",
        "    Output : return LSA model\n",
        "    \"\"\"\n",
        "    dictionary,document_term_matrix=prepare_corpus(doc_clean)\n",
        "    lsamodel = LsiModel(document_term_matrix, num_topics=number_of_topics, id2word = dictionary)  # train model\n",
        "    print(lsamodel.print_topics(num_topics=number_of_topics, num_words=words))\n",
        "    return lsamodel\n",
        "\n",
        "def compute_coherence(dictionary, document_term_matrix, doc_clean, stop, start=2, step=3):\n",
        "    \"\"\"\n",
        "    Input   : dictionary : Gensim dictionary\n",
        "              corpus : Gensim corpus\n",
        "              texts : List of input texts\n",
        "              stop : Max num of topics\n",
        "    purpose : Compute c_v coherence for various number of topics\n",
        "    Output  : model_list : List of LSA topic models\n",
        "              coherence_values : Coherence values corresponding to the LDA model with respective number of topics\n",
        "    \"\"\"\n",
        "    coherence_values = []\n",
        "    model_list = []\n",
        "    for num_topics in range(start, stop, step):\n",
        "      model = LsiModel(document_term_matrix, num_topics, id2word = dictionary)  # train model\n",
        "      model_list.append(model)\n",
        "      coherencemodel = CoherenceModel(model=model, texts=doc_clean, dictionary=dictionary, coherence='c_v')\n",
        "      coherence_values.append(coherencemodel.get_coherence())\n",
        "    return model_list, coherence_values\n",
        "def graph(doc_clean,start, stop, step):\n",
        "    dictionary,document_term_matrix=prepare_corpus(doc_clean)\n",
        "    model_list, coherence_values = compute_coherence(dictionary, document_term_matrix,doc_clean,stop, start, step)\n",
        "    x = range(start, stop, step)\n",
        "    plt.plot(x, coherence_values)\n",
        "    plt.xlabel(\"Number of Topics\")\n",
        "    plt.ylabel(\"Coherence score\")\n",
        "    plt.legend((\"coherence_values\"), loc='best')\n",
        "    plt.show()"
      ],
      "execution_count": 21,
      "outputs": []
    },
    {
      "cell_type": "code",
      "metadata": {
        "colab": {
          "base_uri": "https://localhost:8080/",
          "height": 279
        },
        "id": "CFQ5A9cJ24t8",
        "outputId": "5bd37421-e4e9-4301-f02a-9211f1ec5c8f"
      },
      "source": [
        "start,stop,step=2,12,1\n",
        "clean_text=preprocess_data(titles)\n",
        "graph(clean_text,start,stop,step)"
      ],
      "execution_count": null,
      "outputs": [
        {
          "output_type": "display_data",
          "data": {
            "image/png": "[encoded data removed]",
            "text/plain": [
              "<Figure size 432x288 with 1 Axes>"
            ]
          },
          "metadata": {
            "tags": [],
            "needs_background": "light"
          }
        }
      ]
    },
    {
      "cell_type": "code",
      "metadata": {
        "colab": {
          "base_uri": "https://localhost:8080/"
        },
        "id": "gD4sV92M2_F4",
        "outputId": "8be92563-f8e6-4dc5-cf8e-ee483417735f"
      },
      "source": [
        "number_of_topics=2\n",
        "words=10\n",
        "clean_text=preprocess_data(titles)\n",
        "model=create_gensim_lsa_model(clean_text,number_of_topics,words)"
      ],
      "execution_count": 22,
      "outputs": [
        {
          "output_type": "stream",
          "text": [
            "[(0, '0.763*\"data\" + 0.587*\"scienc\" + 0.077*\"big\" + 0.061*\"comput\" + 0.057*\"1\" + 0.056*\"statist\" + 0.051*\"new\" + 0.047*\"educ\" + 0.045*\"peer\" + 0.044*\"earth\"'), (1, '0.446*\"peer\" + 0.372*\"earth\" + 0.354*\"write\" + 0.354*\"review\" + 0.221*\"1\" + -0.221*\"data\" + 0.213*\"educ\" + 0.192*\"larg\" + 0.177*\"gener\" + 0.177*\"oceanographi\"')]\n"
          ],
          "name": "stdout"
        }
      ]
    },
    {
      "cell_type": "markdown",
      "metadata": {
        "id": "UjD6vOe-jMd8"
      },
      "source": [
        "## (3) (4 points) Compare the results generated by the two topic modeling algorithms, which one is better? You should explain the reasons in details."
      ]
    },
    {
      "cell_type": "markdown",
      "metadata": {
        "id": "sN0ngU8g_yMB"
      },
      "source": [
        "Latent Semantic Analysis(LSA) and Latent Dirichlet Allocation(LDA) deal with NLP problems.Both LSA and LDA have same input which is bag of words in matrix format.LSA focus on reducing matrix dimension while LDA solves topic modeling problem. LSA learns topics by performing a matrix decomposition(SVD) on the term-document matrix.LDA is a generative probabilistic model,that assumes a Dirichlet prior over the latent topics. LSA trains faster than LDA,but seems that it has lower accuracy."
      ]
    }
  ]
}