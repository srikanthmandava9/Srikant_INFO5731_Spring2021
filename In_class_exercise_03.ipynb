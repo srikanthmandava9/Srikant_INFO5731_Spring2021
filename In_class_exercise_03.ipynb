{
  "nbformat": 4,
  "nbformat_minor": 0,
  "metadata": {
    "kernelspec": {
      "display_name": "Python 3",
      "language": "python",
      "name": "python3"
    },
    "language_info": {
      "codemirror_mode": {
        "name": "ipython",
        "version": 3
      },
      "file_extension": ".py",
      "mimetype": "text/x-python",
      "name": "python",
      "nbconvert_exporter": "python",
      "pygments_lexer": "ipython3",
      "version": "3.7.4"
    },
    "colab": {
      "name": "In-class-exercise-03.ipynb",
      "provenance": [],
      "include_colab_link": true
    }
  },
  "cells": [
    {
      "cell_type": "markdown",
      "metadata": {
        "id": "view-in-github",
        "colab_type": "text"
      },
      "source": [
        "<a href=\"https://colab.research.google.com/github/srikanthmandava9/Srikant_INFO5731_Spring2021/blob/master/In_class_exercise_03.ipynb\" target=\"_parent\"><img src=\"https://colab.research.google.com/assets/colab-badge.svg\" alt=\"Open In Colab\"/></a>"
      ]
    },
    {
      "cell_type": "markdown",
      "metadata": {
        "id": "Z8BD0sCg1VYs"
      },
      "source": [
        "## The third In-class-exercise (9/16/2020, 20 points in total)"
      ]
    },
    {
      "cell_type": "markdown",
      "metadata": {
        "id": "uNjUipLL1VYw"
      },
      "source": [
        "The purpose of this exercise is to under users' information needs, then collect the data for analysis."
      ]
    },
    {
      "cell_type": "markdown",
      "metadata": {
        "id": "cqlwFOG61VYx"
      },
      "source": [
        "Question 1 (8 points): Describe an interesting research question (or practical question) you have in mind, what kind of data should be collected to answer the question(s)? How many data needed for the analysis? The detail steps for collecting and save the data. "
      ]
    },
    {
      "cell_type": "code",
      "metadata": {
        "id": "gY5Rv5On1VYx",
        "colab": {
          "base_uri": "https://localhost:8080/",
          "height": 137
        },
        "outputId": "3ab1ef17-c505-455c-d5cd-e0e4972c5359"
      },
      "source": [
        "# Your answer here (no code for this question, write down your answer as detail as possible for the above questions):\n",
        "'''\n",
        "\n",
        "My Reasearch question is to Analysis of Samsung Galaxy A50 Mobile device in the terms of it's rating and review provided by\n",
        "customers who already purchased it online from an Online Shopping website named Flipkart. This website has all the ratings \n",
        "and reviews of this Samsung Galaxy A50 Mobile. In this way by collecting the data of ratings and reviews provided by customers \n",
        "who already purchased the product, we can analyze whether the product has good or bad reviews. For the purpose of getting \n",
        "correct results we need nearly 1000 reviews and ratings approximately, but as per the requirement, I have collected around \n",
        "500 reviews and ratings approximately.\n",
        "\n",
        "\n",
        "Here are the steps followed for collecting and saving data:\n",
        "In this work, Firstly, I have imported required libraries and packages i.e.Requests, BeautifulSoup and used pandas. And then \n",
        "created 4 empty lists to store Name of the customers, Main heading review, Actual Detail review and other one for storing ratings \n",
        "provided. URL is generated at the run time for all the page numbers. By using BeautifulSoup library's find_all() function, \n",
        "All the information is fetched from the website using their class name which is found by using Inspect element option from the \n",
        "website. All the fetched information is appended to the previously created empty lists accordingly. From those lists using \n",
        "Pandas package, Data Frame is created\n",
        "'''"
      ],
      "execution_count": 5,
      "outputs": [
        {
          "output_type": "execute_result",
          "data": {
            "application/vnd.google.colaboratory.intrinsic+json": {
              "type": "string"
            },
            "text/plain": [
              "\"\\n\\nMy Reasearch question is to Analysis of Samsung Galaxy A50 Mobile device in the terms of it's rating and review provided by\\ncustomers who already purchased it online from an Online Shopping website named Flipkart. This website has all the ratings \\nand reviews of this Samsung Galaxy A50 Mobile. In this way by collecting the data of ratings and reviews provided by customers \\nwho already purchased the product, we can analyze whether the product has good or bad reviews. For the purpose of getting \\ncorrect results we need nearly 1000 reviews and ratings approximately, but as per the requirement, I have collected around \\n500 reviews and ratings approximately.\\n\\n\\nHere are the steps followed for collecting and saving data:\\nIn this work, Firstly, I have imported required libraries and packages i.e.Requests, BeautifulSoup and used pandas. And then \\ncreated 4 empty lists to store Name of the customers, Main heading review, Actual Detail review and other one for storing ratings \\nprovided. URL is generated at the run time for all the page numbers. By using BeautifulSoup library's find_all() function, \\nAll the information is fetched from the website using their class name which is found by using Inspect element option from the \\nwebsite. All the fetched information is appended to the previously created empty lists accordingly. From those lists using \\nPandas package, Data Frame is created\\n\""
            ]
          },
          "metadata": {
            "tags": []
          },
          "execution_count": 5
        }
      ]
    },
    {
      "cell_type": "markdown",
      "metadata": {
        "id": "Uwb_fU5o1VYy"
      },
      "source": [
        "Question 2 (12 points): Write python code to collect 500 items of the data you plan to collect above."
      ]
    },
    {
      "cell_type": "code",
      "metadata": {
        "id": "cGioT0J81VYy",
        "colab": {
          "base_uri": "https://localhost:8080/",
          "height": 436
        },
        "outputId": "d7fba516-6b4f-49a9-9235-8b1150ea411c"
      },
      "source": [
        "# You code here (Please add comments in the code):\n",
        "import requests\n",
        "from bs4 import BeautifulSoup\n",
        "import pandas as pd\n",
        "\n",
        "customer_name = [] # Creating a list that stores names of Customers who provided the ratings and reviews\n",
        "review_heading = [] # Creating a list that stores the Main Heading Review provided\n",
        "actual_review = [] # Creating a list that stores the Actual Review provided\n",
        "number_rating_provided = [] #Creating a list that stores Number Ratings provided\n",
        "\n",
        "for page_number in range(55):\n",
        "  URL = \"https://www.flipkart.com/samsung-galaxy-a50-blue-64-gb/product-reviews/itmfe4csw5hucdnn?pid=MOBFE4CSF3G2TTUV&page=\" + str(page_number) # Creating link based on the page number\n",
        "  page = requests.get(URL) # Accessing the URL\n",
        "  soup = BeautifulSoup(page.text, 'html.parser')\n",
        "  name_of_cust = soup.find_all(class_='_2sc7ZR _2V5EHH') # Fetching the Name of the Customer using Class Name i.e. obtained by using Inspect element on webpage\n",
        "  heading_rev = soup.find_all(class_='_2-N8zT') # Fetching the Main Heading Review provided using Class Name i.e. obtained by using Inspect on webpage\n",
        "  actual_rev = soup.find_all(class_='t-ZTKy') # Fetching the Actual Review provided using Class Name i.e. obtained by using Inspect on webpage\n",
        "  number_rating = soup.find_all(class_='_3LWZlK _1BLPMq') # Fetching the Number Rating provided using Class Name i.e. obtained by using Inspect on webpage\n",
        "  \n",
        "  for name, main, actual, rate in zip(name_of_cust, heading_rev, actual_rev, number_rating) : # Iterating through the lists\n",
        "      customer_name.append(name.text) # Appending name to the empty customer_name list\n",
        "      review_heading.append(main.text) # Appending heading reviews to the empty review_heading list\n",
        "      actual_review.append(actual.text) # Appending actual reviews to the empty actual_review list\n",
        "      number_rating_provided.append(rate.text) # Appending rating to the empty number_rating_provided list\n",
        "\n",
        "data_frame = pd.DataFrame(list(zip(customer_name, review_heading, actual_review, number_rating_provided)), columns =['Name of the Customer', 'Heading Review', 'Actual Review', 'Customer Rating'])  # Creating Dataframe to create a .CSV file\n",
        "print(\"Data frame Length is {0}\".format(len(data_frame)))\n",
        "data_frame # Displaying the contents of the Data frame\n",
        "\n",
        "#data_frame.to_csv('reviews_and_ratings.csv', index=False) # Creating a reviews_and_ratings.csv file from the data frame\n",
        "\n"
      ],
      "execution_count": 3,
      "outputs": [
        {
          "output_type": "stream",
          "text": [
            "Data frame Length is 517\n"
          ],
          "name": "stdout"
        },
        {
          "output_type": "execute_result",
          "data": {
            "text/html": [
              "<div>\n",
              "<style scoped>\n",
              "    .dataframe tbody tr th:only-of-type {\n",
              "        vertical-align: middle;\n",
              "    }\n",
              "\n",
              "    .dataframe tbody tr th {\n",
              "        vertical-align: top;\n",
              "    }\n",
              "\n",
              "    .dataframe thead th {\n",
              "        text-align: right;\n",
              "    }\n",
              "</style>\n",
              "<table border=\"1\" class=\"dataframe\">\n",
              "  <thead>\n",
              "    <tr style=\"text-align: right;\">\n",
              "      <th></th>\n",
              "      <th>Name of the Customer</th>\n",
              "      <th>Heading Review</th>\n",
              "      <th>Actual Review</th>\n",
              "      <th>Customer Rating</th>\n",
              "    </tr>\n",
              "  </thead>\n",
              "  <tbody>\n",
              "    <tr>\n",
              "      <th>0</th>\n",
              "      <td>Durgesh Rai</td>\n",
              "      <td>Brilliant</td>\n",
              "      <td>I'm writing a review after 45 days of usage......</td>\n",
              "      <td>5</td>\n",
              "    </tr>\n",
              "    <tr>\n",
              "      <th>1</th>\n",
              "      <td>Sayandeep Bandyopadhyay</td>\n",
              "      <td>Excellent</td>\n",
              "      <td>far better than expected .there are many power...</td>\n",
              "      <td>5</td>\n",
              "    </tr>\n",
              "    <tr>\n",
              "      <th>2</th>\n",
              "      <td>Shubham Gade</td>\n",
              "      <td>Classy product</td>\n",
              "      <td>It's one the fabulous device from Samsung.. To...</td>\n",
              "      <td>5</td>\n",
              "    </tr>\n",
              "    <tr>\n",
              "      <th>3</th>\n",
              "      <td>Arojit  Biswas</td>\n",
              "      <td>Delightful</td>\n",
              "      <td>##Honest Review after using 5days##           ...</td>\n",
              "      <td>4</td>\n",
              "    </tr>\n",
              "    <tr>\n",
              "      <th>4</th>\n",
              "      <td>Dhiman Sarbajna</td>\n",
              "      <td>Triple Camera Beauty</td>\n",
              "      <td>After one day of use, I am really impressed wi...</td>\n",
              "      <td>5</td>\n",
              "    </tr>\n",
              "    <tr>\n",
              "      <th>...</th>\n",
              "      <td>...</td>\n",
              "      <td>...</td>\n",
              "      <td>...</td>\n",
              "      <td>...</td>\n",
              "    </tr>\n",
              "    <tr>\n",
              "      <th>512</th>\n",
              "      <td>SURYA YADAV</td>\n",
              "      <td>Must buy!</td>\n",
              "      <td>overall good product, Apart from fingerprint s...</td>\n",
              "      <td>5</td>\n",
              "    </tr>\n",
              "    <tr>\n",
              "      <th>513</th>\n",
              "      <td>Flipkart Customer</td>\n",
              "      <td>Super!</td>\n",
              "      <td>amazing camwith 25mp 😘READ MORE</td>\n",
              "      <td>5</td>\n",
              "    </tr>\n",
              "    <tr>\n",
              "      <th>514</th>\n",
              "      <td>Prasad Kaligiti</td>\n",
              "      <td>Simply awesome</td>\n",
              "      <td>totally 10/10READ MORE</td>\n",
              "      <td>5</td>\n",
              "    </tr>\n",
              "    <tr>\n",
              "      <th>515</th>\n",
              "      <td>Mohammed umar Shaikh</td>\n",
              "      <td>Does the job</td>\n",
              "      <td>in display fingerprint not good, battery life ...</td>\n",
              "      <td>3</td>\n",
              "    </tr>\n",
              "    <tr>\n",
              "      <th>516</th>\n",
              "      <td>Tippu Basha</td>\n",
              "      <td>Very poor</td>\n",
              "      <td>WASTE OF MONEY PHONE IS HANGING FINGER PRINT S...</td>\n",
              "      <td>5</td>\n",
              "    </tr>\n",
              "  </tbody>\n",
              "</table>\n",
              "<p>517 rows × 4 columns</p>\n",
              "</div>"
            ],
            "text/plain": [
              "        Name of the Customer  ... Customer Rating\n",
              "0                Durgesh Rai  ...               5\n",
              "1    Sayandeep Bandyopadhyay  ...               5\n",
              "2               Shubham Gade  ...               5\n",
              "3             Arojit  Biswas  ...               4\n",
              "4            Dhiman Sarbajna  ...               5\n",
              "..                       ...  ...             ...\n",
              "512              SURYA YADAV  ...               5\n",
              "513        Flipkart Customer  ...               5\n",
              "514          Prasad Kaligiti  ...               5\n",
              "515     Mohammed umar Shaikh  ...               3\n",
              "516              Tippu Basha  ...               5\n",
              "\n",
              "[517 rows x 4 columns]"
            ]
          },
          "metadata": {
            "tags": []
          },
          "execution_count": 3
        }
      ]
    }
  ]
}