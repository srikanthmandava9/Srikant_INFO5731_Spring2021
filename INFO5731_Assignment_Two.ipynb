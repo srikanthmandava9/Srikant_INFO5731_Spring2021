{
  "nbformat": 4,
  "nbformat_minor": 0,
  "metadata": {
    "colab": {
      "name": "INFO5731_Assignment_Two.ipynb",
      "provenance": [],
      "collapsed_sections": [],
      "include_colab_link": true
    },
    "kernelspec": {
      "display_name": "Python 3",
      "language": "python",
      "name": "python3"
    },
    "language_info": {
      "codemirror_mode": {
        "name": "ipython",
        "version": 3
      },
      "file_extension": ".py",
      "mimetype": "text/x-python",
      "name": "python",
      "nbconvert_exporter": "python",
      "pygments_lexer": "ipython3",
      "version": "3.7.4"
    }
  },
  "cells": [
    {
      "cell_type": "markdown",
      "metadata": {
        "id": "view-in-github",
        "colab_type": "text"
      },
      "source": [
        "<a href=\"https://colab.research.google.com/github/srikanthmandava9/Srikant_INFO5731_Spring2021/blob/master/INFO5731_Assignment_Two.ipynb\" target=\"_parent\"><img src=\"https://colab.research.google.com/assets/colab-badge.svg\" alt=\"Open In Colab\"/></a>"
      ]
    },
    {
      "cell_type": "markdown",
      "metadata": {
        "id": "USSdXHuqnwv9"
      },
      "source": [
        "# **INFO5731 Assignment Two**\n",
        "\n",
        "In this assignment, you will try to gather text data from open data source via web scraping or API. After that you need to clean the text data and syntactic analysis of the data."
      ]
    },
    {
      "cell_type": "markdown",
      "metadata": {
        "id": "YWxodXh5n4xF"
      },
      "source": [
        "# **Question 1**"
      ]
    },
    {
      "cell_type": "markdown",
      "metadata": {
        "id": "TenBkDJ5n95k"
      },
      "source": [
        "(40 points). Write a python program to collect text data from **either of the following sources** and save the data into a **csv file**:\n",
        "\n",
        "(1) Collect all the customer reviews of the product [2019 Dell labtop](https://www.amazon.com/Dell-Inspiron-5000-5570-Laptop/dp/B07N49F51N/ref=sr_1_11?crid=1IJ7UWF2F4GHH&keywords=dell%2Bxps%2B15&qid=1580173569&sprefix=dell%2Caps%2C181&sr=8-11&th=1) on amazon.\n",
        "\n",
        "(2) Collect the top 100 User Reviews of the film [Joker](https://www.imdb.com/title/tt7286456/reviews?ref_=tt_urv) from IMDB.\n",
        "\n",
        "(3) Collect the abstracts of the top 100 research papers by using the query [natural language processing](https://citeseerx.ist.psu.edu/search?q=natural+language+processing&submit.x=0&submit.y=0&sort=rlv&t=doc) from CiteSeerX.\n",
        "\n",
        "(4) Collect the top 100 tweets by using hashtag [\"#CovidVaccine\"](https://twitter.com/hashtag/CovidVaccine) from Twitter. \n"
      ]
    },
    {
      "cell_type": "code",
      "metadata": {
        "id": "PuFPKhC0m1fd",
        "colab": {
          "base_uri": "https://localhost:8080/"
        },
        "outputId": "692f8565-c653-446d-8c31-9432afeca018"
      },
      "source": [
        "# Write your code here\n",
        "\n",
        "import requests\n",
        "import csv\n",
        "from bs4 import BeautifulSoup\n",
        "\n",
        "#Connecting to URL\n",
        "URL = 'https://citeseerx.ist.psu.edu/search?q=natural+language+processing&submit.x=0&submit.y=0&sort=rlv&t=doc'\n",
        "page = requests.get(URL)\n",
        "\n",
        "#Parsing the data from the URL\n",
        "soup = BeautifulSoup(page.content, 'html.parser')\n",
        "soup.prettify\n"
      ],
      "execution_count": null,
      "outputs": [
        {
          "output_type": "execute_result",
          "data": {
            "text/plain": [
              "<bound method Tag.prettify of <!DOCTYPE html PUBLIC \"-//W3C//DTD XHTML 1.0 Transitional//EN\"\n",
              "\"http://www.w3.org/TR/xhtml1/DTD/xhtml1-transitional.dtd\">\n",
              "\n",
              "<html lang=\"en\" xml:lang=\"en\" xmlns=\"http://www.w3.org/1999/xhtml\">\n",
              "<head profile=\"http://www.w3.org/2005/11/profile http://a9.com/-/spec/opensearch/1.1/\">\n",
              "<meta content=\"text/html; charset=utf-8\" http-equiv=\"Content-Type\"/>\n",
              "<meta content=\"/images/csx_logo_front.png\" property=\"og:image\"/>\n",
              "<title>CiteSeerX — Search Results — natural language processing</title>\n",
              "<meta content=\"CiteSeerX - Scientific articles matching the query: natural language processing\" name=\"description\"/>\n",
              "<meta content=\"CiteSeerX, natural language processing\" name=\"keywords\"/>\n",
              "<link href=\"/favicon.ico;jsessionid=FBF542CD9AA3582E9AC47AA953A516D2\" rel=\"shortcut icon\" type=\"image/x-icon\"/>\n",
              "<link href=\"/search_plugins/citeseerx_general.xml;jsessionid=FBF542CD9AA3582E9AC47AA953A516D2\" rel=\"search\" title=\"CiteSeerX\" type=\"application/opensearchdescription+xml\"/>\n",
              "<link href=\"/search_plugins/citeseerx_author.xml;jsessionid=FBF542CD9AA3582E9AC47AA953A516D2\" rel=\"search\" title=\"CiteSeerX Author\" type=\"application/opensearchdescription+xml\"/>\n",
              "<link href=\"/search_plugins/citeseerx_title.xml;jsessionid=FBF542CD9AA3582E9AC47AA953A516D2\" rel=\"search\" title=\"CiteSeerX Title\" type=\"application/opensearchdescription+xml\"/>\n",
              "<link href=\"/search;jsessionid=FBF542CD9AA3582E9AC47AA953A516D2?q=natural+language+processing&amp;t=doc&amp;sort=rlv&amp;feed=atom\" rel=\"alternate\" title=\"CiteSeerX Search Results - Atom\" type=\"application/atom+xml\"/>\n",
              "<link href=\"/search;jsessionid=FBF542CD9AA3582E9AC47AA953A516D2?q=natural+language+processing&amp;t=doc&amp;sort=rlv&amp;feed=rss\" rel=\"alternate\" title=\"CiteSeerX Search Results - RSS\" type=\"application/rss+xml\"/>\n",
              "<link href=\"/css/main.css;jsessionid=FBF542CD9AA3582E9AC47AA953A516D2\" rel=\"stylesheet\" type=\"text/css\"/>\n",
              "<script src=\"/js/jquery-1.4.2.min.js;jsessionid=FBF542CD9AA3582E9AC47AA953A516D2\" type=\"text/javascript\"></script>\n",
              "<script src=\"/js/jquery-ui-1.8.custom.min.js;jsessionid=FBF542CD9AA3582E9AC47AA953A516D2\" type=\"text/javascript\"></script>\n",
              "<script src=\"/js/jquery.idTabs.min.js;jsessionid=FBF542CD9AA3582E9AC47AA953A516D2\" type=\"text/javascript\"></script>\n",
              "<script src=\"/js/metacart.js;jsessionid=FBF542CD9AA3582E9AC47AA953A516D2\" type=\"text/javascript\"></script>\n",
              "<script src=\"/js/topnav.js;jsessionid=FBF542CD9AA3582E9AC47AA953A516D2\" type=\"text/javascript\"></script>\n",
              "<script src=\"/js/citeseerx.js;jsessionid=FBF542CD9AA3582E9AC47AA953A516D2\" type=\"text/javascript\"></script>\n",
              "<script src=\"/js/correctionutils.js;jsessionid=FBF542CD9AA3582E9AC47AA953A516D2\" type=\"text/javascript\"></script>\n",
              "<script src=\"/js/checkboxes.js;jsessionid=FBF542CD9AA3582E9AC47AA953A516D2\" type=\"text/javascript\"></script>\n",
              "<script src=\"/js/ga.js;jsessionid=FBF542CD9AA3582E9AC47AA953A516D2\" type=\"text/javascript\"></script>\n",
              "<script src=\"/js/s2button.js;jsessionid=FBF542CD9AA3582E9AC47AA953A516D2\" type=\"text/javascript\"></script>\n",
              "</head>\n",
              "<body>\n",
              "<div id=\"wrapper\">\n",
              "<div id=\"topnav\">\n",
              "<ul id=\"search_nav\">\n",
              "<li class=\"active\"><a class=\"slink\" href=\"/search;jsessionid=FBF542CD9AA3582E9AC47AA953A516D2?q=natural language processing&amp;t=doc&amp;sort=rlv\">Documents</a></li>\n",
              "<li><a class=\"slink\" href=\"/search;jsessionid=FBF542CD9AA3582E9AC47AA953A516D2?q=natural language processing&amp;t=auth&amp;uauth=1&amp;sort=ndocs\">Authors</a></li>\n",
              "<li><a class=\"slink\" href=\"/search;jsessionid=FBF542CD9AA3582E9AC47AA953A516D2?q=natural language processing&amp;t=table&amp;sort=rlv\">Tables</a></li>\n",
              "</ul>\n",
              "<ul id=\"toptools\">\n",
              "<li><a href=\"/myciteseer/login;jsessionid=FBF542CD9AA3582E9AC47AA953A516D2\">Log in</a></li>\n",
              "<li><a href=\"/mcsutils/newAccount;jsessionid=FBF542CD9AA3582E9AC47AA953A516D2\">Sign up</a></li>\n",
              "<li><a href=\"/metacart;jsessionid=FBF542CD9AA3582E9AC47AA953A516D2\">MetaCart</a></li>\n",
              "<li><a href=\"https://www.psu.edu/copyright-information/\" target=\"_blank\">DMCA</a></li>\n",
              "<li><a href=\"http://www.givenow.psu.edu/CiteseerxFund\"><font color=\"#045FB4\">Donate</font></a></li>\n",
              "</ul>\n",
              "</div>\n",
              "<div id=\"header\">\n",
              "<h1 id=\"title\"><a href=\"/;jsessionid=FBF542CD9AA3582E9AC47AA953A516D2\" title=\"CiteSeerX\"><img alt=\"CiteSeerX logo\" height=\"50%\" src=\"/images/csx_logo.png;jsessionid=FBF542CD9AA3582E9AC47AA953A516D2\" width=\"50%\"/></a></h1>\n",
              "</div>\n",
              "<div id=\"main\">\n",
              "<div id=\"search\">\n",
              "<div id=\"search_docs\">\n",
              "<form action=\"/search;jsessionid=FBF542CD9AA3582E9AC47AA953A516D2\" enctype=\"application/x-www-form-urlencoded\" method=\"get\">\n",
              "<label>Documents:</label>\n",
              "<input class=\"s_field\" name=\"q\" type=\"text\" value=\"natural language processing\"/>\n",
              "<input alt=\"Search\" class=\"s_button\" name=\"submit\" onclick='this.form.action=\"/search;jsessionid=FBF542CD9AA3582E9AC47AA953A516D2\"; return true;' src=\"/images/search_icon.png;jsessionid=FBF542CD9AA3582E9AC47AA953A516D2\" type=\"image\" value=\"Search\"/>\n",
              "<input alt=\"Semantic Scholar\" class=\"s_button\" name=\"s2\" onclick=\"this.form.action='https://www.semanticscholar.org/search'; return true;\" src=\"/images/s2_icon.png;jsessionid=FBF542CD9AA3582E9AC47AA953A516D2\" type=\"image\" value=\"Semantic Scholar\"/>\n",
              "<div class=\"opts\">\n",
              "<a href=\"/advanced_search;jsessionid=FBF542CD9AA3582E9AC47AA953A516D2\" title=\"Search full text, title, abstract, date, author name, author affiliation, etc.\">Advanced Search</a>\n",
              "<input class=\"c_box\" name=\"ic\" type=\"checkbox\" value=\"1\"/> Include Citations\n",
              "\t\t   </div>\n",
              "<input name=\"sort\" type=\"hidden\" value=\"rlv\"/>\n",
              "<input name=\"t\" type=\"hidden\" value=\"doc\"/>\n",
              "</form>\n",
              "</div>\n",
              "</div>\n",
              "<div class=\"sidebar\" id=\"content\">\n",
              "<div id=\"sidebar\">\n",
              "<h3>Tools</h3>\n",
              "<!-- <div id=\"feeds\">\n",
              "    <a href=\"/search;jsessionid=FBF542CD9AA3582E9AC47AA953A516D2?q=natural+language+processing&t=doc&sort=rlv&feed=rss\"><img src=\"/images/rss.png;jsessionid=FBF542CD9AA3582E9AC47AA953A516D2\" alt=\"RSS\"/></a>\n",
              "  </div> -->\n",
              "<div id=\"sorting\">Sorted by: \n",
              "    <select class=\"pulldown\" id=\"sortvalue\" name=\"sortvalue\" onchange=\"location = this.options[this.selectedIndex].value;\">\n",
              "<option selected=\"\" value=\"/search;jsessionid=FBF542CD9AA3582E9AC47AA953A516D2?q=natural+language+processing&amp;t=doc\">Relevance</option>\n",
              "<option value=\"/search;jsessionid=FBF542CD9AA3582E9AC47AA953A516D2?q=natural+language+processing&amp;t=doc&amp;sort=cite\">Citation Count</option>\n",
              "<option value=\"/search;jsessionid=FBF542CD9AA3582E9AC47AA953A516D2?q=natural+language+processing&amp;t=doc&amp;sort=date\">Year (Descending)</option>\n",
              "<option value=\"/search;jsessionid=FBF542CD9AA3582E9AC47AA953A516D2?q=natural+language+processing&amp;t=doc&amp;sort=ascdate\">Year (Ascending)</option>\n",
              "<option value=\"/search;jsessionid=FBF542CD9AA3582E9AC47AA953A516D2?q=natural+language+processing&amp;t=doc&amp;sort=recent\">Recency</option>\n",
              "</select>\n",
              "</div>\n",
              "<div id=\"qother\">Try your query at:\n",
              "    \n",
              "    \n",
              "    \n",
              "    \n",
              "    \n",
              "    \n",
              "    <table border=\"0\" cellpadding=\"5\" cellspacing=\"5\">\n",
              "<tr>\n",
              "<td><a href=\"https://www.semanticscholar.org/search?q=natural+language+processing\" title=\"AllenAI Semantic Scholar\"><img alt=\"Semantic Scholar\" height=\"30\" src=\"/images/ai2_icon.png;jsessionid=FBF542CD9AA3582E9AC47AA953A516D2\" width=\"30\"/></a></td>\n",
              "<td><a href=\"http://scholar.google.com/scholar?q=natural+language+processing&amp;hl=en&amp;btnG=Search\" title=\"Google Scholar\"><img alt=\"Scholar\" height=\"24\" src=\"/images/googlescholar_icon.png;jsessionid=FBF542CD9AA3582E9AC47AA953A516D2\" width=\"24\"/></a></td>\n",
              "<td><a href=\"http://academic.research.microsoft.com/Search.aspx?query=natural+language+processing&amp;submit=Search\" title=\"Microsoft Academic Search\"><img alt=\"Academic\" height=\"24\" src=\"/images/microsoftacademicsearch_icon.jpg;jsessionid=FBF542CD9AA3582E9AC47AA953A516D2\" width=\"24\"/></a></td>\n",
              "</tr>\n",
              "<tr>\n",
              "<td><a href=\"https://www.google.com/search?q=natural+language+processing\" title=\"Google\"><img alt=\"Google\" height=\"24\" src=\"/images/google_icon.png;jsessionid=FBF542CD9AA3582E9AC47AA953A516D2\" width=\"24\"/></a></td>\n",
              "<td><a href=\"http://www.bing.com/search?q=natural+language+processing\" title=\"Bing\"><img alt=\"Bing\" height=\"24\" src=\"/images/bing_icon.ico;jsessionid=FBF542CD9AA3582E9AC47AA953A516D2\" width=\"24\"/></a></td>\n",
              "<td><a href=\"http://dblp.uni-trier.de/search?q=natural+language+processing\" title=\"DBLP Computer Science Bibliography\"><img alt=\"DBLP\" height=\"30\" src=\"/images/dblp_icon.png;jsessionid=FBF542CD9AA3582E9AC47AA953A516D2\" width=\"30\"/></a></td>\n",
              "</tr>\n",
              "</table>\n",
              "</div>\n",
              "</div>\n",
              "<div id=\"result_info\">\n",
              "      \n",
              "\n",
              "Results <strong>1 - 10\n",
              "</strong> of\n",
              "<strong>136,310</strong>\n",
              "<div id=\"pager\">\n",
              "<a href=\"/search;jsessionid=FBF542CD9AA3582E9AC47AA953A516D2?q=natural+language+processing&amp;t=doc&amp;sort=rlv&amp;start=10\">Next 10 →</a>\n",
              "</div>\n",
              "</div>\n",
              "<div id=\"result_list\">\n",
              "<div class=\"result\">\n",
              "<h3>\n",
              "<a class=\"remove doc_details\" href=\"/viewdoc/summary;jsessionid=FBF542CD9AA3582E9AC47AA953A516D2?doi=10.1.1.121.2604&amp;rank=1&amp;q=natural language processing&amp;osm=&amp;ossid=\">\n",
              "                  Foundations of statistical <em>natural</em> <em>language</em> <em>processing</em>\n",
              "</a>\n",
              "</h3>\n",
              "<div class=\"pubinfo\">\n",
              "<span class=\"authors\">by \n",
              "                  Christopher D. Manning,  Hinrich Schütze\n",
              "                  \n",
              "                </span>\n",
              "<span class=\"pubyear\">, 2000</span>\n",
              "</div>\n",
              "<div class=\"snippet\">\"...   ...\"</div>\n",
              "<div class=\"pubextras\">\n",
              "<a class=\"abstract_toggle\">Abstract</a>\n",
              "                \n",
              "                 - \n",
              "                  <a class=\"citation remove\" href=\"/showciting;jsessionid=FBF542CD9AA3582E9AC47AA953A516D2?cid=21019\" title=\"number of citations\">Cited by 1139 (5 self)</a>\n",
              "                \n",
              "                - <a class=\"save_doc\" onclick=\"addToCartProxy(21019)\">Add to MetaCart</a>\n",
              "<span class=\"cartmsg\" id=\"cmsg_21019\"></span>\n",
              "<div class=\"pubabstract\">\n",
              "                    Abstract not found\n",
              "                  </div>\n",
              "</div>\n",
              "<div class=\"pubtools\">\n",
              "<span class=\"Z3988\" title=\"url_ver=Z39.88-2004&amp;url_ctx_fmt=info%3Aofi%2Ffmt%3Akev%3Amtx%3Actx&amp;ctx_ver=Z39.88-2004&amp;ctx_enc=info%3Aofi%2Fenc%3AUTF-8&amp;rft_val_fmt=info%3Aofi%2Ffmt%3Akev%3Amtx%3Ajournal&amp;rft_id=http%3A%2F%2Fciteseerx.ist.psu.edu%2Fviewdoc%2Fsummary%3Fdoi%3D10.1.1.121.2604&amp;rft.atitle=Foundations+of+statistical+%3Cem%3Enatural%3C%2Fem%3E+%3Cem%3Elanguage%3C%2Fem%3E+%3Cem%3Eprocessing%3C%2Fem%3E&amp;rft.jtitle=&amp;rft.date=2000&amp;rft.pages=&amp;rft.genre=unknown&amp;rft.aulast=Manning&amp;rft.aufirst=+Christopher+D.&amp;rft.au=Manning%2C+Christopher+D.&amp;rft.au=Sch%C3%BCtze%2C+Hinrich\"></span>\n",
              "</div>\n",
              "</div>\n",
              "<div class=\"result\">\n",
              "<h3>\n",
              "<a class=\"remove doc_details\" href=\"/viewdoc/summary;jsessionid=FBF542CD9AA3582E9AC47AA953A516D2?doi=10.1.1.103.7637&amp;rank=2&amp;q=natural language processing&amp;osm=&amp;ossid=\">\n",
              "                  A Maximum Entropy approach to <em>Natural</em> <em>Language</em> <em>Processing</em>\n",
              "</a>\n",
              "</h3>\n",
              "<div class=\"pubinfo\">\n",
              "<span class=\"authors\">by \n",
              "                  Adam L. Berger, Stephen A. Della Pietra  , Vincent J. Della Pietra  \n",
              "                  \n",
              "                </span>\n",
              "<span class=\"pubvenue\">- COMPUTATIONAL LINGUISTICS</span>\n",
              "<span class=\"pubyear\">, 1996</span>\n",
              "</div>\n",
              "<div class=\"snippet\">\"... The concept of maximum entropy can be traced back along multiple threads to Biblical times. Only recently, however, have computers become powerful enough to permit the widescale application of this concept to real world problems in statistical estimation and pattern recognition. In this paper we des ...\"</div>\n",
              "<div class=\"pubextras\">\n",
              "<a class=\"abstract_toggle\">Abstract</a>\n",
              "                \n",
              "                 - \n",
              "                  <a class=\"citation remove\" href=\"/showciting;jsessionid=FBF542CD9AA3582E9AC47AA953A516D2?cid=10728\" title=\"number of citations\">Cited by 1366 (5 self)</a>\n",
              "                \n",
              "                - <a class=\"save_doc\" onclick=\"addToCartProxy(10728)\">Add to MetaCart</a>\n",
              "<span class=\"cartmsg\" id=\"cmsg_10728\"></span>\n",
              "<div class=\"pubabstract\">\n",
              "                     describe a method for statistical modeling based on maximum entropy. We present a maximum-likelihood approach for automatically constructing maximum entropy models and describe how to implement this approach efficiently, using as examples several problems in <em>natural</em> <em>language</em> <em>processing</em>.  \n",
              "                  </div>\n",
              "</div>\n",
              "<div class=\"pubtools\">\n",
              "<span class=\"Z3988\" title=\"url_ver=Z39.88-2004&amp;url_ctx_fmt=info%3Aofi%2Ffmt%3Akev%3Amtx%3Actx&amp;ctx_ver=Z39.88-2004&amp;ctx_enc=info%3Aofi%2Fenc%3AUTF-8&amp;rft_val_fmt=info%3Aofi%2Ffmt%3Akev%3Amtx%3Ajournal&amp;rft_id=http%3A%2F%2Fciteseerx.ist.psu.edu%2Fviewdoc%2Fsummary%3Fdoi%3D10.1.1.103.7637&amp;rft.atitle=A+Maximum+Entropy+approach+to+%3Cem%3ENatural%3C%2Fem%3E+%3Cem%3ELanguage%3C%2Fem%3E+%3Cem%3EProcessing%3C%2Fem%3E&amp;rft.jtitle=COMPUTATIONAL+LINGUISTICS&amp;rft.date=1996&amp;rft.pages=&amp;rft.genre=unknown&amp;rft.aulast=Berger&amp;rft.aufirst=+Adam+L.&amp;rft.au=Berger%2C+Adam+L.&amp;rft.au=Pietra%2C+Stephen+A.+Della&amp;rft.au=Pietra%2C+Vincent+J.+Della\"></span>\n",
              "</div>\n",
              "</div>\n",
              "<div class=\"result\">\n",
              "<h3>\n",
              "<a class=\"remove doc_details\" href=\"/viewdoc/summary;jsessionid=FBF542CD9AA3582E9AC47AA953A516D2?doi=10.1.1.905.8483&amp;rank=3&amp;q=natural language processing&amp;osm=&amp;ossid=\">\n",
              "<em>Natural</em> <em>Language</em> <em>Processing</em>\n",
              "</a>\n",
              "</h3>\n",
              "<div class=\"pubinfo\">\n",
              "<span class=\"authors\">by \n",
              "                  Cohn Trevor A, Trevor A. Cohn\n",
              "                  \n",
              "                </span>\n",
              "<span class=\"pubyear\">, 2007</span>\n",
              "</div>\n",
              "<div class=\"snippet\">\"... Scaling conditional random fields for natural language processing Terms and Conditions: Terms and Conditions: Copyright in works deposited in Minerva Access is retained by the ...\"</div>\n",
              "<div class=\"pubextras\">\n",
              "<a class=\"abstract_toggle\">Abstract</a>\n",
              "                \n",
              "                \n",
              "                - <a class=\"save_doc\" onclick=\"addToCartProxy(64380258)\">Add to MetaCart</a>\n",
              "<span class=\"cartmsg\" id=\"cmsg_64380258\"></span>\n",
              "<div class=\"pubabstract\">\n",
              "                    Scaling conditional random fields for <em>natural</em> <em>language</em> <em>processing</em> Terms and Conditions: Terms and Conditions: Copyright in works deposited in Minerva Access is retained by the\n",
              "                  </div>\n",
              "</div>\n",
              "<div class=\"pubtools\">\n",
              "<span class=\"Z3988\" title=\"url_ver=Z39.88-2004&amp;url_ctx_fmt=info%3Aofi%2Ffmt%3Akev%3Amtx%3Actx&amp;ctx_ver=Z39.88-2004&amp;ctx_enc=info%3Aofi%2Fenc%3AUTF-8&amp;rft_val_fmt=info%3Aofi%2Ffmt%3Akev%3Amtx%3Ajournal&amp;rft_id=http%3A%2F%2Fciteseerx.ist.psu.edu%2Fviewdoc%2Fsummary%3Fdoi%3D10.1.1.905.8483&amp;rft.atitle=%3Cem%3ENatural%3C%2Fem%3E+%3Cem%3ELanguage%3C%2Fem%3E+%3Cem%3EProcessing%3C%2Fem%3E&amp;rft.jtitle=&amp;rft.date=2007&amp;rft.pages=&amp;rft.genre=unknown&amp;rft.aulast=A&amp;rft.aufirst=+Cohn+Trevor&amp;rft.au=A%2C+Cohn+Trevor&amp;rft.au=Cohn%2C+Trevor+A.\"></span>\n",
              "</div>\n",
              "</div>\n",
              "<div class=\"result\">\n",
              "<h3>\n",
              "<a class=\"remove doc_details\" href=\"/viewdoc/summary;jsessionid=FBF542CD9AA3582E9AC47AA953A516D2?doi=10.1.1.463.8510&amp;rank=4&amp;q=natural language processing&amp;osm=&amp;ossid=\">\n",
              "                  Linguistics and <em>Natural</em> <em>Language</em> <em>Processing</em>\n",
              "</a>\n",
              "</h3>\n",
              "<div class=\"pubinfo\">\n",
              "<span class=\"authors\">by \n",
              "                  Victor Raskin\n",
              "                  \n",
              "                </span>\n",
              "<span class=\"pubvenue\">- Machine Translation: Theoretical and Methodological Issues</span>\n",
              "<span class=\"pubyear\">, 1987</span>\n",
              "</div>\n",
              "<div class=\"snippet\">\"... The paper addresses the issue of cooperation between linguistics and natural language processing (NLP), in general, and between linguistics and machine translation (MT), in particular. It focuses on just one direction of such cooperation, namely applications of linguistics to NLP, virtually ignoring ...\"</div>\n",
              "<div class=\"pubextras\">\n",
              "<a class=\"abstract_toggle\">Abstract</a>\n",
              "                \n",
              "                 - \n",
              "                  <a class=\"citation remove\" href=\"/showciting;jsessionid=FBF542CD9AA3582E9AC47AA953A516D2?cid=899745\" title=\"number of citations\">Cited by 6 (3 self)</a>\n",
              "                \n",
              "                - <a class=\"save_doc\" onclick=\"addToCartProxy(899745)\">Add to MetaCart</a>\n",
              "<span class=\"cartmsg\" id=\"cmsg_899745\"></span>\n",
              "<div class=\"pubabstract\">\n",
              "                    The paper addresses the issue of cooperation between linguistics and <em>natural</em> <em>language</em> <em>processing</em> (NLP), in general, and between linguistics and machine translation (MT), in particular. It focuses on just one direction of such cooperation, namely applications of linguistics to NLP, virtually\n",
              "                  </div>\n",
              "</div>\n",
              "<div class=\"pubtools\">\n",
              "<span class=\"Z3988\" title=\"url_ver=Z39.88-2004&amp;url_ctx_fmt=info%3Aofi%2Ffmt%3Akev%3Amtx%3Actx&amp;ctx_ver=Z39.88-2004&amp;ctx_enc=info%3Aofi%2Fenc%3AUTF-8&amp;rft_val_fmt=info%3Aofi%2Ffmt%3Akev%3Amtx%3Ajournal&amp;rft_id=http%3A%2F%2Fciteseerx.ist.psu.edu%2Fviewdoc%2Fsummary%3Fdoi%3D10.1.1.463.8510&amp;rft.atitle=Linguistics+and+%3Cem%3ENatural%3C%2Fem%3E+%3Cem%3ELanguage%3C%2Fem%3E+%3Cem%3EProcessing%3C%2Fem%3E&amp;rft.jtitle=MACHINE+TRANSLATION%3A+THEORETICAL+AND+METHODOLOGICAL+ISSUES&amp;rft.date=1987&amp;rft.pages=&amp;rft.genre=unknown&amp;rft.aulast=Raskin&amp;rft.aufirst=+Victor&amp;rft.au=Raskin%2C+Victor\"></span>\n",
              "</div>\n",
              "</div>\n",
              "<div class=\"result\">\n",
              "<h3>\n",
              "<a class=\"remove doc_details\" href=\"/viewdoc/summary;jsessionid=FBF542CD9AA3582E9AC47AA953A516D2?doi=10.1.1.21.6514&amp;rank=5&amp;q=natural language processing&amp;osm=&amp;ossid=\">\n",
              "<em>Natural</em> <em>Language</em> <em>Processing</em>\n",
              "</a>\n",
              "</h3>\n",
              "<div class=\"pubinfo\">\n",
              "<span class=\"authors\">by \n",
              "                  Enrico Franconi\n",
              "                  \n",
              "                </span>\n",
              "<span class=\"pubyear\">, 2001</span>\n",
              "</div>\n",
              "<div class=\"snippet\">\"... In most natural language processing applications, Description Logics have been used to encode in a knowledge base some syntactic, semantic, and pragmatic elements needed to drive the semantic interpretation and the natural language generation processes. More recently, Description Logics have been us ...\"</div>\n",
              "<div class=\"pubextras\">\n",
              "<a class=\"abstract_toggle\">Abstract</a>\n",
              "                \n",
              "                 - \n",
              "                  <a class=\"citation remove\" href=\"/showciting;jsessionid=FBF542CD9AA3582E9AC47AA953A516D2?cid=1965661\" title=\"number of citations\">Cited by 4 (0 self)</a>\n",
              "                \n",
              "                - <a class=\"save_doc\" onclick=\"addToCartProxy(1965661)\">Add to MetaCart</a>\n",
              "<span class=\"cartmsg\" id=\"cmsg_1965661\"></span>\n",
              "<div class=\"pubabstract\">\n",
              "                    In most <em>natural</em> <em>language</em> <em>processing</em> applications, Description Logics have been used to encode in a knowledge base some syntactic, semantic, and pragmatic elements needed to drive the semantic interpretation and the <em>natural</em> <em>language</em> generation <em>processes</em>. More recently, Description Logics have been\n",
              "                  </div>\n",
              "</div>\n",
              "<div class=\"pubtools\">\n",
              "<span class=\"Z3988\" title=\"url_ver=Z39.88-2004&amp;url_ctx_fmt=info%3Aofi%2Ffmt%3Akev%3Amtx%3Actx&amp;ctx_ver=Z39.88-2004&amp;ctx_enc=info%3Aofi%2Fenc%3AUTF-8&amp;rft_val_fmt=info%3Aofi%2Ffmt%3Akev%3Amtx%3Ajournal&amp;rft_id=http%3A%2F%2Fciteseerx.ist.psu.edu%2Fviewdoc%2Fsummary%3Fdoi%3D10.1.1.21.6514&amp;rft.atitle=%3Cem%3ENatural%3C%2Fem%3E+%3Cem%3ELanguage%3C%2Fem%3E+%3Cem%3EProcessing%3C%2Fem%3E&amp;rft.jtitle=&amp;rft.date=2001&amp;rft.pages=&amp;rft.genre=unknown&amp;rft.aulast=Franconi&amp;rft.aufirst=+Enrico&amp;rft.au=Franconi%2C+Enrico\"></span>\n",
              "</div>\n",
              "</div>\n",
              "<div class=\"result\">\n",
              "<h3>\n",
              "<a class=\"remove doc_details\" href=\"/viewdoc/summary;jsessionid=FBF542CD9AA3582E9AC47AA953A516D2?doi=10.1.1.231.4614&amp;rank=6&amp;q=natural language processing&amp;osm=&amp;ossid=\">\n",
              "<em>Natural</em> <em>language</em> <em>processing</em> (almost) from scratch \n",
              "                  </a>\n",
              "</h3>\n",
              "<div class=\"pubinfo\">\n",
              "<span class=\"authors\">by \n",
              "                  Ronan Collobert, Jason Weston, Léon Bottou, Michael Karlen, Koray Kavukcuoglu, Pavel Kuksa\n",
              "                  \n",
              "                </span>\n",
              "<span class=\"pubyear\">, 2011</span>\n",
              "</div>\n",
              "<div class=\"snippet\">\"... We propose a unified neural network architecture and learning algorithm that can be applied to various natural language processing tasks including part-of-speech tagging, chunking, named entity recognition, and semantic role labeling. This versatility is achieved by trying to avoid task-specific eng ...\"</div>\n",
              "<div class=\"pubextras\">\n",
              "<a class=\"abstract_toggle\">Abstract</a>\n",
              "                \n",
              "                 - \n",
              "                  <a class=\"citation remove\" href=\"/showciting;jsessionid=FBF542CD9AA3582E9AC47AA953A516D2?cid=13197488\" title=\"number of citations\">Cited by 248 (18 self)</a>\n",
              "                \n",
              "                - <a class=\"save_doc\" onclick=\"addToCartProxy(13197488)\">Add to MetaCart</a>\n",
              "<span class=\"cartmsg\" id=\"cmsg_13197488\"></span>\n",
              "<div class=\"pubabstract\">\n",
              "                    We propose a unified neural network architecture and learning algorithm that can be applied to various <em>natural</em> <em>language</em> <em>processing</em> tasks including part-of-speech tagging, chunking, named entity recognition, and semantic role labeling. This versatility is achieved by trying to avoid task\n",
              "                  </div>\n",
              "</div>\n",
              "<div class=\"pubtools\">\n",
              "<span class=\"Z3988\" title=\"url_ver=Z39.88-2004&amp;url_ctx_fmt=info%3Aofi%2Ffmt%3Akev%3Amtx%3Actx&amp;ctx_ver=Z39.88-2004&amp;ctx_enc=info%3Aofi%2Fenc%3AUTF-8&amp;rft_val_fmt=info%3Aofi%2Ffmt%3Akev%3Amtx%3Ajournal&amp;rft_id=http%3A%2F%2Fciteseerx.ist.psu.edu%2Fviewdoc%2Fsummary%3Fdoi%3D10.1.1.231.4614&amp;rft.atitle=%3Cem%3ENatural%3C%2Fem%3E+%3Cem%3Elanguage%3C%2Fem%3E+%3Cem%3Eprocessing%3C%2Fem%3E+%28almost%29+from+scratch+&amp;rft.jtitle=&amp;rft.date=2011&amp;rft.pages=&amp;rft.genre=unknown&amp;rft.aulast=Collobert&amp;rft.aufirst=+Ronan&amp;rft.au=Collobert%2C+Ronan&amp;rft.au=Weston%2C+Jason&amp;rft.au=Bottou%2C+L%C3%A9on&amp;rft.au=Karlen%2C+Michael&amp;rft.au=Kavukcuoglu%2C+Koray&amp;rft.au=Kuksa%2C+Pavel\"></span>\n",
              "</div>\n",
              "</div>\n",
              "<div class=\"result\">\n",
              "<h3>\n",
              "<a class=\"remove doc_details\" href=\"/viewdoc/summary;jsessionid=FBF542CD9AA3582E9AC47AA953A516D2?doi=10.1.1.650.6553&amp;rank=7&amp;q=natural language processing&amp;osm=&amp;ossid=\">\n",
              "<em>Natural</em> <em>language</em> <em>processing</em>\n",
              "</a>\n",
              "</h3>\n",
              "<div class=\"pubinfo\">\n",
              "<span class=\"authors\">by \n",
              "                  Mark Steedman, Linc Lab, Mark Steedman, Mark Steedman\n",
              "                  \n",
              "                </span>\n",
              "<span class=\"pubvenue\">- In M. Boden (Ed.), Artificial Intelligence</span>\n",
              "<span class=\"pubyear\">, 1996</span>\n",
              "</div>\n",
              "<div class=\"snippet\">\"... Natural Language Processing The subject of Natural Language Processing can be considered in both broad and narrow senses. In the broad sense, it covers processing issues at all levels of natural language understanding, including speech recognition, syntactic and semantic analysis of sentences, refer ...\"</div>\n",
              "<div class=\"pubextras\">\n",
              "<a class=\"abstract_toggle\">Abstract</a>\n",
              "                \n",
              "                 - \n",
              "                  <a class=\"citation remove\" href=\"/showciting;jsessionid=FBF542CD9AA3582E9AC47AA953A516D2?cid=39507340\" title=\"number of citations\">Cited by 2 (0 self)</a>\n",
              "                \n",
              "                - <a class=\"save_doc\" onclick=\"addToCartProxy(39507340)\">Add to MetaCart</a>\n",
              "<span class=\"cartmsg\" id=\"cmsg_39507340\"></span>\n",
              "<div class=\"pubabstract\">\n",
              "<em>Natural</em> <em>Language</em> <em>Processing</em> The subject of <em>Natural</em> <em>Language</em> <em>Processing</em> can be considered in both broad and narrow senses. In the broad sense, it covers <em>processing</em> issues at all levels of <em>natural</em> <em>language</em> understanding, including speech recognition, syntactic and semantic analysis of sentences\n",
              "                  </div>\n",
              "</div>\n",
              "<div class=\"pubtools\">\n",
              "<span class=\"Z3988\" title=\"url_ver=Z39.88-2004&amp;url_ctx_fmt=info%3Aofi%2Ffmt%3Akev%3Amtx%3Actx&amp;ctx_ver=Z39.88-2004&amp;ctx_enc=info%3Aofi%2Fenc%3AUTF-8&amp;rft_val_fmt=info%3Aofi%2Ffmt%3Akev%3Amtx%3Ajournal&amp;rft_id=http%3A%2F%2Fciteseerx.ist.psu.edu%2Fviewdoc%2Fsummary%3Fdoi%3D10.1.1.650.6553&amp;rft.atitle=%3Cem%3ENatural%3C%2Fem%3E+%3Cem%3Elanguage%3C%2Fem%3E+%3Cem%3Eprocessing%3C%2Fem%3E&amp;rft.jtitle=IN+M.+BODEN+%28ED.%29%2C+ARTIFICIAL+INTELLIGENCE&amp;rft.date=1996&amp;rft.pages=&amp;rft.genre=unknown&amp;rft.aulast=Steedman&amp;rft.aufirst=+Mark&amp;rft.au=Steedman%2C+Mark&amp;rft.au=Lab%2C+Linc&amp;rft.au=Steedman%2C+Mark&amp;rft.au=Steedman%2C+Mark\"></span>\n",
              "</div>\n",
              "</div>\n",
              "<div class=\"result\">\n",
              "<h3>\n",
              "<a class=\"remove doc_details\" href=\"/viewdoc/summary;jsessionid=FBF542CD9AA3582E9AC47AA953A516D2?doi=10.1.1.91.9793&amp;rank=8&amp;q=natural language processing&amp;osm=&amp;ossid=\">\n",
              "<em>Natural</em> <em>Language</em> <em>Processing</em>/Robotics\n",
              "                  </a>\n",
              "</h3>\n",
              "<div class=\"pubinfo\">\n",
              "<span class=\"authors\">by \n",
              "                  Timothy Brick\n",
              "                  \n",
              "                </span>\n",
              "</div>\n",
              "<div class=\"snippet\">\"... Robots that interact with humans face-to-face using natural language need to be responsive to the way humans use language in those situations. We propose a psychologicallyinspired natural language processing system for robots which performs incremental semantic interpretation of spoken utterances, i ...\"</div>\n",
              "<div class=\"pubextras\">\n",
              "<a class=\"abstract_toggle\">Abstract</a>\n",
              "                \n",
              "                \n",
              "                - <a class=\"save_doc\" onclick=\"addToCartProxy(5167262)\">Add to MetaCart</a>\n",
              "<span class=\"cartmsg\" id=\"cmsg_5167262\"></span>\n",
              "<div class=\"pubabstract\">\n",
              "                    Robots that interact with humans face-to-face using <em>natural</em> <em>language</em> need to be responsive to the way humans use <em>language</em> in those situations. We propose a psychologicallyinspired <em>natural</em> <em>language</em> <em>processing</em> system for robots which performs incremental semantic interpretation of spoken utterances\n",
              "                  </div>\n",
              "</div>\n",
              "<div class=\"pubtools\">\n",
              "<span class=\"Z3988\" title=\"url_ver=Z39.88-2004&amp;url_ctx_fmt=info%3Aofi%2Ffmt%3Akev%3Amtx%3Actx&amp;ctx_ver=Z39.88-2004&amp;ctx_enc=info%3Aofi%2Fenc%3AUTF-8&amp;rft_val_fmt=info%3Aofi%2Ffmt%3Akev%3Amtx%3Ajournal&amp;rft_id=http%3A%2F%2Fciteseerx.ist.psu.edu%2Fviewdoc%2Fsummary%3Fdoi%3D10.1.1.91.9793&amp;rft.atitle=%3Cem%3ENatural%3C%2Fem%3E+%3Cem%3ELanguage%3C%2Fem%3E+%3Cem%3EProcessing%3C%2Fem%3E%2FRobotics&amp;rft.jtitle=&amp;rft.pages=&amp;rft.genre=unknown&amp;rft.aulast=Brick&amp;rft.aufirst=+Timothy&amp;rft.au=Brick%2C+Timothy\"></span>\n",
              "</div>\n",
              "</div>\n",
              "<div class=\"result\">\n",
              "<h3>\n",
              "<a class=\"remove doc_details\" href=\"/viewdoc/summary;jsessionid=FBF542CD9AA3582E9AC47AA953A516D2?doi=10.1.1.100.4660&amp;rank=9&amp;q=natural language processing&amp;osm=&amp;ossid=\">\n",
              "                  Tutorial on <em>Natural</em> <em>Language</em> <em>Processing</em>\n",
              "</a>\n",
              "</h3>\n",
              "<div class=\"pubinfo\">\n",
              "<span class=\"authors\">by \n",
              "                  unknown authors\n",
              "                  \n",
              "                </span>\n",
              "</div>\n",
              "<div class=\"snippet\">\"... Natural languages are languages spoken by humans. Currently we are not yet at the point where these languages in all of their unprocessed forms can be understood by computers. Natural language processing is the collection of techniques employed to try and accomplish that goal. The field of natural l ...\"</div>\n",
              "<div class=\"pubextras\">\n",
              "<a class=\"abstract_toggle\">Abstract</a>\n",
              "                \n",
              "                \n",
              "                - <a class=\"save_doc\" onclick=\"addToCartProxy(279427)\">Add to MetaCart</a>\n",
              "<span class=\"cartmsg\" id=\"cmsg_279427\"></span>\n",
              "<div class=\"pubabstract\">\n",
              "<em>Natural</em> <em>languages</em> are <em>languages</em> spoken by humans. Currently we are not yet at the point where these <em>languages</em> in all of their unprocessed forms can be understood by computers. <em>Natural</em> <em>language</em> <em>processing</em> is the collection of techniques employed to try and accomplish that goal. The field of <em>natural</em>\n",
              "</div>\n",
              "</div>\n",
              "<div class=\"pubtools\">\n",
              "<span class=\"Z3988\" title=\"url_ver=Z39.88-2004&amp;url_ctx_fmt=info%3Aofi%2Ffmt%3Akev%3Amtx%3Actx&amp;ctx_ver=Z39.88-2004&amp;ctx_enc=info%3Aofi%2Fenc%3AUTF-8&amp;rft_val_fmt=info%3Aofi%2Ffmt%3Akev%3Amtx%3Ajournal&amp;rft_id=http%3A%2F%2Fciteseerx.ist.psu.edu%2Fviewdoc%2Fsummary%3Fdoi%3D10.1.1.100.4660&amp;rft.atitle=Tutorial+on+%3Cem%3ENatural%3C%2Fem%3E+%3Cem%3ELanguage%3C%2Fem%3E+%3Cem%3EProcessing%3C%2Fem%3E&amp;rft.jtitle=&amp;rft.pages=&amp;rft.genre=unknown&amp;rft.aulast=authors&amp;rft.aufirst=+unknown&amp;rft.au=authors%2C+unknown\"></span>\n",
              "</div>\n",
              "</div>\n",
              "<div class=\"result\">\n",
              "<h3>\n",
              "<a class=\"remove doc_details\" href=\"/viewdoc/summary;jsessionid=FBF542CD9AA3582E9AC47AA953A516D2?doi=10.1.1.1065.7780&amp;rank=10&amp;q=natural language processing&amp;osm=&amp;ossid=\">\n",
              "                  Ambiguities in <em>Natural</em> <em>Language</em> <em>Processing</em>\n",
              "</a>\n",
              "</h3>\n",
              "<div class=\"pubinfo\">\n",
              "<span class=\"authors\">by \n",
              "                  Anjali M , Babu Anto \n",
              "                  \n",
              "                </span>\n",
              "</div>\n",
              "<div class=\"snippet\">\"...  ABSTRACT: Ambiguity can be referred as the ability of having more than one meaning or being understood in more than one way. Natural languages are ambiguous, so computers are not able to understand language the way people do. Natural Language Processing (NLP) is concerned with the development of co ...\"</div>\n",
              "<div class=\"pubextras\">\n",
              "<a class=\"abstract_toggle\">Abstract</a>\n",
              "                \n",
              "                \n",
              "                - <a class=\"save_doc\" onclick=\"addToCartProxy(75621707)\">Add to MetaCart</a>\n",
              "<span class=\"cartmsg\" id=\"cmsg_75621707\"></span>\n",
              "<div class=\"pubabstract\">\n",
              "                     ABSTRACT: Ambiguity can be referred as the ability of having more than one meaning or being understood in more than one way. <em>Natural</em> <em>languages</em> are ambiguous, so computers are not able to understand <em>language</em> the way people do. <em>Natural</em> <em>Language</em> <em>Processing</em> (NLP) is concerned with the development\n",
              "                  </div>\n",
              "</div>\n",
              "<div class=\"pubtools\">\n",
              "<span class=\"Z3988\" title=\"url_ver=Z39.88-2004&amp;url_ctx_fmt=info%3Aofi%2Ffmt%3Akev%3Amtx%3Actx&amp;ctx_ver=Z39.88-2004&amp;ctx_enc=info%3Aofi%2Fenc%3AUTF-8&amp;rft_val_fmt=info%3Aofi%2Ffmt%3Akev%3Amtx%3Ajournal&amp;rft_id=http%3A%2F%2Fciteseerx.ist.psu.edu%2Fviewdoc%2Fsummary%3Fdoi%3D10.1.1.1065.7780&amp;rft.atitle=Ambiguities+in+%3Cem%3ENatural%3C%2Fem%3E+%3Cem%3ELanguage%3C%2Fem%3E+%3Cem%3EProcessing%3C%2Fem%3E&amp;rft.jtitle=&amp;rft.pages=&amp;rft.genre=unknown&amp;rft.aulast=M&amp;rft.aufirst=+Anjali&amp;rft.au=M%2C+Anjali&amp;rft.au=Anto%2C+Babu\"></span>\n",
              "</div>\n",
              "</div>\n",
              "</div>\n",
              "<div id=\"result_info\">\n",
              "<div id=\"pager\">\n",
              "<a href=\"/search;jsessionid=FBF542CD9AA3582E9AC47AA953A516D2?q=natural+language+processing&amp;t=doc&amp;sort=rlv&amp;start=10\">Next 10 →</a>\n",
              "</div>\n",
              "        \n",
              "\n",
              "Results <strong>1 - 10\n",
              "</strong> of\n",
              "<strong>136,310</strong>\n",
              "</div>\n",
              "</div>\n",
              "<div class=\"clear\"></div>\n",
              "</div>\n",
              "<div id=\"footer\">\n",
              "<div id=\"sponsors\">\n",
              "        \n",
              "        Powered by:\n",
              "  \t<a href=\"http://lucene.apache.org/solr/\"><img alt=\"Apache Solr\" height=\"8%\" src=\"/images/solrlogo1.png;jsessionid=FBF542CD9AA3582E9AC47AA953A516D2\" width=\"8%\"/></a>\n",
              "</div>\n",
              "<ul class=\"links\">\n",
              "<li><a href=\"http://csxstatic.ist.psu.edu/home\" target=\"_blank\">About CiteSeerX</a></li>\n",
              "<li><a href=\"http://csxcrawlweb01.ist.psu.edu/submit_pub/\" target=\"_blank\">Submit and Index Documents</a></li>\n",
              "<li><a href=\"http://csxstatic.ist.psu.edu/privacy-policy\" target=\"_blank\">Privacy Policy</a></li>\n",
              "<li><a href=\"http://csxstatic.ist.psu.edu/help\" target=\"_blank\">Help</a></li>\n",
              "<li><a href=\"http://csxstatic.ist.psu.edu/downloads/data\" target=\"_blank\">Data</a></li>\n",
              "<li><a href=\"https://github.com/SeerLabs/CiteSeerX\" target=\"_blank\">Source</a></li>\n",
              "<li><a href=\"http://csxstatic.ist.psu.edu/contact\" target=\"_blank\">Contact Us</a></li>\n",
              "</ul>\n",
              "<p class=\"info\">Developed at and hosted by <a href=\"http://ist.psu.edu\">The College of Information Sciences and Technology</a></p>\n",
              "<p>© 2007-2019 <a href=\"http://www.psu.edu\">The Pennsylvania State University</a></p>\n",
              "</div>\n",
              "</div>\n",
              "</body>\n",
              "</html>\n",
              ">"
            ]
          },
          "metadata": {
            "tags": []
          },
          "execution_count": 5
        }
      ]
    },
    {
      "cell_type": "code",
      "metadata": {
        "colab": {
          "base_uri": "https://localhost:8080/"
        },
        "id": "I4XOpccUq6sN",
        "outputId": "64b00c5b-4ce3-4b7c-e17e-e281c6221cdf"
      },
      "source": [
        "#Collecting the top 100 user reviews\r\n",
        "[i*10 for i in range(1,11)]"
      ],
      "execution_count": 34,
      "outputs": [
        {
          "output_type": "execute_result",
          "data": {
            "text/plain": [
              "[10, 20, 30, 40, 50, 60, 70, 80, 90, 100]"
            ]
          },
          "metadata": {
            "tags": []
          },
          "execution_count": 34
        }
      ]
    },
    {
      "cell_type": "code",
      "metadata": {
        "id": "UJnZvOu2rQuD"
      },
      "source": [
        "\r\n",
        "import requests\r\n",
        "import csv\r\n",
        "from bs4 import BeautifulSoup\r\n",
        "\r\n",
        "#Collecting top 100 user reviews\r\n",
        "l1=[i*10 for i in range(1,11)]\r\n",
        "l2=[]\r\n",
        "#Collecting the top 100 user reviews using NLP CiteSeerX\r\n",
        "for i in l1:\r\n",
        "  URL = 'https://citeseerx.ist.psu.edu/search?q=natural+language+processing&t=doc&sort=rlv&start={}'.format(i)\r\n",
        "  page = requests.get(URL)\r\n",
        "  soup = BeautifulSoup(page.content, 'html.parser')\r\n",
        "  for i in soup.find_all(\"div\",{\"class\":\"snippet\"}):\r\n",
        "    l2.append(i.text)"
      ],
      "execution_count": 37,
      "outputs": []
    },
    {
      "cell_type": "code",
      "metadata": {
        "colab": {
          "base_uri": "https://localhost:8080/"
        },
        "id": "BjqYigHBrSX3",
        "outputId": "a7aac1f9-f328-48fc-8fde-79d03601a3cf"
      },
      "source": [
        "#print the NLP data\r\n",
        "for i in soup.find_all(\"div\",{\"class\":\"snippet\"}):\r\n",
        "  print(i.text)"
      ],
      "execution_count": 36,
      "outputs": [
        {
          "output_type": "stream",
          "text": [
            "\"... Research in Natural Language Processing (NLP) has in recent years benefited from the enormous amount of raw textual data available on the World Wide Web. The presence of standard search engines has made this data accessible to computational linguists as a corpus of a size that had never existed befo ...\"\n",
            "\"... Natural language processing #NLP# programs are  confronted with various di#culties in processing HTML and XML documents, and have the potential to produce better results if linguistic information is annotated in the source texts. Wehave therefore developed the Linguistic Annotation Language  #or LAL ...\"\n",
            "\"... Introduction  Natural language processing appears on the surface to be a strongly symbolic activity. Words are symbols that stand for objects and concepts in the real world, and they are put together into sentences that obey well-specified grammar rules. It is no surprise that for several decades na ...\"\n",
            "\"... Abstract. Diff is a software program that detects differences between two data sets and is useful in natural language processing. This paper shows several examples of the application of diff. They include the detection of differences between two different datasets, extraction of rewriting rules, mer ...\"\n",
            "\"... In this paper, we present and compare automatically generated titles for machine-translated documents using several different statistics-based methods. A Naïve Bayesian, a K-Nearest Neighbour, a TF-IDF and an it-erative Expectation-Maximization method for title gen-eration were applied to 1000 origi ...\"\n",
            "\"...   9. Bibliography   ...\"\n",
            "\"... Applying Natural Language Processing techniques to biomedical text as a potential aid to curation has become the focus of intensive research. However, developing integrated systems which address the curators ’ real-world needs has been studied less rigorously. This paper addresses this question and  ...\"\n",
            "\"... Examples of natural languages are Chinese, English and Italian. They are called natural as they evolved in a more or less natural way, without too many deliberate considerations. This sets them apart from formal languages, amongst which are programming languages, which are designed to ...\"\n",
            "\"... A number of powerful modelling techniques have been developed in recent years to compress natural language text. The best of these are adaptive models operating on the character and word level which are able to perform almost as well as humans at predicting text. We show how to apply character based ...\"\n",
            "\"... A semi-automated approach for the design of databases in enhanced-ERD notation is presented. It focuses on the very early stage of the database development which is the stage of user requirement analysis. It is supposed to be used between the requirements determination stage and analysis. The approa ...\"\n"
          ],
          "name": "stdout"
        }
      ]
    },
    {
      "cell_type": "code",
      "metadata": {
        "id": "j0PAbFrarS0U"
      },
      "source": [
        "\r\n",
        "l11=soup.get_text().splitlines()\r\n",
        "for i in range(l11.count(\"\")):\r\n",
        "  l11.remove(\"\")"
      ],
      "execution_count": 38,
      "outputs": []
    },
    {
      "cell_type": "code",
      "metadata": {
        "colab": {
          "base_uri": "https://localhost:8080/",
          "height": 419
        },
        "id": "M9MqxskprS9z",
        "outputId": "05d4ce00-d204-45aa-f882-e94a78d0e95d"
      },
      "source": [
        "import pandas as pd\r\n",
        "df=pd.DataFrame(l2)\r\n",
        "df.to_csv(\"my1csv.csv\")\r\n",
        "df"
      ],
      "execution_count": 39,
      "outputs": [
        {
          "output_type": "execute_result",
          "data": {
            "text/html": [
              "<div>\n",
              "<style scoped>\n",
              "    .dataframe tbody tr th:only-of-type {\n",
              "        vertical-align: middle;\n",
              "    }\n",
              "\n",
              "    .dataframe tbody tr th {\n",
              "        vertical-align: top;\n",
              "    }\n",
              "\n",
              "    .dataframe thead th {\n",
              "        text-align: right;\n",
              "    }\n",
              "</style>\n",
              "<table border=\"1\" class=\"dataframe\">\n",
              "  <thead>\n",
              "    <tr style=\"text-align: right;\">\n",
              "      <th></th>\n",
              "      <th>0</th>\n",
              "    </tr>\n",
              "  </thead>\n",
              "  <tbody>\n",
              "    <tr>\n",
              "      <th>0</th>\n",
              "      <td>\"... Introduction  Statistical natural languag...</td>\n",
              "    </tr>\n",
              "    <tr>\n",
              "      <th>1</th>\n",
              "      <td>\"... The paper summarizes the essential proper...</td>\n",
              "    </tr>\n",
              "    <tr>\n",
              "      <th>2</th>\n",
              "      <td>\"... ABSTRACT: Language is way of communicatin...</td>\n",
              "    </tr>\n",
              "    <tr>\n",
              "      <th>3</th>\n",
              "      <td>\"... We report experiments on the use of stand...</td>\n",
              "    </tr>\n",
              "    <tr>\n",
              "      <th>4</th>\n",
              "      <td>\"... this paper, we will describe a simple rul...</td>\n",
              "    </tr>\n",
              "    <tr>\n",
              "      <th>...</th>\n",
              "      <td>...</td>\n",
              "    </tr>\n",
              "    <tr>\n",
              "      <th>95</th>\n",
              "      <td>\"...   9. Bibliography   ...\"</td>\n",
              "    </tr>\n",
              "    <tr>\n",
              "      <th>96</th>\n",
              "      <td>\"... Applying Natural Language Processing tech...</td>\n",
              "    </tr>\n",
              "    <tr>\n",
              "      <th>97</th>\n",
              "      <td>\"... Examples of natural languages are Chinese...</td>\n",
              "    </tr>\n",
              "    <tr>\n",
              "      <th>98</th>\n",
              "      <td>\"... A number of powerful modelling techniques...</td>\n",
              "    </tr>\n",
              "    <tr>\n",
              "      <th>99</th>\n",
              "      <td>\"... A semi-automated approach for the design ...</td>\n",
              "    </tr>\n",
              "  </tbody>\n",
              "</table>\n",
              "<p>100 rows × 1 columns</p>\n",
              "</div>"
            ],
            "text/plain": [
              "                                                    0\n",
              "0   \"... Introduction  Statistical natural languag...\n",
              "1   \"... The paper summarizes the essential proper...\n",
              "2   \"... ABSTRACT: Language is way of communicatin...\n",
              "3   \"... We report experiments on the use of stand...\n",
              "4   \"... this paper, we will describe a simple rul...\n",
              "..                                                ...\n",
              "95                      \"...   9. Bibliography   ...\"\n",
              "96  \"... Applying Natural Language Processing tech...\n",
              "97  \"... Examples of natural languages are Chinese...\n",
              "98  \"... A number of powerful modelling techniques...\n",
              "99  \"... A semi-automated approach for the design ...\n",
              "\n",
              "[100 rows x 1 columns]"
            ]
          },
          "metadata": {
            "tags": []
          },
          "execution_count": 39
        }
      ]
    },
    {
      "cell_type": "markdown",
      "metadata": {
        "id": "AfpMRCrRwN6Z"
      },
      "source": [
        "# **Question 2**"
      ]
    },
    {
      "cell_type": "markdown",
      "metadata": {
        "id": "1dCQEbDawWCw"
      },
      "source": [
        "(30 points). Write a python program to **clean the text data** you collected above and save the data in a new column in the csv file. The data cleaning steps include:\n",
        "\n",
        "(1) Remove noise, such as special characters and punctuations.\n",
        "\n",
        "(2) Remove numbers.\n",
        "\n",
        "(3) Remove stopwords by using the [stopwords list](https://gist.github.com/sebleier/554280).\n",
        "\n",
        "(4) Lowercase all texts\n",
        "\n",
        "(5) Stemming. \n",
        "\n",
        "(6) Lemmatization."
      ]
    },
    {
      "cell_type": "code",
      "metadata": {
        "id": "vATjQNTY8buA"
      },
      "source": [
        "# Write your code here\n",
        "#(1) Remove noise, such as special characters and punctuations.\n",
        "import re\n",
        "#spliting the words from the data frame using regular expression\n",
        "word1=[]\n",
        "for i in df[0]:\n",
        "  word1.append(re.split(r'\\W+',i))"
      ],
      "execution_count": 42,
      "outputs": []
    },
    {
      "cell_type": "code",
      "metadata": {
        "colab": {
          "base_uri": "https://localhost:8080/"
        },
        "id": "huD2o0rlncVY",
        "outputId": "9a0e31b9-f799-4cc4-8a55-15979df5491e"
      },
      "source": [
        "#importing the NLTK library and downloading the stopwords corpus\r\n",
        "import nltk\r\n",
        "nltk.download('stopwords')\r\n",
        "nltk.download('wordnet')\r\n",
        "from nltk.corpus import stopwords\r\n",
        "stopwords.words('english')\r\n",
        "\r\n",
        "#removing the stopwords and special characters from the text\r\n",
        "final1=[]\r\n",
        "for i in word1:\r\n",
        "  #print(i)\r\n",
        "  filtered_words = [word for word in i if word not in stopwords.words('english')]\r\n",
        "  final1.append(filtered_words)\r\n",
        "\r\n",
        "print(final1)"
      ],
      "execution_count": 43,
      "outputs": [
        {
          "output_type": "stream",
          "text": [
            "[nltk_data] Downloading package stopwords to /root/nltk_data...\n",
            "[nltk_data]   Package stopwords is already up-to-date!\n",
            "[nltk_data] Downloading package wordnet to /root/nltk_data...\n",
            "[nltk_data]   Package wordnet is already up-to-date!\n",
            "[['', 'Introduction', 'Statistical', 'natural', 'language', 'processing', 'SNLP', 'field', 'lying', 'intersection', 'natural', 'language', 'processing', 'machine', 'learning', 'SNLP', 'di', 'ers', 'traditional', 'natural', 'language', 'processing', 'instead', 'linguist', 'manually', 'construct', 'model', 'given', 'linguistic', ''], ['', 'The', 'paper', 'summarizes', 'essential', 'properties', 'document', 'retrieval', 'reviews', 'conventional', 'practice', 'research', 'findings', 'latter', 'suggesting', 'simple', 'statistical', 'techniques', 'effective', 'It', 'considers', 'new', 'opportunities', 'challenges', 'presented', 'ability', 'search', 'full', ''], ['', 'ABSTRACT', 'Language', 'way', 'communicating', 'words', 'Language', 'helps', 'understanding', 'world', 'get', 'better', 'insight', 'world', 'Language', 'helps', 'speakers', 'vague', 'precise', 'like', 'NLP', 'Stands', 'natural', 'language', 'processing', 'Natural', 'languages', 'languages', 'spoken', ''], ['', 'We', 'report', 'experiments', 'use', 'standard', 'natural', 'language', 'processing', 'NLP', 'tools', 'analysis', 'music', 'lyrics', 'A', 'significant', 'amount', 'music', 'audio', 'lyrics', 'Lyrics', 'encode', 'important', 'part', 'semantics', 'song', 'therefore', 'analysis', 'complements', 'acoustic', 'cultural', 'metada', ''], ['', 'paper', 'describe', 'simple', 'rule', 'based', 'approach', 'automated', 'learning', 'linguistic', 'knowledge', 'This', 'approach', 'shown', 'number', 'tasks', 'capture', 'information', 'clearer', 'direct', 'fashion', 'without', 'compromise', 'performance', 'We', 'present', 'detailed', 'case', 'study', 'learni', ''], ['', 'This', 'paper', 'focuses', 'connectionist', 'models', 'natural', 'language', 'processing', 'We', 'briefly', 'present', 'discuss', 'several', 'aspects', 'high', 'level', 'tasks', 'recently', 'approached', 'connectionism', 'either', 'localist', 'parallel', 'distributed', 'processing', 'models', 'Several', 'interesting', 'architectures', ''], ['', 'Abstract', 'The', 'article', 'explores', 'possibility', 'construct', 'unified', 'word', 'feature', 'component', 'features', 'letters', 'Each', 'letter', 'modeled', 'different', 'attractor', 'finally', 'embedded', 'quadratic', 'iterated', 'map', 'The', 'result', 'word', 'feature', 'account', 'meaning', 'extraction', 'pr', ''], ['', 'paper', 'see', 'Schank', '86', 'theoretical', 'discussion', 'Kass', '86', 'Leake', 'Owens', '86', 'brief', 'discussions', 'program', 'built', 'around', 'principles', 'goal', 'simply', 'point', 'interest', 'natural', 'language', 'processing', 'led', 'us', 'naturally', 'indeed', 'inevitably', 'de', ''], ['', 'Objectives', 'To', 'provide', 'overview', 'tutorial', 'natural', 'language', 'processing', 'NLP', 'modern', 'NLP', 'system', 'design', 'Target', 'audience', 'This', 'tutorial', 'targets', 'medical', 'informatics', 'generalist', 'limited', 'acquaintance', 'principles', 'behind', 'NLP', 'limited', 'knowledge', 'current', 'state', ''], ['', 'This', 'paper', 'briefly', 'describes', 'current', 'implementation', 'status', 'intelligent', 'information', 'retrieval', 'system', 'MARIE', 'employs', 'natural', 'language', 'processing', 'techniques', 'Descriptive', 'captions', 'used', 'iden', 'tify', 'photographic', 'images', 'concerning', 'various', 'military', 'projects', 'The', 'captions', 'parsed', ''], ['', 'Abstract', 'Metabolism', 'machinery', 'life', 'signal', 'transduction', 'provides', 'regulatory', 'mechanisms', 'control', 'machinery', 'Due', 'complexity', 'signal', 'transduction', 'pathways', 'computational', 'approaches', 'needed', 'aid', 'biologist', 'integrating', 'available', 'knowledge', 'formulatio', ''], ['', 'This', 'report', 'presents', 'detailed', 'analysis', 'review', 'NLP', 'evaluation', 'principle', 'practice', 'Part', '1', 'examines', 'evaluation', 'concepts', 'establishes', 'framework', 'NLP', 'system', 'evaluation', 'This', 'makes', 'use', 'experience', 'related', 'area', 'information', 'retrieval', 'analysis', 'also', 'refers', 'ev', ''], ['', 'Web', 'emerged', 'important', 'source', 'information', 'world', 'This', 'resulted', 'need', 'automated', 'software', 'components', 'analyze', 'web', 'pages', 'harvest', 'useful', 'information', 'However', 'typical', 'web', 'pages', 'informative', 'content', 'surrounded', 'high', 'degree', 'noise', ''], ['', 'Abstract', 'Natural', 'Language', 'Processing', 'theoretically', 'motivated', 'range', 'computational', 'techniques', 'analysing', 'representing', 'naturally', 'occurring', 'texts', 'one', 'levels', 'linguistic', 'analysis', 'purpose', 'achieving', 'human', 'like', 'language', 'processing', 'range', 'tasks', 'applications', ''], ['', 'This', 'paper', 'reviews', 'processes', 'involved', 'Natural', 'Language', 'Processing', 'NLP', 'It', 'demonstrates', 'various', 'kinds', 'choices', 'need', 'taken', 'execution', 'word', 'morphology', 'syntactic', 'text', 'analysis', 'text', 'generation', 'components', 'It', 'compares', 'time', 'complexity', 'traditional', ''], ['', 'This', 'article', 'focusses', 'derivation', 'large', 'lexicons', 'natural', 'language', 'processing', 'We', 'describe', 'development', 'dictionary', 'support', 'environment', 'linking', 'restructured', 'version', 'Longman', 'Dictionary', 'Contemporary', 'English', 'natural', 'language', 'processing', 'systems', 'The', 'process', 'restruc', ''], ['', 'We', 'introduce', 'method', 'analyzing', 'complexity', 'natural', 'language', 'processing', 'tasks', 'predicting', 'difficulty', 'new', 'NLP', 'tasks', 'Our', 'complexity', 'measures', 'derived', 'Kolmogorov', 'complexity', 'class', 'automata', 'meaning', 'automata', 'whose', 'purpose', 'extract', 'relevant', 'pieces', 'infor', ''], ['', 'Deep', 'learning', 'emerged', 'new', 'area', 'machine', 'learning', 'research', 'It', 'tries', 'mimic', 'human', 'brain', 'capable', 'processing', 'learning', 'complex', 'input', 'data', 'solving', 'different', 'kinds', 'complicated', 'tasks', 'well', 'It', 'successfully', 'applied', 'several', 'fields', 'images', ''], ['', 'This', 'author', 'produced', 'version', 'paper', 'published', 'The', ''], ['', 'Abstract', 'Natural', 'language', 'processing', 'NLP', 'application', 'automated', 'parsing', 'machine', 'learning', 'techniques', 'analyze', 'standard', 'text', 'Applications', 'NLP', 'requirements', 'engineering', 'include', 'extraction', 'ontologies', 'requirements', 'specification', 'use', 'NLP', 'verify', 'consistency', ''], ['', 'Information', 'retrieval', 'addresses', 'problem', 'finding', 'documents', 'whose', 'content', 'matches', 'user', 'aposs', 'request', 'among', 'large', 'collection', 'documents', 'Currently', 'successful', 'general', 'purpose', 'retrieval', 'methods', 'statistical', 'methods', 'treat', 'text', 'little', 'bag', 'w', ''], ['', 'Work', 'computational', 'linguistics', 'began', 'soon', 'development', 'first', 'computers', 'Booth', 'Brandwood', 'Cleave', '1958', 'yet', 'intervening', 'four', 'decades', 'pervasive', 'feeling', 'progress', 'computer', 'understanding', 'natural', 'language', 'commensurate', 'progres', ''], ['', 'Abstract', 'A', 'system', 'recognizes', 'authenticates', 'voice', 'user', 'extracting', 'distinct', 'features', 'voice', 'samples', 'usually', 'termed', 'Voice', 'recognition', 'system', 'Voice', 'identification', 'carried', 'converting', 'human', 'voice', 'digital', 'data', 'The', 'digitized', 'audio', 'samples', 'unde', ''], ['', 'Abstract', 'Testing', 'natural', 'language', 'requirements', 'standard', 'approach', 'system', 'acceptance', 'testing', 'This', 'test', 'often', 'performed', 'independent', 'test', 'organization', 'unfamiliar', 'application', 'area', 'The', 'things', 'testers', 'go', 'written', 'requirements', 'So', ''], ['', ''], ['', 'algorithms', 'allow', 'understanding', 'generation', 'humor', 'There', 'general', 'aim', 'modeling', 'humor', 'provide', 'us', 'lots', 'information', 'cognitive', 'abilities', 'general', 'reasoning', 'remembering', 'understanding', 'situations', 'understanding', 'conversati', ''], ['', ''], ['', 'In', 'recent', 'years', 'machine', 'learning', 'ML', 'used', 'solve', 'complex', 'tasks', 'different', 'disciplines', 'ranging', 'Data', 'Mining', 'Information', ''], ['', 'We', 'argue', 'manual', 'automatic', 'thesauruses', 'alternative', 'resources', 'NLP', 'tasks', 'This', 'involves', 'radical', 'step', 'interpreting', 'manual', 'thesauruses', 'classifications', 'words', 'rather', 'word', 'senses', 'case', 'made', 'The', 'range', 'roles', 'thesauruses', 'within', 'NLP', 'briefly', ''], ['', 'Introduction', 'Patterns', 'music', 'object', 'intensive', 'studies', 'past', 'years', 'One', 'purposes', 'analyzing', 'musical', 'structure', 'form', 'discover', 'patterns', 'explicit', 'implicit', 'musical', 'works', 'Simon', '13', 'Patterns', 'comprise', 'periodicity', 'make', 'use', 'alphabets', ''], ['', 'Abstract', 'Many', 'information', 'retrieval', 'IR', 'systems', 'retrieve', 'relevant', 'documents', 'based', 'exact', 'matching', 'keywords', 'query', 'documents', 'This', 'method', 'degrades', 'precision', 'rate', 'In', 'order', 'solve', 'problem', 'collected', 'semantically', 'related', 'words', 'assigned', 'semantic', 'relationships', 'used', 'gener', ''], ['', 'paper', 'argue', 'questionanswering', 'QA', 'technical', 'domains', 'distinctly', 'different', 'TREC', 'based', 'QA', 'Web', 'based', 'QA', 'cannot', 'benefit', 'lom', 'data', 'intensive', 'approaches', ''], ['', 'Universit', 'quot', 'des', 'Saarlandes', ''], ['', 'Proceedings', 'Workshop', ''], ['', 'uni', 'hamburg', 'de', ''], ['', ''], ['', '2', '6', ''], ['', 'SRI', 'developed', 'new', 'architecture', 'integrating', 'speech', 'natural', 'language', 'processing', 'applies', 'linguistic', 'constraints', 'recognition', 'incrementally', 'expanding', 'state', 'transition', 'network', 'embodied', 'unification', 'grammar', 'We', 'compare', 'dynamic', 'gralnlnar', 'network', 'DGN', 'approach', ''], ['', 'This', 'chapter', 'considers', 'revolution', 'taken', 'place', 'natural', 'language', 'processing', 'research', 'last', 'five', 'years', 'It', 'begins', 'providing', 'brief', 'guide', 'structure', 'field', 'presents', 'caricature', 'two', 'competing', 'paradigms', '1980s', 'NLP', 'research', 'indicates', 'reasons', 'wh', ''], ['', 'visual', 'development', 'environment', 'support', 'visual', 'assembly', 'execution', 'analysis', 'modular', 'natural', 'language', 'processing', 'systems', 'The', 'visual', 'model', 'executable', 'data', 'flow', 'program', 'graph', 'automatically', 'synthesised', 'data', 'dependency', 'declarations', 'language', 'processing', 'modules', 'The', 'graph', 'th', ''], ['', 'In', 'Chapter', 'basic', 'uses', 'Description', 'Logics', 'Natural', 'Language', 'Processing', 'analysed', 'together', 'little', 'bit', 'history', 'role', 'Description', 'Logics', 'current', 'state', 'art', 'computational', 'linguistics', 'pointed', '18', '1', 'Introduction', 'Since', 'early', 'days', ''], ['', 'We', 'applied', 'structure', 'learning', 'model', 'Max', 'Margin', 'Structure', 'MMS', 'natural', 'language', 'processing', 'NLP', 'tasks', 'aim', 'capture', 'latent', 'relationships', 'within', 'output', 'language', 'domain', 'We', 'formulate', 'model', 'extension', 'multi', 'class', 'Support', 'Vector', 'Machine', 'SVM', 'present', 'per', ''], ['', 'Vast', 'quantities', 'text', 'becoming', 'available', 'elec', 'tronic', 'form', 'ranging', 'published', 'documents', 'e', 'g', 'electronic', 'dictionaries', 'encyclopedias', 'libraries', 'archives', 'information', 'retrieval', 'services', 'private', 'databases', 'e', 'g', 'marketing', 'information', 'legal', 'records', 'medical', 'histories', 'per', ''], ['', 'Over', 'last', 'years', 'number', 'areas', 'natural', 'language', 'processing', 'begun', 'applying', 'graph', 'based', 'techniques', 'These', 'include', 'among', 'others', 'text', 'summarization', 'syntactic', 'parsing', 'word', 'sense', 'disambiguation', 'ontology', 'construction', 'sentiment', 'subjectivity', 'analysis', 'text', 'clustering', 'In', 'pa', ''], ['', 'In', 'Natural', 'Language', 'Processing', 'NLP', 'research', 'results', 'software', 'engineering', 'software', 'technology', 'often', 'neglected', ''], ['', 'Kernelized', 'sorting', 'approach', 'matching', 'objects', 'two', 'sources', 'domains', 'require', 'prior', 'notion', 'similarity', 'objects', 'across', 'two', 'sources', 'Unfortunately', 'technique', 'highly', 'sensitive', 'initialization', 'high', 'dimensional', 'data', 'We', 'present', 'variants', 'kern', ''], ['', 'Natural', 'language', 'complex', 'compound', 'organization', 'structures', 'basic', 'linguistic', 'elements', 'represent', 'various', 'meanings', 'Therefore', 'understand', 'nature', 'natural', 'language', 'need', 'sophisticated', 'treatment', 'basic', 'elements', 'well', 'insights', 'elements', ''], ['', 'In', 'paper', 'describe', 'framework', 'developing', 'probabilistic', 'classifiers', 'natural', 'language', 'processing', 'Our', 'focus', 'formulating', 'models', 'capture', 'important', 'interdependencies', 'among', 'features', 'avoid', 'overfitting', 'data', 'also', 'characterizing', 'data', 'well', 'The', 'class', 'pro', ''], ['', 'Many', 'Natural', 'Language', 'Processing', 'NLP', 'techniques', 'used', 'Information', 'Retrieval', 'The', 'results', 'encouraging', 'Simple', 'methods', 'stopwording', 'porter', 'style', 'stemming', 'etc', 'usually', 'yield', 'significant', 'improvements', 'higher', 'level', 'processing', 'chunking', 'parsing', 'word', 'sense', 'disambiguation', 'e', ''], ['', 'Abstract', 'This', 'paper', 'explains', 'information', 'retrieval', 'using', 'natural', 'language', 'processing', 'Malayalam', 'language', 'basic', ''], ['', 'The', 'research', 'areas', 'plan', 'recognition', 'natural', 'language', 'parsing', 'share', 'many', 'common', 'features', 'even', 'algorithms', 'However', 'dialog', 'two', 'disciplines', 'effective', 'Specifically', 'significant', 'recent', 'results', 'parsing', 'mildly', 'context', 'sensitive', 'grammars', 'leveraged', ''], ['', 'The', 'research', 'areas', 'plan', 'recognition', 'natural', 'language', 'parsing', 'share', 'many', 'common', 'features', 'even', 'algorithms', 'However', 'dialog', 'two', 'disciplines', 'effective', 'Specifically', 'significant', 'recent', 'results', 'parsing', 'mildly', 'context', 'sensitive', 'grammars', 'leveraged', ''], ['', 'Information', 'retrieval', 'process', 'finding', 'documents', 'document', 'collection', 'satisfies', 'information', 'need', 'user', 'The', 'documents', 'natural', 'language', 'constructs', 'motivation', 'work', 'investigate', 'natural', 'language', 'processing', 'used', 'improve', 'performa', ''], ['', 'While', 'computational', 'logic', 'become', 'widely', 'used', 'representing', 'reasoning', 'linguistic', 'knowledge', 'cross', 'fertilization', 'logic', 'programming', 'machine', 'learning', 'given', 'rise', 'new', 'discipline', 'known', 'inductive', 'logic', 'programming', 'Inspired', 'building', 'achievements', ''], ['', 'What', 'statistical', 'method', 'used', 'natural', 'language', 'processing', 'NLP', 'In', 'paper', 'start', 'definition', 'NLP', 'concerned', 'design', 'implementation', 'effective', 'natural', 'language', 'input', 'output', 'components', 'computational', 'systems', 'We', 'distinguish', 'three', 'kind', ''], ['', 'In', 'report', 'collaborative', 'work', 'fields', 'Machine', 'Learning', 'ML', 'Natural', 'Language', 'Processing', 'NLP', 'presented', 'The', 'document', 'structured', 'two', 'parts', 'The', 'first', 'part', 'includes', 'superficial', 'comprehensive', 'survey', 'covering', 'state', 'art', 'machine', 'learning', 'techniq', ''], ['', 'Abstract', 'This', 'thesis', 'examines', 'use', 'machine', 'learning', 'techniques', 'various', 'tasks', 'natural', 'language', 'processing', 'mainly', 'task', 'information', 'extraction', 'texts', 'The', 'objectives', 'improvement', 'adaptability', 'information', 'extraction', 'systems', 'new', 'thematic', 'mains', 'even', 'lang', ''], ['', 'This', 'chapter', 'examines', 'application', 'natural', 'language', 'processing', 'computerassisted', 'language', 'learning', 'including', 'history', 'work', 'field', 'last', 'thirtyfive', 'years', 'focus', 'current', 'developments', 'opportunities', '36', '1', ''], ['', 'Traditional', 'approaches', 'tointerpretation', 'natural', 'language', 'processing', 'typically', 'fall', 'one', 'three', 'classes', 'syntax', 'driven', 'semantics', 'driven', 'frame', 'task', 'based', 'Syntax', 'driven', 'approaches', 'use', 'domain', 'independent', 'grammar', 'drive', 'interpretation', 'process', 'produce', 'global', 'parse', 'input', ''], ['', 'Natural', 'Language', 'Processing', 'NLP', 'large', 'diverse', 'subtopic', 'artificial', 'intelligence', 'As', 'result', 'NLP', 'many', 'subtopics', 'including', 'optical', 'character', 'recognition', 'text', 'speech', 'translators', 'foreign', 'language', 'reading', 'writing', 'aids', 'machine', 'translation', 'speech', 'recognition', 'W', ''], ['', 'Probabilistic', 'finite', 'state', 'string', 'transducers', 'FSTs', 'extremely', 'popular', 'natural', 'language', 'processing', 'due', 'powerful', 'generic', 'methods', 'applying', 'composing', 'learning', 'Unfortunately', 'FSTs', 'good', 'fit', 'much', 'current', 'work', 'probabilistic', 'modeling', 'machine', 'translati', ''], ['', 'ABSTRACT', 'In', 'special', 'issue', 'TAL', 'look', 'fundamental', 'principles', 'underlying', 'evaluation', 'natural', 'language', 'processing', 'We', 'adopt', 'global', 'point', 'view', 'goes', 'beyond', 'horizon', 'single', 'evaluation', 'campaign', 'particular', 'protocol', 'After', 'brief', 'review', 'history', 'terminology', ''], ['', ''], ['', 'Natural', 'language', 'processing', 'systems', 'NLP', 'extract', 'clinical', 'information', 'textual', 'reports', 'shown', 'effective', 'limited', 'domains', 'particular', 'applications', 'Because', 'NLP', 'system', 'typically', 'requires', 'substantial', 'resources', 'develop', 'beneficial', 'designed', 'easily', ''], ['', 'We', 'propose', 'bifurcated', 'paradigm', 'construction', 'Prolog', 'knowl', 'edge', 'base', 'body', 'documents', 'first', 'information', 'extraction', 'IE', 'ap', 'plication', 'annotate', 'corpus', 'output', 'annotated', 'documents', 'second', 'Prolog', 'knowledge', 'base', 'KB', 'application', 'transform', 'th', ''], ['', 'We', 'describe', 'single', 'convolutional', 'neural', 'network', 'architecture', 'given', 'sentence', 'outputs', 'host', 'language', 'processing', 'predictions', 'part', 'speech', 'tags', 'chunks', 'named', 'entity', 'tags', 'semantic', 'roles', 'semantically', 'similar', 'words', 'likelihood', 'sentence', 'makes', 'sense', 'grammatically', 'sem', ''], ['', 'We', 'developed', 'prototype', 'information', 'retrieval', 'system', 'uses', 'advanced', 'natural', 'language', 'processing', 'techniques', 'enhance', 'effectiveness', 'traditional', 'key', 'word', 'based', 'document', 'retrieval', 'The', 'backbone', 'system', 'statistical', 'retrieval', 'engine', 'performs', 'automated', 'indexing', 'docum', ''], ['', ''], ['', 'In', 'paper', 'discuss', 'several', 'issues', 'requirements', 'enabling', 'natural', 'language', 'processing', 'systems', 'become', 'context', 'adaptive', 'Given', 'fact', 'emerging', 'systems', 'feature', 'speaker', 'independent', 'continuous', 'speech', 'recognition', 'restricted', 'individual', 'domains', 'equipped', 'syntactic', ''], ['', 'In', 'Fall', '2004', 'I', 'introduced', 'new', 'course', 'called', 'Applied', 'Natural', 'Language', 'Processing', 'students', 'acquire', 'understanding', 'text', 'analysis', 'techniques', 'currently', 'feasible', 'practical', 'applications', ''], ['', ''], ['', 'Abstract', 'Natural', 'language', 'processing', 'study', 'mathematical', 'computational', 'modelling', 'various', 'aspects', 'language', 'improvement', 'wide', 'range', 'systems', 'Natural', 'language', 'language', 'arises', 'innate', 'facility', 'language', 'possessed', 'human', 'intellect', 'may', ''], ['', 'Natural', 'Language', 'Processing', 'NLP', 'branch', 'artificial', 'intelligence', 'includes', 'speech', 'synthesis', 'Speech', 'recognition', 'Machine', 'translation', 'Natural', 'Language', 'Processing', 'wide', 'range', 'applications', 'Indian', 'context', 'Most', 'rural', 'Indian', 'community', 'unable', 'make', 'use', 'th', ''], ['', 'An', 'Evaluation', 'LOLITA', 'related', 'Natural', 'Language', 'Processing', 'Systems', 'Paul', 'Callaghan', 'Submitted', 'University', 'Durham', 'degree', 'Ph', 'D', 'August', '1997', 'This', 'research', 'addresses', 'question', 'evaluate', 'systems', 'like', 'LOLITA', 'LOLITA', 'Natural', ''], ['', 'Previous', 'work', 'demonstrated', 'Web', 'counts', 'used', 'approximate', 'bigram', 'counts', 'suggesting', 'Web', 'based', 'frequencies', 'useful', 'wide', 'variety', 'Natural', 'Language', 'Processing', 'NLP', 'tasks', 'However', 'limited', 'number', 'tasks', 'far', 'tested', 'using', 'Web', 'scale', 'data', 'sets', 'The', 'pr', ''], ['', 'This', 'chapter', 'examines', 'application', 'natural', 'language', 'processing', 'computerassisted', 'language', 'learning', 'including', 'history', 'work', 'field', 'last', 'thirtyfive', 'years', 'focus', 'current', 'developments', 'opportunities', '16', '1', 'Introduction', 'This', 'chapter', 'focuses', 'applications', ''], ['', 'This', 'paper', 'describes', 'natural', 'language', 'system', 'improves', 'performance', 'learning', 'The', 'system', 'processes', 'short', 'English', 'narratives', 'able', 'acquire', 'single', 'narrative', 'new', 'schema', 'stereotypical', 'set', 'actions', 'During', 'understanding', 'process', 'system', 'attempts', ''], ['', 'We', 'classify', 'review', 'current', 'approaches', 'software', 'infrastructure', 'research', 'development', 'delivery', 'NLP', 'systems', 'The', 'task', ''], ['', 'Confidence', 'measures', 'practical', 'solution', 'improving', 'usefulness', 'Natural', 'Language', 'Processing', 'applications', 'Confidence', 'estimation', 'generic', 'machine', 'learning', 'approach', 'deriving', 'confidence', 'measures', 'We', 'give', 'overview', 'application', 'confidence', 'estimation', 'various', 'fields', 'N', ''], ['', 'lex', 'sign', 'sense', 'id', 'sense', 'id', 'dictionary', 'LDOCE', 'lex', 'sign', 'sense', 'id', 'sense', 'id', 'ldb', 'entry', '12364', 'lex', 'sign', 'sense', 'id', 'sense', 'id', 'sense', '0', 'When', 'loaded', 'LKB', '9', 'expanded', 'fully', 'fledged', 'representation', 'transitive', 'use', 'e', ''], ['', 'We', 'describe', 'design', 'use', 'Stanford', 'CoreNLP', 'toolkit', 'extensible', 'pipeline', 'provides', 'core', 'natural', 'lan', 'guage', 'analysis', 'This', 'toolkit', 'quite', 'widely', 'used', 'research', 'NLP', 'community', 'also', 'among', 'commercial', 'govern', 'ment', 'users', 'open', 'source', 'NLP', 'technol', 'ogy', 'We', 'suggest', ''], ['', 'Gaussian', 'Processes', 'GPs', 'powerful', 'mod', 'elling', 'framework', 'incorporating', 'kernels', 'Bayesian', 'inference', 'recognised', 'state', 'art', 'many', 'machine', 'learning', 'tasks', ''], ['', 'A', 'fundamental', 'issue', 'natural', 'language', 'processing', 'prerequisite', 'enormous', 'quantity', 'preprogrammed', 'knowledge', 'concerning', 'language', 'domain', 'examination', 'Manual', 'acquisition', 'knowledge', 'tedious', 'error', 'prone', 'Development', 'automated', 'acquisition', 'process', ''], ['', 'A', 'general', 'reusable', 'computational', 'resource', 'de', 'veloped', 'within', 'Penman', 'text', 'generation', 'project', 'organizing', 'domain', 'knowledge', 'appropriately', 'linguistic', 'realization', 'This', 'resource', 'called', 'upper', 'model', 'provides', 'domain', 'task', 'independent', 'classification', 'system', 'supports', ''], ['', 'Kohonen', 'aposs', 'Self', 'Organizing', 'Map', 'SOM', 'one', 'popular', 'artificial', 'neural', 'network', 'algorithms', 'Word', 'category', 'maps', 'SOMs', 'organized', 'according', 'word', 'similarities', 'measured', 'similarity', 'short', 'contexts', 'words', 'Conceptually', 'interrelated', 'words', 'tend', 'fall', ''], ['', 'This', 'paper', 'presents', 'workbench', 'built', 'Priberam', 'Informática', 'development', 'company', 'natural', 'language', 'processing', 'technology', 'This', 'workbench', 'includes', 'set', 'linguistic', 'resources', 'software', 'tools', 'applied', 'considerable', 'number', 'practical', 'purposes', 'covering', 'proofing', ''], ['', 'Abstract', 'Natural', 'Language', 'Processing', 'NLP', 'effective', 'approach', 'bringing', 'improvement', 'educational', 'setting', 'Implementing', 'NLP', 'involves', 'initiating', 'process', 'learning', 'natural', 'acquisition', 'educational', 'systems', 'It', 'based', 'effective', 'approaches', 'providing', 'solution', 'f', ''], ['', 'ABSTRACT', 'After', 'twenty', 'years', 'disfavor', 'technology', 'returned', 'imitates', 'processes', 'brain', 'Natural', 'language', 'experiments', 'Sejnowski', 'Rosenberg', '1986', 'demonstrate', 'neural', 'network', 'computing', 'architecture', 'learn', 'actual', 'spoken', 'language', 'observe', 'rules', 'pronunciation', ''], ['', 'Text', 'statistics', 'frequently', 'used', 'stylometry', 'cryptography', 'studies', 'In', 'paper', 'text', 'statistics', 'tools', 'developed', 'ISO', 'Prolog', 'natural', 'language', 'processing', 'Details', 'given', 'usage', '21', 'user', 'callable', 'predicates', 'Logic', 'limitations', 'program', 'also', 'discussed', '1', ''], ['', 'We', 'summarize', 'experience', 'using', 'FrameNet', 'two', 'rather', 'different', 'projects', 'natural', 'language', 'processing', 'NLP', 'We', 'conclude', 'NLP', 'benefit', 'FrameNet', 'different', 'ways', 'sketch', 'problems', 'need', 'overcome', '1', ''], ['', 'Research', 'Natural', 'Language', 'Processing', 'NLP', 'recent', 'years', 'benefited', 'enormous', 'amount', 'raw', 'textual', 'data', 'available', 'World', 'Wide', 'Web', 'The', 'presence', 'standard', 'search', 'engines', 'made', 'data', 'accessible', 'computational', 'linguists', 'corpus', 'size', 'never', 'existed', 'befo', ''], ['', 'Natural', 'language', 'processing', 'NLP', 'programs', 'confronted', 'various', 'di', 'culties', 'processing', 'HTML', 'XML', 'documents', 'potential', 'produce', 'better', 'results', 'linguistic', 'information', 'annotated', 'source', 'texts', 'Wehave', 'therefore', 'developed', 'Linguistic', 'Annotation', 'Language', 'LAL', ''], ['', 'Introduction', 'Natural', 'language', 'processing', 'appears', 'surface', 'strongly', 'symbolic', 'activity', 'Words', 'symbols', 'stand', 'objects', 'concepts', 'real', 'world', 'put', 'together', 'sentences', 'obey', 'well', 'specified', 'grammar', 'rules', 'It', 'surprise', 'several', 'decades', 'na', ''], ['', 'Abstract', 'Diff', 'software', 'program', 'detects', 'differences', 'two', 'data', 'sets', 'useful', 'natural', 'language', 'processing', 'This', 'paper', 'shows', 'several', 'examples', 'application', 'diff', 'They', 'include', 'detection', 'differences', 'two', 'different', 'datasets', 'extraction', 'rewriting', 'rules', 'mer', ''], ['', 'In', 'paper', 'present', 'compare', 'automatically', 'generated', 'titles', 'machine', 'translated', 'documents', 'using', 'several', 'different', 'statistics', 'based', 'methods', 'A', 'Naïve', 'Bayesian', 'K', 'Nearest', 'Neighbour', 'TF', 'IDF', 'erative', 'Expectation', 'Maximization', 'method', 'title', 'gen', 'eration', 'applied', '1000', 'origi', ''], ['', '9', 'Bibliography', ''], ['', 'Applying', 'Natural', 'Language', 'Processing', 'techniques', 'biomedical', 'text', 'potential', 'aid', 'curation', 'become', 'focus', 'intensive', 'research', 'However', 'developing', 'integrated', 'systems', 'address', 'curators', 'real', 'world', 'needs', 'studied', 'less', 'rigorously', 'This', 'paper', 'addresses', 'question', ''], ['', 'Examples', 'natural', 'languages', 'Chinese', 'English', 'Italian', 'They', 'called', 'natural', 'evolved', 'less', 'natural', 'way', 'without', 'many', 'deliberate', 'considerations', 'This', 'sets', 'apart', 'formal', 'languages', 'amongst', 'programming', 'languages', 'designed', ''], ['', 'A', 'number', 'powerful', 'modelling', 'techniques', 'developed', 'recent', 'years', 'compress', 'natural', 'language', 'text', 'The', 'best', 'adaptive', 'models', 'operating', 'character', 'word', 'level', 'able', 'perform', 'almost', 'well', 'humans', 'predicting', 'text', 'We', 'show', 'apply', 'character', 'based', ''], ['', 'A', 'semi', 'automated', 'approach', 'design', 'databases', 'enhanced', 'ERD', 'notation', 'presented', 'It', 'focuses', 'early', 'stage', 'database', 'development', 'stage', 'user', 'requirement', 'analysis', 'It', 'supposed', 'used', 'requirements', 'determination', 'stage', 'analysis', 'The', 'approa', '']]\n"
          ],
          "name": "stdout"
        }
      ]
    },
    {
      "cell_type": "code",
      "metadata": {
        "id": "VxBc2OmTru-H"
      },
      "source": [
        "#lowering the words in the lists\r\n",
        "g=[]\r\n",
        "g2=[]\r\n",
        "for i in final1:\r\n",
        "  g=[]\r\n",
        "  for j in i:\r\n",
        "    g.append(j.lower())\r\n",
        "  g2.append(g)\r\n"
      ],
      "execution_count": 45,
      "outputs": []
    },
    {
      "cell_type": "markdown",
      "metadata": {
        "id": "E5mmYIfN8eYV"
      },
      "source": [
        "# **Question 3**"
      ]
    },
    {
      "cell_type": "markdown",
      "metadata": {
        "id": "hsi2y4z88ngX"
      },
      "source": [
        "(30 points). Write a python program to conduct **syntax and structure analysis** of the clean text you just saved above. The syntax and structure analysis includes: \n",
        "\n",
        "(1) Parts of Speech (POS) Tagging: Tag Parts of Speech of each word in the text, and calculate the total number of N(oun), V(erb), Adj(ective), Adv(erb), respectively.\n",
        "\n",
        "(2) Constituency Parsing and Dependency Parsing: print out the constituency parsing trees and dependency parsing trees of all the sentences. Using one sentence as an example to explain your understanding about the constituency parsing tree and dependency parsing tree.\n",
        "\n",
        "(3) Named Entity Recognition: Extract all the entities such as person names, organizations, locations, product names, and date from the clean texts, calculate the count of each entity."
      ]
    },
    {
      "cell_type": "code",
      "metadata": {
        "id": "QQKnPjPDHJHr",
        "colab": {
          "base_uri": "https://localhost:8080/"
        },
        "outputId": "5a4c3ba3-2b5a-448a-cdc6-a6744bb33419"
      },
      "source": [
        "# Write your code here\n",
        "nltk.download('averaged_perceptron_tagger')\n",
        "from nltk.tokenize import word_tokenize\n",
        "nltk.download('punkt')\n",
        "# Tagging the Parts of speech to the text\n",
        "l44=[]\n",
        "for i in l2:\n",
        "  text = word_tokenize(i)\n",
        "  l44.append(nltk.pos_tag(text))"
      ],
      "execution_count": null,
      "outputs": [
        {
          "output_type": "stream",
          "text": [
            "[nltk_data] Downloading package averaged_perceptron_tagger to\n",
            "[nltk_data]     /root/nltk_data...\n",
            "[nltk_data]   Unzipping taggers/averaged_perceptron_tagger.zip.\n",
            "[nltk_data] Downloading package punkt to /root/nltk_data...\n",
            "[nltk_data]   Unzipping tokenizers/punkt.zip.\n"
          ],
          "name": "stdout"
        }
      ]
    },
    {
      "cell_type": "markdown",
      "metadata": {
        "id": "xWOtvT2rHNWy"
      },
      "source": [
        "**Write your explanations of the constituency parsing tree and dependency parsing tree here (Question 3-2):** "
      ]
    },
    {
      "cell_type": "code",
      "metadata": {
        "id": "JgIhXtczOSbK",
        "colab": {
          "base_uri": "https://localhost:8080/",
          "height": 137
        },
        "outputId": "cf196ef7-922f-407c-daa7-9058183ecbcd"
      },
      "source": [
        "'''\n",
        "Write your explanations of the constituency parsing tree and dependency parsing tree here\n",
        "Dependency Parsing : As opposed to constituency parsing, dependency parsing doesn’t make use of phrasal constituents or sub-phrases. Instead, the syntax of the sentence is expressed in terms of dependencies between words — that is, directed, typed edges between words in a graph.\n",
        "It is the method of analyzing a sentence's grammatical structure based on the dependencies between words in a phrase.\n",
        "As a dependency tree, the tree generated by dependency parsing is known.\n",
        "We try to use dependency-based grammars in dependency parsing to analyze and infer both structure and semantic dependencies and relationships in a\n",
        "sentence between tokens. The basic principle behind a grammar of dependency is that all words except one have some relationship or dependence on other\n",
        "words in the sentence in any phrase in the language.\n",
        "More formally, a dependency parse tree is a graph G = (V, E) where the set of vertices V contains the words in the sentence, and each edge in E connects two words. The graph must satisfy three conditions:\n",
        "1. There has to be a single root node with no incoming edges.\n",
        "2. For each node v in V, there must be a path from the root R to v.\n",
        "3. Each node except the root must have exactly 1 incoming edge.\n",
        "The root of the sentence is called the word that has no dependence. In the majority of cases, the verb is taken as the root of the sentence. All the\n",
        "other words are linked to the root verb directly or indirectly using links, which are the dependencies.\n",
        "\n",
        "Constituency Parsing: The parsing tree of constituencies is based on the formalism of context-free grammar. The sentence is split into constituents\n",
        "in this type of tree, that is, sub-phrases that belong in the grammar to a specific category. Using a set of rules, the grammar provides a specification\n",
        "of how to build valid sentences.\n",
        "A constituency parse tree always contains the words of the sentence as its terminal nodes.\n",
        "The grammar provides a specification of how to build valid sentences, using a set of rules. As an example, the rule VP \\rightarrow V NP means \n",
        "that we can form a verb phrase (VP) using a verb (V) and then a noun phrase (NP).\n",
        "Similarly, the verb phrase is divided into a verb and another noun phrase. As we can imagine, this also maps to another rule in the grammar.\n",
        "An example of this is the VP rule, \\rightarrowrow V NP means we can use a verb (V) to form a verb phrase (VP) and then a noun phrase (NP). Each word typically\n",
        "has a parent node containing its part-of-speech tag (noun, adjective, verb, etc...), although other graphical representations may omit it.\n",
        "The constituents of the sentence are all the other non-terminal nodes and are usually one of the verb phrase, noun phrase, or prepositional phrase (PP)\n",
        "\n",
        "'''"
      ],
      "execution_count": 25,
      "outputs": [
        {
          "output_type": "execute_result",
          "data": {
            "application/vnd.google.colaboratory.intrinsic+json": {
              "type": "string"
            },
            "text/plain": [
              "\"\\nWrite your explanations of the constituency parsing tree and dependency parsing tree here\\nDependency Parsing : As opposed to constituency parsing, dependency parsing doesn’t make use of phrasal constituents or sub-phrases. Instead, the syntax of the sentence is expressed in terms of dependencies between words — that is, directed, typed edges between words in a graph.\\nIt is the method of analyzing a sentence's grammatical structure based on the dependencies between words in a phrase.\\nAs a dependency tree, the tree generated by dependency parsing is known.\\nWe try to use dependency-based grammars in dependency parsing to analyze and infer both structure and semantic dependencies and relationships in a\\nsentence between tokens. The basic principle behind a grammar of dependency is that all words except one have some relationship or dependence on other\\nwords in the sentence in any phrase in the language.\\nMore formally, a dependency parse tree is a graph G = (V, E) where the set of vertices V contains the words in the sentence, and each edge in E connects two words. The graph must satisfy three conditions:\\n1. There has to be a single root node with no incoming edges.\\n2. For each node v in V, there must be a path from the root R to v.\\n3. Each node except the root must have exactly 1 incoming edge.\\nThe root of the sentence is called the word that has no dependence. In the majority of cases, the verb is taken as the root of the sentence. All the\\nother words are linked to the root verb directly or indirectly using links, which are the dependencies.\\n\\nConstituency Parsing: The parsing tree of constituencies is based on the formalism of context-free grammar. The sentence is split into constituents\\nin this type of tree, that is, sub-phrases that belong in the grammar to a specific category. Using a set of rules, the grammar provides a specification\\nof how to build valid sentences.\\nA constituency parse tree always contains the words of the sentence as its terminal nodes.\\nThe grammar provides a specification of how to build valid sentences, using a set of rules. As an example, the rule VP \\rightarrow V NP means \\nthat we can form a verb phrase (VP) using a verb (V) and then a noun phrase (NP).\\nSimilarly, the verb phrase is divided into a verb and another noun phrase. As we can imagine, this also maps to another rule in the grammar.\\nAn example of this is the VP rule, \\rightarrowrow V NP means we can use a verb (V) to form a verb phrase (VP) and then a noun phrase (NP). Each word typically\\nhas a parent node containing its part-of-speech tag (noun, adjective, verb, etc...), although other graphical representations may omit it.\\nThe constituents of the sentence are all the other non-terminal nodes and are usually one of the verb phrase, noun phrase, or prepositional phrase (PP)\\n\\n\""
            ]
          },
          "metadata": {
            "tags": []
          },
          "execution_count": 25
        }
      ]
    }
  ]
}