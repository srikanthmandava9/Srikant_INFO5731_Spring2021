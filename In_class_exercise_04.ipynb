{
  "nbformat": 4,
  "nbformat_minor": 0,
  "metadata": {
    "colab": {
      "name": "In_class_exercise_04.ipynb",
      "provenance": [],
      "collapsed_sections": [],
      "include_colab_link": true
    },
    "kernelspec": {
      "display_name": "Python 3",
      "language": "python",
      "name": "python3"
    },
    "language_info": {
      "codemirror_mode": {
        "name": "ipython",
        "version": 3
      },
      "file_extension": ".py",
      "mimetype": "text/x-python",
      "name": "python",
      "nbconvert_exporter": "python",
      "pygments_lexer": "ipython3",
      "version": "3.8.5"
    }
  },
  "cells": [
    {
      "cell_type": "markdown",
      "metadata": {
        "id": "view-in-github",
        "colab_type": "text"
      },
      "source": [
        "<a href=\"https://colab.research.google.com/github/srikanthmandava9/Srikant_INFO5731_Spring2021/blob/master/In_class_exercise_04.ipynb\" target=\"_parent\"><img src=\"https://colab.research.google.com/assets/colab-badge.svg\" alt=\"Open In Colab\"/></a>"
      ]
    },
    {
      "cell_type": "markdown",
      "metadata": {
        "id": "EuX00KHNeSpw"
      },
      "source": [
        "# **The fourth in-class-exercise (20 points in total, 2/9/2021)**"
      ]
    },
    {
      "cell_type": "markdown",
      "metadata": {
        "id": "s-vTOb03hG1f"
      },
      "source": [
        "# 1. Text Data Preprocessing\n",
        "\n",
        "Here is a [legal case](https://github.com/unt-iialab/info5731_spring2021/blob/main/class_exercises/01-05-1%20%20Adams%20v%20Tanner.txt) we collected from westlaw, please follow the steps we mentioned in lesson 5 to clean the data:\n",
        "\n",
        "\n",
        "\n",
        "## 1.1 Basic feature extraction using text data (4 points)\n",
        "\n",
        "*   Number of sentences\n",
        "*   Number of words\n",
        "*   Number of characters\n",
        "*   Average word length\n",
        "*   Number of stopwords\n",
        "*   Number of special characters\n",
        "*   Number of numerics\n",
        "*   Number of uppercase words\n",
        "\n",
        "## 1.2 Basic Text Pre-processing of text data (4 points)\n",
        "\n",
        "*   Lower casing\n",
        "*   Punctuation removal\n",
        "*   Stopwords removal\n",
        "*   Frequent words removal\n",
        "*   Rare words removal\n",
        "*   Spelling correction\n",
        "*   Tokenization\n",
        "*   Stemming\n",
        "*   Lemmatization\n",
        "\n",
        "## 1.3 Save all the **clean sentences** to a **csv file** (one column, each raw is a sentence) after finishing all the steps above. (4 points)\n",
        "\n",
        "\n",
        "## 1.4 Advance Text Processing (Extra credit: 4 points)\n",
        "\n",
        "*   Calculate the term frequency of all the terms.\n",
        "*   Print out top 10 1-gram, top 10 2-grams, and top 10 3-grams terms as features.\n"
      ]
    },
    {
      "cell_type": "code",
      "metadata": {
        "colab": {
          "base_uri": "https://localhost:8080/"
        },
        "id": "vR0L3_CreM_A",
        "outputId": "d567bb4c-2ef1-48dd-9a00-460d8fae898e"
      },
      "source": [
        "# Write your code here\n",
        "\n",
        "import glob\n",
        "import re\n",
        "import csv\n",
        "import nltk\n",
        "import string\n",
        "from nltk.corpus import stopwords\n",
        "nltk.download('stopwords')\n",
        "\n",
        "file = open('/content/01-05-1 Adams v Tanner.txt', 'r') \n",
        "\n",
        "nsentences = 0\n",
        "nwords = 0\n",
        "Ccount = 0\n",
        "Tchar=0\n",
        "NspecialCharCount=0\n",
        "nCount =0\n",
        "nStopWords =0\n",
        "nUpperCaseCount =0\n",
        "listOfStopWords=stopwords.words('english')\n",
        "Lines = file.readlines() \n",
        "for line in Lines:\n",
        "  sent = line.split(\".\")\n",
        "  for sentence in sent:\n",
        "    if len(sentence)>0:\n",
        "      filtered = ''.join(filter(lambda x: x not in '\".,;!-', sentence))\n",
        "      words_without_punc = [word for word in filtered.split() if word]\n",
        "      Tchar = Tchar + sum(map(len, words_without_punc))\n",
        "      nwords = nwords + sum([i.strip(string.punctuation).isalnum() for i in sentence.split()])\n",
        "      nsentences = nsentences+1\n",
        "      words = sentence.split(\" \")\n",
        "      for w in words:\n",
        "        new = re.sub('[\\w]+' ,'', w)\n",
        "        NspecialCharCount = NspecialCharCount + len(new)\n",
        "        if w.isnumeric()==True:\n",
        "          nCount = nCount+1\n",
        "        if w in listOfStopWords:\n",
        "          nStopWords = nStopWords + 1\n",
        "        if w.isupper()==True:\n",
        "          nUpperCaseCount=nUpperCaseCount+1\n",
        "file = open('/content/01-05-1 Adams v Tanner.txt', 'r') \n",
        "Ccount = len(file.read())\n",
        "print(\"Number of sentences=\", nsentences)\n",
        "print(\"Number of words=\", nwords)\n",
        "print(\"Number of characters=\", Ccount)\n",
        "print(\"Average word length is=\", Tchar/nwords)\n",
        "print(\"Number of special characters is=\", NspecialCharCount)\n",
        "print(\"number of numerics=\", nCount)\n",
        "print(\"Number of stopwords =\", nStopWords)\n",
        "print(\"Number of uppercase words =\", nUpperCaseCount)\n",
        "\n",
        "import nltk\n",
        "from nltk.stem import PorterStemmer\n",
        "import pandas as pd\n",
        "from textblob import Word\n",
        "from textblob import TextBlob\n",
        "\n",
        "nltk.download('punkt')\n",
        "nltk.download('wordnet')\n",
        "content= open('/content/01-05-1 Adams v Tanner.txt', 'r').read()\n",
        "sentences=nltk.tokenize.sent_tokenize(content)\n",
        "Data={'sentences':sentences}\n",
        "f=pd.DataFrame(data=Data)\n",
        "\n",
        "f['sentences'] = f['sentences'].apply(lambda x: \" \".join(x.lower() for x in x.split()))\n",
        "method1=f['sentences'].head()\n",
        "f['sentences'] = f['sentences'].str.replace('[^\\w\\s]','')\n",
        "method2=f['sentences'].head()\n",
        "f['sentences'] = f['sentences'].apply(lambda x: \" \".join(x for x in x.split() if x not in listOfStopWords))\n",
        "method3=f['sentences'].head()\n",
        "Frequent = pd.Series(' '.join(f['sentences']).split()).value_counts()[:10]\n",
        "Frequent=list(Frequent.index)\n",
        "f['sentences'] = f['sentences'].apply(lambda x: \" \".join(x for x in x.split() if x not in Frequent))\n",
        "method4=f['sentences'].head()\n",
        "rare = pd.Series(' '.join(f['sentences']).split()).value_counts()[-10:]\n",
        "rare=list(rare.index)\n",
        "f['sentences'] = f['sentences'].apply(lambda x: \" \".join(x for x in x.split() if x not in rare))\n",
        "method5=f['sentences'].head()\n",
        "f['sentences'][:5].apply(lambda x: str(TextBlob(x).correct()))\n",
        "method6=f['sentences'].head()\n",
        "method7=TextBlob(f['sentences'][1]).words\n",
        "stem = PorterStemmer()\n",
        "method8=f['sentences'][:5].apply(lambda x: \" \".join([stem.stem(word) for word in x.split()]))\n",
        "f['sentences'] = f['sentences'].apply(lambda x: \" \".join([Word(word).lemmatize() for word in x.split()]))\n",
        "method9=f['sentences'].head()\n",
        "\n",
        "print(\"Lower casing \",method1)\n",
        "print(\"Punctuation removal \",method2)\n",
        "print(\"Stopwords removal\", method3)\n",
        "print(\"Frequent words removal\", method4)\n",
        "print(\"Rare words removal \",method5)\n",
        "print(\"Spelling correction \",method6)\n",
        "print(\"Tokenization \",method7)\n",
        "print(\"Stemming \",method8)\n",
        "print(\"Lemmatization\", method9)\n",
        "\n",
        "\n",
        "\n",
        "#1.3\n",
        "f.to_csv('output_clean.csv',index=False)\n",
        "\n",
        "\n",
        "#1.4\n",
        "frequency = pd.Series(' '.join(f['sentences']).split()).value_counts()\n",
        "print(\"term frequency of all terms=\",frequency)\n",
        "TextBlob(f['sentences'][0]).ngrams(1)\n",
        "TextBlob(f['sentences'][0]).ngrams(2)\n",
        "TextBlob(f['sentences'][0]).ngrams(3)"
      ],
      "execution_count": 11,
      "outputs": [
        {
          "output_type": "stream",
          "text": [
            "[nltk_data] Downloading package stopwords to /root/nltk_data...\n",
            "[nltk_data]   Package stopwords is already up-to-date!\n",
            "Number of sentences= 441\n",
            "Number of words= 3654\n",
            "Number of characters= 20453\n",
            "Average word length is= 4.386699507389163\n",
            "Number of special characters is= 684\n",
            "number of numerics= 64\n",
            "Number of stopwords = 1676\n",
            "Number of uppercase words = 92\n",
            "[nltk_data] Downloading package punkt to /root/nltk_data...\n",
            "[nltk_data]   Package punkt is already up-to-date!\n",
            "[nltk_data] Downloading package wordnet to /root/nltk_data...\n",
            "[nltk_data]   Package wordnet is already up-to-date!\n",
            "Lower casing  0                            5 ala 740 supreme alabama\n",
            "1                                   adam tanner horton\n",
            "2                                       june term 1843\n",
            "3                   synopsis writ error circuit sumter\n",
            "4    west headnotes 2 1 chattel mortgage crop growi...\n",
            "Name: sentences, dtype: object\n",
            "Punctuation removal  0                            5 ala 740 supreme alabama\n",
            "1                                   adam tanner horton\n",
            "2                                       june term 1843\n",
            "3                   synopsis writ error circuit sumter\n",
            "4    west headnotes 2 1 chattel mortgage crop growi...\n",
            "Name: sentences, dtype: object\n",
            "Stopwords removal 0                            5 ala 740 supreme alabama\n",
            "1                                   adam tanner horton\n",
            "2                                       june term 1843\n",
            "3                   synopsis writ error circuit sumter\n",
            "4    west headnotes 2 1 chattel mortgage crop growi...\n",
            "Name: sentences, dtype: object\n",
            "Frequent words removal 0                            5 ala 740 supreme alabama\n",
            "1                                   adam tanner horton\n",
            "2                                       june term 1843\n",
            "3                   synopsis writ error circuit sumter\n",
            "4    west headnotes 2 1 chattel mortgage crop growi...\n",
            "Name: sentences, dtype: object\n",
            "Rare words removal  0                            5 ala 740 supreme alabama\n",
            "1                                   adam tanner horton\n",
            "2                                       june term 1843\n",
            "3                   synopsis writ error circuit sumter\n",
            "4    west headnotes 2 1 chattel mortgage crop growi...\n",
            "Name: sentences, dtype: object\n",
            "Spelling correction  0                            5 ala 740 supreme alabama\n",
            "1                                   adam tanner horton\n",
            "2                                       june term 1843\n",
            "3                   synopsis writ error circuit sumter\n",
            "4    west headnotes 2 1 chattel mortgage crop growi...\n",
            "Name: sentences, dtype: object\n",
            "Tokenization  ['adams', 'tanner', 'horton']\n",
            "Stemming  0                             5 ala 740 suprem alabama\n",
            "1                                   adam tanner horton\n",
            "2                                       june term 1843\n",
            "3                    synopsi writ error circuit sumter\n",
            "4    west headnot 2 1 chattel mortgag crop grow exi...\n",
            "Name: sentences, dtype: object\n",
            "Lemmatization 0                            5 ala 740 supreme alabama\n",
            "1                                   adam tanner horton\n",
            "2                                       june term 1843\n",
            "3                   synopsis writ error circuit sumter\n",
            "4    west headnotes 2 1 chattel mortgage crop growi...\n",
            "Name: sentences, dtype: object\n",
            "term frequency of all terms= contract     16\n",
            "rep          16\n",
            "growing      16\n",
            "plaintiff    15\n",
            "ala          15\n",
            "             ..\n",
            "virtue        1\n",
            "1852          1\n",
            "1871          1\n",
            "secured       1\n",
            "dowl          1\n",
            "Length: 783, dtype: int64\n"
          ],
          "name": "stdout"
        },
        {
          "output_type": "execute_result",
          "data": {
            "text/plain": [
              "[WordList(['5', 'ala', '740']),\n",
              " WordList(['ala', '740', 'supreme']),\n",
              " WordList(['740', 'supreme', 'alabama'])]"
            ]
          },
          "metadata": {
            "tags": []
          },
          "execution_count": 11
        }
      ]
    },
    {
      "cell_type": "markdown",
      "metadata": {
        "id": "BBiC4E_kefvV"
      },
      "source": [
        "# 2. Python Regular Expression"
      ]
    },
    {
      "cell_type": "markdown",
      "metadata": {
        "id": "Z1QJ-UwCenvN"
      },
      "source": [
        "## 2.1 Write a Python program to remove leading zeros from an IP address. (4 points)\n",
        "\n",
        "ip = \"260.08.094.109\""
      ]
    },
    {
      "cell_type": "code",
      "metadata": {
        "id": "wSv6fVhOfFmv",
        "colab": {
          "base_uri": "https://localhost:8080/"
        },
        "outputId": "0ec6d721-84bd-469b-df4e-6b8bcc4ed409"
      },
      "source": [
        "\n",
        "ip =\"260.08.094.109\"\n",
        "def removeLeadZeros(ip):\n",
        " Result_ip = \".\".join([str(int(i)) for i in ip.split(\".\")])   \n",
        " return Result_ip \n",
        "print(removeLeadZeros(ip)) \n",
        "\n",
        "\n",
        "\n",
        "\n"
      ],
      "execution_count": 27,
      "outputs": [
        {
          "output_type": "stream",
          "text": [
            "260.8.94.109\n"
          ],
          "name": "stdout"
        }
      ]
    },
    {
      "cell_type": "markdown",
      "metadata": {
        "id": "PXRjaHzrfKAy"
      },
      "source": [
        "## 2.2 Write a Python Program to extract all the years from the following sentence. (4 points)\n",
        "\n",
        "sentence = \"The 2010s were a dramatic decade, filled with ups and downs, more than 1000 stroies have happened. As the decade comes to a close, Insider took a look back at some of the biggest headline-grabbing stories, from 2010 to 2019. The result was 119 news stories that ranged from the heartwarming rescue of a Thai boys' soccer team from a flooded cave to the divisive election of President Donald Trump.\""
      ]
    },
    {
      "cell_type": "code",
      "metadata": {
        "id": "7xdJpDx9gjbX",
        "colab": {
          "base_uri": "https://localhost:8080/"
        },
        "outputId": "b077bef9-0a05-4d54-85c2-179d9f1f9fa5"
      },
      "source": [
        "# Write your code \r\n",
        "sentence = \"The 2010s were a dramatic decade, filled with ups and downs, more than 1000 stroies have happened. As the decade comes to a close, Insider took a look back at some of the biggest headline-grabbing stories, from 2010 to 2019. The result was 119 news stories that ranged from the heartwarming rescue of a Thai boys' soccer team from a flooded cave to the divisive election of President Donald Trump.\"\r\n",
        "Senetence_Split_Words = sentence.split(\" \")\r\n",
        "Result = []\r\n",
        "for element in Senetence_Split_Words:\r\n",
        "  if element[0].isnumeric() == True:\r\n",
        "    if element[0]=='2':\r\n",
        "      word = \"\";\r\n",
        "      for character in element:\r\n",
        "        if character.isnumeric() == True:\r\n",
        "          word = word + character\r\n",
        "      Result.append(word)\r\n",
        "for year in Result:\r\n",
        "  print(year)"
      ],
      "execution_count": 28,
      "outputs": [
        {
          "output_type": "stream",
          "text": [
            "2010\n",
            "2010\n",
            "2019\n"
          ],
          "name": "stdout"
        }
      ]
    }
  ]
}