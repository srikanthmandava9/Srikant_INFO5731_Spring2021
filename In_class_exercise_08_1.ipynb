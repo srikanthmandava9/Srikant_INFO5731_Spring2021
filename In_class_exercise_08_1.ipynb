{
  "nbformat": 4,
  "nbformat_minor": 0,
  "metadata": {
    "kernelspec": {
      "display_name": "Python 3",
      "language": "python",
      "name": "python3"
    },
    "language_info": {
      "codemirror_mode": {
        "name": "ipython",
        "version": 3
      },
      "file_extension": ".py",
      "mimetype": "text/x-python",
      "name": "python",
      "nbconvert_exporter": "python",
      "pygments_lexer": "ipython3",
      "version": "3.8.5"
    },
    "colab": {
      "name": "In_class_exercise_08-1.ipynb",
      "provenance": [],
      "collapsed_sections": [],
      "include_colab_link": true
    }
  },
  "cells": [
    {
      "cell_type": "markdown",
      "metadata": {
        "id": "view-in-github",
        "colab_type": "text"
      },
      "source": [
        "<a href=\"https://colab.research.google.com/github/srikanthmandava9/Srikant_INFO5731_Spring2021/blob/master/In_class_exercise_08_1.ipynb\" target=\"_parent\"><img src=\"https://colab.research.google.com/assets/colab-badge.svg\" alt=\"Open In Colab\"/></a>"
      ]
    },
    {
      "cell_type": "markdown",
      "metadata": {
        "id": "o_9k6GIfbJ7C"
      },
      "source": [
        "# **The eighth in-class-exercise (20 points in total, 3/30/2021)**"
      ]
    },
    {
      "cell_type": "markdown",
      "metadata": {
        "id": "hVJQVFYQbJ7F"
      },
      "source": [
        "The data for this exercise is from the dataset you created from assignment three. Please perform answer the following questions based on your data:"
      ]
    },
    {
      "cell_type": "markdown",
      "metadata": {
        "id": "_ZzJi_3QbJ7H"
      },
      "source": [
        "## (1) (10 points) Write a python program to extract the sentiment related terms from the corpus. You may use python package such as polyglot or external lexicon resources in the question. Rank the sentiment related terms by frequency."
      ]
    },
    {
      "cell_type": "code",
      "metadata": {
        "colab": {
          "base_uri": "https://localhost:8080/"
        },
        "id": "fwYhox9NbJ7H",
        "outputId": "9dbe2a81-e6f0-4232-dd20-cca84be50f95"
      },
      "source": [
        "!pip install polyglot"
      ],
      "execution_count": 55,
      "outputs": [
        {
          "output_type": "stream",
          "text": [
            "Requirement already satisfied: polyglot in /usr/local/lib/python3.7/dist-packages (16.7.4)\n"
          ],
          "name": "stdout"
        }
      ]
    },
    {
      "cell_type": "code",
      "metadata": {
        "colab": {
          "base_uri": "https://localhost:8080/"
        },
        "id": "ri2QzCcjgjJ5",
        "outputId": "e8da5ba7-d5bc-40bf-c423-7a942c8d2e24"
      },
      "source": [
        "!pip install pyicu"
      ],
      "execution_count": 52,
      "outputs": [
        {
          "output_type": "stream",
          "text": [
            "Requirement already satisfied: pyicu in /usr/local/lib/python3.7/dist-packages (2.6)\n"
          ],
          "name": "stdout"
        }
      ]
    },
    {
      "cell_type": "code",
      "metadata": {
        "colab": {
          "base_uri": "https://localhost:8080/"
        },
        "id": "PI-zMhVWgnCP",
        "outputId": "5ed9e87f-b907-477f-b720-21f11c7f51b7"
      },
      "source": [
        "!pip install morfessor"
      ],
      "execution_count": 53,
      "outputs": [
        {
          "output_type": "stream",
          "text": [
            "Requirement already satisfied: morfessor in /usr/local/lib/python3.7/dist-packages (2.0.6)\n"
          ],
          "name": "stdout"
        }
      ]
    },
    {
      "cell_type": "code",
      "metadata": {
        "colab": {
          "base_uri": "https://localhost:8080/"
        },
        "id": "WVqITEmbgsIS",
        "outputId": "b0ab3bbb-1b11-43ab-988f-684a62a24a09"
      },
      "source": [
        "!pip install pycld2"
      ],
      "execution_count": 56,
      "outputs": [
        {
          "output_type": "stream",
          "text": [
            "Requirement already satisfied: pycld2 in /usr/local/lib/python3.7/dist-packages (0.41)\n"
          ],
          "name": "stdout"
        }
      ]
    },
    {
      "cell_type": "code",
      "metadata": {
        "colab": {
          "base_uri": "https://localhost:8080/"
        },
        "id": "iWdFBNkPl18g",
        "outputId": "a838bed2-c9c0-486d-b025-32ab3c793fec"
      },
      "source": [
        "%%bash\n",
        "polyglot download sentiment2.en"
      ],
      "execution_count": 57,
      "outputs": [
        {
          "output_type": "stream",
          "text": [
            "[polyglot_data] Downloading package sentiment2.en to\n",
            "[polyglot_data]     /root/polyglot_data...\n",
            "[polyglot_data]   Package sentiment2.en is already up-to-date!\n"
          ],
          "name": "stdout"
        }
      ]
    },
    {
      "cell_type": "code",
      "metadata": {
        "colab": {
          "base_uri": "https://localhost:8080/"
        },
        "id": "43FD2MmQguCQ",
        "outputId": "f3d49366-8fde-455e-ec48-a9ab0d96e633"
      },
      "source": [
        "import nltk\n",
        "nltk.download('stopwords')"
      ],
      "execution_count": null,
      "outputs": [
        {
          "output_type": "stream",
          "text": [
            "[nltk_data] Downloading package stopwords to /root/nltk_data...\n",
            "[nltk_data]   Package stopwords is already up-to-date!\n"
          ],
          "name": "stdout"
        },
        {
          "output_type": "execute_result",
          "data": {
            "text/plain": [
              "True"
            ]
          },
          "metadata": {
            "tags": []
          },
          "execution_count": 25
        }
      ]
    },
    {
      "cell_type": "code",
      "metadata": {
        "id": "JC0oOm4LgwXV"
      },
      "source": [
        "import pandas as pd\n",
        "df = pd.read_csv('https://github.com/srikanthmandava9/Srikant_INFO5731_Spring2021/raw/master/training_data.csv')\n",
        "df = df.loc[:, ~df.columns.str.contains('^Unnamed')]"
      ],
      "execution_count": null,
      "outputs": []
    },
    {
      "cell_type": "code",
      "metadata": {
        "id": "6WY4j9PGgz0m"
      },
      "source": [
        "from nltk.corpus import stopwords\n",
        "from textblob import TextBlob\n",
        "df['clean_text'] = df['clean_text'].apply(lambda x: \" \".join(x.lower() for x in x.split()))\n",
        "df['clean_text'] = df['clean_text'].str.replace('[^\\w\\s]','')\n",
        "stop = stopwords.words('english')\n",
        "df['clean_text'] = df['clean_text'].apply(lambda x: \" \".join(x for x in x.split() if x not in stop))\n",
        "df['clean_text'] = df['clean_text'].apply(lambda x: str(TextBlob(x).correct()))"
      ],
      "execution_count": null,
      "outputs": []
    },
    {
      "cell_type": "code",
      "metadata": {
        "colab": {
          "base_uri": "https://localhost:8080/"
        },
        "id": "G2mkBZmRg1l8",
        "outputId": "e8f74bd0-c063-43c2-913b-1f54fb40c05c"
      },
      "source": [
        "from polyglot.text import Text\n",
        "sentimental_words = []\n",
        "for line in df['clean_text']:\n",
        "  text = Text(line)\n",
        "  for w in text.words:\n",
        "    if w.polarity != 0:\n",
        "      sentimental_words.append(w)\n",
        "sentimental_words"
      ],
      "execution_count": null,
      "outputs": [
        {
          "output_type": "execute_result",
          "data": {
            "text/plain": [
              "['perfect',\n",
              " 'crazy',\n",
              " 'haunt',\n",
              " 'worth',\n",
              " 'like',\n",
              " 'mock',\n",
              " 'helpless',\n",
              " 'pure',\n",
              " 'entertain',\n",
              " 'decent',\n",
              " 'twist',\n",
              " 'well',\n",
              " 'cool',\n",
              " 'terrific',\n",
              " 'love',\n",
              " 'good',\n",
              " 'well',\n",
              " 'appeal',\n",
              " 'miss',\n",
              " 'better',\n",
              " 'like',\n",
              " 'love',\n",
              " 'like',\n",
              " 'faith',\n",
              " 'worth',\n",
              " 'enjoy',\n",
              " 'master',\n",
              " 'brilliant',\n",
              " 'perfect',\n",
              " 'love',\n",
              " 'promise',\n",
              " 'master',\n",
              " 'break',\n",
              " 'promise',\n",
              " 'master',\n",
              " 'clash',\n",
              " 'antagonist',\n",
              " 'clash',\n",
              " 'love',\n",
              " 'antagonist',\n",
              " 'brilliant',\n",
              " 'fail',\n",
              " 'antagonist',\n",
              " 'devil',\n",
              " 'prowess',\n",
              " 'expel',\n",
              " 'fancy',\n",
              " 'rejoice',\n",
              " 'broke',\n",
              " 'broke',\n",
              " 'master',\n",
              " 'desert',\n",
              " 'extraordinary',\n",
              " 'work',\n",
              " 'master',\n",
              " 'best',\n",
              " 'master',\n",
              " 'master',\n",
              " 'master',\n",
              " 'love',\n",
              " 'hate',\n",
              " 'best',\n",
              " 'worth',\n",
              " 'love',\n",
              " 'master',\n",
              " 'extraordinary',\n",
              " 'charm',\n",
              " 'steal',\n",
              " 'great',\n",
              " 'vile',\n",
              " 'thrill',\n",
              " 'master',\n",
              " 'work',\n",
              " 'perfect',\n",
              " 'critic',\n",
              " 'perfect',\n",
              " 'love',\n",
              " 'good',\n",
              " 'slow',\n",
              " 'safe',\n",
              " 'ruthless',\n",
              " 'well',\n",
              " 'master',\n",
              " 'best',\n",
              " 'kill',\n",
              " 'steal',\n",
              " 'plea',\n",
              " 'miss',\n",
              " 'recommend',\n",
              " 'well',\n",
              " 'appeal',\n",
              " 'miss',\n",
              " 'better',\n",
              " 'like',\n",
              " 'love',\n",
              " 'like',\n",
              " 'faith',\n",
              " 'worth',\n",
              " 'wonder',\n",
              " 'love',\n",
              " 'fail',\n",
              " 'master',\n",
              " 'lead',\n",
              " 'antagonist',\n",
              " 'clash',\n",
              " 'well',\n",
              " 'entertain',\n",
              " 'funny',\n",
              " 'plot',\n",
              " 'humour',\n",
              " 'good',\n",
              " 'lack',\n",
              " 'better',\n",
              " 'love',\n",
              " 'dark',\n",
              " 'humour',\n",
              " 'success',\n",
              " 'lack',\n",
              " 'abrupt',\n",
              " 'enough',\n",
              " 'love',\n",
              " 'issue',\n",
              " 'good',\n",
              " 'entertain',\n",
              " 'fun',\n",
              " 'well',\n",
              " 'good',\n",
              " 'revive',\n",
              " 'good',\n",
              " 'worst',\n",
              " 'well',\n",
              " 'clear',\n",
              " 'super',\n",
              " 'expel',\n",
              " 'angel',\n",
              " 'ignore',\n",
              " 'master',\n",
              " 'best',\n",
              " 'like',\n",
              " 'best',\n",
              " 'lead',\n",
              " 'like',\n",
              " 'fun',\n",
              " 'flaw',\n",
              " 'like',\n",
              " 'slow',\n",
              " 'good',\n",
              " 'charm',\n",
              " 'deadly',\n",
              " 'great',\n",
              " 'intense',\n",
              " 'super',\n",
              " 'love']"
            ]
          },
          "metadata": {
            "tags": []
          },
          "execution_count": 32
        }
      ]
    },
    {
      "cell_type": "code",
      "metadata": {
        "colab": {
          "base_uri": "https://localhost:8080/",
          "height": 402
        },
        "id": "2k9X_gP_hCcC",
        "outputId": "5f4d0cc0-bb59-493a-ee10-2458f49590c5"
      },
      "source": [
        "from collections import Counter\n",
        "frequencies = Counter(sentimental_words)\n",
        "rank_df = pd.DataFrame(list(frequencies.most_common()), columns=['Words', 'Frequencies'])\n",
        "rank_df.index = list(range(1, len(frequencies.most_common())+1))\n",
        "rank_df\n"
      ],
      "execution_count": null,
      "outputs": [
        {
          "output_type": "execute_result",
          "data": {
            "text/html": [
              "<div>\n",
              "<style scoped>\n",
              "    .dataframe tbody tr th:only-of-type {\n",
              "        vertical-align: middle;\n",
              "    }\n",
              "\n",
              "    .dataframe tbody tr th {\n",
              "        vertical-align: top;\n",
              "    }\n",
              "\n",
              "    .dataframe thead th {\n",
              "        text-align: right;\n",
              "    }\n",
              "</style>\n",
              "<table border=\"1\" class=\"dataframe\">\n",
              "  <thead>\n",
              "    <tr style=\"text-align: right;\">\n",
              "      <th></th>\n",
              "      <th>Words</th>\n",
              "      <th>Frequencies</th>\n",
              "    </tr>\n",
              "  </thead>\n",
              "  <tbody>\n",
              "    <tr>\n",
              "      <th>1</th>\n",
              "      <td>master</td>\n",
              "      <td>13</td>\n",
              "    </tr>\n",
              "    <tr>\n",
              "      <th>2</th>\n",
              "      <td>love</td>\n",
              "      <td>12</td>\n",
              "    </tr>\n",
              "    <tr>\n",
              "      <th>3</th>\n",
              "      <td>like</td>\n",
              "      <td>8</td>\n",
              "    </tr>\n",
              "    <tr>\n",
              "      <th>4</th>\n",
              "      <td>well</td>\n",
              "      <td>7</td>\n",
              "    </tr>\n",
              "    <tr>\n",
              "      <th>5</th>\n",
              "      <td>good</td>\n",
              "      <td>7</td>\n",
              "    </tr>\n",
              "    <tr>\n",
              "      <th>...</th>\n",
              "      <td>...</td>\n",
              "      <td>...</td>\n",
              "    </tr>\n",
              "    <tr>\n",
              "      <th>68</th>\n",
              "      <td>angel</td>\n",
              "      <td>1</td>\n",
              "    </tr>\n",
              "    <tr>\n",
              "      <th>69</th>\n",
              "      <td>ignore</td>\n",
              "      <td>1</td>\n",
              "    </tr>\n",
              "    <tr>\n",
              "      <th>70</th>\n",
              "      <td>flaw</td>\n",
              "      <td>1</td>\n",
              "    </tr>\n",
              "    <tr>\n",
              "      <th>71</th>\n",
              "      <td>deadly</td>\n",
              "      <td>1</td>\n",
              "    </tr>\n",
              "    <tr>\n",
              "      <th>72</th>\n",
              "      <td>intense</td>\n",
              "      <td>1</td>\n",
              "    </tr>\n",
              "  </tbody>\n",
              "</table>\n",
              "<p>72 rows × 2 columns</p>\n",
              "</div>"
            ],
            "text/plain": [
              "      Words  Frequencies\n",
              "1    master           13\n",
              "2      love           12\n",
              "3      like            8\n",
              "4      well            7\n",
              "5      good            7\n",
              "..      ...          ...\n",
              "68    angel            1\n",
              "69   ignore            1\n",
              "70     flaw            1\n",
              "71   deadly            1\n",
              "72  intense            1\n",
              "\n",
              "[72 rows x 2 columns]"
            ]
          },
          "metadata": {
            "tags": []
          },
          "execution_count": 33
        }
      ]
    },
    {
      "cell_type": "code",
      "metadata": {
        "id": "l84dSqenhDkZ"
      },
      "source": [
        ""
      ],
      "execution_count": null,
      "outputs": []
    },
    {
      "cell_type": "markdown",
      "metadata": {
        "id": "XwnlB3S5bJ7I"
      },
      "source": [
        "## (2) (10 points) Compare the performance of the following tools in sentiment identification: TextBlob (https://textblob.readthedocs.io/en/dev/), VADER (https://github.com/cjhutto/vaderSentiment), TFIDF-based Support Vector Machine (SVM) (Split your data into training and testing data). Take your own annotation as the standard answers. \n",
        "\n",
        "Reference code: https://towardsdatascience.com/fine-grained-sentiment-analysis-in-python-part-1-2697bb111ed4"
      ]
    },
    {
      "cell_type": "code",
      "metadata": {
        "id": "k3G2rFfZbJ7J"
      },
      "source": [
        "def Encoder(senti):\n",
        "  sentiment_encoded = 0\n",
        "  if senti == 'Positive':\n",
        "    sentiment_encoded = 1\n",
        "  elif senti == 'Negative':\n",
        "    sentiment_encoded = 2\n",
        "  return sentiment_encoded"
      ],
      "execution_count": null,
      "outputs": []
    },
    {
      "cell_type": "code",
      "metadata": {
        "id": "-Fuc7oZXiiI9"
      },
      "source": [
        "actual_sentiment = []\n",
        "for senti in df['sentiment']:\n",
        "  actual_sentiment.append(Encoder(senti))"
      ],
      "execution_count": null,
      "outputs": []
    },
    {
      "cell_type": "code",
      "metadata": {
        "colab": {
          "base_uri": "https://localhost:8080/",
          "height": 639
        },
        "id": "DWBm9-2Bikbf",
        "outputId": "b6580e25-c381-4a12-88c2-44b04316b1cb"
      },
      "source": [
        "from textblob import TextBlob\n",
        "textblob_sentiments = []\n",
        "for line in df['clean_text']:\n",
        "  polarity = TextBlob(line).sentiment.polarity\n",
        "  if polarity > 0:\n",
        "    textblob_sentiments.append(1)\n",
        "  elif polarity < 0:\n",
        "    textblob_sentiments.append(2)\n",
        "  elif polarity == 0.0:\n",
        "    textblob_sentiments.append(0)\n",
        "text_blob_df = pd.DataFrame(list(zip(df['clean_text'], actual_sentiment, textblob_sentiments)), columns = ['Reviews', 'Actual', 'Predicted'])\n",
        "text_blob_df\n"
      ],
      "execution_count": null,
      "outputs": [
        {
          "output_type": "execute_result",
          "data": {
            "text/html": [
              "<div>\n",
              "<style scoped>\n",
              "    .dataframe tbody tr th:only-of-type {\n",
              "        vertical-align: middle;\n",
              "    }\n",
              "\n",
              "    .dataframe tbody tr th {\n",
              "        vertical-align: top;\n",
              "    }\n",
              "\n",
              "    .dataframe thead th {\n",
              "        text-align: right;\n",
              "    }\n",
              "</style>\n",
              "<table border=\"1\" class=\"dataframe\">\n",
              "  <thead>\n",
              "    <tr style=\"text-align: right;\">\n",
              "      <th></th>\n",
              "      <th>Reviews</th>\n",
              "      <th>Actual</th>\n",
              "      <th>Predicted</th>\n",
              "    </tr>\n",
              "  </thead>\n",
              "  <tbody>\n",
              "    <tr>\n",
              "      <th>0</th>\n",
              "      <td>perfect characterise vital v half little bit l...</td>\n",
              "      <td>1</td>\n",
              "      <td>1</td>\n",
              "    </tr>\n",
              "    <tr>\n",
              "      <th>1</th>\n",
              "      <td>twist turn straight move lot mass content acto...</td>\n",
              "      <td>2</td>\n",
              "      <td>1</td>\n",
              "    </tr>\n",
              "    <tr>\n",
              "      <th>2</th>\n",
              "      <td>story cometh differ somewhat hope well made co...</td>\n",
              "      <td>0</td>\n",
              "      <td>1</td>\n",
              "    </tr>\n",
              "    <tr>\n",
              "      <th>3</th>\n",
              "      <td>awesom move vera level big treat thalapathi fa...</td>\n",
              "      <td>1</td>\n",
              "      <td>1</td>\n",
              "    </tr>\n",
              "    <tr>\n",
              "      <th>4</th>\n",
              "      <td>master brilliant example perfect cat vous acti...</td>\n",
              "      <td>1</td>\n",
              "      <td>1</td>\n",
              "    </tr>\n",
              "    <tr>\n",
              "      <th>5</th>\n",
              "      <td>wast money time ff shout worth allow hope rate...</td>\n",
              "      <td>2</td>\n",
              "      <td>1</td>\n",
              "    </tr>\n",
              "    <tr>\n",
              "      <th>6</th>\n",
              "      <td>review post review float world master became1s...</td>\n",
              "      <td>1</td>\n",
              "      <td>1</td>\n",
              "    </tr>\n",
              "    <tr>\n",
              "      <th>7</th>\n",
              "      <td>st half thalapathi attitude fight vaathi come ...</td>\n",
              "      <td>0</td>\n",
              "      <td>1</td>\n",
              "    </tr>\n",
              "    <tr>\n",
              "      <th>8</th>\n",
              "      <td>critic rate low differ vital act move perfect ...</td>\n",
              "      <td>0</td>\n",
              "      <td>1</td>\n",
              "    </tr>\n",
              "    <tr>\n",
              "      <th>9</th>\n",
              "      <td>first big appreci go vital sethupathi act vill...</td>\n",
              "      <td>1</td>\n",
              "      <td>1</td>\n",
              "    </tr>\n",
              "    <tr>\n",
              "      <th>10</th>\n",
              "      <td>story cometh differ somewhat hope well made co...</td>\n",
              "      <td>2</td>\n",
              "      <td>1</td>\n",
              "    </tr>\n",
              "    <tr>\n",
              "      <th>11</th>\n",
              "      <td>exit film collar announce wonder move hand lov...</td>\n",
              "      <td>2</td>\n",
              "      <td>1</td>\n",
              "    </tr>\n",
              "    <tr>\n",
              "      <th>12</th>\n",
              "      <td>one await anticus move past two year master hi...</td>\n",
              "      <td>1</td>\n",
              "      <td>1</td>\n",
              "    </tr>\n",
              "    <tr>\n",
              "      <th>13</th>\n",
              "      <td>hatsoff effort vilna never seen perform side a...</td>\n",
              "      <td>1</td>\n",
              "      <td>2</td>\n",
              "    </tr>\n",
              "    <tr>\n",
              "      <th>14</th>\n",
              "      <td>super move visual effect move sound dance move...</td>\n",
              "      <td>1</td>\n",
              "      <td>1</td>\n",
              "    </tr>\n",
              "    <tr>\n",
              "      <th>15</th>\n",
              "      <td>ignore new review go n watch move</td>\n",
              "      <td>0</td>\n",
              "      <td>1</td>\n",
              "    </tr>\n",
              "    <tr>\n",
              "      <th>16</th>\n",
              "      <td>master film best indian film made bollywood se...</td>\n",
              "      <td>1</td>\n",
              "      <td>1</td>\n",
              "    </tr>\n",
              "    <tr>\n",
              "      <th>17</th>\n",
              "      <td>move every need make blockbust hit act level l...</td>\n",
              "      <td>1</td>\n",
              "      <td>1</td>\n",
              "    </tr>\n",
              "    <tr>\n",
              "      <th>18</th>\n",
              "      <td>overall good move charm thalapathi vital deadl...</td>\n",
              "      <td>0</td>\n",
              "      <td>1</td>\n",
              "    </tr>\n",
              "    <tr>\n",
              "      <th>19</th>\n",
              "      <td>super may move thalapathi vera level performan...</td>\n",
              "      <td>1</td>\n",
              "      <td>1</td>\n",
              "    </tr>\n",
              "  </tbody>\n",
              "</table>\n",
              "</div>"
            ],
            "text/plain": [
              "                                              Reviews  Actual  Predicted\n",
              "0   perfect characterise vital v half little bit l...       1          1\n",
              "1   twist turn straight move lot mass content acto...       2          1\n",
              "2   story cometh differ somewhat hope well made co...       0          1\n",
              "3   awesom move vera level big treat thalapathi fa...       1          1\n",
              "4   master brilliant example perfect cat vous acti...       1          1\n",
              "5   wast money time ff shout worth allow hope rate...       2          1\n",
              "6   review post review float world master became1s...       1          1\n",
              "7   st half thalapathi attitude fight vaathi come ...       0          1\n",
              "8   critic rate low differ vital act move perfect ...       0          1\n",
              "9   first big appreci go vital sethupathi act vill...       1          1\n",
              "10  story cometh differ somewhat hope well made co...       2          1\n",
              "11  exit film collar announce wonder move hand lov...       2          1\n",
              "12  one await anticus move past two year master hi...       1          1\n",
              "13  hatsoff effort vilna never seen perform side a...       1          2\n",
              "14  super move visual effect move sound dance move...       1          1\n",
              "15                  ignore new review go n watch move       0          1\n",
              "16  master film best indian film made bollywood se...       1          1\n",
              "17  move every need make blockbust hit act level l...       1          1\n",
              "18  overall good move charm thalapathi vital deadl...       0          1\n",
              "19  super may move thalapathi vera level performan...       1          1"
            ]
          },
          "metadata": {
            "tags": []
          },
          "execution_count": 38
        }
      ]
    },
    {
      "cell_type": "code",
      "metadata": {
        "colab": {
          "base_uri": "https://localhost:8080/"
        },
        "id": "u_4w48m2ipIN",
        "outputId": "0d3e0728-ce32-42ec-bbae-aaf076303580"
      },
      "source": [
        "from sklearn.metrics import f1_score, accuracy_score\n",
        "text_blob_accuracy = accuracy_score(text_blob_df['Actual'], text_blob_df['Predicted'])*100\n",
        "text_blob_f1_score = f1_score(text_blob_df['Actual'], text_blob_df['Predicted'], average = 'macro')\n",
        "print(\"Text Blob Accuracy is {0} and F1 Score is {1}\".format(text_blob_accuracy, text_blob_f1_score))"
      ],
      "execution_count": null,
      "outputs": [
        {
          "output_type": "stream",
          "text": [
            "Text Blob Accuracy is 50.0 and F1 Score is 0.2222222222222222\n"
          ],
          "name": "stdout"
        }
      ]
    },
    {
      "cell_type": "code",
      "metadata": {
        "colab": {
          "base_uri": "https://localhost:8080/"
        },
        "id": "MWpwro2uiqEd",
        "outputId": "5c901ae6-48ca-48c3-cf9d-801d56a4f7ca"
      },
      "source": [
        "import nltk\n",
        "nltk.download('vader_lexicon')"
      ],
      "execution_count": null,
      "outputs": [
        {
          "output_type": "stream",
          "text": [
            "[nltk_data] Downloading package vader_lexicon to /root/nltk_data...\n",
            "[nltk_data]   Package vader_lexicon is already up-to-date!\n"
          ],
          "name": "stdout"
        },
        {
          "output_type": "execute_result",
          "data": {
            "text/plain": [
              "True"
            ]
          },
          "metadata": {
            "tags": []
          },
          "execution_count": 41
        }
      ]
    },
    {
      "cell_type": "code",
      "metadata": {
        "colab": {
          "base_uri": "https://localhost:8080/",
          "height": 639
        },
        "id": "AcMikegiisOu",
        "outputId": "09ef9537-a2c0-486f-ae0f-ec4f9685108d"
      },
      "source": [
        "from nltk.sentiment.vader import SentimentIntensityAnalyzer\n",
        "vader = SentimentIntensityAnalyzer()\n",
        "vader_sentiments = []\n",
        "for line in df['clean_text']:\n",
        "  polarity = vader.polarity_scores(line)['compound']\n",
        "  if polarity > 0:\n",
        "    vader_sentiments.append(1)\n",
        "  elif polarity < 0:\n",
        "    vader_sentiments.append(2)\n",
        "  elif polarity == 0.0:\n",
        "    vader_sentiments.append(0)\n",
        "vader_df = pd.DataFrame(list(zip(df['clean_text'], actual_sentiment, vader_sentiments)), columns = ['Reviews', 'Actual', 'Predicted'])\n",
        "vader_df"
      ],
      "execution_count": null,
      "outputs": [
        {
          "output_type": "execute_result",
          "data": {
            "text/html": [
              "<div>\n",
              "<style scoped>\n",
              "    .dataframe tbody tr th:only-of-type {\n",
              "        vertical-align: middle;\n",
              "    }\n",
              "\n",
              "    .dataframe tbody tr th {\n",
              "        vertical-align: top;\n",
              "    }\n",
              "\n",
              "    .dataframe thead th {\n",
              "        text-align: right;\n",
              "    }\n",
              "</style>\n",
              "<table border=\"1\" class=\"dataframe\">\n",
              "  <thead>\n",
              "    <tr style=\"text-align: right;\">\n",
              "      <th></th>\n",
              "      <th>Reviews</th>\n",
              "      <th>Actual</th>\n",
              "      <th>Predicted</th>\n",
              "    </tr>\n",
              "  </thead>\n",
              "  <tbody>\n",
              "    <tr>\n",
              "      <th>0</th>\n",
              "      <td>perfect characterise vital v half little bit l...</td>\n",
              "      <td>1</td>\n",
              "      <td>2</td>\n",
              "    </tr>\n",
              "    <tr>\n",
              "      <th>1</th>\n",
              "      <td>twist turn straight move lot mass content acto...</td>\n",
              "      <td>2</td>\n",
              "      <td>1</td>\n",
              "    </tr>\n",
              "    <tr>\n",
              "      <th>2</th>\n",
              "      <td>story cometh differ somewhat hope well made co...</td>\n",
              "      <td>0</td>\n",
              "      <td>1</td>\n",
              "    </tr>\n",
              "    <tr>\n",
              "      <th>3</th>\n",
              "      <td>awesom move vera level big treat thalapathi fa...</td>\n",
              "      <td>1</td>\n",
              "      <td>1</td>\n",
              "    </tr>\n",
              "    <tr>\n",
              "      <th>4</th>\n",
              "      <td>master brilliant example perfect cat vous acti...</td>\n",
              "      <td>1</td>\n",
              "      <td>1</td>\n",
              "    </tr>\n",
              "    <tr>\n",
              "      <th>5</th>\n",
              "      <td>wast money time ff shout worth allow hope rate...</td>\n",
              "      <td>2</td>\n",
              "      <td>1</td>\n",
              "    </tr>\n",
              "    <tr>\n",
              "      <th>6</th>\n",
              "      <td>review post review float world master became1s...</td>\n",
              "      <td>1</td>\n",
              "      <td>1</td>\n",
              "    </tr>\n",
              "    <tr>\n",
              "      <th>7</th>\n",
              "      <td>st half thalapathi attitude fight vaathi come ...</td>\n",
              "      <td>0</td>\n",
              "      <td>2</td>\n",
              "    </tr>\n",
              "    <tr>\n",
              "      <th>8</th>\n",
              "      <td>critic rate low differ vital act move perfect ...</td>\n",
              "      <td>0</td>\n",
              "      <td>1</td>\n",
              "    </tr>\n",
              "    <tr>\n",
              "      <th>9</th>\n",
              "      <td>first big appreci go vital sethupathi act vill...</td>\n",
              "      <td>1</td>\n",
              "      <td>1</td>\n",
              "    </tr>\n",
              "    <tr>\n",
              "      <th>10</th>\n",
              "      <td>story cometh differ somewhat hope well made co...</td>\n",
              "      <td>2</td>\n",
              "      <td>1</td>\n",
              "    </tr>\n",
              "    <tr>\n",
              "      <th>11</th>\n",
              "      <td>exit film collar announce wonder move hand lov...</td>\n",
              "      <td>2</td>\n",
              "      <td>1</td>\n",
              "    </tr>\n",
              "    <tr>\n",
              "      <th>12</th>\n",
              "      <td>one await anticus move past two year master hi...</td>\n",
              "      <td>1</td>\n",
              "      <td>1</td>\n",
              "    </tr>\n",
              "    <tr>\n",
              "      <th>13</th>\n",
              "      <td>hatsoff effort vilna never seen perform side a...</td>\n",
              "      <td>1</td>\n",
              "      <td>1</td>\n",
              "    </tr>\n",
              "    <tr>\n",
              "      <th>14</th>\n",
              "      <td>super move visual effect move sound dance move...</td>\n",
              "      <td>1</td>\n",
              "      <td>1</td>\n",
              "    </tr>\n",
              "    <tr>\n",
              "      <th>15</th>\n",
              "      <td>ignore new review go n watch move</td>\n",
              "      <td>0</td>\n",
              "      <td>2</td>\n",
              "    </tr>\n",
              "    <tr>\n",
              "      <th>16</th>\n",
              "      <td>master film best indian film made bollywood se...</td>\n",
              "      <td>1</td>\n",
              "      <td>1</td>\n",
              "    </tr>\n",
              "    <tr>\n",
              "      <th>17</th>\n",
              "      <td>move every need make blockbust hit act level l...</td>\n",
              "      <td>1</td>\n",
              "      <td>1</td>\n",
              "    </tr>\n",
              "    <tr>\n",
              "      <th>18</th>\n",
              "      <td>overall good move charm thalapathi vital deadl...</td>\n",
              "      <td>0</td>\n",
              "      <td>1</td>\n",
              "    </tr>\n",
              "    <tr>\n",
              "      <th>19</th>\n",
              "      <td>super may move thalapathi vera level performan...</td>\n",
              "      <td>1</td>\n",
              "      <td>1</td>\n",
              "    </tr>\n",
              "  </tbody>\n",
              "</table>\n",
              "</div>"
            ],
            "text/plain": [
              "                                              Reviews  Actual  Predicted\n",
              "0   perfect characterise vital v half little bit l...       1          2\n",
              "1   twist turn straight move lot mass content acto...       2          1\n",
              "2   story cometh differ somewhat hope well made co...       0          1\n",
              "3   awesom move vera level big treat thalapathi fa...       1          1\n",
              "4   master brilliant example perfect cat vous acti...       1          1\n",
              "5   wast money time ff shout worth allow hope rate...       2          1\n",
              "6   review post review float world master became1s...       1          1\n",
              "7   st half thalapathi attitude fight vaathi come ...       0          2\n",
              "8   critic rate low differ vital act move perfect ...       0          1\n",
              "9   first big appreci go vital sethupathi act vill...       1          1\n",
              "10  story cometh differ somewhat hope well made co...       2          1\n",
              "11  exit film collar announce wonder move hand lov...       2          1\n",
              "12  one await anticus move past two year master hi...       1          1\n",
              "13  hatsoff effort vilna never seen perform side a...       1          1\n",
              "14  super move visual effect move sound dance move...       1          1\n",
              "15                  ignore new review go n watch move       0          2\n",
              "16  master film best indian film made bollywood se...       1          1\n",
              "17  move every need make blockbust hit act level l...       1          1\n",
              "18  overall good move charm thalapathi vital deadl...       0          1\n",
              "19  super may move thalapathi vera level performan...       1          1"
            ]
          },
          "metadata": {
            "tags": []
          },
          "execution_count": 43
        }
      ]
    },
    {
      "cell_type": "code",
      "metadata": {
        "colab": {
          "base_uri": "https://localhost:8080/"
        },
        "id": "BxtjGaT6iuWi",
        "outputId": "1fbb62cf-d44f-4c81-9ee8-a96cc4925944"
      },
      "source": [
        "from sklearn.metrics import f1_score, accuracy_score\n",
        "vader_accuracy = accuracy_score(vader_df['Actual'], vader_df['Predicted'])*100\n",
        "vader_f1_score = f1_score(vader_df['Actual'], vader_df['Predicted'], average = 'macro')\n",
        "print(\"Vader Accuracy is {0} and F1 Score is {1}\".format(vader_accuracy, vader_f1_score))"
      ],
      "execution_count": null,
      "outputs": [
        {
          "output_type": "stream",
          "text": [
            "Vader Accuracy is 50.0 and F1 Score is 0.2380952380952381\n"
          ],
          "name": "stdout"
        }
      ]
    },
    {
      "cell_type": "code",
      "metadata": {
        "id": "AVxC19M-ixaU"
      },
      "source": [
        "from sklearn.preprocessing import LabelEncoder\n",
        "from sklearn.model_selection import train_test_split\n",
        "from sklearn.feature_extraction.text import TfidfVectorizer"
      ],
      "execution_count": null,
      "outputs": []
    },
    {
      "cell_type": "code",
      "metadata": {
        "id": "gehZXmB5izRP"
      },
      "source": [
        "TFid_vectorizer = TfidfVectorizer(min_df = 5,\n",
        "                             max_df = 0.8,\n",
        "                             sublinear_tf = True,\n",
        "                             use_idf = True)"
      ],
      "execution_count": null,
      "outputs": []
    },
    {
      "cell_type": "code",
      "metadata": {
        "id": "bFhoCrfxi1nb"
      },
      "source": [
        "\n",
        "Train_X, Test_X, Train_Y, Test_Y = train_test_split(df['clean_text'],df['sentiment'],test_size=0.33)\n",
        "Encoder = LabelEncoder()\n",
        "Train_Y = Encoder.fit_transform(Train_Y)\n",
        "Test_Y = Encoder.fit_transform(Test_Y)\n",
        "Train_X_vectors = TFid_vectorizer.fit_transform(Train_X)\n",
        "Test_X_vectors = TFid_vectorizer.transform(Test_X)"
      ],
      "execution_count": null,
      "outputs": []
    },
    {
      "cell_type": "code",
      "metadata": {
        "colab": {
          "base_uri": "https://localhost:8080/"
        },
        "id": "b3hCS_bci6fS",
        "outputId": "3c5b8ef9-727c-482d-fcdf-56218aa4a7f1"
      },
      "source": [
        "from sklearn import svm\n",
        "from sklearn.metrics import classification_report\n",
        "svm_model = svm.SVC(kernel='linear')\n",
        "svm_model.fit(Train_X_vectors, Train_Y)\n",
        "predicted = svm_model.predict(Test_X_vectors)\n",
        "report = classification_report(Test_Y, predicted, output_dict=True)\n",
        "report\n"
      ],
      "execution_count": null,
      "outputs": [
        {
          "output_type": "stream",
          "text": [
            "/usr/local/lib/python3.7/dist-packages/sklearn/metrics/_classification.py:1272: UndefinedMetricWarning: Precision and F-score are ill-defined and being set to 0.0 in labels with no predicted samples. Use `zero_division` parameter to control this behavior.\n",
            "  _warn_prf(average, modifier, msg_start, len(result))\n"
          ],
          "name": "stderr"
        },
        {
          "output_type": "execute_result",
          "data": {
            "text/plain": [
              "{'0': {'f1-score': 0.0, 'precision': 0.0, 'recall': 0.0, 'support': 2},\n",
              " '1': {'f1-score': 0.0, 'precision': 0.0, 'recall': 0.0, 'support': 2},\n",
              " '2': {'f1-score': 0.6,\n",
              "  'precision': 0.42857142857142855,\n",
              "  'recall': 1.0,\n",
              "  'support': 3},\n",
              " 'accuracy': 0.42857142857142855,\n",
              " 'macro avg': {'f1-score': 0.19999999999999998,\n",
              "  'precision': 0.14285714285714285,\n",
              "  'recall': 0.3333333333333333,\n",
              "  'support': 7},\n",
              " 'weighted avg': {'f1-score': 0.2571428571428571,\n",
              "  'precision': 0.18367346938775508,\n",
              "  'recall': 0.42857142857142855,\n",
              "  'support': 7}}"
            ]
          },
          "metadata": {
            "tags": []
          },
          "execution_count": 50
        }
      ]
    }
  ]
}