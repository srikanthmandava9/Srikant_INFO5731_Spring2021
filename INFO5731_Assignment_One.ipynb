{
  "nbformat": 4,
  "nbformat_minor": 0,
  "metadata": {
    "colab": {
      "name": "INFO5731_Assignment_One.ipynb",
      "provenance": [],
      "collapsed_sections": [],
      "include_colab_link": true
    },
    "kernelspec": {
      "display_name": "Python 3",
      "language": "python",
      "name": "python3"
    },
    "language_info": {
      "codemirror_mode": {
        "name": "ipython",
        "version": 3
      },
      "file_extension": ".py",
      "mimetype": "text/x-python",
      "name": "python",
      "nbconvert_exporter": "python",
      "pygments_lexer": "ipython3",
      "version": "3.7.4"
    }
  },
  "cells": [
    {
      "cell_type": "markdown",
      "metadata": {
        "id": "view-in-github",
        "colab_type": "text"
      },
      "source": [
        "<a href=\"https://colab.research.google.com/github/srikanthmandava9/Srikant_INFO5731_Spring2021/blob/master/INFO5731_Assignment_One.ipynb\" target=\"_parent\"><img src=\"https://colab.research.google.com/assets/colab-badge.svg\" alt=\"Open In Colab\"/></a>"
      ]
    },
    {
      "cell_type": "markdown",
      "metadata": {
        "id": "Ryk8D1Q4Wsrp"
      },
      "source": [
        "# **INFO5731 Assignment One**"
      ]
    },
    {
      "cell_type": "markdown",
      "metadata": {
        "id": "90_NR8c5XGWc"
      },
      "source": [
        "# Question 1\n",
        "\n",
        "(20 points). Write a Python program to generate 12 random numbers between 1 and 100. Sort the list of numbers in ascending order and print it out. Sort the list of numbers in descending order and print it out. Calculate the average for the group and print it out."
      ]
    },
    {
      "cell_type": "code",
      "metadata": {
        "colab": {
          "base_uri": "https://localhost:8080/"
        },
        "id": "5QX6bJjGWXY9",
        "outputId": "5cb25377-8dd9-483f-d80f-a02eddb8affc"
      },
      "source": [
        "# Your code here\n",
        "from random import randrange\n",
        "a = [ randrange(1,100) for J in range(12)]\n",
        "print(sorted(a))\n",
        "b = sum(a)/len(a)\n",
        "print(f\"Average: {b}\")\n"
      ],
      "execution_count": 4,
      "outputs": [
        {
          "output_type": "stream",
          "text": [
            "[20, 22, 38, 39, 39, 55, 58, 65, 72, 73, 74, 92]\n",
            "Average: 53.916666666666664\n"
          ],
          "name": "stdout"
        }
      ]
    },
    {
      "cell_type": "markdown",
      "metadata": {
        "id": "1F_PZdH9Sh49"
      },
      "source": [
        "# Question 2\n",
        "(25 points). Write a program that will do the following string formatting tasks:\n",
        "\n",
        "(1) Ask the user to enter two sentences.\n",
        "\n",
        "(2) Make each sentence into a list. Each element in the list should correspond to a word in the sentence. For example, if the sentence is \"Alas! Am I alive? This is my first python program\", the program should print out ['Alas, '!', 'Am', 'I', 'alive, '?', 'This', 'is', 'my', 'first', 'python', 'program'].\n",
        "\n",
        "(3) Compare the two sentences. Print out a list of words that occur in both sentences.\n",
        "\n",
        "(4) Remove any punctuation from the sentence and print it back out. It should remove at least the following characters, but it can remove more: period(“.”), comma (“,”), semicolon (“;”), and colon (“:”)\n",
        "\n",
        "(5) Count the number of vowels in the sentences. Print out each vowel and the number of times it appears in the sentences, such as: a:2, e:1, i:0, etc"
      ]
    },
    {
      "cell_type": "code",
      "metadata": {
        "colab": {
          "base_uri": "https://localhost:8080/"
        },
        "id": "Y0oOSlsOS0cq",
        "outputId": "bdd8a4ac-da3f-48e0-9e74-f4c9a9620180"
      },
      "source": [
        "# Your code here\n",
        "import string\t\t\t\n",
        "import math\t\t\t\t\n",
        "import collections\t\t\n",
        "\n",
        "#Have the user enter a random sentence\n",
        "user_sentence=input(\"Enter a sentence: \")\t\n",
        "user_sentence1=input(\"Enter another sentence: \")\n",
        "\n",
        "print(\"You entered first sentence: \", user_sentence)\n",
        "print(\"You entered second sentence: \", user_sentence1)\n",
        "\n",
        "#splitting the sentence and storing it into a list\n",
        "sentence_list = user_sentence.split()\n",
        "print(\"The first sentence you entered, formatted as a list is: \", sentence_list)\n",
        "sentence_list1 = user_sentence1.split()\n",
        "print(\"The second sentence you entered, formatted as a list is: \", sentence_list1)\n",
        "\n",
        "common_words = set(sentence_list) & set(sentence_list1)\n",
        "print(\"The common words are: \", common_words)\n",
        "\n",
        "#The string.punctuation module contains the most common punctuation marks in English\n",
        "mark=set(string.punctuation)\n",
        "#For each item in the list check if is is a punctuation and print the letter and discard the punctuation\t\n",
        "\n",
        "def punctuation(a):\n",
        "  sentence_no_punctuation = \" \"\n",
        "  for letter in a:\n",
        "\t  if letter not in mark:\n",
        "\t\t  sentence_no_punctuation=sentence_no_punctuation + letter\n",
        "  print(\"The sentence you entered without punctuation is: \", sentence_no_punctuation)\n",
        "punctuation(user_sentence)\n",
        "\n",
        "punctuation(user_sentence1)\n",
        "\n",
        "vowels=\"aeiou\"\n",
        "print(\"First sentence vowels:\")\n",
        "def vowel(a):\n",
        "  for a in vowels:\n",
        "    print (a,\":\", user_sentence.lower().count(a))\n",
        "vowel(user_sentence)\n",
        "print(\"Second sentence vowels:\")\n",
        "vowel(user_sentence1)\n",
        "\n"
      ],
      "execution_count": 9,
      "outputs": [
        {
          "output_type": "stream",
          "text": [
            "Enter a sentence: A topic sentence essentially tells readers what the rest of the paragraph is about. All sentences after it have to give more information about that sentence, prove it by offering facts about it, or describe it in more detail. \n",
            "Enter another sentence: Topic sentences also need to relate back to the thesis of the essay. The thesis statement is like a road map that will tell the reader or listener where you are going with this information or how you are treating it.\n",
            "You entered first sentence:  A topic sentence essentially tells readers what the rest of the paragraph is about. All sentences after it have to give more information about that sentence, prove it by offering facts about it, or describe it in more detail. \n",
            "You entered second sentence:  Topic sentences also need to relate back to the thesis of the essay. The thesis statement is like a road map that will tell the reader or listener where you are going with this information or how you are treating it.\n",
            "The first sentence you entered, formatted as a list is:  ['A', 'topic', 'sentence', 'essentially', 'tells', 'readers', 'what', 'the', 'rest', 'of', 'the', 'paragraph', 'is', 'about.', 'All', 'sentences', 'after', 'it', 'have', 'to', 'give', 'more', 'information', 'about', 'that', 'sentence,', 'prove', 'it', 'by', 'offering', 'facts', 'about', 'it,', 'or', 'describe', 'it', 'in', 'more', 'detail.']\n",
            "The second sentence you entered, formatted as a list is:  ['Topic', 'sentences', 'also', 'need', 'to', 'relate', 'back', 'to', 'the', 'thesis', 'of', 'the', 'essay.', 'The', 'thesis', 'statement', 'is', 'like', 'a', 'road', 'map', 'that', 'will', 'tell', 'the', 'reader', 'or', 'listener', 'where', 'you', 'are', 'going', 'with', 'this', 'information', 'or', 'how', 'you', 'are', 'treating', 'it.']\n",
            "The common words are:  {'is', 'of', 'the', 'sentences', 'or', 'that', 'to', 'information'}\n",
            "The sentence you entered without punctuation is:   A topic sentence essentially tells readers what the rest of the paragraph is about All sentences after it have to give more information about that sentence prove it by offering facts about it or describe it in more detail \n",
            "The sentence you entered without punctuation is:   Topic sentences also need to relate back to the thesis of the essay The thesis statement is like a road map that will tell the reader or listener where you are going with this information or how you are treating it\n",
            "First sentence vowels:\n",
            "a : 17\n",
            "e : 27\n",
            "i : 14\n",
            "o : 13\n",
            "u : 3\n",
            "Second sentence vowels:\n",
            "a : 17\n",
            "e : 27\n",
            "i : 14\n",
            "o : 13\n",
            "u : 3\n"
          ],
          "name": "stdout"
        }
      ]
    },
    {
      "cell_type": "markdown",
      "metadata": {
        "id": "CmFoI4jDS9nx"
      },
      "source": [
        "# Question 3 \n",
        "\n",
        "(15 points). The formula that describes the volume V of a sphere with radius r is the following:\n",
        "\n",
        "$ V=\\frac{4}{3}\\ast\\ \\pi\\ast\\ r^3 $\n",
        "\n",
        "Write a program to calculate the value of V when r is in the range of 1–10. Output the result in the following format:\n",
        "\n",
        "\tr\tV\n",
        "\t1\t…\n",
        "\t2\t…\n",
        "\t3\t…\n"
      ]
    },
    {
      "cell_type": "code",
      "metadata": {
        "colab": {
          "base_uri": "https://localhost:8080/"
        },
        "id": "pEyqeioAT95b",
        "outputId": "9845bd82-7f45-4f94-cdfb-24e1920e42be"
      },
      "source": [
        "# Your code here\n",
        "import math\n",
        "# Definiion of volume equation\n",
        "def volume(radius):\n",
        "    return (4/3)*math.pi*(radius**3)\n",
        "\n",
        "print(\"r\\t V\")\n",
        "r=1\n",
        "# Loop to print volume for radius range 1-10\n",
        "while r <= 10:\n",
        "    print(r,\"\\t\",round(volume(r),4))\n",
        "    r += 1\n",
        "\n"
      ],
      "execution_count": 5,
      "outputs": [
        {
          "output_type": "stream",
          "text": [
            "r\t V\n",
            "1 \t 4.1888\n",
            "2 \t 33.5103\n",
            "3 \t 113.0973\n",
            "4 \t 268.0826\n",
            "5 \t 523.5988\n",
            "6 \t 904.7787\n",
            "7 \t 1436.755\n",
            "8 \t 2144.6606\n",
            "9 \t 3053.6281\n",
            "10 \t 4188.7902\n"
          ],
          "name": "stdout"
        }
      ]
    },
    {
      "cell_type": "markdown",
      "metadata": {
        "id": "z3tBE7E-Xn5X"
      },
      "source": [
        "# Question 4\n",
        "\n",
        "(40 points). In the field of Data Science, data is often formatted as a comma-delimited (CSV) file, where each line in a file corresponds to a field's value. Refer to Chapter 9 (p. 106) for more information on comma-delimited files. To answer this question, you will need to download the file [Assignment1_denton_housing.csv](https://github.com/unt-iialab/INFO5731_Spring2020/blob/master/Assignments/Assignment1_denton_housing.csv) included with this assignment. The [file Assignment1_denton_housing.csv](https://github.com/unt-iialab/INFO5731_Spring2020/blob/master/Assignments/Assignment1_denton_housing.csv) contains statistics about housing in the city of Denton from 2008 to 2014. Write a program to implement the following questions.\n",
        "\n",
        "(1) (10 pts) Calculate the difference in the number of Occupied Housing Units from year to year and print it. The difference must be calculated for the consecutive years such as 2008-2009, 2009-2010 etc. Finally, print the values in the ascending order.\n",
        "\n",
        "(2) (10 pts) For all the years, calculate the percentage of housing units which are vacant an occupied. Print the results in the following format:\n",
        "\n",
        "Year Vacant Housing Units Occupied Housing Units\n",
        "\n",
        "    2008  30%   70%                          \n",
        "\t2009 ----- -----\n",
        "\t2010 ----- -----\n",
        "    2011 ----- -----\n",
        "\t2012 ----- -----\n",
        "    2013 ----- -----\n",
        "\t2014 ----- -----\n",
        "  \n",
        "  \n",
        "\n",
        "(3) (10 pts) Calculate and print the valued and years in which the highest number of housing units were vacant and occupied. Print the results in the following format:  \n",
        "\n",
        "                              Year\tValue\n",
        "\tVacant Housing Units\t  -----   -----\n",
        "\tOccupied Housing Units\t-----   -----\n",
        "\n",
        "(4) (10 pts) Calculate the harmonic mean of the total housing units and print it out. You can find the information about harmonic mean here: https://ncalculators.com/statistics/harmonic-mean-calculator.htm"
      ]
    },
    {
      "cell_type": "code",
      "metadata": {
        "id": "lqGYuHBhcsRH"
      },
      "source": [
        "# Your code here\n",
        "#Question 4(1): Calculate the difference in the number of Occupied Housing Units from year to year and print it. The difference must be calculated for the consecutive years such as 2008-2009, 2009-2010 etc. Finally, print the values in the ascending order.\n",
        "import csv\n",
        "housing_units_occupied = {}\n",
        "# Open input file to read data\n",
        "with open(\"Assignment1_denton_housing.csv\",'r') as input_file:\n",
        "    file_reader = csv.reader(input_file)  \n",
        "    for row in file_reader: \n",
        "        if row[1] == \"Occupied Housing Units\":\n",
        "            housing_units_occupied[int(row[0])] = int(row[2])\n",
        "unit_diff = {} \n",
        "year = 2008 \n",
        "while year < 2014:\n",
        "    unit_diff[housing_units_occupied[year+1]-housing_units_occupied[year]] = str(year)+\"-\"+str(year+1)\n",
        "    year+=1 \n",
        "# Loop to print unit difference values by ascending year\n",
        "for item in unit_diff:\n",
        "    print(\"From\",unit_diff[item]+\":\",item)\n",
        "\n",
        "\n",
        "#Question 4(2): For all the years, calculate the percentage of housing units which are vacant an occupied. Print the results in the following format: Year Vacant Housing Units Occupied Housing Units\n",
        "\n",
        "\n",
        "#Question 4(3): Calculate and print the valued and years in which the highest number of housing units were vacant and occupied. Print the results in the following format\n",
        "\n",
        "#Question 4(4): Calculate the harmonic mean of the total housing units and print it out. You can find the information about harmonic mean here\n"
      ],
      "execution_count": 11,
      "outputs": []
    }
  ]
}