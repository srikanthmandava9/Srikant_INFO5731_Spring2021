{
  "nbformat": 4,
  "nbformat_minor": 0,
  "metadata": {
    "colab": {
      "name": "INFO5731_Assignment_One.ipynb",
      "provenance": [],
      "collapsed_sections": [],
      "include_colab_link": true
    },
    "kernelspec": {
      "display_name": "Python 3",
      "language": "python",
      "name": "python3"
    },
    "language_info": {
      "codemirror_mode": {
        "name": "ipython",
        "version": 3
      },
      "file_extension": ".py",
      "mimetype": "text/x-python",
      "name": "python",
      "nbconvert_exporter": "python",
      "pygments_lexer": "ipython3",
      "version": "3.7.4"
    }
  },
  "cells": [
    {
      "cell_type": "markdown",
      "metadata": {
        "id": "view-in-github",
        "colab_type": "text"
      },
      "source": [
        "<a href=\"https://colab.research.google.com/github/srikanthmandava9/Srikant_INFO5731_Spring2021/blob/master/INFO5731_Assignment_One.ipynb\" target=\"_parent\"><img src=\"https://colab.research.google.com/assets/colab-badge.svg\" alt=\"Open In Colab\"/></a>"
      ]
    },
    {
      "cell_type": "markdown",
      "metadata": {
        "id": "Ryk8D1Q4Wsrp"
      },
      "source": [
        "# **INFO5731 Assignment One**"
      ]
    },
    {
      "cell_type": "markdown",
      "metadata": {
        "id": "90_NR8c5XGWc"
      },
      "source": [
        "# Question 1\n",
        "\n",
        "(20 points). Write a Python program to generate 12 random numbers between 1 and 100. Sort the list of numbers in ascending order and print it out. Sort the list of numbers in descending order and print it out. Calculate the average for the group and print it out."
      ]
    },
    {
      "cell_type": "code",
      "metadata": {
        "colab": {
          "base_uri": "https://localhost:8080/"
        },
        "id": "5QX6bJjGWXY9",
        "outputId": "5cb25377-8dd9-483f-d80f-a02eddb8affc"
      },
      "source": [
        "# Your code here\n",
        "from random import randrange\n",
        "a = [ randrange(1,100) for J in range(12)]\n",
        "print(sorted(a))\n",
        "b = sum(a)/len(a)\n",
        "print(f\"Average: {b}\")\n"
      ],
      "execution_count": null,
      "outputs": [
        {
          "output_type": "stream",
          "text": [
            "[20, 22, 38, 39, 39, 55, 58, 65, 72, 73, 74, 92]\n",
            "Average: 53.916666666666664\n"
          ],
          "name": "stdout"
        }
      ]
    },
    {
      "cell_type": "markdown",
      "metadata": {
        "id": "1F_PZdH9Sh49"
      },
      "source": [
        "# Question 2\n",
        "(25 points). Write a program that will do the following string formatting tasks:\n",
        "\n",
        "(1) Ask the user to enter two sentences.\n",
        "\n",
        "(2) Make each sentence into a list. Each element in the list should correspond to a word in the sentence. For example, if the sentence is \"Alas! Am I alive? This is my first python program\", the program should print out ['Alas, '!', 'Am', 'I', 'alive, '?', 'This', 'is', 'my', 'first', 'python', 'program'].\n",
        "\n",
        "(3) Compare the two sentences. Print out a list of words that occur in both sentences.\n",
        "\n",
        "(4) Remove any punctuation from the sentence and print it back out. It should remove at least the following characters, but it can remove more: period(“.”), comma (“,”), semicolon (“;”), and colon (“:”)\n",
        "\n",
        "(5) Count the number of vowels in the sentences. Print out each vowel and the number of times it appears in the sentences, such as: a:2, e:1, i:0, etc"
      ]
    },
    {
      "cell_type": "code",
      "metadata": {
        "colab": {
          "base_uri": "https://localhost:8080/"
        },
        "id": "Y0oOSlsOS0cq",
        "outputId": "bdd8a4ac-da3f-48e0-9e74-f4c9a9620180"
      },
      "source": [
        "# Your code here\n",
        "import string\t\t\t\n",
        "import math\t\t\t\t\n",
        "import collections\t\t\n",
        "\n",
        "#enter a random sentence\n",
        "user_sentence=input(\"Enter a sentence: \")\t\n",
        "user_sentence1=input(\"Enter another sentence: \")\n",
        "\n",
        "print(\"You entered first sentence: \", user_sentence)\n",
        "print(\"You entered second sentence: \", user_sentence1)\n",
        "\n",
        "sentence_list = user_sentence.split()\n",
        "print(\"The first sentence you entered, formatted as a list is: \", sentence_list)\n",
        "sentence_list1 = user_sentence1.split()\n",
        "print(\"The second sentence you entered, formatted as a list is: \", sentence_list1)\n",
        "\n",
        "common_words = set(sentence_list) & set(sentence_list1)\n",
        "print(\"The common words are: \", common_words)\n",
        "\n",
        "mark=set(string.punctuation)\n",
        "\n",
        "def punctuation(a):\n",
        "  sentence_no_punctuation = \" \"\n",
        "  for letter in a:\n",
        "\t  if letter not in mark:\n",
        "\t\t  sentence_no_punctuation=sentence_no_punctuation + letter\n",
        "  print(\"The sentence you entered without punctuation is: \", sentence_no_punctuation)\n",
        "punctuation(user_sentence)\n",
        "\n",
        "punctuation(user_sentence1)\n",
        "\n",
        "vowels=\"aeiou\"\n",
        "print(\"First sentence vowels:\")\n",
        "def vowel(a):\n",
        "  for a in vowels:\n",
        "    print (a,\":\", user_sentence.lower().count(a))\n",
        "vowel(user_sentence)\n",
        "print(\"Second sentence vowels:\")\n",
        "vowel(user_sentence1)\n",
        "\n"
      ],
      "execution_count": null,
      "outputs": [
        {
          "output_type": "stream",
          "text": [
            "Enter a sentence: A topic sentence essentially tells readers what the rest of the paragraph is about. All sentences after it have to give more information about that sentence, prove it by offering facts about it, or describe it in more detail. \n",
            "Enter another sentence: Topic sentences also need to relate back to the thesis of the essay. The thesis statement is like a road map that will tell the reader or listener where you are going with this information or how you are treating it.\n",
            "You entered first sentence:  A topic sentence essentially tells readers what the rest of the paragraph is about. All sentences after it have to give more information about that sentence, prove it by offering facts about it, or describe it in more detail. \n",
            "You entered second sentence:  Topic sentences also need to relate back to the thesis of the essay. The thesis statement is like a road map that will tell the reader or listener where you are going with this information or how you are treating it.\n",
            "The first sentence you entered, formatted as a list is:  ['A', 'topic', 'sentence', 'essentially', 'tells', 'readers', 'what', 'the', 'rest', 'of', 'the', 'paragraph', 'is', 'about.', 'All', 'sentences', 'after', 'it', 'have', 'to', 'give', 'more', 'information', 'about', 'that', 'sentence,', 'prove', 'it', 'by', 'offering', 'facts', 'about', 'it,', 'or', 'describe', 'it', 'in', 'more', 'detail.']\n",
            "The second sentence you entered, formatted as a list is:  ['Topic', 'sentences', 'also', 'need', 'to', 'relate', 'back', 'to', 'the', 'thesis', 'of', 'the', 'essay.', 'The', 'thesis', 'statement', 'is', 'like', 'a', 'road', 'map', 'that', 'will', 'tell', 'the', 'reader', 'or', 'listener', 'where', 'you', 'are', 'going', 'with', 'this', 'information', 'or', 'how', 'you', 'are', 'treating', 'it.']\n",
            "The common words are:  {'is', 'of', 'the', 'sentences', 'or', 'that', 'to', 'information'}\n",
            "The sentence you entered without punctuation is:   A topic sentence essentially tells readers what the rest of the paragraph is about All sentences after it have to give more information about that sentence prove it by offering facts about it or describe it in more detail \n",
            "The sentence you entered without punctuation is:   Topic sentences also need to relate back to the thesis of the essay The thesis statement is like a road map that will tell the reader or listener where you are going with this information or how you are treating it\n",
            "First sentence vowels:\n",
            "a : 17\n",
            "e : 27\n",
            "i : 14\n",
            "o : 13\n",
            "u : 3\n",
            "Second sentence vowels:\n",
            "a : 17\n",
            "e : 27\n",
            "i : 14\n",
            "o : 13\n",
            "u : 3\n"
          ],
          "name": "stdout"
        }
      ]
    },
    {
      "cell_type": "markdown",
      "metadata": {
        "id": "CmFoI4jDS9nx"
      },
      "source": [
        "# Question 3 \n",
        "\n",
        "(15 points). The formula that describes the volume V of a sphere with radius r is the following:\n",
        "\n",
        "$ V=\\frac{4}{3}\\ast\\ \\pi\\ast\\ r^3 $\n",
        "\n",
        "Write a program to calculate the value of V when r is in the range of 1–10. Output the result in the following format:\n",
        "\n",
        "\tr\tV\n",
        "\t1\t…\n",
        "\t2\t…\n",
        "\t3\t…\n"
      ]
    },
    {
      "cell_type": "code",
      "metadata": {
        "colab": {
          "base_uri": "https://localhost:8080/"
        },
        "id": "pEyqeioAT95b",
        "outputId": "9845bd82-7f45-4f94-cdfb-24e1920e42be"
      },
      "source": [
        "# Your code here\n",
        "import math\n",
        "# volume equation\n",
        "def volume(radius):\n",
        "    return (4/3)*math.pi*(radius**3)\n",
        "\n",
        "print(\"r\\t V\")\n",
        "r=1\n",
        "while r <= 10:\n",
        "    print(r,\"\\t\",round(volume(r),4))\n",
        "    r += 1\n",
        "\n"
      ],
      "execution_count": null,
      "outputs": [
        {
          "output_type": "stream",
          "text": [
            "r\t V\n",
            "1 \t 4.1888\n",
            "2 \t 33.5103\n",
            "3 \t 113.0973\n",
            "4 \t 268.0826\n",
            "5 \t 523.5988\n",
            "6 \t 904.7787\n",
            "7 \t 1436.755\n",
            "8 \t 2144.6606\n",
            "9 \t 3053.6281\n",
            "10 \t 4188.7902\n"
          ],
          "name": "stdout"
        }
      ]
    },
    {
      "cell_type": "markdown",
      "metadata": {
        "id": "z3tBE7E-Xn5X"
      },
      "source": [
        "# Question 4\n",
        "\n",
        "(40 points). In the field of Data Science, data is often formatted as a comma-delimited (CSV) file, where each line in a file corresponds to a field's value. Refer to Chapter 9 (p. 106) for more information on comma-delimited files. To answer this question, you will need to download the file [Assignment1_denton_housing.csv](https://github.com/unt-iialab/INFO5731_Spring2020/blob/master/Assignments/Assignment1_denton_housing.csv) included with this assignment. The [file Assignment1_denton_housing.csv](https://github.com/unt-iialab/INFO5731_Spring2020/blob/master/Assignments/Assignment1_denton_housing.csv) contains statistics about housing in the city of Denton from 2008 to 2014. Write a program to implement the following questions.\n",
        "\n",
        "(1) (10 pts) Calculate the difference in the number of Occupied Housing Units from year to year and print it. The difference must be calculated for the consecutive years such as 2008-2009, 2009-2010 etc. Finally, print the values in the ascending order.\n",
        "\n",
        "(2) (10 pts) For all the years, calculate the percentage of housing units which are vacant an occupied. Print the results in the following format:\n",
        "\n",
        "Year Vacant Housing Units Occupied Housing Units\n",
        "\n",
        "    2008  30%   70%                          \n",
        "\t2009 ----- -----\n",
        "\t2010 ----- -----\n",
        "    2011 ----- -----\n",
        "\t2012 ----- -----\n",
        "    2013 ----- -----\n",
        "\t2014 ----- -----\n",
        "  \n",
        "  \n",
        "\n",
        "(3) (10 pts) Calculate and print the valued and years in which the highest number of housing units were vacant and occupied. Print the results in the following format:  \n",
        "\n",
        "                              Year\tValue\n",
        "\tVacant Housing Units\t  -----   -----\n",
        "\tOccupied Housing Units\t-----   -----\n",
        "\n",
        "(4) (10 pts) Calculate the harmonic mean of the total housing units and print it out. You can find the information about harmonic mean here: https://ncalculators.com/statistics/harmonic-mean-calculator.htm"
      ]
    },
    {
      "cell_type": "code",
      "metadata": {
        "colab": {
          "base_uri": "https://localhost:8080/",
          "height": 266
        },
        "id": "C-1WsF05V94x",
        "outputId": "5ab4bcc4-76f1-4b2e-c7f7-dc069fa2153b"
      },
      "source": [
        "#4(1) Calculate the difference in the number of Occupied Housing Units from year to year and print it. The difference must be calculated for the consecutive years such as 2008-2009, 2009-2010 etc. Finally, print the values in the ascending order.\r\n",
        "import csv\r\n",
        "import pandas as pd\r\n",
        "housing_units_occupied = {}\r\n",
        "file_reader = pd.read_csv(r'https://raw.githubusercontent.com/unt-iialab/info5731_spring2021/main/assignment/Assignment1_denton_housing.csv')\r\n",
        "file_reader\r\n",
        "df1 = df.loc[df[\"title_field\"] == \"Occupied Housing Units\"]\r\n",
        "#df = file_reader.groupby(\"Total Housing Units\")\r\n",
        "df1\r\n",
        "\r\n"
      ],
      "execution_count": 142,
      "outputs": [
        {
          "output_type": "execute_result",
          "data": {
            "text/html": [
              "<div>\n",
              "<style scoped>\n",
              "    .dataframe tbody tr th:only-of-type {\n",
              "        vertical-align: middle;\n",
              "    }\n",
              "\n",
              "    .dataframe tbody tr th {\n",
              "        vertical-align: top;\n",
              "    }\n",
              "\n",
              "    .dataframe thead th {\n",
              "        text-align: right;\n",
              "    }\n",
              "</style>\n",
              "<table border=\"1\" class=\"dataframe\">\n",
              "  <thead>\n",
              "    <tr style=\"text-align: right;\">\n",
              "      <th></th>\n",
              "      <th>year</th>\n",
              "      <th>title_field</th>\n",
              "      <th>value</th>\n",
              "    </tr>\n",
              "  </thead>\n",
              "  <tbody>\n",
              "    <tr>\n",
              "      <th>2</th>\n",
              "      <td>2014</td>\n",
              "      <td>Occupied Housing Units</td>\n",
              "      <td>46295</td>\n",
              "    </tr>\n",
              "    <tr>\n",
              "      <th>5</th>\n",
              "      <td>2013</td>\n",
              "      <td>Occupied Housing Units</td>\n",
              "      <td>43673</td>\n",
              "    </tr>\n",
              "    <tr>\n",
              "      <th>8</th>\n",
              "      <td>2012</td>\n",
              "      <td>Occupied Housing Units</td>\n",
              "      <td>42108</td>\n",
              "    </tr>\n",
              "    <tr>\n",
              "      <th>11</th>\n",
              "      <td>2011</td>\n",
              "      <td>Occupied Housing Units</td>\n",
              "      <td>40704</td>\n",
              "    </tr>\n",
              "    <tr>\n",
              "      <th>14</th>\n",
              "      <td>2010</td>\n",
              "      <td>Occupied Housing Units</td>\n",
              "      <td>41007</td>\n",
              "    </tr>\n",
              "    <tr>\n",
              "      <th>17</th>\n",
              "      <td>2009</td>\n",
              "      <td>Occupied Housing Units</td>\n",
              "      <td>35916</td>\n",
              "    </tr>\n",
              "    <tr>\n",
              "      <th>20</th>\n",
              "      <td>2008</td>\n",
              "      <td>Occupied Housing Units</td>\n",
              "      <td>36711</td>\n",
              "    </tr>\n",
              "  </tbody>\n",
              "</table>\n",
              "</div>"
            ],
            "text/plain": [
              "    year             title_field  value\n",
              "2   2014  Occupied Housing Units  46295\n",
              "5   2013  Occupied Housing Units  43673\n",
              "8   2012  Occupied Housing Units  42108\n",
              "11  2011  Occupied Housing Units  40704\n",
              "14  2010  Occupied Housing Units  41007\n",
              "17  2009  Occupied Housing Units  35916\n",
              "20  2008  Occupied Housing Units  36711"
            ]
          },
          "metadata": {
            "tags": []
          },
          "execution_count": 142
        }
      ]
    },
    {
      "cell_type": "code",
      "metadata": {
        "colab": {
          "base_uri": "https://localhost:8080/",
          "height": 368
        },
        "id": "mzJmmZXZTmsL",
        "outputId": "8c37e955-724b-4f4f-b7fe-d9239915d342"
      },
      "source": [
        "#Question 4(2): calculate the percentage of housing units which are vacant an occupied. Print the results in the following format:\n",
        "#Year Vacant Housing Units\n",
        "import csv\n",
        "import numpy\n",
        "import pandas as pd\n",
        "housing_units_occupied = {}\n",
        "df = pd.read_csv(r'https://raw.githubusercontent.com/unt-iialab/info5731_spring2021/main/assignment/Assignment1_denton_housing.csv')\n",
        "df1 = df.loc[df[\"title_field\"] == \"Vacant Housing Units\"]\n",
        "\n",
        "df1['percentage'] = (df1['value']/df1['value'].sum())*100\n",
        "df1\n",
        "\n",
        "\n",
        "\n",
        "\n",
        "\n",
        "\n",
        "\n",
        "\n",
        "\n",
        "\n",
        "\n"
      ],
      "execution_count": 128,
      "outputs": [
        {
          "output_type": "stream",
          "text": [
            "/usr/local/lib/python3.6/dist-packages/ipykernel_launcher.py:9: SettingWithCopyWarning: \n",
            "A value is trying to be set on a copy of a slice from a DataFrame.\n",
            "Try using .loc[row_indexer,col_indexer] = value instead\n",
            "\n",
            "See the caveats in the documentation: https://pandas.pydata.org/pandas-docs/stable/user_guide/indexing.html#returning-a-view-versus-a-copy\n",
            "  if __name__ == '__main__':\n"
          ],
          "name": "stderr"
        },
        {
          "output_type": "execute_result",
          "data": {
            "text/html": [
              "<div>\n",
              "<style scoped>\n",
              "    .dataframe tbody tr th:only-of-type {\n",
              "        vertical-align: middle;\n",
              "    }\n",
              "\n",
              "    .dataframe tbody tr th {\n",
              "        vertical-align: top;\n",
              "    }\n",
              "\n",
              "    .dataframe thead th {\n",
              "        text-align: right;\n",
              "    }\n",
              "</style>\n",
              "<table border=\"1\" class=\"dataframe\">\n",
              "  <thead>\n",
              "    <tr style=\"text-align: right;\">\n",
              "      <th></th>\n",
              "      <th>year</th>\n",
              "      <th>title_field</th>\n",
              "      <th>value</th>\n",
              "      <th>percentage</th>\n",
              "    </tr>\n",
              "  </thead>\n",
              "  <tbody>\n",
              "    <tr>\n",
              "      <th>1</th>\n",
              "      <td>2014</td>\n",
              "      <td>Vacant Housing Units</td>\n",
              "      <td>2814</td>\n",
              "      <td>10.841424</td>\n",
              "    </tr>\n",
              "    <tr>\n",
              "      <th>4</th>\n",
              "      <td>2013</td>\n",
              "      <td>Vacant Housing Units</td>\n",
              "      <td>4215</td>\n",
              "      <td>16.239020</td>\n",
              "    </tr>\n",
              "    <tr>\n",
              "      <th>7</th>\n",
              "      <td>2012</td>\n",
              "      <td>Vacant Housing Units</td>\n",
              "      <td>3013</td>\n",
              "      <td>11.608106</td>\n",
              "    </tr>\n",
              "    <tr>\n",
              "      <th>10</th>\n",
              "      <td>2011</td>\n",
              "      <td>Vacant Housing Units</td>\n",
              "      <td>4213</td>\n",
              "      <td>16.231315</td>\n",
              "    </tr>\n",
              "    <tr>\n",
              "      <th>13</th>\n",
              "      <td>2010</td>\n",
              "      <td>Vacant Housing Units</td>\n",
              "      <td>3635</td>\n",
              "      <td>14.004469</td>\n",
              "    </tr>\n",
              "    <tr>\n",
              "      <th>16</th>\n",
              "      <td>2009</td>\n",
              "      <td>Vacant Housing Units</td>\n",
              "      <td>3583</td>\n",
              "      <td>13.804130</td>\n",
              "    </tr>\n",
              "    <tr>\n",
              "      <th>19</th>\n",
              "      <td>2008</td>\n",
              "      <td>Vacant Housing Units</td>\n",
              "      <td>4483</td>\n",
              "      <td>17.271536</td>\n",
              "    </tr>\n",
              "  </tbody>\n",
              "</table>\n",
              "</div>"
            ],
            "text/plain": [
              "    year           title_field  value  percentage\n",
              "1   2014  Vacant Housing Units   2814   10.841424\n",
              "4   2013  Vacant Housing Units   4215   16.239020\n",
              "7   2012  Vacant Housing Units   3013   11.608106\n",
              "10  2011  Vacant Housing Units   4213   16.231315\n",
              "13  2010  Vacant Housing Units   3635   14.004469\n",
              "16  2009  Vacant Housing Units   3583   13.804130\n",
              "19  2008  Vacant Housing Units   4483   17.271536"
            ]
          },
          "metadata": {
            "tags": []
          },
          "execution_count": 128
        }
      ]
    },
    {
      "cell_type": "code",
      "metadata": {
        "colab": {
          "base_uri": "https://localhost:8080/",
          "height": 368
        },
        "id": "HyKRXh2dX1FM",
        "outputId": "9d7ec149-da96-443c-9dbe-2ff46c9bc299"
      },
      "source": [
        "#Question 4(2): calculate the percentage of housing units which are vacant an occupied. Print the results in the following format:\r\n",
        "#Year Occupied Housing Unitsimport csv\r\n",
        "import numpy\r\n",
        "import urllib.request\r\n",
        "import pandas as pd\r\n",
        "from bs4 import BeautifulSoup\r\n",
        "housing_units_occupied = {}\r\n",
        "df = pd.read_csv(r'https://raw.githubusercontent.com/unt-iialab/info5731_spring2021/main/assignment/Assignment1_denton_housing.csv')\r\n",
        "df2=df.loc[df[\"title_field\"] == \"Occupied Housing Units\"]\r\n",
        "df2['percentage'] = (df2['value']/df2['value'].sum())*100\r\n",
        "df2"
      ],
      "execution_count": 127,
      "outputs": [
        {
          "output_type": "stream",
          "text": [
            "/usr/local/lib/python3.6/dist-packages/ipykernel_launcher.py:11: SettingWithCopyWarning: \n",
            "A value is trying to be set on a copy of a slice from a DataFrame.\n",
            "Try using .loc[row_indexer,col_indexer] = value instead\n",
            "\n",
            "See the caveats in the documentation: https://pandas.pydata.org/pandas-docs/stable/user_guide/indexing.html#returning-a-view-versus-a-copy\n",
            "  # This is added back by InteractiveShellApp.init_path()\n"
          ],
          "name": "stderr"
        },
        {
          "output_type": "execute_result",
          "data": {
            "text/html": [
              "<div>\n",
              "<style scoped>\n",
              "    .dataframe tbody tr th:only-of-type {\n",
              "        vertical-align: middle;\n",
              "    }\n",
              "\n",
              "    .dataframe tbody tr th {\n",
              "        vertical-align: top;\n",
              "    }\n",
              "\n",
              "    .dataframe thead th {\n",
              "        text-align: right;\n",
              "    }\n",
              "</style>\n",
              "<table border=\"1\" class=\"dataframe\">\n",
              "  <thead>\n",
              "    <tr style=\"text-align: right;\">\n",
              "      <th></th>\n",
              "      <th>year</th>\n",
              "      <th>title_field</th>\n",
              "      <th>value</th>\n",
              "      <th>percentage</th>\n",
              "    </tr>\n",
              "  </thead>\n",
              "  <tbody>\n",
              "    <tr>\n",
              "      <th>2</th>\n",
              "      <td>2014</td>\n",
              "      <td>Occupied Housing Units</td>\n",
              "      <td>46295</td>\n",
              "      <td>16.163665</td>\n",
              "    </tr>\n",
              "    <tr>\n",
              "      <th>5</th>\n",
              "      <td>2013</td>\n",
              "      <td>Occupied Housing Units</td>\n",
              "      <td>43673</td>\n",
              "      <td>15.248207</td>\n",
              "    </tr>\n",
              "    <tr>\n",
              "      <th>8</th>\n",
              "      <td>2012</td>\n",
              "      <td>Occupied Housing Units</td>\n",
              "      <td>42108</td>\n",
              "      <td>14.701795</td>\n",
              "    </tr>\n",
              "    <tr>\n",
              "      <th>11</th>\n",
              "      <td>2011</td>\n",
              "      <td>Occupied Housing Units</td>\n",
              "      <td>40704</td>\n",
              "      <td>14.211596</td>\n",
              "    </tr>\n",
              "    <tr>\n",
              "      <th>14</th>\n",
              "      <td>2010</td>\n",
              "      <td>Occupied Housing Units</td>\n",
              "      <td>41007</td>\n",
              "      <td>14.317387</td>\n",
              "    </tr>\n",
              "    <tr>\n",
              "      <th>17</th>\n",
              "      <td>2009</td>\n",
              "      <td>Occupied Housing Units</td>\n",
              "      <td>35916</td>\n",
              "      <td>12.539890</td>\n",
              "    </tr>\n",
              "    <tr>\n",
              "      <th>20</th>\n",
              "      <td>2008</td>\n",
              "      <td>Occupied Housing Units</td>\n",
              "      <td>36711</td>\n",
              "      <td>12.817460</td>\n",
              "    </tr>\n",
              "  </tbody>\n",
              "</table>\n",
              "</div>"
            ],
            "text/plain": [
              "    year             title_field  value  percentage\n",
              "2   2014  Occupied Housing Units  46295   16.163665\n",
              "5   2013  Occupied Housing Units  43673   15.248207\n",
              "8   2012  Occupied Housing Units  42108   14.701795\n",
              "11  2011  Occupied Housing Units  40704   14.211596\n",
              "14  2010  Occupied Housing Units  41007   14.317387\n",
              "17  2009  Occupied Housing Units  35916   12.539890\n",
              "20  2008  Occupied Housing Units  36711   12.817460"
            ]
          },
          "metadata": {
            "tags": []
          },
          "execution_count": 127
        }
      ]
    },
    {
      "cell_type": "code",
      "metadata": {
        "colab": {
          "base_uri": "https://localhost:8080/"
        },
        "id": "3c8BghPOQMpX",
        "outputId": "a541aee7-a20e-4a33-bfc1-260951182b04"
      },
      "source": [
        "#4(3) (10 pts) Calculate and print the valued and years in which the highest number of housing units were vacant \r\n",
        "import csv\r\n",
        "import pandas as pd\r\n",
        "housing_units_occupied = {}\r\n",
        "df = pd.read_csv(r'https://raw.githubusercontent.com/unt-iialab/info5731_spring2021/main/assignment/Assignment1_denton_housing.csv')\r\n",
        "df1 = df.loc[df[\"title_field\"] == \"Vacant Housing Units\" ]\r\n",
        "#df2 = df.loc[df[\"title_field\"] == \"Occupied Housing Units\" ]\r\n",
        "\r\n",
        "df1.max()\r\n",
        "#df2.max()\r\n"
      ],
      "execution_count": 109,
      "outputs": [
        {
          "output_type": "execute_result",
          "data": {
            "text/plain": [
              "year                           2014\n",
              "title_field    Vacant Housing Units\n",
              "value                          4483\n",
              "dtype: object"
            ]
          },
          "metadata": {
            "tags": []
          },
          "execution_count": 109
        }
      ]
    },
    {
      "cell_type": "code",
      "metadata": {
        "colab": {
          "base_uri": "https://localhost:8080/"
        },
        "id": "yLFerWkASbRl",
        "outputId": "57d656a2-342e-4308-8f85-9e3e209dc3b1"
      },
      "source": [
        "#4(3) (10 pts) Calculate and print the valued and years in which the highest number of housing units were occupied  .\r\n",
        "import csv\r\n",
        "import pandas as pd\r\n",
        "housing_units_occupied = {}\r\n",
        "df = pd.read_csv(r'https://raw.githubusercontent.com/unt-iialab/info5731_spring2021/main/assignment/Assignment1_denton_housing.csv')\r\n",
        "df2 = df.loc[df[\"title_field\"] == \"Occupied Housing Units\" ]\r\n",
        "\r\n",
        "df2.max()"
      ],
      "execution_count": 129,
      "outputs": [
        {
          "output_type": "execute_result",
          "data": {
            "text/plain": [
              "year                             2014\n",
              "title_field    Occupied Housing Units\n",
              "value                           46295\n",
              "dtype: object"
            ]
          },
          "metadata": {
            "tags": []
          },
          "execution_count": 129
        }
      ]
    },
    {
      "cell_type": "code",
      "metadata": {
        "colab": {
          "base_uri": "https://localhost:8080/"
        },
        "id": "lqGYuHBhcsRH",
        "outputId": "261b898d-3e26-413e-c4aa-35b4aa6f6382"
      },
      "source": [
        "#Question 4(4): Calculate the harmonic mean of the total housing units and print it out. You can find the information about harmonic mean here: https://ncalculators.com/statistics/harmonic-mean-calculator.htm\n",
        "import csv\n",
        "import pandas as pd\n",
        "housing_units_occupied = {}\n",
        "df = pd.read_csv(r'https://raw.githubusercontent.com/unt-iialab/info5731_spring2021/main/assignment/Assignment1_denton_housing.csv')\n",
        "df1 = df.loc[df[\"title_field\"] == \"Total Housing Units\"]\n",
        "df1.mean()\n",
        "\n",
        "\n",
        "\n",
        "\n",
        "\n",
        "\n",
        "\n",
        "\n"
      ],
      "execution_count": 96,
      "outputs": [
        {
          "output_type": "execute_result",
          "data": {
            "text/plain": [
              "year      2011.000000\n",
              "value    44624.285714\n",
              "dtype: float64"
            ]
          },
          "metadata": {
            "tags": []
          },
          "execution_count": 96
        }
      ]
    }
  ]
}